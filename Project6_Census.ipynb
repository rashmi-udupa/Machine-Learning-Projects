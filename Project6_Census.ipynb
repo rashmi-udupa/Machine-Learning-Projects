{
 "cells": [
  {
   "cell_type": "markdown",
   "metadata": {},
   "source": [
    "\n",
    "### Census Income Data Set\n",
    "\n",
    "\n",
    "\n",
    "#### Data Set Information:\n",
    "\n",
    "Extraction was done by Barry Becker from the 1994 Census database. A set of reasonably clean records was extracted using the following conditions: ((AAGE>16) && (AGI>100) && (AFNLWGT>1)&& (HRSWK>0))\n",
    "\n",
    "Prediction task is to determine whether a person makes over 50K a year.\n",
    "\n",
    "Attribute Information:\n",
    "\n",
    "Listing of attributes:\n",
    "\n",
    ">50K, <=50K.\n",
    "\n",
    "age: continuous.\n",
    "workclass: Private, Self-emp-not-inc, Self-emp-inc, Federal-gov, Local-gov, State-gov, Without-pay, Never-worked.\n",
    "fnlwgt: Final weight - continuous.\n",
    "education: Bachelors, Some-college, 11th, HS-grad, Prof-school, Assoc-acdm, Assoc-voc, 9th, 7th-8th, 12th, Masters, 1st-4th, 10th, Doctorate, 5th-6th, Preschool.\n",
    "education-num: continuous.\n",
    "marital-status: Married-civ-spouse, Divorced, Never-married, Separated, Widowed, Married-spouse-absent, Married-AF-spouse.\n",
    "occupation: Tech-support, Craft-repair, Other-service, Sales, Exec-managerial, Prof-specialty, Handlers-cleaners, Machine-op-inspct, Adm-clerical, Farming-fishing, Transport-moving, Priv-house-serv, Protective-serv, Armed-Forces.\n",
    "relationship: Wife, Own-child, Husband, Not-in-family, Other-relative, Unmarried.\n",
    "race: White, Asian-Pac-Islander, Amer-Indian-Eskimo, Other, Black.\n",
    "sex: Female, Male.\n",
    "capital-gain: continuous.\n",
    "capital-loss: continuous.\n",
    "hours-per-week: continuous.\n",
    "native-country: United-States, Cambodia, England, Puerto-Rico, Canada, Germany, Outlying-US(Guam-USVI-etc), India, Japan, Greece, South, China, Cuba, Iran, Honduras, Philippines, Italy, Poland, Jamaica, Vietnam, Mexico, Portugal, Ireland, France, Dominican-Republic, Laos, Ecuador, Taiwan, Haiti, Columbia, Hungary, Guatemala, Nicaragua, Scotland, Thailand, Yugoslavia, El-Salvador, Trinadad&Tobago, Peru, Hong, Holand-Netherlands.\n",
    "\n",
    "\n",
    "Since, the target is to find out whether an employee makes >50K per year, the target has two classes '<50K' and '>50K'. \n",
    "And the problem is classification.\n",
    "\n",
    "\n"
   ]
  },
  {
   "cell_type": "code",
   "execution_count": 171,
   "metadata": {},
   "outputs": [],
   "source": [
    "#importing necessary libraries\n",
    "import pandas as pd\n",
    "import numpy as np\n",
    "import matplotlib.pyplot as plt\n",
    "import seaborn as sns\n",
    "import warnings\n",
    "warnings.filterwarnings('ignore')\n"
   ]
  },
  {
   "cell_type": "code",
   "execution_count": 172,
   "metadata": {},
   "outputs": [
    {
     "data": {
      "text/html": [
       "<div>\n",
       "<style scoped>\n",
       "    .dataframe tbody tr th:only-of-type {\n",
       "        vertical-align: middle;\n",
       "    }\n",
       "\n",
       "    .dataframe tbody tr th {\n",
       "        vertical-align: top;\n",
       "    }\n",
       "\n",
       "    .dataframe thead th {\n",
       "        text-align: right;\n",
       "    }\n",
       "</style>\n",
       "<table border=\"1\" class=\"dataframe\">\n",
       "  <thead>\n",
       "    <tr style=\"text-align: right;\">\n",
       "      <th></th>\n",
       "      <th>0</th>\n",
       "      <th>1</th>\n",
       "      <th>2</th>\n",
       "      <th>3</th>\n",
       "      <th>4</th>\n",
       "      <th>5</th>\n",
       "      <th>6</th>\n",
       "      <th>7</th>\n",
       "      <th>8</th>\n",
       "      <th>9</th>\n",
       "      <th>10</th>\n",
       "      <th>11</th>\n",
       "      <th>12</th>\n",
       "      <th>13</th>\n",
       "      <th>14</th>\n",
       "    </tr>\n",
       "  </thead>\n",
       "  <tbody>\n",
       "    <tr>\n",
       "      <td>0</td>\n",
       "      <td>39</td>\n",
       "      <td>State-gov</td>\n",
       "      <td>77516</td>\n",
       "      <td>Bachelors</td>\n",
       "      <td>13</td>\n",
       "      <td>Never-married</td>\n",
       "      <td>Adm-clerical</td>\n",
       "      <td>Not-in-family</td>\n",
       "      <td>White</td>\n",
       "      <td>Male</td>\n",
       "      <td>2174</td>\n",
       "      <td>0</td>\n",
       "      <td>40</td>\n",
       "      <td>United-States</td>\n",
       "      <td>&lt;=50K</td>\n",
       "    </tr>\n",
       "    <tr>\n",
       "      <td>1</td>\n",
       "      <td>50</td>\n",
       "      <td>Self-emp-not-inc</td>\n",
       "      <td>83311</td>\n",
       "      <td>Bachelors</td>\n",
       "      <td>13</td>\n",
       "      <td>Married-civ-spouse</td>\n",
       "      <td>Exec-managerial</td>\n",
       "      <td>Husband</td>\n",
       "      <td>White</td>\n",
       "      <td>Male</td>\n",
       "      <td>0</td>\n",
       "      <td>0</td>\n",
       "      <td>13</td>\n",
       "      <td>United-States</td>\n",
       "      <td>&lt;=50K</td>\n",
       "    </tr>\n",
       "    <tr>\n",
       "      <td>2</td>\n",
       "      <td>38</td>\n",
       "      <td>Private</td>\n",
       "      <td>215646</td>\n",
       "      <td>HS-grad</td>\n",
       "      <td>9</td>\n",
       "      <td>Divorced</td>\n",
       "      <td>Handlers-cleaners</td>\n",
       "      <td>Not-in-family</td>\n",
       "      <td>White</td>\n",
       "      <td>Male</td>\n",
       "      <td>0</td>\n",
       "      <td>0</td>\n",
       "      <td>40</td>\n",
       "      <td>United-States</td>\n",
       "      <td>&lt;=50K</td>\n",
       "    </tr>\n",
       "    <tr>\n",
       "      <td>3</td>\n",
       "      <td>53</td>\n",
       "      <td>Private</td>\n",
       "      <td>234721</td>\n",
       "      <td>11th</td>\n",
       "      <td>7</td>\n",
       "      <td>Married-civ-spouse</td>\n",
       "      <td>Handlers-cleaners</td>\n",
       "      <td>Husband</td>\n",
       "      <td>Black</td>\n",
       "      <td>Male</td>\n",
       "      <td>0</td>\n",
       "      <td>0</td>\n",
       "      <td>40</td>\n",
       "      <td>United-States</td>\n",
       "      <td>&lt;=50K</td>\n",
       "    </tr>\n",
       "    <tr>\n",
       "      <td>4</td>\n",
       "      <td>28</td>\n",
       "      <td>Private</td>\n",
       "      <td>338409</td>\n",
       "      <td>Bachelors</td>\n",
       "      <td>13</td>\n",
       "      <td>Married-civ-spouse</td>\n",
       "      <td>Prof-specialty</td>\n",
       "      <td>Wife</td>\n",
       "      <td>Black</td>\n",
       "      <td>Female</td>\n",
       "      <td>0</td>\n",
       "      <td>0</td>\n",
       "      <td>40</td>\n",
       "      <td>Cuba</td>\n",
       "      <td>&lt;=50K</td>\n",
       "    </tr>\n",
       "  </tbody>\n",
       "</table>\n",
       "</div>"
      ],
      "text/plain": [
       "   0                  1       2           3   4                    5   \\\n",
       "0  39          State-gov   77516   Bachelors  13        Never-married   \n",
       "1  50   Self-emp-not-inc   83311   Bachelors  13   Married-civ-spouse   \n",
       "2  38            Private  215646     HS-grad   9             Divorced   \n",
       "3  53            Private  234721        11th   7   Married-civ-spouse   \n",
       "4  28            Private  338409   Bachelors  13   Married-civ-spouse   \n",
       "\n",
       "                   6               7       8        9     10  11  12  \\\n",
       "0        Adm-clerical   Not-in-family   White     Male  2174   0  40   \n",
       "1     Exec-managerial         Husband   White     Male     0   0  13   \n",
       "2   Handlers-cleaners   Not-in-family   White     Male     0   0  40   \n",
       "3   Handlers-cleaners         Husband   Black     Male     0   0  40   \n",
       "4      Prof-specialty            Wife   Black   Female     0   0  40   \n",
       "\n",
       "               13      14  \n",
       "0   United-States   <=50K  \n",
       "1   United-States   <=50K  \n",
       "2   United-States   <=50K  \n",
       "3   United-States   <=50K  \n",
       "4            Cuba   <=50K  "
      ]
     },
     "execution_count": 172,
     "metadata": {},
     "output_type": "execute_result"
    }
   ],
   "source": [
    "#importing the dataset\n",
    "df=pd.read_csv(\"census.csv\",header=None)\n",
    "df.head()"
   ]
  },
  {
   "cell_type": "code",
   "execution_count": 173,
   "metadata": {},
   "outputs": [],
   "source": [
    "df.columns=['age','workclass','fnlwgt','education','education-num','marital-status','occupation','relationship','race','sex','capital-gain','capital-loss','hours-per-week','native-country','salary_range']"
   ]
  },
  {
   "cell_type": "code",
   "execution_count": 174,
   "metadata": {},
   "outputs": [
    {
     "data": {
      "text/html": [
       "<div>\n",
       "<style scoped>\n",
       "    .dataframe tbody tr th:only-of-type {\n",
       "        vertical-align: middle;\n",
       "    }\n",
       "\n",
       "    .dataframe tbody tr th {\n",
       "        vertical-align: top;\n",
       "    }\n",
       "\n",
       "    .dataframe thead th {\n",
       "        text-align: right;\n",
       "    }\n",
       "</style>\n",
       "<table border=\"1\" class=\"dataframe\">\n",
       "  <thead>\n",
       "    <tr style=\"text-align: right;\">\n",
       "      <th></th>\n",
       "      <th>age</th>\n",
       "      <th>workclass</th>\n",
       "      <th>fnlwgt</th>\n",
       "      <th>education</th>\n",
       "      <th>education-num</th>\n",
       "      <th>marital-status</th>\n",
       "      <th>occupation</th>\n",
       "      <th>relationship</th>\n",
       "      <th>race</th>\n",
       "      <th>sex</th>\n",
       "      <th>capital-gain</th>\n",
       "      <th>capital-loss</th>\n",
       "      <th>hours-per-week</th>\n",
       "      <th>native-country</th>\n",
       "      <th>salary_range</th>\n",
       "    </tr>\n",
       "  </thead>\n",
       "  <tbody>\n",
       "    <tr>\n",
       "      <td>0</td>\n",
       "      <td>39</td>\n",
       "      <td>State-gov</td>\n",
       "      <td>77516</td>\n",
       "      <td>Bachelors</td>\n",
       "      <td>13</td>\n",
       "      <td>Never-married</td>\n",
       "      <td>Adm-clerical</td>\n",
       "      <td>Not-in-family</td>\n",
       "      <td>White</td>\n",
       "      <td>Male</td>\n",
       "      <td>2174</td>\n",
       "      <td>0</td>\n",
       "      <td>40</td>\n",
       "      <td>United-States</td>\n",
       "      <td>&lt;=50K</td>\n",
       "    </tr>\n",
       "    <tr>\n",
       "      <td>1</td>\n",
       "      <td>50</td>\n",
       "      <td>Self-emp-not-inc</td>\n",
       "      <td>83311</td>\n",
       "      <td>Bachelors</td>\n",
       "      <td>13</td>\n",
       "      <td>Married-civ-spouse</td>\n",
       "      <td>Exec-managerial</td>\n",
       "      <td>Husband</td>\n",
       "      <td>White</td>\n",
       "      <td>Male</td>\n",
       "      <td>0</td>\n",
       "      <td>0</td>\n",
       "      <td>13</td>\n",
       "      <td>United-States</td>\n",
       "      <td>&lt;=50K</td>\n",
       "    </tr>\n",
       "    <tr>\n",
       "      <td>2</td>\n",
       "      <td>38</td>\n",
       "      <td>Private</td>\n",
       "      <td>215646</td>\n",
       "      <td>HS-grad</td>\n",
       "      <td>9</td>\n",
       "      <td>Divorced</td>\n",
       "      <td>Handlers-cleaners</td>\n",
       "      <td>Not-in-family</td>\n",
       "      <td>White</td>\n",
       "      <td>Male</td>\n",
       "      <td>0</td>\n",
       "      <td>0</td>\n",
       "      <td>40</td>\n",
       "      <td>United-States</td>\n",
       "      <td>&lt;=50K</td>\n",
       "    </tr>\n",
       "    <tr>\n",
       "      <td>3</td>\n",
       "      <td>53</td>\n",
       "      <td>Private</td>\n",
       "      <td>234721</td>\n",
       "      <td>11th</td>\n",
       "      <td>7</td>\n",
       "      <td>Married-civ-spouse</td>\n",
       "      <td>Handlers-cleaners</td>\n",
       "      <td>Husband</td>\n",
       "      <td>Black</td>\n",
       "      <td>Male</td>\n",
       "      <td>0</td>\n",
       "      <td>0</td>\n",
       "      <td>40</td>\n",
       "      <td>United-States</td>\n",
       "      <td>&lt;=50K</td>\n",
       "    </tr>\n",
       "    <tr>\n",
       "      <td>4</td>\n",
       "      <td>28</td>\n",
       "      <td>Private</td>\n",
       "      <td>338409</td>\n",
       "      <td>Bachelors</td>\n",
       "      <td>13</td>\n",
       "      <td>Married-civ-spouse</td>\n",
       "      <td>Prof-specialty</td>\n",
       "      <td>Wife</td>\n",
       "      <td>Black</td>\n",
       "      <td>Female</td>\n",
       "      <td>0</td>\n",
       "      <td>0</td>\n",
       "      <td>40</td>\n",
       "      <td>Cuba</td>\n",
       "      <td>&lt;=50K</td>\n",
       "    </tr>\n",
       "  </tbody>\n",
       "</table>\n",
       "</div>"
      ],
      "text/plain": [
       "   age          workclass  fnlwgt   education  education-num  \\\n",
       "0   39          State-gov   77516   Bachelors             13   \n",
       "1   50   Self-emp-not-inc   83311   Bachelors             13   \n",
       "2   38            Private  215646     HS-grad              9   \n",
       "3   53            Private  234721        11th              7   \n",
       "4   28            Private  338409   Bachelors             13   \n",
       "\n",
       "        marital-status          occupation    relationship    race      sex  \\\n",
       "0        Never-married        Adm-clerical   Not-in-family   White     Male   \n",
       "1   Married-civ-spouse     Exec-managerial         Husband   White     Male   \n",
       "2             Divorced   Handlers-cleaners   Not-in-family   White     Male   \n",
       "3   Married-civ-spouse   Handlers-cleaners         Husband   Black     Male   \n",
       "4   Married-civ-spouse      Prof-specialty            Wife   Black   Female   \n",
       "\n",
       "   capital-gain  capital-loss  hours-per-week  native-country salary_range  \n",
       "0          2174             0              40   United-States        <=50K  \n",
       "1             0             0              13   United-States        <=50K  \n",
       "2             0             0              40   United-States        <=50K  \n",
       "3             0             0              40   United-States        <=50K  \n",
       "4             0             0              40            Cuba        <=50K  "
      ]
     },
     "execution_count": 174,
     "metadata": {},
     "output_type": "execute_result"
    }
   ],
   "source": [
    "df.head()"
   ]
  },
  {
   "cell_type": "code",
   "execution_count": 5,
   "metadata": {},
   "outputs": [
    {
     "data": {
      "text/plain": [
       "(5425, 15)"
      ]
     },
     "execution_count": 5,
     "metadata": {},
     "output_type": "execute_result"
    }
   ],
   "source": [
    "#Checking the shape of the data\n",
    "df.shape\n",
    "#There are 5425 rows and 15 columns in the dataset"
   ]
  },
  {
   "cell_type": "code",
   "execution_count": 6,
   "metadata": {},
   "outputs": [
    {
     "name": "stdout",
     "output_type": "stream",
     "text": [
      "<class 'pandas.core.frame.DataFrame'>\n",
      "RangeIndex: 5425 entries, 0 to 5424\n",
      "Data columns (total 15 columns):\n",
      "age               5425 non-null int64\n",
      "workclass         5425 non-null object\n",
      "fnlwgt            5425 non-null int64\n",
      "education         5425 non-null object\n",
      "education-num     5425 non-null int64\n",
      "marital-status    5425 non-null object\n",
      "occupation        5425 non-null object\n",
      "relationship      5425 non-null object\n",
      "race              5425 non-null object\n",
      "sex               5425 non-null object\n",
      "capital-gain      5425 non-null int64\n",
      "capital-loss      5425 non-null int64\n",
      "hours-per-week    5425 non-null int64\n",
      "native-country    5425 non-null object\n",
      "salary_range      5424 non-null object\n",
      "dtypes: int64(6), object(9)\n",
      "memory usage: 635.9+ KB\n"
     ]
    }
   ],
   "source": [
    "#check the datatypes of the dataset\n",
    "df.info()"
   ]
  },
  {
   "cell_type": "markdown",
   "metadata": {},
   "source": [
    "Checking for missing values"
   ]
  },
  {
   "cell_type": "code",
   "execution_count": 7,
   "metadata": {},
   "outputs": [
    {
     "data": {
      "text/plain": [
       "<matplotlib.axes._subplots.AxesSubplot at 0x2891f3a6708>"
      ]
     },
     "execution_count": 7,
     "metadata": {},
     "output_type": "execute_result"
    },
    {
     "data": {
      "image/png": "[encoded data removed]",
      "text/plain": [
       "<Figure size 432x288 with 2 Axes>"
      ]
     },
     "metadata": {
      "needs_background": "light"
     },
     "output_type": "display_data"
    }
   ],
   "source": [
    "sns.heatmap(df.isnull())"
   ]
  },
  {
   "cell_type": "code",
   "execution_count": 8,
   "metadata": {},
   "outputs": [
    {
     "data": {
      "text/plain": [
       "age               0\n",
       "workclass         0\n",
       "fnlwgt            0\n",
       "education         0\n",
       "education-num     0\n",
       "marital-status    0\n",
       "occupation        0\n",
       "relationship      0\n",
       "race              0\n",
       "sex               0\n",
       "capital-gain      0\n",
       "capital-loss      0\n",
       "hours-per-week    0\n",
       "native-country    0\n",
       "salary_range      1\n",
       "dtype: int64"
      ]
     },
     "execution_count": 8,
     "metadata": {},
     "output_type": "execute_result"
    }
   ],
   "source": [
    "df.isnull().sum()\n",
    "#There is one missing value in the salary range column"
   ]
  },
  {
   "cell_type": "markdown",
   "metadata": {},
   "source": [
    "#### Univariate Analysis"
   ]
  },
  {
   "cell_type": "code",
   "execution_count": 9,
   "metadata": {},
   "outputs": [
    {
     "data": {
      "text/plain": [
       "Index(['age', 'workclass', 'fnlwgt', 'education', 'education-num',\n",
       "       'marital-status', 'occupation', 'relationship', 'race', 'sex',\n",
       "       'capital-gain', 'capital-loss', 'hours-per-week', 'native-country',\n",
       "       'salary_range'],\n",
       "      dtype='object')"
      ]
     },
     "execution_count": 9,
     "metadata": {},
     "output_type": "execute_result"
    }
   ],
   "source": [
    "df.columns"
   ]
  },
  {
   "cell_type": "code",
   "execution_count": 10,
   "metadata": {},
   "outputs": [
    {
     "name": "stdout",
     "output_type": "stream",
     "text": [
      "The unique values and its count in column age are\n",
      "31    171\n",
      "25    155\n",
      "35    151\n",
      "23    149\n",
      "34    147\n",
      "     ... \n",
      "79      3\n",
      "78      2\n",
      "88      1\n",
      "82      1\n",
      "83      1\n",
      "Name: age, Length: 69, dtype: int64\n",
      "\n",
      "\n",
      "The unique values and its count in column workclass are\n",
      " Private             3716\n",
      " Self-emp-not-inc     423\n",
      " Local-gov            358\n",
      " ?                    354\n",
      " State-gov            215\n",
      " Self-emp-inc         196\n",
      " Federal-gov          161\n",
      " Without-pay            1\n",
      " Never-worked           1\n",
      "Name: workclass, dtype: int64\n",
      "\n",
      "\n",
      "The unique values and its count in column fnlwgt are\n",
      "123983    5\n",
      "163003    4\n",
      "111567    4\n",
      "117963    4\n",
      "116632    4\n",
      "         ..\n",
      "160118    1\n",
      "204057    1\n",
      "88265     1\n",
      "163101    1\n",
      "98837     1\n",
      "Name: fnlwgt, Length: 4956, dtype: int64\n",
      "\n",
      "\n",
      "The unique values and its count in column education are\n",
      " HS-grad         1749\n",
      " Some-college    1224\n",
      " Bachelors        899\n",
      " Masters          278\n",
      " Assoc-voc        239\n",
      " 11th             211\n",
      " Assoc-acdm       177\n",
      " 10th             152\n",
      " 7th-8th          111\n",
      " Prof-school       93\n",
      " 9th               89\n",
      " Doctorate         62\n",
      " 12th              61\n",
      " 5th-6th           49\n",
      " 1st-4th           24\n",
      " Preschool          7\n",
      "Name: education, dtype: int64\n",
      "\n",
      "\n",
      "The unique values and its count in column education-num are\n",
      "9     1749\n",
      "10    1224\n",
      "13     899\n",
      "14     278\n",
      "11     239\n",
      "7      211\n",
      "12     177\n",
      "6      152\n",
      "4      111\n",
      "15      93\n",
      "5       89\n",
      "16      62\n",
      "8       61\n",
      "3       49\n",
      "2       24\n",
      "1        7\n",
      "Name: education-num, dtype: int64\n",
      "\n",
      "\n",
      "The unique values and its count in column marital-status are\n",
      " Married-civ-spouse       2474\n",
      " Never-married            1799\n",
      " Divorced                  737\n",
      " Widowed                   172\n",
      " Separated                 166\n",
      " Married-spouse-absent      72\n",
      " Married-AF-spouse           5\n",
      "Name: marital-status, dtype: int64\n",
      "\n",
      "\n",
      "The unique values and its count in column occupation are\n",
      " Prof-specialty       677\n",
      " Exec-managerial      669\n",
      " Craft-repair         669\n",
      " Sales                646\n",
      " Adm-clerical         619\n",
      " Other-service        536\n",
      " ?                    355\n",
      " Machine-op-inspct    336\n",
      " Transport-moving     271\n",
      " Handlers-cleaners    216\n",
      " Farming-fishing      160\n",
      " Tech-support         147\n",
      " Protective-serv      103\n",
      " Priv-house-serv       19\n",
      " Armed-Forces           2\n",
      "Name: occupation, dtype: int64\n",
      "\n",
      "\n",
      "The unique values and its count in column relationship are\n",
      " Husband           2174\n",
      " Not-in-family     1399\n",
      " Own-child          844\n",
      " Unmarried          574\n",
      " Wife               272\n",
      " Other-relative     162\n",
      "Name: relationship, dtype: int64\n",
      "\n",
      "\n",
      "The unique values and its count in column race are\n",
      " White                 4617\n",
      " Black                  554\n",
      " Asian-Pac-Islander     164\n",
      " Amer-Indian-Eskimo      54\n",
      " Other                   36\n",
      "Name: race, dtype: int64\n",
      "\n",
      "\n",
      "The unique values and its count in column sex are\n",
      " Male      3658\n",
      " Female    1767\n",
      "Name: sex, dtype: int64\n",
      "\n",
      "\n",
      "The unique values and its count in column capital-gain are\n",
      "0        4977\n",
      "15024      67\n",
      "7688       50\n",
      "7298       39\n",
      "99999      24\n",
      "         ... \n",
      "3818        1\n",
      "4416        1\n",
      "114         1\n",
      "5455        1\n",
      "6497        1\n",
      "Name: capital-gain, Length: 84, dtype: int64\n",
      "\n",
      "\n",
      "The unique values and its count in column capital-loss are\n",
      "0       5147\n",
      "1902      43\n",
      "1977      32\n",
      "1887      25\n",
      "2415      11\n",
      "1485       9\n",
      "1590       9\n",
      "1740       9\n",
      "1848       9\n",
      "1672       8\n",
      "1741       7\n",
      "1564       6\n",
      "1628       6\n",
      "1876       6\n",
      "1762       6\n",
      "1719       6\n",
      "1980       5\n",
      "1669       5\n",
      "2339       4\n",
      "2002       4\n",
      "2001       4\n",
      "1579       4\n",
      "2392       4\n",
      "1408       4\n",
      "2377       3\n",
      "2179       3\n",
      "2258       3\n",
      "1340       3\n",
      "1380       2\n",
      "1504       2\n",
      "2042       2\n",
      "2352       2\n",
      "625        2\n",
      "1816       2\n",
      "2206       2\n",
      "1721       2\n",
      "1602       2\n",
      "2051       2\n",
      "1092       1\n",
      "2238       1\n",
      "880        1\n",
      "2205       1\n",
      "1668       1\n",
      "1138       1\n",
      "213        1\n",
      "2174       1\n",
      "1844       1\n",
      "2547       1\n",
      "2444       1\n",
      "653        1\n",
      "3004       1\n",
      "419        1\n",
      "1573       1\n",
      "1726       1\n",
      "1651       1\n",
      "2231       1\n",
      "1594       1\n",
      "1539       1\n",
      "Name: capital-loss, dtype: int64\n",
      "\n",
      "\n",
      "The unique values and its count in column hours-per-week are\n",
      "40    2548\n",
      "50     481\n",
      "45     300\n",
      "60     267\n",
      "35     218\n",
      "      ... \n",
      "19       1\n",
      "31       1\n",
      "51       1\n",
      "77       1\n",
      "63       1\n",
      "Name: hours-per-week, Length: 75, dtype: int64\n",
      "\n",
      "\n",
      "The unique values and its count in column native-country are\n",
      " United-States                 4845\n",
      " Mexico                         113\n",
      " ?                              106\n",
      " Canada                          32\n",
      " Germany                         25\n",
      " Philippines                     22\n",
      " Cuba                            18\n",
      " Puerto-Rico                     18\n",
      " El-Salvador                     17\n",
      " England                         16\n",
      " Jamaica                         16\n",
      " China                           15\n",
      " Dominican-Republic              13\n",
      " India                           12\n",
      " Iran                            12\n",
      " Vietnam                         12\n",
      " Poland                          12\n",
      " Italy                           12\n",
      " Taiwan                          12\n",
      " Guatemala                       10\n",
      " Japan                           10\n",
      " South                           10\n",
      " Portugal                         7\n",
      " Haiti                            6\n",
      " Greece                           6\n",
      " Nicaragua                        5\n",
      " Columbia                         5\n",
      " Cambodia                         4\n",
      " Ecuador                          4\n",
      " Ireland                          4\n",
      " Trinadad&Tobago                  4\n",
      " Peru                             3\n",
      " Outlying-US(Guam-USVI-etc)       3\n",
      " Honduras                         3\n",
      " France                           3\n",
      " Laos                             2\n",
      " Scotland                         2\n",
      " Yugoslavia                       2\n",
      " Thailand                         2\n",
      " So                               1\n",
      " Hong                             1\n",
      "Name: native-country, dtype: int64\n",
      "\n",
      "\n",
      "The unique values and its count in column salary_range are\n",
      " <=50K    4110\n",
      " >50K     1314\n",
      "Name: salary_range, dtype: int64\n",
      "\n",
      "\n"
     ]
    }
   ],
   "source": [
    "#Let's check the unique values and its count in the columns\n",
    "for i in df.columns:\n",
    "    print(\"The unique values and its count in column\", i, \"are\")\n",
    "    print(df[i].value_counts())\n",
    "    print(\"\\n\")"
   ]
  },
  {
   "cell_type": "markdown",
   "metadata": {},
   "source": [
    "Observations\n",
    "1. 4110 are below 50K salary and 1314 are above 50K salary.\n",
    "2. There are missing values represented by '?' in columns native country, occupation and workclass.\n"
   ]
  },
  {
   "cell_type": "code",
   "execution_count": 35,
   "metadata": {},
   "outputs": [
    {
     "data": {
      "image/png": "[encoded data removed]",
      "text/plain": [
       "<Figure size 2880x1440 with 1 Axes>"
      ]
     },
     "metadata": {
      "needs_background": "light"
     },
     "output_type": "display_data"
    },
    {
     "data": {
      "image/png": "[encoded data removed]",
      "text/plain": [
       "<Figure size 2880x1440 with 1 Axes>"
      ]
     },
     "metadata": {
      "needs_background": "light"
     },
     "output_type": "display_data"
    },
    {
     "data": {
      "image/png": "[encoded data removed]",
      "text/plain": [
       "<Figure size 2880x1440 with 1 Axes>"
      ]
     },
     "metadata": {
      "needs_background": "light"
     },
     "output_type": "display_data"
    },
    {
     "data": {
      "image/png": "[encoded data removed]",
      "text/plain": [
       "<Figure size 2880x1440 with 1 Axes>"
      ]
     },
     "metadata": {
      "needs_background": "light"
     },
     "output_type": "display_data"
    },
    {
     "data": {
      "image/png": "[encoded data removed]",
      "text/plain": [
       "<Figure size 2880x1440 with 1 Axes>"
      ]
     },
     "metadata": {
      "needs_background": "light"
     },
     "output_type": "display_data"
    },
    {
     "data": {
      "image/png": "[encoded data removed]",
      "text/plain": [
       "<Figure size 2880x1440 with 1 Axes>"
      ]
     },
     "metadata": {
      "needs_background": "light"
     },
     "output_type": "display_data"
    },
    {
     "data": {
      "image/png": "[encoded data removed]",
      "text/plain": [
       "<Figure size 2880x1440 with 1 Axes>"
      ]
     },
     "metadata": {
      "needs_background": "light"
     },
     "output_type": "display_data"
    },
    {
     "data": {
      "image/png": "[encoded data removed]",
      "text/plain": [
       "<Figure size 2880x1440 with 1 Axes>"
      ]
     },
     "metadata": {
      "needs_background": "light"
     },
     "output_type": "display_data"
    },
    {
     "data": {
      "image/png": "[encoded data removed]",
      "text/plain": [
       "<Figure size 2880x1440 with 1 Axes>"
      ]
     },
     "metadata": {
      "needs_background": "light"
     },
     "output_type": "display_data"
    },
    {
     "data": {
      "image/png": "[encoded data removed]",
      "text/plain": [
       "<Figure size 2880x1440 with 1 Axes>"
      ]
     },
     "metadata": {
      "needs_background": "light"
     },
     "output_type": "display_data"
    },
    {
     "data": {
      "image/png": "[encoded data removed]",
      "text/plain": [
       "<Figure size 2880x1440 with 1 Axes>"
      ]
     },
     "metadata": {
      "needs_background": "light"
     },
     "output_type": "display_data"
    },
    {
     "data": {
      "image/png": "[encoded data removed]",
      "text/plain": [
       "<Figure size 2880x1440 with 1 Axes>"
      ]
     },
     "metadata": {
      "needs_background": "light"
     },
     "output_type": "display_data"
    },
    {
     "data": {
      "image/png": "[encoded data removed]",
      "text/plain": [
       "<Figure size 2880x1440 with 1 Axes>"
      ]
     },
     "metadata": {
      "needs_background": "light"
     },
     "output_type": "display_data"
    },
    {
     "data": {
      "image/png": "[encoded data removed]",
      "text/plain": [
       "<Figure size 2880x1440 with 1 Axes>"
      ]
     },
     "metadata": {
      "needs_background": "light"
     },
     "output_type": "display_data"
    },
    {
     "data": {
      "image/png": "[encoded data removed]",
      "text/plain": [
       "<Figure size 2880x1440 with 1 Axes>"
      ]
     },
     "metadata": {
      "needs_background": "light"
     },
     "output_type": "display_data"
    }
   ],
   "source": [
    "for i in df.columns:\n",
    "    if df.columns.dtype=='O':\n",
    "        plt.figure(figsize=(40,20))\n",
    "        plt.subplot(651)\n",
    "        sns.countplot(df[i])\n",
    "        plt.tight_layout()"
   ]
  },
  {
   "cell_type": "markdown",
   "metadata": {},
   "source": [
    "Observations:\n",
    "1. Number of male employees are around 3500 and no of female employees are around 1600.\n",
    "2. Number of white workers are more when compared to others. They are the major employees followed by Black and Asians.\n",
    "3. Since there are more male employees, in the status of relationship, many are husbands, followed by not in family.\n",
    "4. Many employees are married and staying with spouse, followed by never married and divorced.\n",
    "5. People are more employed in private sector."
   ]
  },
  {
   "cell_type": "code",
   "execution_count": 64,
   "metadata": {},
   "outputs": [
    {
     "data": {
      "image/png": "[encoded data removed]",
      "text/plain": [
       "<Figure size 1440x1440 with 6 Axes>"
      ]
     },
     "metadata": {
      "needs_background": "light"
     },
     "output_type": "display_data"
    }
   ],
   "source": [
    "#checking the distribution plots of the columns\n",
    "df.hist(figsize=(20,20))\n",
    "plt.show()"
   ]
  },
  {
   "cell_type": "markdown",
   "metadata": {},
   "source": [
    "Observations\n",
    "1. Around 25 to 45 constitute the majority of workforce.\n",
    "2. Columns are mostly skewed which needs to be treated later."
   ]
  },
  {
   "cell_type": "code",
   "execution_count": 61,
   "metadata": {},
   "outputs": [
    {
     "data": {
      "image/png": "[encoded data removed]",
      "text/plain": [
       "<Figure size 1080x1080 with 6 Axes>"
      ]
     },
     "metadata": {
      "needs_background": "light"
     },
     "output_type": "display_data"
    }
   ],
   "source": [
    "#checking the box plots of the columns\n",
    "\n",
    "col_list=df.columns.values\n",
    "plt.figure(figsize=(15,15))\n",
    "for i in range (0,len(col_list)):\n",
    "    if df[col_list[i]].dtype!='O':\n",
    "        plt.subplot(6,6,i+1)\n",
    "        sns.boxplot(df[col_list[i]], color='green',orient='v')\n",
    "        plt.tight_layout()"
   ]
  },
  {
   "cell_type": "code",
   "execution_count": null,
   "metadata": {},
   "outputs": [],
   "source": [
    "#There are outliers in the columns which needs to treated later."
   ]
  },
  {
   "cell_type": "markdown",
   "metadata": {},
   "source": [
    "#### Statistical Analysis"
   ]
  },
  {
   "cell_type": "code",
   "execution_count": 65,
   "metadata": {},
   "outputs": [
    {
     "data": {
      "text/html": [
       "<div>\n",
       "<style scoped>\n",
       "    .dataframe tbody tr th:only-of-type {\n",
       "        vertical-align: middle;\n",
       "    }\n",
       "\n",
       "    .dataframe tbody tr th {\n",
       "        vertical-align: top;\n",
       "    }\n",
       "\n",
       "    .dataframe thead th {\n",
       "        text-align: right;\n",
       "    }\n",
       "</style>\n",
       "<table border=\"1\" class=\"dataframe\">\n",
       "  <thead>\n",
       "    <tr style=\"text-align: right;\">\n",
       "      <th></th>\n",
       "      <th>age</th>\n",
       "      <th>fnlwgt</th>\n",
       "      <th>education-num</th>\n",
       "      <th>capital-gain</th>\n",
       "      <th>capital-loss</th>\n",
       "      <th>hours-per-week</th>\n",
       "    </tr>\n",
       "  </thead>\n",
       "  <tbody>\n",
       "    <tr>\n",
       "      <td>count</td>\n",
       "      <td>5425.000000</td>\n",
       "      <td>5.425000e+03</td>\n",
       "      <td>5425.000000</td>\n",
       "      <td>5425.000000</td>\n",
       "      <td>5425.000000</td>\n",
       "      <td>5425.000000</td>\n",
       "    </tr>\n",
       "    <tr>\n",
       "      <td>mean</td>\n",
       "      <td>38.594839</td>\n",
       "      <td>1.905781e+05</td>\n",
       "      <td>10.077051</td>\n",
       "      <td>1023.957788</td>\n",
       "      <td>94.495115</td>\n",
       "      <td>40.460645</td>\n",
       "    </tr>\n",
       "    <tr>\n",
       "      <td>std</td>\n",
       "      <td>13.684979</td>\n",
       "      <td>1.066940e+05</td>\n",
       "      <td>2.542406</td>\n",
       "      <td>7063.164322</td>\n",
       "      <td>413.244944</td>\n",
       "      <td>12.104235</td>\n",
       "    </tr>\n",
       "    <tr>\n",
       "      <td>min</td>\n",
       "      <td>17.000000</td>\n",
       "      <td>1.930200e+04</td>\n",
       "      <td>1.000000</td>\n",
       "      <td>0.000000</td>\n",
       "      <td>0.000000</td>\n",
       "      <td>1.000000</td>\n",
       "    </tr>\n",
       "    <tr>\n",
       "      <td>25%</td>\n",
       "      <td>28.000000</td>\n",
       "      <td>1.179830e+05</td>\n",
       "      <td>9.000000</td>\n",
       "      <td>0.000000</td>\n",
       "      <td>0.000000</td>\n",
       "      <td>40.000000</td>\n",
       "    </tr>\n",
       "    <tr>\n",
       "      <td>50%</td>\n",
       "      <td>37.000000</td>\n",
       "      <td>1.793520e+05</td>\n",
       "      <td>10.000000</td>\n",
       "      <td>0.000000</td>\n",
       "      <td>0.000000</td>\n",
       "      <td>40.000000</td>\n",
       "    </tr>\n",
       "    <tr>\n",
       "      <td>75%</td>\n",
       "      <td>48.000000</td>\n",
       "      <td>2.408170e+05</td>\n",
       "      <td>12.000000</td>\n",
       "      <td>0.000000</td>\n",
       "      <td>0.000000</td>\n",
       "      <td>45.000000</td>\n",
       "    </tr>\n",
       "    <tr>\n",
       "      <td>max</td>\n",
       "      <td>90.000000</td>\n",
       "      <td>1.184622e+06</td>\n",
       "      <td>16.000000</td>\n",
       "      <td>99999.000000</td>\n",
       "      <td>3004.000000</td>\n",
       "      <td>99.000000</td>\n",
       "    </tr>\n",
       "  </tbody>\n",
       "</table>\n",
       "</div>"
      ],
      "text/plain": [
       "               age        fnlwgt  education-num  capital-gain  capital-loss  \\\n",
       "count  5425.000000  5.425000e+03    5425.000000   5425.000000   5425.000000   \n",
       "mean     38.594839  1.905781e+05      10.077051   1023.957788     94.495115   \n",
       "std      13.684979  1.066940e+05       2.542406   7063.164322    413.244944   \n",
       "min      17.000000  1.930200e+04       1.000000      0.000000      0.000000   \n",
       "25%      28.000000  1.179830e+05       9.000000      0.000000      0.000000   \n",
       "50%      37.000000  1.793520e+05      10.000000      0.000000      0.000000   \n",
       "75%      48.000000  2.408170e+05      12.000000      0.000000      0.000000   \n",
       "max      90.000000  1.184622e+06      16.000000  99999.000000   3004.000000   \n",
       "\n",
       "       hours-per-week  \n",
       "count     5425.000000  \n",
       "mean        40.460645  \n",
       "std         12.104235  \n",
       "min          1.000000  \n",
       "25%         40.000000  \n",
       "50%         40.000000  \n",
       "75%         45.000000  \n",
       "max         99.000000  "
      ]
     },
     "execution_count": 65,
     "metadata": {},
     "output_type": "execute_result"
    }
   ],
   "source": [
    "df.describe()"
   ]
  },
  {
   "cell_type": "markdown",
   "metadata": {},
   "source": [
    "Observations:\n",
    "1. The average working hours per week is 40.\n",
    "2. The average age of employees is 38. This seems to have outliers at age 90."
   ]
  },
  {
   "cell_type": "markdown",
   "metadata": {},
   "source": [
    "#### Bivariate Analysis"
   ]
  },
  {
   "cell_type": "code",
   "execution_count": 12,
   "metadata": {},
   "outputs": [
    {
     "data": {
      "text/plain": [
       "Index(['age', 'workclass', 'fnlwgt', 'education', 'education-num',\n",
       "       'marital-status', 'occupation', 'relationship', 'race', 'sex',\n",
       "       'capital-gain', 'capital-loss', 'hours-per-week', 'native-country',\n",
       "       'salary_range'],\n",
       "      dtype='object')"
      ]
     },
     "execution_count": 12,
     "metadata": {},
     "output_type": "execute_result"
    }
   ],
   "source": [
    "df.columns"
   ]
  },
  {
   "cell_type": "code",
   "execution_count": 13,
   "metadata": {},
   "outputs": [
    {
     "data": {
      "text/html": [
       "<div>\n",
       "<style scoped>\n",
       "    .dataframe tbody tr th:only-of-type {\n",
       "        vertical-align: middle;\n",
       "    }\n",
       "\n",
       "    .dataframe tbody tr th {\n",
       "        vertical-align: top;\n",
       "    }\n",
       "\n",
       "    .dataframe thead th {\n",
       "        text-align: right;\n",
       "    }\n",
       "</style>\n",
       "<table border=\"1\" class=\"dataframe\">\n",
       "  <thead>\n",
       "    <tr style=\"text-align: right;\">\n",
       "      <th></th>\n",
       "      <th>age</th>\n",
       "      <th>fnlwgt</th>\n",
       "      <th>education-num</th>\n",
       "      <th>capital-gain</th>\n",
       "      <th>capital-loss</th>\n",
       "      <th>hours-per-week</th>\n",
       "    </tr>\n",
       "    <tr>\n",
       "      <th>workclass</th>\n",
       "      <th></th>\n",
       "      <th></th>\n",
       "      <th></th>\n",
       "      <th></th>\n",
       "      <th></th>\n",
       "      <th></th>\n",
       "    </tr>\n",
       "  </thead>\n",
       "  <tbody>\n",
       "    <tr>\n",
       "      <td>?</td>\n",
       "      <td>39.245763</td>\n",
       "      <td>190661.516949</td>\n",
       "      <td>9.248588</td>\n",
       "      <td>364.299435</td>\n",
       "      <td>39.389831</td>\n",
       "      <td>31.522599</td>\n",
       "    </tr>\n",
       "    <tr>\n",
       "      <td>Federal-gov</td>\n",
       "      <td>42.434783</td>\n",
       "      <td>189270.397516</td>\n",
       "      <td>10.726708</td>\n",
       "      <td>605.223602</td>\n",
       "      <td>144.142857</td>\n",
       "      <td>42.000000</td>\n",
       "    </tr>\n",
       "    <tr>\n",
       "      <td>Local-gov</td>\n",
       "      <td>41.804469</td>\n",
       "      <td>187586.539106</td>\n",
       "      <td>10.765363</td>\n",
       "      <td>636.983240</td>\n",
       "      <td>153.201117</td>\n",
       "      <td>40.779330</td>\n",
       "    </tr>\n",
       "    <tr>\n",
       "      <td>Never-worked</td>\n",
       "      <td>18.000000</td>\n",
       "      <td>206359.000000</td>\n",
       "      <td>6.000000</td>\n",
       "      <td>0.000000</td>\n",
       "      <td>0.000000</td>\n",
       "      <td>40.000000</td>\n",
       "    </tr>\n",
       "    <tr>\n",
       "      <td>Private</td>\n",
       "      <td>36.938105</td>\n",
       "      <td>193057.888859</td>\n",
       "      <td>9.905813</td>\n",
       "      <td>846.501884</td>\n",
       "      <td>87.888052</td>\n",
       "      <td>40.545210</td>\n",
       "    </tr>\n",
       "    <tr>\n",
       "      <td>Self-emp-inc</td>\n",
       "      <td>45.357143</td>\n",
       "      <td>173067.576531</td>\n",
       "      <td>11.158163</td>\n",
       "      <td>5548.158163</td>\n",
       "      <td>182.627551</td>\n",
       "      <td>49.510204</td>\n",
       "    </tr>\n",
       "    <tr>\n",
       "      <td>Self-emp-not-inc</td>\n",
       "      <td>45.120567</td>\n",
       "      <td>184936.420804</td>\n",
       "      <td>10.245863</td>\n",
       "      <td>1779.739953</td>\n",
       "      <td>106.319149</td>\n",
       "      <td>43.340426</td>\n",
       "    </tr>\n",
       "    <tr>\n",
       "      <td>State-gov</td>\n",
       "      <td>38.906977</td>\n",
       "      <td>181292.609302</td>\n",
       "      <td>11.497674</td>\n",
       "      <td>533.293023</td>\n",
       "      <td>61.762791</td>\n",
       "      <td>38.074419</td>\n",
       "    </tr>\n",
       "    <tr>\n",
       "      <td>Without-pay</td>\n",
       "      <td>65.000000</td>\n",
       "      <td>27012.000000</td>\n",
       "      <td>4.000000</td>\n",
       "      <td>0.000000</td>\n",
       "      <td>0.000000</td>\n",
       "      <td>50.000000</td>\n",
       "    </tr>\n",
       "  </tbody>\n",
       "</table>\n",
       "</div>"
      ],
      "text/plain": [
       "                         age         fnlwgt  education-num  capital-gain  \\\n",
       "workclass                                                                  \n",
       " ?                 39.245763  190661.516949       9.248588    364.299435   \n",
       " Federal-gov       42.434783  189270.397516      10.726708    605.223602   \n",
       " Local-gov         41.804469  187586.539106      10.765363    636.983240   \n",
       " Never-worked      18.000000  206359.000000       6.000000      0.000000   \n",
       " Private           36.938105  193057.888859       9.905813    846.501884   \n",
       " Self-emp-inc      45.357143  173067.576531      11.158163   5548.158163   \n",
       " Self-emp-not-inc  45.120567  184936.420804      10.245863   1779.739953   \n",
       " State-gov         38.906977  181292.609302      11.497674    533.293023   \n",
       " Without-pay       65.000000   27012.000000       4.000000      0.000000   \n",
       "\n",
       "                   capital-loss  hours-per-week  \n",
       "workclass                                        \n",
       " ?                    39.389831       31.522599  \n",
       " Federal-gov         144.142857       42.000000  \n",
       " Local-gov           153.201117       40.779330  \n",
       " Never-worked          0.000000       40.000000  \n",
       " Private              87.888052       40.545210  \n",
       " Self-emp-inc        182.627551       49.510204  \n",
       " Self-emp-not-inc    106.319149       43.340426  \n",
       " State-gov            61.762791       38.074419  \n",
       " Without-pay           0.000000       50.000000  "
      ]
     },
     "execution_count": 13,
     "metadata": {},
     "output_type": "execute_result"
    }
   ],
   "source": [
    "df.groupby(\"workclass\").mean()"
   ]
  },
  {
   "cell_type": "markdown",
   "metadata": {},
   "source": [
    "Observations\n",
    "1. The highest average education number is recorded in state government category followed by self emp -inc. The least is recorded in without pay, followed by never worked.\n",
    "2. The highest capital gain is recorded in self emp inc followed by self emp not inc.\n",
    "3. The highest no. of hours per week is dedicated by those who are working without pay. However the count under this category is just 1 and thus cannot be generalised. This is followed by self emp inc and self employment not inc. This shows insight of pyschology of work class where there dedicate more time for own establishments."
   ]
  },
  {
   "cell_type": "code",
   "execution_count": 14,
   "metadata": {},
   "outputs": [
    {
     "data": {
      "text/html": [
       "<div>\n",
       "<style scoped>\n",
       "    .dataframe tbody tr th:only-of-type {\n",
       "        vertical-align: middle;\n",
       "    }\n",
       "\n",
       "    .dataframe tbody tr th {\n",
       "        vertical-align: top;\n",
       "    }\n",
       "\n",
       "    .dataframe thead th {\n",
       "        text-align: right;\n",
       "    }\n",
       "</style>\n",
       "<table border=\"1\" class=\"dataframe\">\n",
       "  <thead>\n",
       "    <tr style=\"text-align: right;\">\n",
       "      <th></th>\n",
       "      <th>age</th>\n",
       "      <th>fnlwgt</th>\n",
       "      <th>education-num</th>\n",
       "      <th>capital-gain</th>\n",
       "      <th>capital-loss</th>\n",
       "      <th>hours-per-week</th>\n",
       "    </tr>\n",
       "    <tr>\n",
       "      <th>sex</th>\n",
       "      <th></th>\n",
       "      <th></th>\n",
       "      <th></th>\n",
       "      <th></th>\n",
       "      <th></th>\n",
       "      <th></th>\n",
       "    </tr>\n",
       "  </thead>\n",
       "  <tbody>\n",
       "    <tr>\n",
       "      <td>Female</td>\n",
       "      <td>37.180532</td>\n",
       "      <td>185548.461800</td>\n",
       "      <td>10.044143</td>\n",
       "      <td>618.155631</td>\n",
       "      <td>58.311262</td>\n",
       "      <td>36.446520</td>\n",
       "    </tr>\n",
       "    <tr>\n",
       "      <td>Male</td>\n",
       "      <td>39.278021</td>\n",
       "      <td>193007.738655</td>\n",
       "      <td>10.092947</td>\n",
       "      <td>1219.980864</td>\n",
       "      <td>111.973756</td>\n",
       "      <td>42.399672</td>\n",
       "    </tr>\n",
       "  </tbody>\n",
       "</table>\n",
       "</div>"
      ],
      "text/plain": [
       "               age         fnlwgt  education-num  capital-gain  capital-loss  \\\n",
       "sex                                                                            \n",
       " Female  37.180532  185548.461800      10.044143    618.155631     58.311262   \n",
       " Male    39.278021  193007.738655      10.092947   1219.980864    111.973756   \n",
       "\n",
       "         hours-per-week  \n",
       "sex                      \n",
       " Female       36.446520  \n",
       " Male         42.399672  "
      ]
     },
     "execution_count": 14,
     "metadata": {},
     "output_type": "execute_result"
    }
   ],
   "source": [
    "df.groupby(\"sex\").mean()"
   ]
  },
  {
   "cell_type": "markdown",
   "metadata": {},
   "source": [
    "Observations\n",
    "1. Male class contribute more towards capital gain and capital loss. The no. of hours dedicated by men is more than women. The average age of employees female is 37 whereas male is 39."
   ]
  },
  {
   "cell_type": "code",
   "execution_count": 15,
   "metadata": {},
   "outputs": [
    {
     "data": {
      "text/html": [
       "<div>\n",
       "<style scoped>\n",
       "    .dataframe tbody tr th:only-of-type {\n",
       "        vertical-align: middle;\n",
       "    }\n",
       "\n",
       "    .dataframe tbody tr th {\n",
       "        vertical-align: top;\n",
       "    }\n",
       "\n",
       "    .dataframe thead th {\n",
       "        text-align: right;\n",
       "    }\n",
       "</style>\n",
       "<table border=\"1\" class=\"dataframe\">\n",
       "  <thead>\n",
       "    <tr style=\"text-align: right;\">\n",
       "      <th></th>\n",
       "      <th>age</th>\n",
       "      <th>fnlwgt</th>\n",
       "      <th>education-num</th>\n",
       "      <th>capital-gain</th>\n",
       "      <th>capital-loss</th>\n",
       "      <th>hours-per-week</th>\n",
       "    </tr>\n",
       "    <tr>\n",
       "      <th>education</th>\n",
       "      <th></th>\n",
       "      <th></th>\n",
       "      <th></th>\n",
       "      <th></th>\n",
       "      <th></th>\n",
       "      <th></th>\n",
       "    </tr>\n",
       "  </thead>\n",
       "  <tbody>\n",
       "    <tr>\n",
       "      <td>10th</td>\n",
       "      <td>39.256579</td>\n",
       "      <td>209325.677632</td>\n",
       "      <td>6.0</td>\n",
       "      <td>320.328947</td>\n",
       "      <td>35.190789</td>\n",
       "      <td>38.289474</td>\n",
       "    </tr>\n",
       "    <tr>\n",
       "      <td>11th</td>\n",
       "      <td>32.568720</td>\n",
       "      <td>200001.170616</td>\n",
       "      <td>7.0</td>\n",
       "      <td>243.867299</td>\n",
       "      <td>46.180095</td>\n",
       "      <td>35.327014</td>\n",
       "    </tr>\n",
       "    <tr>\n",
       "      <td>12th</td>\n",
       "      <td>30.803279</td>\n",
       "      <td>200717.360656</td>\n",
       "      <td>8.0</td>\n",
       "      <td>85.967213</td>\n",
       "      <td>28.540984</td>\n",
       "      <td>35.000000</td>\n",
       "    </tr>\n",
       "    <tr>\n",
       "      <td>1st-4th</td>\n",
       "      <td>48.166667</td>\n",
       "      <td>278077.500000</td>\n",
       "      <td>2.0</td>\n",
       "      <td>0.000000</td>\n",
       "      <td>0.000000</td>\n",
       "      <td>36.500000</td>\n",
       "    </tr>\n",
       "    <tr>\n",
       "      <td>5th-6th</td>\n",
       "      <td>41.122449</td>\n",
       "      <td>230861.918367</td>\n",
       "      <td>3.0</td>\n",
       "      <td>132.591837</td>\n",
       "      <td>166.979592</td>\n",
       "      <td>40.142857</td>\n",
       "    </tr>\n",
       "    <tr>\n",
       "      <td>7th-8th</td>\n",
       "      <td>47.090090</td>\n",
       "      <td>204581.567568</td>\n",
       "      <td>4.0</td>\n",
       "      <td>163.972973</td>\n",
       "      <td>54.666667</td>\n",
       "      <td>37.738739</td>\n",
       "    </tr>\n",
       "    <tr>\n",
       "      <td>9th</td>\n",
       "      <td>42.359551</td>\n",
       "      <td>213696.067416</td>\n",
       "      <td>5.0</td>\n",
       "      <td>367.325843</td>\n",
       "      <td>56.674157</td>\n",
       "      <td>37.314607</td>\n",
       "    </tr>\n",
       "    <tr>\n",
       "      <td>Assoc-acdm</td>\n",
       "      <td>36.361582</td>\n",
       "      <td>182750.073446</td>\n",
       "      <td>12.0</td>\n",
       "      <td>993.214689</td>\n",
       "      <td>71.559322</td>\n",
       "      <td>40.892655</td>\n",
       "    </tr>\n",
       "    <tr>\n",
       "      <td>Assoc-voc</td>\n",
       "      <td>38.857741</td>\n",
       "      <td>173894.184100</td>\n",
       "      <td>11.0</td>\n",
       "      <td>537.368201</td>\n",
       "      <td>93.000000</td>\n",
       "      <td>40.736402</td>\n",
       "    </tr>\n",
       "    <tr>\n",
       "      <td>Bachelors</td>\n",
       "      <td>38.710790</td>\n",
       "      <td>195670.674082</td>\n",
       "      <td>13.0</td>\n",
       "      <td>1466.037820</td>\n",
       "      <td>122.507230</td>\n",
       "      <td>42.796440</td>\n",
       "    </tr>\n",
       "    <tr>\n",
       "      <td>Doctorate</td>\n",
       "      <td>47.016129</td>\n",
       "      <td>184175.967742</td>\n",
       "      <td>16.0</td>\n",
       "      <td>3819.467742</td>\n",
       "      <td>295.322581</td>\n",
       "      <td>46.048387</td>\n",
       "    </tr>\n",
       "    <tr>\n",
       "      <td>HS-grad</td>\n",
       "      <td>39.448256</td>\n",
       "      <td>188946.766152</td>\n",
       "      <td>9.0</td>\n",
       "      <td>698.073185</td>\n",
       "      <td>71.906804</td>\n",
       "      <td>40.524300</td>\n",
       "    </tr>\n",
       "    <tr>\n",
       "      <td>Masters</td>\n",
       "      <td>44.586331</td>\n",
       "      <td>171676.140288</td>\n",
       "      <td>14.0</td>\n",
       "      <td>1510.992806</td>\n",
       "      <td>207.805755</td>\n",
       "      <td>44.381295</td>\n",
       "    </tr>\n",
       "    <tr>\n",
       "      <td>Preschool</td>\n",
       "      <td>47.142857</td>\n",
       "      <td>298325.857143</td>\n",
       "      <td>1.0</td>\n",
       "      <td>0.000000</td>\n",
       "      <td>0.000000</td>\n",
       "      <td>31.428571</td>\n",
       "    </tr>\n",
       "    <tr>\n",
       "      <td>Prof-school</td>\n",
       "      <td>44.903226</td>\n",
       "      <td>188916.301075</td>\n",
       "      <td>15.0</td>\n",
       "      <td>13440.193548</td>\n",
       "      <td>393.505376</td>\n",
       "      <td>48.827957</td>\n",
       "    </tr>\n",
       "    <tr>\n",
       "      <td>Some-college</td>\n",
       "      <td>35.258170</td>\n",
       "      <td>186949.065359</td>\n",
       "      <td>10.0</td>\n",
       "      <td>524.723856</td>\n",
       "      <td>76.013072</td>\n",
       "      <td>38.772876</td>\n",
       "    </tr>\n",
       "  </tbody>\n",
       "</table>\n",
       "</div>"
      ],
      "text/plain": [
       "                     age         fnlwgt  education-num  capital-gain  \\\n",
       "education                                                              \n",
       " 10th          39.256579  209325.677632            6.0    320.328947   \n",
       " 11th          32.568720  200001.170616            7.0    243.867299   \n",
       " 12th          30.803279  200717.360656            8.0     85.967213   \n",
       " 1st-4th       48.166667  278077.500000            2.0      0.000000   \n",
       " 5th-6th       41.122449  230861.918367            3.0    132.591837   \n",
       " 7th-8th       47.090090  204581.567568            4.0    163.972973   \n",
       " 9th           42.359551  213696.067416            5.0    367.325843   \n",
       " Assoc-acdm    36.361582  182750.073446           12.0    993.214689   \n",
       " Assoc-voc     38.857741  173894.184100           11.0    537.368201   \n",
       " Bachelors     38.710790  195670.674082           13.0   1466.037820   \n",
       " Doctorate     47.016129  184175.967742           16.0   3819.467742   \n",
       " HS-grad       39.448256  188946.766152            9.0    698.073185   \n",
       " Masters       44.586331  171676.140288           14.0   1510.992806   \n",
       " Preschool     47.142857  298325.857143            1.0      0.000000   \n",
       " Prof-school   44.903226  188916.301075           15.0  13440.193548   \n",
       " Some-college  35.258170  186949.065359           10.0    524.723856   \n",
       "\n",
       "               capital-loss  hours-per-week  \n",
       "education                                    \n",
       " 10th             35.190789       38.289474  \n",
       " 11th             46.180095       35.327014  \n",
       " 12th             28.540984       35.000000  \n",
       " 1st-4th           0.000000       36.500000  \n",
       " 5th-6th         166.979592       40.142857  \n",
       " 7th-8th          54.666667       37.738739  \n",
       " 9th              56.674157       37.314607  \n",
       " Assoc-acdm       71.559322       40.892655  \n",
       " Assoc-voc        93.000000       40.736402  \n",
       " Bachelors       122.507230       42.796440  \n",
       " Doctorate       295.322581       46.048387  \n",
       " HS-grad          71.906804       40.524300  \n",
       " Masters         207.805755       44.381295  \n",
       " Preschool         0.000000       31.428571  \n",
       " Prof-school     393.505376       48.827957  \n",
       " Some-college     76.013072       38.772876  "
      ]
     },
     "execution_count": 15,
     "metadata": {},
     "output_type": "execute_result"
    }
   ],
   "source": [
    "df.groupby('education').mean()"
   ]
  },
  {
   "cell_type": "markdown",
   "metadata": {},
   "source": [
    "Observations:\n",
    "1. The average hours per week dedicated by prof-school is highest at 48.8 followed by Doctorate at 46 and Masters at 44.\n",
    "2. The capital gain of Prof school is highest at 13440 followed by Doctorate at 3819 and Masters at 1510.\n",
    "3. The education-num is allotted as per the education starting at 1 for Preschool to 16 for Prof-school. The allotment basis is easily interpretable here."
   ]
  },
  {
   "cell_type": "code",
   "execution_count": 26,
   "metadata": {},
   "outputs": [
    {
     "data": {
      "text/html": [
       "<div>\n",
       "<style scoped>\n",
       "    .dataframe tbody tr th:only-of-type {\n",
       "        vertical-align: middle;\n",
       "    }\n",
       "\n",
       "    .dataframe tbody tr th {\n",
       "        vertical-align: top;\n",
       "    }\n",
       "\n",
       "    .dataframe thead th {\n",
       "        text-align: right;\n",
       "    }\n",
       "</style>\n",
       "<table border=\"1\" class=\"dataframe\">\n",
       "  <thead>\n",
       "    <tr style=\"text-align: right;\">\n",
       "      <th></th>\n",
       "      <th>age</th>\n",
       "      <th>fnlwgt</th>\n",
       "      <th>education-num</th>\n",
       "      <th>capital-gain</th>\n",
       "      <th>capital-loss</th>\n",
       "      <th>hours-per-week</th>\n",
       "    </tr>\n",
       "    <tr>\n",
       "      <th>race</th>\n",
       "      <th></th>\n",
       "      <th></th>\n",
       "      <th></th>\n",
       "      <th></th>\n",
       "      <th></th>\n",
       "      <th></th>\n",
       "    </tr>\n",
       "  </thead>\n",
       "  <tbody>\n",
       "    <tr>\n",
       "      <td>Amer-Indian-Eskimo</td>\n",
       "      <td>37.129630</td>\n",
       "      <td>119403.444444</td>\n",
       "      <td>9.111111</td>\n",
       "      <td>410.277778</td>\n",
       "      <td>0.000000</td>\n",
       "      <td>40.703704</td>\n",
       "    </tr>\n",
       "    <tr>\n",
       "      <td>Asian-Pac-Islander</td>\n",
       "      <td>36.658537</td>\n",
       "      <td>156907.341463</td>\n",
       "      <td>11.195122</td>\n",
       "      <td>1597.018293</td>\n",
       "      <td>122.762195</td>\n",
       "      <td>40.530488</td>\n",
       "    </tr>\n",
       "    <tr>\n",
       "      <td>Black</td>\n",
       "      <td>38.462094</td>\n",
       "      <td>229144.064982</td>\n",
       "      <td>9.453069</td>\n",
       "      <td>411.824910</td>\n",
       "      <td>47.265343</td>\n",
       "      <td>38.122744</td>\n",
       "    </tr>\n",
       "    <tr>\n",
       "      <td>Other</td>\n",
       "      <td>33.555556</td>\n",
       "      <td>186765.166667</td>\n",
       "      <td>8.777778</td>\n",
       "      <td>0.000000</td>\n",
       "      <td>165.222222</td>\n",
       "      <td>41.027778</td>\n",
       "    </tr>\n",
       "    <tr>\n",
       "      <td>White</td>\n",
       "      <td>38.735976</td>\n",
       "      <td>188008.770197</td>\n",
       "      <td>10.133637</td>\n",
       "      <td>1092.214425</td>\n",
       "      <td>99.711934</td>\n",
       "      <td>40.731427</td>\n",
       "    </tr>\n",
       "  </tbody>\n",
       "</table>\n",
       "</div>"
      ],
      "text/plain": [
       "                           age         fnlwgt  education-num  capital-gain  \\\n",
       "race                                                                         \n",
       " Amer-Indian-Eskimo  37.129630  119403.444444       9.111111    410.277778   \n",
       " Asian-Pac-Islander  36.658537  156907.341463      11.195122   1597.018293   \n",
       " Black               38.462094  229144.064982       9.453069    411.824910   \n",
       " Other               33.555556  186765.166667       8.777778      0.000000   \n",
       " White               38.735976  188008.770197      10.133637   1092.214425   \n",
       "\n",
       "                     capital-loss  hours-per-week  \n",
       "race                                               \n",
       " Amer-Indian-Eskimo      0.000000       40.703704  \n",
       " Asian-Pac-Islander    122.762195       40.530488  \n",
       " Black                  47.265343       38.122744  \n",
       " Other                 165.222222       41.027778  \n",
       " White                  99.711934       40.731427  "
      ]
     },
     "execution_count": 26,
     "metadata": {},
     "output_type": "execute_result"
    }
   ],
   "source": [
    "df.groupby('race').mean()"
   ]
  },
  {
   "cell_type": "markdown",
   "metadata": {},
   "source": [
    "Observations:\n",
    "1. The average education num of Asian Pacific Islander group is highest at 11.19 followed by white. Similary the capital gain is highest at 1597 followed by white at 1092.\n",
    "2. Average lowest education num is amongst other race followed by Amer-Indian_eskimo race and later by black."
   ]
  },
  {
   "cell_type": "code",
   "execution_count": 16,
   "metadata": {},
   "outputs": [
    {
     "data": {
      "text/html": [
       "<div>\n",
       "<style scoped>\n",
       "    .dataframe tbody tr th:only-of-type {\n",
       "        vertical-align: middle;\n",
       "    }\n",
       "\n",
       "    .dataframe tbody tr th {\n",
       "        vertical-align: top;\n",
       "    }\n",
       "\n",
       "    .dataframe thead th {\n",
       "        text-align: right;\n",
       "    }\n",
       "</style>\n",
       "<table border=\"1\" class=\"dataframe\">\n",
       "  <thead>\n",
       "    <tr style=\"text-align: right;\">\n",
       "      <th></th>\n",
       "      <th>age</th>\n",
       "      <th>fnlwgt</th>\n",
       "      <th>education-num</th>\n",
       "      <th>capital-gain</th>\n",
       "      <th>capital-loss</th>\n",
       "      <th>hours-per-week</th>\n",
       "    </tr>\n",
       "    <tr>\n",
       "      <th>salary_range</th>\n",
       "      <th></th>\n",
       "      <th></th>\n",
       "      <th></th>\n",
       "      <th></th>\n",
       "      <th></th>\n",
       "      <th></th>\n",
       "    </tr>\n",
       "  </thead>\n",
       "  <tbody>\n",
       "    <tr>\n",
       "      <td>&lt;=50K</td>\n",
       "      <td>36.796107</td>\n",
       "      <td>192153.303406</td>\n",
       "      <td>9.622871</td>\n",
       "      <td>154.169586</td>\n",
       "      <td>57.826764</td>\n",
       "      <td>38.850365</td>\n",
       "    </tr>\n",
       "    <tr>\n",
       "      <td>&gt;50K</td>\n",
       "      <td>44.226027</td>\n",
       "      <td>185679.821157</td>\n",
       "      <td>11.495434</td>\n",
       "      <td>3745.307458</td>\n",
       "      <td>209.260274</td>\n",
       "      <td>45.497717</td>\n",
       "    </tr>\n",
       "  </tbody>\n",
       "</table>\n",
       "</div>"
      ],
      "text/plain": [
       "                    age         fnlwgt  education-num  capital-gain  \\\n",
       "salary_range                                                          \n",
       " <=50K        36.796107  192153.303406       9.622871    154.169586   \n",
       " >50K         44.226027  185679.821157      11.495434   3745.307458   \n",
       "\n",
       "              capital-loss  hours-per-week  \n",
       "salary_range                                \n",
       " <=50K           57.826764       38.850365  \n",
       " >50K           209.260274       45.497717  "
      ]
     },
     "execution_count": 16,
     "metadata": {},
     "output_type": "execute_result"
    }
   ],
   "source": [
    "df.groupby('salary_range').mean()"
   ]
  },
  {
   "cell_type": "markdown",
   "metadata": {},
   "source": [
    "Observations:\n",
    "1. The average education num of salary range >50K is 11.49 where as for <50K it is 9.62. This shows that education has influence on the salary range.\n",
    "2. The capital gain of salary range >50K is high at 3745 and for <50K it is 154. Similarly capital loss is higher for >50k range when compared to <50k.\n",
    "3. The average hours dedicated per week by >50K is 45.5 whereas the average hours dedicated by <50K is 38.85."
   ]
  },
  {
   "cell_type": "markdown",
   "metadata": {},
   "source": [
    "#### Checking correlation"
   ]
  },
  {
   "cell_type": "code",
   "execution_count": 17,
   "metadata": {},
   "outputs": [
    {
     "data": {
      "text/plain": [
       "<matplotlib.axes._subplots.AxesSubplot at 0x2891f8a0088>"
      ]
     },
     "execution_count": 17,
     "metadata": {},
     "output_type": "execute_result"
    },
    {
     "data": {
      "image/png": "[encoded data removed]",
      "text/plain": [
       "<Figure size 432x288 with 2 Axes>"
      ]
     },
     "metadata": {
      "needs_background": "light"
     },
     "output_type": "display_data"
    }
   ],
   "source": [
    "sns.heatmap(df.corr())"
   ]
  },
  {
   "cell_type": "code",
   "execution_count": 18,
   "metadata": {},
   "outputs": [
    {
     "data": {
      "text/html": [
       "<div>\n",
       "<style scoped>\n",
       "    .dataframe tbody tr th:only-of-type {\n",
       "        vertical-align: middle;\n",
       "    }\n",
       "\n",
       "    .dataframe tbody tr th {\n",
       "        vertical-align: top;\n",
       "    }\n",
       "\n",
       "    .dataframe thead th {\n",
       "        text-align: right;\n",
       "    }\n",
       "</style>\n",
       "<table border=\"1\" class=\"dataframe\">\n",
       "  <thead>\n",
       "    <tr style=\"text-align: right;\">\n",
       "      <th></th>\n",
       "      <th>age</th>\n",
       "      <th>fnlwgt</th>\n",
       "      <th>education-num</th>\n",
       "      <th>capital-gain</th>\n",
       "      <th>capital-loss</th>\n",
       "      <th>hours-per-week</th>\n",
       "    </tr>\n",
       "  </thead>\n",
       "  <tbody>\n",
       "    <tr>\n",
       "      <td>age</td>\n",
       "      <td>1.000000</td>\n",
       "      <td>-0.077976</td>\n",
       "      <td>0.024414</td>\n",
       "      <td>0.061732</td>\n",
       "      <td>0.056186</td>\n",
       "      <td>0.049497</td>\n",
       "    </tr>\n",
       "    <tr>\n",
       "      <td>fnlwgt</td>\n",
       "      <td>-0.077976</td>\n",
       "      <td>1.000000</td>\n",
       "      <td>-0.061145</td>\n",
       "      <td>-0.004586</td>\n",
       "      <td>-0.009092</td>\n",
       "      <td>-0.012987</td>\n",
       "    </tr>\n",
       "    <tr>\n",
       "      <td>education-num</td>\n",
       "      <td>0.024414</td>\n",
       "      <td>-0.061145</td>\n",
       "      <td>1.000000</td>\n",
       "      <td>0.117637</td>\n",
       "      <td>0.098901</td>\n",
       "      <td>0.159501</td>\n",
       "    </tr>\n",
       "    <tr>\n",
       "      <td>capital-gain</td>\n",
       "      <td>0.061732</td>\n",
       "      <td>-0.004586</td>\n",
       "      <td>0.117637</td>\n",
       "      <td>1.000000</td>\n",
       "      <td>-0.033156</td>\n",
       "      <td>0.073428</td>\n",
       "    </tr>\n",
       "    <tr>\n",
       "      <td>capital-loss</td>\n",
       "      <td>0.056186</td>\n",
       "      <td>-0.009092</td>\n",
       "      <td>0.098901</td>\n",
       "      <td>-0.033156</td>\n",
       "      <td>1.000000</td>\n",
       "      <td>0.083918</td>\n",
       "    </tr>\n",
       "    <tr>\n",
       "      <td>hours-per-week</td>\n",
       "      <td>0.049497</td>\n",
       "      <td>-0.012987</td>\n",
       "      <td>0.159501</td>\n",
       "      <td>0.073428</td>\n",
       "      <td>0.083918</td>\n",
       "      <td>1.000000</td>\n",
       "    </tr>\n",
       "  </tbody>\n",
       "</table>\n",
       "</div>"
      ],
      "text/plain": [
       "                     age    fnlwgt  education-num  capital-gain  capital-loss  \\\n",
       "age             1.000000 -0.077976       0.024414      0.061732      0.056186   \n",
       "fnlwgt         -0.077976  1.000000      -0.061145     -0.004586     -0.009092   \n",
       "education-num   0.024414 -0.061145       1.000000      0.117637      0.098901   \n",
       "capital-gain    0.061732 -0.004586       0.117637      1.000000     -0.033156   \n",
       "capital-loss    0.056186 -0.009092       0.098901     -0.033156      1.000000   \n",
       "hours-per-week  0.049497 -0.012987       0.159501      0.073428      0.083918   \n",
       "\n",
       "                hours-per-week  \n",
       "age                   0.049497  \n",
       "fnlwgt               -0.012987  \n",
       "education-num         0.159501  \n",
       "capital-gain          0.073428  \n",
       "capital-loss          0.083918  \n",
       "hours-per-week        1.000000  "
      ]
     },
     "execution_count": 18,
     "metadata": {},
     "output_type": "execute_result"
    }
   ],
   "source": [
    "df.corr()"
   ]
  },
  {
   "cell_type": "code",
   "execution_count": 29,
   "metadata": {},
   "outputs": [
    {
     "data": {
      "text/plain": [
       "<matplotlib.axes._subplots.AxesSubplot at 0x28920051388>"
      ]
     },
     "execution_count": 29,
     "metadata": {},
     "output_type": "execute_result"
    },
    {
     "data": {
      "image/png": "[encoded data removed]",
      "text/plain": [
       "<Figure size 432x288 with 1 Axes>"
      ]
     },
     "metadata": {
      "needs_background": "light"
     },
     "output_type": "display_data"
    }
   ],
   "source": [
    "sns.barplot(x='salary_range',y='hours-per-week',data=df)"
   ]
  },
  {
   "cell_type": "code",
   "execution_count": 27,
   "metadata": {},
   "outputs": [
    {
     "data": {
      "text/plain": [
       "<matplotlib.axes._subplots.AxesSubplot at 0x2891ff91a48>"
      ]
     },
     "execution_count": 27,
     "metadata": {},
     "output_type": "execute_result"
    },
    {
     "data": {
      "image/png": "[encoded data removed]",
      "text/plain": [
       "<Figure size 432x288 with 1 Axes>"
      ]
     },
     "metadata": {
      "needs_background": "light"
     },
     "output_type": "display_data"
    }
   ],
   "source": [
    "sns.barplot(x='salary_range',y='education-num',data=df)"
   ]
  },
  {
   "cell_type": "code",
   "execution_count": 28,
   "metadata": {},
   "outputs": [
    {
     "data": {
      "text/plain": [
       "<matplotlib.axes._subplots.AxesSubplot at 0x2891fff8748>"
      ]
     },
     "execution_count": 28,
     "metadata": {},
     "output_type": "execute_result"
    },
    {
     "data": {
      "image/png": "[encoded data removed]",
      "text/plain": [
       "<Figure size 432x288 with 1 Axes>"
      ]
     },
     "metadata": {
      "needs_background": "light"
     },
     "output_type": "display_data"
    }
   ],
   "source": [
    "sns.barplot(x='salary_range',y='age',data=df)"
   ]
  },
  {
   "cell_type": "markdown",
   "metadata": {},
   "source": [
    "Observations on barplots:\n",
    "1. The above barplots shows the positive influence of age, education number and hours per week on the salary range.\n"
   ]
  },
  {
   "cell_type": "markdown",
   "metadata": {},
   "source": [
    "#### Handling missing data"
   ]
  },
  {
   "cell_type": "code",
   "execution_count": 32,
   "metadata": {},
   "outputs": [
    {
     "data": {
      "text/plain": [
       "Index(['age', 'workclass', 'fnlwgt', 'education', 'education-num',\n",
       "       'marital-status', 'occupation', 'relationship', 'race', 'sex',\n",
       "       'capital-gain', 'capital-loss', 'hours-per-week', 'native-country',\n",
       "       'salary_range'],\n",
       "      dtype='object')"
      ]
     },
     "execution_count": 32,
     "metadata": {},
     "output_type": "execute_result"
    }
   ],
   "source": [
    "df.columns"
   ]
  },
  {
   "cell_type": "code",
   "execution_count": 176,
   "metadata": {},
   "outputs": [
    {
     "name": "stdout",
     "output_type": "stream",
     "text": [
      " Prof-specialty       677\n",
      " Exec-managerial      669\n",
      " Craft-repair         669\n",
      " Sales                646\n",
      " Adm-clerical         619\n",
      " Other-service        536\n",
      " Unknown              355\n",
      " Machine-op-inspct    336\n",
      " Transport-moving     271\n",
      " Handlers-cleaners    216\n",
      " Farming-fishing      160\n",
      " Tech-support         147\n",
      " Protective-serv      103\n",
      " Priv-house-serv       19\n",
      " Armed-Forces           2\n",
      "Name: occupation, dtype: int64\n",
      "\n",
      " Private             3716\n",
      " Self-emp-not-inc     423\n",
      " Local-gov            358\n",
      " Unknown              354\n",
      " State-gov            215\n",
      " Self-emp-inc         196\n",
      " Federal-gov          161\n",
      " Without-pay            1\n",
      " Never-worked           1\n",
      "Name: workclass, dtype: int64\n",
      "\n",
      " United-States                 4951\n",
      " Mexico                         113\n",
      " Canada                          32\n",
      " Germany                         25\n",
      " Philippines                     22\n",
      " Cuba                            18\n",
      " Puerto-Rico                     18\n",
      " El-Salvador                     17\n",
      " England                         16\n",
      " Jamaica                         16\n",
      " China                           15\n",
      " Dominican-Republic              13\n",
      " Taiwan                          12\n",
      " India                           12\n",
      " Iran                            12\n",
      " Vietnam                         12\n",
      " Poland                          12\n",
      " Italy                           12\n",
      " Guatemala                       10\n",
      " Japan                           10\n",
      " South                           10\n",
      " Portugal                         7\n",
      " Greece                           6\n",
      " Haiti                            6\n",
      " Nicaragua                        5\n",
      " Columbia                         5\n",
      " Cambodia                         4\n",
      " Trinadad&Tobago                  4\n",
      " Ecuador                          4\n",
      " Ireland                          4\n",
      " Peru                             3\n",
      " Honduras                         3\n",
      " France                           3\n",
      " Outlying-US(Guam-USVI-etc)       3\n",
      " Laos                             2\n",
      " Scotland                         2\n",
      " Yugoslavia                       2\n",
      " Thailand                         2\n",
      " So                               1\n",
      " Hong                             1\n",
      "Name: native-country, dtype: int64\n"
     ]
    }
   ],
   "source": [
    "#native country, occupation and workclass\n",
    "print(df['occupation'].value_counts())\n",
    "print()\n",
    "print(df['workclass'].value_counts())\n",
    "print()\n",
    "print(df['native-country'].value_counts())"
   ]
  },
  {
   "cell_type": "markdown",
   "metadata": {},
   "source": [
    "Observations:\n",
    "1. If we observe, the no. of values missing in occupation and work class are almost similar 355 and 354. Hence, instead of replacing them with other values in the columns, let us retain them as it is.\n",
    "2. The no. of countries missing can be replaced with the most occuring country ie. USA.\n",
    "3. There is one null value in the salary range which can be replaced with most occuring value.\n",
    "\n"
   ]
  },
  {
   "cell_type": "code",
   "execution_count": 175,
   "metadata": {},
   "outputs": [],
   "source": [
    "#replacing '?' values with relevant values\n",
    "df['workclass']=df['workclass'].str.replace('?','Unknown')\n",
    "df['occupation']=df['occupation'].str.replace('?','Unknown')\n",
    "df['native-country']=df['native-country'].str.replace('?','United-States')"
   ]
  },
  {
   "cell_type": "code",
   "execution_count": 177,
   "metadata": {},
   "outputs": [],
   "source": [
    "#replacing the null values in salary range with most occuring value\n",
    "df['salary_range']=df['salary_range'].replace(np.nan,'<50K')"
   ]
  },
  {
   "cell_type": "code",
   "execution_count": 178,
   "metadata": {},
   "outputs": [
    {
     "name": "stdout",
     "output_type": "stream",
     "text": [
      " Prof-specialty       677\n",
      " Exec-managerial      669\n",
      " Craft-repair         669\n",
      " Sales                646\n",
      " Adm-clerical         619\n",
      " Other-service        536\n",
      " Unknown              355\n",
      " Machine-op-inspct    336\n",
      " Transport-moving     271\n",
      " Handlers-cleaners    216\n",
      " Farming-fishing      160\n",
      " Tech-support         147\n",
      " Protective-serv      103\n",
      " Priv-house-serv       19\n",
      " Armed-Forces           2\n",
      "Name: occupation, dtype: int64\n",
      "\n",
      " Private             3716\n",
      " Self-emp-not-inc     423\n",
      " Local-gov            358\n",
      " Unknown              354\n",
      " State-gov            215\n",
      " Self-emp-inc         196\n",
      " Federal-gov          161\n",
      " Without-pay            1\n",
      " Never-worked           1\n",
      "Name: workclass, dtype: int64\n",
      "\n",
      " United-States                 4951\n",
      " Mexico                         113\n",
      " Canada                          32\n",
      " Germany                         25\n",
      " Philippines                     22\n",
      " Cuba                            18\n",
      " Puerto-Rico                     18\n",
      " El-Salvador                     17\n",
      " England                         16\n",
      " Jamaica                         16\n",
      " China                           15\n",
      " Dominican-Republic              13\n",
      " Taiwan                          12\n",
      " India                           12\n",
      " Iran                            12\n",
      " Vietnam                         12\n",
      " Poland                          12\n",
      " Italy                           12\n",
      " Guatemala                       10\n",
      " Japan                           10\n",
      " South                           10\n",
      " Portugal                         7\n",
      " Greece                           6\n",
      " Haiti                            6\n",
      " Nicaragua                        5\n",
      " Columbia                         5\n",
      " Cambodia                         4\n",
      " Trinadad&Tobago                  4\n",
      " Ecuador                          4\n",
      " Ireland                          4\n",
      " Peru                             3\n",
      " Honduras                         3\n",
      " France                           3\n",
      " Outlying-US(Guam-USVI-etc)       3\n",
      " Laos                             2\n",
      " Scotland                         2\n",
      " Yugoslavia                       2\n",
      " Thailand                         2\n",
      " So                               1\n",
      " Hong                             1\n",
      "Name: native-country, dtype: int64\n"
     ]
    }
   ],
   "source": [
    "print(df['occupation'].value_counts())\n",
    "print()\n",
    "print(df['workclass'].value_counts())\n",
    "print()\n",
    "print(df['native-country'].value_counts())"
   ]
  },
  {
   "cell_type": "markdown",
   "metadata": {},
   "source": [
    "#### Using Labelencoder\n",
    "We need to convert the categorical data to numerical data in order to fit the model "
   ]
  },
  {
   "cell_type": "code",
   "execution_count": 179,
   "metadata": {},
   "outputs": [],
   "source": [
    "from sklearn.preprocessing import LabelEncoder\n",
    "lb=LabelEncoder()\n",
    "for i in df.columns:\n",
    "    if df.columns.dtype=='O':\n",
    "        df[i]=lb.fit_transform(df[i])\n"
   ]
  },
  {
   "cell_type": "code",
   "execution_count": 180,
   "metadata": {},
   "outputs": [
    {
     "data": {
      "text/html": [
       "<div>\n",
       "<style scoped>\n",
       "    .dataframe tbody tr th:only-of-type {\n",
       "        vertical-align: middle;\n",
       "    }\n",
       "\n",
       "    .dataframe tbody tr th {\n",
       "        vertical-align: top;\n",
       "    }\n",
       "\n",
       "    .dataframe thead th {\n",
       "        text-align: right;\n",
       "    }\n",
       "</style>\n",
       "<table border=\"1\" class=\"dataframe\">\n",
       "  <thead>\n",
       "    <tr style=\"text-align: right;\">\n",
       "      <th></th>\n",
       "      <th>age</th>\n",
       "      <th>workclass</th>\n",
       "      <th>fnlwgt</th>\n",
       "      <th>education</th>\n",
       "      <th>education-num</th>\n",
       "      <th>marital-status</th>\n",
       "      <th>occupation</th>\n",
       "      <th>relationship</th>\n",
       "      <th>race</th>\n",
       "      <th>sex</th>\n",
       "      <th>capital-gain</th>\n",
       "      <th>capital-loss</th>\n",
       "      <th>hours-per-week</th>\n",
       "      <th>native-country</th>\n",
       "      <th>salary_range</th>\n",
       "    </tr>\n",
       "  </thead>\n",
       "  <tbody>\n",
       "    <tr>\n",
       "      <td>0</td>\n",
       "      <td>22</td>\n",
       "      <td>6</td>\n",
       "      <td>625</td>\n",
       "      <td>9</td>\n",
       "      <td>12</td>\n",
       "      <td>4</td>\n",
       "      <td>0</td>\n",
       "      <td>1</td>\n",
       "      <td>4</td>\n",
       "      <td>1</td>\n",
       "      <td>16</td>\n",
       "      <td>0</td>\n",
       "      <td>37</td>\n",
       "      <td>37</td>\n",
       "      <td>0</td>\n",
       "    </tr>\n",
       "    <tr>\n",
       "      <td>1</td>\n",
       "      <td>33</td>\n",
       "      <td>5</td>\n",
       "      <td>685</td>\n",
       "      <td>9</td>\n",
       "      <td>12</td>\n",
       "      <td>2</td>\n",
       "      <td>3</td>\n",
       "      <td>0</td>\n",
       "      <td>4</td>\n",
       "      <td>1</td>\n",
       "      <td>0</td>\n",
       "      <td>0</td>\n",
       "      <td>12</td>\n",
       "      <td>37</td>\n",
       "      <td>0</td>\n",
       "    </tr>\n",
       "    <tr>\n",
       "      <td>2</td>\n",
       "      <td>21</td>\n",
       "      <td>3</td>\n",
       "      <td>3326</td>\n",
       "      <td>11</td>\n",
       "      <td>8</td>\n",
       "      <td>0</td>\n",
       "      <td>5</td>\n",
       "      <td>1</td>\n",
       "      <td>4</td>\n",
       "      <td>1</td>\n",
       "      <td>0</td>\n",
       "      <td>0</td>\n",
       "      <td>37</td>\n",
       "      <td>37</td>\n",
       "      <td>0</td>\n",
       "    </tr>\n",
       "    <tr>\n",
       "      <td>3</td>\n",
       "      <td>36</td>\n",
       "      <td>3</td>\n",
       "      <td>3594</td>\n",
       "      <td>1</td>\n",
       "      <td>6</td>\n",
       "      <td>2</td>\n",
       "      <td>5</td>\n",
       "      <td>0</td>\n",
       "      <td>2</td>\n",
       "      <td>1</td>\n",
       "      <td>0</td>\n",
       "      <td>0</td>\n",
       "      <td>37</td>\n",
       "      <td>37</td>\n",
       "      <td>0</td>\n",
       "    </tr>\n",
       "    <tr>\n",
       "      <td>4</td>\n",
       "      <td>11</td>\n",
       "      <td>3</td>\n",
       "      <td>4474</td>\n",
       "      <td>9</td>\n",
       "      <td>12</td>\n",
       "      <td>2</td>\n",
       "      <td>9</td>\n",
       "      <td>5</td>\n",
       "      <td>2</td>\n",
       "      <td>0</td>\n",
       "      <td>0</td>\n",
       "      <td>0</td>\n",
       "      <td>37</td>\n",
       "      <td>4</td>\n",
       "      <td>0</td>\n",
       "    </tr>\n",
       "  </tbody>\n",
       "</table>\n",
       "</div>"
      ],
      "text/plain": [
       "   age  workclass  fnlwgt  education  education-num  marital-status  \\\n",
       "0   22          6     625          9             12               4   \n",
       "1   33          5     685          9             12               2   \n",
       "2   21          3    3326         11              8               0   \n",
       "3   36          3    3594          1              6               2   \n",
       "4   11          3    4474          9             12               2   \n",
       "\n",
       "   occupation  relationship  race  sex  capital-gain  capital-loss  \\\n",
       "0           0             1     4    1            16             0   \n",
       "1           3             0     4    1             0             0   \n",
       "2           5             1     4    1             0             0   \n",
       "3           5             0     2    1             0             0   \n",
       "4           9             5     2    0             0             0   \n",
       "\n",
       "   hours-per-week  native-country  salary_range  \n",
       "0              37              37             0  \n",
       "1              12              37             0  \n",
       "2              37              37             0  \n",
       "3              37              37             0  \n",
       "4              37               4             0  "
      ]
     },
     "execution_count": 180,
     "metadata": {},
     "output_type": "execute_result"
    }
   ],
   "source": [
    "#Checking if the columns have been changed from categorical type\n",
    "df.head()"
   ]
  },
  {
   "cell_type": "markdown",
   "metadata": {},
   "source": [
    "#### removing the outliers"
   ]
  },
  {
   "cell_type": "code",
   "execution_count": 181,
   "metadata": {},
   "outputs": [
    {
     "name": "stdout",
     "output_type": "stream",
     "text": [
      "The shape of the dataframe before removing outliers is (5425, 15)\n",
      "The shape of the dataframe after removing outliers is (4508, 15)\n"
     ]
    }
   ],
   "source": [
    "from scipy.stats import zscore\n",
    "z=np.abs(zscore(df))\n",
    "print(\"The shape of the dataframe before removing outliers is\", df.shape)\n",
    "df=df[(z<3).all(axis=1)]\n",
    "print(\"The shape of the dataframe after removing outliers is\", df.shape)"
   ]
  },
  {
   "cell_type": "code",
   "execution_count": 182,
   "metadata": {},
   "outputs": [
    {
     "data": {
      "text/html": [
       "<div>\n",
       "<style scoped>\n",
       "    .dataframe tbody tr th:only-of-type {\n",
       "        vertical-align: middle;\n",
       "    }\n",
       "\n",
       "    .dataframe tbody tr th {\n",
       "        vertical-align: top;\n",
       "    }\n",
       "\n",
       "    .dataframe thead th {\n",
       "        text-align: right;\n",
       "    }\n",
       "</style>\n",
       "<table border=\"1\" class=\"dataframe\">\n",
       "  <thead>\n",
       "    <tr style=\"text-align: right;\">\n",
       "      <th></th>\n",
       "      <th>age</th>\n",
       "      <th>workclass</th>\n",
       "      <th>fnlwgt</th>\n",
       "      <th>education</th>\n",
       "      <th>education-num</th>\n",
       "      <th>marital-status</th>\n",
       "      <th>occupation</th>\n",
       "      <th>relationship</th>\n",
       "      <th>race</th>\n",
       "      <th>sex</th>\n",
       "      <th>capital-gain</th>\n",
       "      <th>capital-loss</th>\n",
       "      <th>hours-per-week</th>\n",
       "      <th>native-country</th>\n",
       "    </tr>\n",
       "  </thead>\n",
       "  <tbody>\n",
       "    <tr>\n",
       "      <td>0</td>\n",
       "      <td>22</td>\n",
       "      <td>6</td>\n",
       "      <td>625</td>\n",
       "      <td>9</td>\n",
       "      <td>12</td>\n",
       "      <td>4</td>\n",
       "      <td>0</td>\n",
       "      <td>1</td>\n",
       "      <td>4</td>\n",
       "      <td>1</td>\n",
       "      <td>16</td>\n",
       "      <td>0</td>\n",
       "      <td>37</td>\n",
       "      <td>37</td>\n",
       "    </tr>\n",
       "    <tr>\n",
       "      <td>1</td>\n",
       "      <td>33</td>\n",
       "      <td>5</td>\n",
       "      <td>685</td>\n",
       "      <td>9</td>\n",
       "      <td>12</td>\n",
       "      <td>2</td>\n",
       "      <td>3</td>\n",
       "      <td>0</td>\n",
       "      <td>4</td>\n",
       "      <td>1</td>\n",
       "      <td>0</td>\n",
       "      <td>0</td>\n",
       "      <td>12</td>\n",
       "      <td>37</td>\n",
       "    </tr>\n",
       "    <tr>\n",
       "      <td>2</td>\n",
       "      <td>21</td>\n",
       "      <td>3</td>\n",
       "      <td>3326</td>\n",
       "      <td>11</td>\n",
       "      <td>8</td>\n",
       "      <td>0</td>\n",
       "      <td>5</td>\n",
       "      <td>1</td>\n",
       "      <td>4</td>\n",
       "      <td>1</td>\n",
       "      <td>0</td>\n",
       "      <td>0</td>\n",
       "      <td>37</td>\n",
       "      <td>37</td>\n",
       "    </tr>\n",
       "    <tr>\n",
       "      <td>3</td>\n",
       "      <td>36</td>\n",
       "      <td>3</td>\n",
       "      <td>3594</td>\n",
       "      <td>1</td>\n",
       "      <td>6</td>\n",
       "      <td>2</td>\n",
       "      <td>5</td>\n",
       "      <td>0</td>\n",
       "      <td>2</td>\n",
       "      <td>1</td>\n",
       "      <td>0</td>\n",
       "      <td>0</td>\n",
       "      <td>37</td>\n",
       "      <td>37</td>\n",
       "    </tr>\n",
       "    <tr>\n",
       "      <td>5</td>\n",
       "      <td>20</td>\n",
       "      <td>3</td>\n",
       "      <td>4110</td>\n",
       "      <td>12</td>\n",
       "      <td>13</td>\n",
       "      <td>2</td>\n",
       "      <td>3</td>\n",
       "      <td>5</td>\n",
       "      <td>4</td>\n",
       "      <td>0</td>\n",
       "      <td>0</td>\n",
       "      <td>0</td>\n",
       "      <td>37</td>\n",
       "      <td>37</td>\n",
       "    </tr>\n",
       "  </tbody>\n",
       "</table>\n",
       "</div>"
      ],
      "text/plain": [
       "   age  workclass  fnlwgt  education  education-num  marital-status  \\\n",
       "0   22          6     625          9             12               4   \n",
       "1   33          5     685          9             12               2   \n",
       "2   21          3    3326         11              8               0   \n",
       "3   36          3    3594          1              6               2   \n",
       "5   20          3    4110         12             13               2   \n",
       "\n",
       "   occupation  relationship  race  sex  capital-gain  capital-loss  \\\n",
       "0           0             1     4    1            16             0   \n",
       "1           3             0     4    1             0             0   \n",
       "2           5             1     4    1             0             0   \n",
       "3           5             0     2    1             0             0   \n",
       "5           3             5     4    0             0             0   \n",
       "\n",
       "   hours-per-week  native-country  \n",
       "0              37              37  \n",
       "1              12              37  \n",
       "2              37              37  \n",
       "3              37              37  \n",
       "5              37              37  "
      ]
     },
     "execution_count": 182,
     "metadata": {},
     "output_type": "execute_result"
    }
   ],
   "source": [
    "#separating the input and output variables \n",
    "x=df.iloc[:,0:-1]\n",
    "y=pd.DataFrame(df.iloc[:,-1])\n",
    "x.head()"
   ]
  },
  {
   "cell_type": "code",
   "execution_count": 187,
   "metadata": {},
   "outputs": [
    {
     "data": {
      "text/html": [
       "<div>\n",
       "<style scoped>\n",
       "    .dataframe tbody tr th:only-of-type {\n",
       "        vertical-align: middle;\n",
       "    }\n",
       "\n",
       "    .dataframe tbody tr th {\n",
       "        vertical-align: top;\n",
       "    }\n",
       "\n",
       "    .dataframe thead th {\n",
       "        text-align: right;\n",
       "    }\n",
       "</style>\n",
       "<table border=\"1\" class=\"dataframe\">\n",
       "  <thead>\n",
       "    <tr style=\"text-align: right;\">\n",
       "      <th></th>\n",
       "      <th>salary_range</th>\n",
       "    </tr>\n",
       "  </thead>\n",
       "  <tbody>\n",
       "    <tr>\n",
       "      <td>0</td>\n",
       "      <td>0</td>\n",
       "    </tr>\n",
       "    <tr>\n",
       "      <td>1</td>\n",
       "      <td>0</td>\n",
       "    </tr>\n",
       "    <tr>\n",
       "      <td>2</td>\n",
       "      <td>0</td>\n",
       "    </tr>\n",
       "    <tr>\n",
       "      <td>3</td>\n",
       "      <td>0</td>\n",
       "    </tr>\n",
       "    <tr>\n",
       "      <td>5</td>\n",
       "      <td>0</td>\n",
       "    </tr>\n",
       "  </tbody>\n",
       "</table>\n",
       "</div>"
      ],
      "text/plain": [
       "   salary_range\n",
       "0             0\n",
       "1             0\n",
       "2             0\n",
       "3             0\n",
       "5             0"
      ]
     },
     "execution_count": 187,
     "metadata": {},
     "output_type": "execute_result"
    }
   ],
   "source": [
    "y.head()"
   ]
  },
  {
   "cell_type": "markdown",
   "metadata": {},
   "source": [
    "#### checking the skewness"
   ]
  },
  {
   "cell_type": "code",
   "execution_count": 188,
   "metadata": {},
   "outputs": [
    {
     "data": {
      "text/plain": [
       "age               0.514691\n",
       "workclass         0.736331\n",
       "fnlwgt           -0.003431\n",
       "education        -0.949164\n",
       "education-num    -0.168218\n",
       "marital-status   -0.100442\n",
       "occupation        0.109615\n",
       "relationship      0.715423\n",
       "race             -2.391889\n",
       "sex              -0.690113\n",
       "capital-gain      6.562771\n",
       "capital-loss      9.356373\n",
       "hours-per-week   -0.140705\n",
       "native-country   -4.999286\n",
       "dtype: float64"
      ]
     },
     "execution_count": 188,
     "metadata": {},
     "output_type": "execute_result"
    }
   ],
   "source": [
    "x.skew()"
   ]
  },
  {
   "cell_type": "code",
   "execution_count": 189,
   "metadata": {},
   "outputs": [],
   "source": [
    "#using the log function to remove the skewness\n",
    "for i in x.columns:\n",
    "    if x.skew()[i]>0.55:\n",
    "        x[i]=np.log1p(x[i])"
   ]
  },
  {
   "cell_type": "code",
   "execution_count": 190,
   "metadata": {},
   "outputs": [
    {
     "data": {
      "text/plain": [
       "age               0.514691\n",
       "workclass        -1.344246\n",
       "fnlwgt           -0.003431\n",
       "education        -0.949164\n",
       "education-num    -0.168218\n",
       "marital-status   -0.100442\n",
       "occupation        0.109615\n",
       "relationship      0.201998\n",
       "race             -2.391889\n",
       "sex              -0.690113\n",
       "capital-gain      5.556087\n",
       "capital-loss      8.276082\n",
       "hours-per-week   -0.140705\n",
       "native-country   -4.999286\n",
       "dtype: float64"
      ]
     },
     "execution_count": 190,
     "metadata": {},
     "output_type": "execute_result"
    }
   ],
   "source": [
    "#checking skewness again\n",
    "x.skew()"
   ]
  },
  {
   "cell_type": "code",
   "execution_count": 191,
   "metadata": {},
   "outputs": [],
   "source": [
    "#using the sqrt function to remove the skewness\n",
    "for i in x.columns:\n",
    "    if x.skew()[i]>0.55:\n",
    "        x[i]=np.sqrt(x[i])"
   ]
  },
  {
   "cell_type": "code",
   "execution_count": 192,
   "metadata": {},
   "outputs": [
    {
     "data": {
      "text/plain": [
       "age               0.514691\n",
       "workclass        -1.344246\n",
       "fnlwgt           -0.003431\n",
       "education        -0.949164\n",
       "education-num    -0.168218\n",
       "marital-status   -0.100442\n",
       "occupation        0.109615\n",
       "relationship      0.201998\n",
       "race             -2.391889\n",
       "sex              -0.690113\n",
       "capital-gain      5.323911\n",
       "capital-loss      8.071394\n",
       "hours-per-week   -0.140705\n",
       "native-country   -4.999286\n",
       "dtype: float64"
      ]
     },
     "execution_count": 192,
     "metadata": {},
     "output_type": "execute_result"
    }
   ],
   "source": [
    "#checking skewness again\n",
    "x.skew()\n",
    "#skewness has been reduced to some extent"
   ]
  },
  {
   "cell_type": "markdown",
   "metadata": {},
   "source": [
    "#### Scaling the data"
   ]
  },
  {
   "cell_type": "code",
   "execution_count": 193,
   "metadata": {},
   "outputs": [
    {
     "data": {
      "text/html": [
       "<div>\n",
       "<style scoped>\n",
       "    .dataframe tbody tr th:only-of-type {\n",
       "        vertical-align: middle;\n",
       "    }\n",
       "\n",
       "    .dataframe tbody tr th {\n",
       "        vertical-align: top;\n",
       "    }\n",
       "\n",
       "    .dataframe thead th {\n",
       "        text-align: right;\n",
       "    }\n",
       "</style>\n",
       "<table border=\"1\" class=\"dataframe\">\n",
       "  <thead>\n",
       "    <tr style=\"text-align: right;\">\n",
       "      <th></th>\n",
       "      <th>0</th>\n",
       "      <th>1</th>\n",
       "      <th>2</th>\n",
       "      <th>3</th>\n",
       "      <th>4</th>\n",
       "      <th>5</th>\n",
       "      <th>6</th>\n",
       "      <th>7</th>\n",
       "      <th>8</th>\n",
       "      <th>9</th>\n",
       "      <th>10</th>\n",
       "      <th>11</th>\n",
       "      <th>12</th>\n",
       "      <th>13</th>\n",
       "    </tr>\n",
       "  </thead>\n",
       "  <tbody>\n",
       "    <tr>\n",
       "      <td>0</td>\n",
       "      <td>0.354839</td>\n",
       "      <td>0.935785</td>\n",
       "      <td>0.126135</td>\n",
       "      <td>0.600000</td>\n",
       "      <td>0.769231</td>\n",
       "      <td>0.666667</td>\n",
       "      <td>0.000000</td>\n",
       "      <td>0.386853</td>\n",
       "      <td>1.0</td>\n",
       "      <td>1.0</td>\n",
       "      <td>0.84475</td>\n",
       "      <td>0.0</td>\n",
       "      <td>0.492308</td>\n",
       "      <td>0.909091</td>\n",
       "    </tr>\n",
       "    <tr>\n",
       "      <td>1</td>\n",
       "      <td>0.532258</td>\n",
       "      <td>0.861654</td>\n",
       "      <td>0.138244</td>\n",
       "      <td>0.600000</td>\n",
       "      <td>0.769231</td>\n",
       "      <td>0.333333</td>\n",
       "      <td>0.214286</td>\n",
       "      <td>0.000000</td>\n",
       "      <td>1.0</td>\n",
       "      <td>1.0</td>\n",
       "      <td>0.00000</td>\n",
       "      <td>0.0</td>\n",
       "      <td>0.107692</td>\n",
       "      <td>0.909091</td>\n",
       "    </tr>\n",
       "    <tr>\n",
       "      <td>2</td>\n",
       "      <td>0.338710</td>\n",
       "      <td>0.666667</td>\n",
       "      <td>0.671241</td>\n",
       "      <td>0.733333</td>\n",
       "      <td>0.461538</td>\n",
       "      <td>0.000000</td>\n",
       "      <td>0.357143</td>\n",
       "      <td>0.386853</td>\n",
       "      <td>1.0</td>\n",
       "      <td>1.0</td>\n",
       "      <td>0.00000</td>\n",
       "      <td>0.0</td>\n",
       "      <td>0.492308</td>\n",
       "      <td>0.909091</td>\n",
       "    </tr>\n",
       "    <tr>\n",
       "      <td>3</td>\n",
       "      <td>0.580645</td>\n",
       "      <td>0.666667</td>\n",
       "      <td>0.725328</td>\n",
       "      <td>0.066667</td>\n",
       "      <td>0.307692</td>\n",
       "      <td>0.333333</td>\n",
       "      <td>0.357143</td>\n",
       "      <td>0.000000</td>\n",
       "      <td>0.0</td>\n",
       "      <td>1.0</td>\n",
       "      <td>0.00000</td>\n",
       "      <td>0.0</td>\n",
       "      <td>0.492308</td>\n",
       "      <td>0.909091</td>\n",
       "    </tr>\n",
       "    <tr>\n",
       "      <td>4</td>\n",
       "      <td>0.322581</td>\n",
       "      <td>0.666667</td>\n",
       "      <td>0.829465</td>\n",
       "      <td>0.800000</td>\n",
       "      <td>0.846154</td>\n",
       "      <td>0.333333</td>\n",
       "      <td>0.214286</td>\n",
       "      <td>1.000000</td>\n",
       "      <td>1.0</td>\n",
       "      <td>0.0</td>\n",
       "      <td>0.00000</td>\n",
       "      <td>0.0</td>\n",
       "      <td>0.492308</td>\n",
       "      <td>0.909091</td>\n",
       "    </tr>\n",
       "  </tbody>\n",
       "</table>\n",
       "</div>"
      ],
      "text/plain": [
       "          0         1         2         3         4         5         6  \\\n",
       "0  0.354839  0.935785  0.126135  0.600000  0.769231  0.666667  0.000000   \n",
       "1  0.532258  0.861654  0.138244  0.600000  0.769231  0.333333  0.214286   \n",
       "2  0.338710  0.666667  0.671241  0.733333  0.461538  0.000000  0.357143   \n",
       "3  0.580645  0.666667  0.725328  0.066667  0.307692  0.333333  0.357143   \n",
       "4  0.322581  0.666667  0.829465  0.800000  0.846154  0.333333  0.214286   \n",
       "\n",
       "          7    8    9       10   11        12        13  \n",
       "0  0.386853  1.0  1.0  0.84475  0.0  0.492308  0.909091  \n",
       "1  0.000000  1.0  1.0  0.00000  0.0  0.107692  0.909091  \n",
       "2  0.386853  1.0  1.0  0.00000  0.0  0.492308  0.909091  \n",
       "3  0.000000  0.0  1.0  0.00000  0.0  0.492308  0.909091  \n",
       "4  1.000000  1.0  0.0  0.00000  0.0  0.492308  0.909091  "
      ]
     },
     "execution_count": 193,
     "metadata": {},
     "output_type": "execute_result"
    }
   ],
   "source": [
    "from sklearn.preprocessing import MinMaxScaler\n",
    "scaler=MinMaxScaler()\n",
    "x=pd.DataFrame(scaler.fit_transform(x))\n",
    "x.head()"
   ]
  },
  {
   "cell_type": "markdown",
   "metadata": {},
   "source": [
    "#### Finding the best random state for the algorithm"
   ]
  },
  {
   "cell_type": "code",
   "execution_count": 194,
   "metadata": {},
   "outputs": [],
   "source": [
    "#import necessary libraries\n",
    "from sklearn.model_selection import train_test_split\n",
    "from sklearn.model_selection import cross_val_score\n",
    "from sklearn.metrics import accuracy_score, classification_report, confusion_matrix\n",
    "\n",
    "def max_accuracy(reg,x,y):\n",
    "    max_acc_score=0\n",
    "    for r_state in range(42,101):\n",
    "        train_x,test_x,train_y,test_y=train_test_split(x,y,random_state=r_state,test_size=0.20)\n",
    "        reg.fit(train_x,train_y)\n",
    "        pred=reg.predict(test_x)\n",
    "        acc_score=accuracy_score(test_y,pred)\n",
    "        print(\"The accuracy score achieved at r state\", r_state, \"is\", acc_score)\n",
    "        if acc_score>max_acc_score:\n",
    "            max_acc_score=acc_score\n",
    "            final_r_state=r_state\n",
    "    print(\"The maximum accuracy\", max_acc_score, \"is achieved at random state\", final_r_state)\n",
    "    return max_acc_score"
   ]
  },
  {
   "cell_type": "code",
   "execution_count": 195,
   "metadata": {},
   "outputs": [
    {
     "name": "stdout",
     "output_type": "stream",
     "text": [
      "The accuracy score achieved at r state 42 is 0.8148558758314856\n",
      "The accuracy score achieved at r state 43 is 0.8414634146341463\n",
      "The accuracy score achieved at r state 44 is 0.8458980044345898\n",
      "The accuracy score achieved at r state 45 is 0.8281596452328159\n",
      "The accuracy score achieved at r state 46 is 0.8458980044345898\n",
      "The accuracy score achieved at r state 47 is 0.8403547671840355\n",
      "The accuracy score achieved at r state 48 is 0.8292682926829268\n",
      "The accuracy score achieved at r state 49 is 0.8292682926829268\n",
      "The accuracy score achieved at r state 50 is 0.8070953436807096\n",
      "The accuracy score achieved at r state 51 is 0.8237250554323725\n",
      "The accuracy score achieved at r state 52 is 0.8203991130820399\n",
      "The accuracy score achieved at r state 53 is 0.8248337028824834\n",
      "The accuracy score achieved at r state 54 is 0.8403547671840355\n",
      "The accuracy score achieved at r state 55 is 0.8226164079822617\n",
      "The accuracy score achieved at r state 56 is 0.843680709534368\n",
      "The accuracy score achieved at r state 57 is 0.8159645232815964\n",
      "The accuracy score achieved at r state 58 is 0.8325942350332595\n",
      "The accuracy score achieved at r state 59 is 0.8580931263858093\n",
      "The accuracy score achieved at r state 60 is 0.8303769401330376\n",
      "The accuracy score achieved at r state 61 is 0.8237250554323725\n",
      "The accuracy score achieved at r state 62 is 0.8226164079822617\n",
      "The accuracy score achieved at r state 63 is 0.8314855875831486\n",
      "The accuracy score achieved at r state 64 is 0.811529933481153\n",
      "The accuracy score achieved at r state 65 is 0.8126385809312638\n",
      "The accuracy score achieved at r state 66 is 0.8392461197339246\n",
      "The accuracy score achieved at r state 67 is 0.8414634146341463\n",
      "The accuracy score achieved at r state 68 is 0.8203991130820399\n",
      "The accuracy score achieved at r state 69 is 0.8536585365853658\n",
      "The accuracy score achieved at r state 70 is 0.843680709534368\n",
      "The accuracy score achieved at r state 71 is 0.8503325942350333\n",
      "The accuracy score achieved at r state 72 is 0.8414634146341463\n",
      "The accuracy score achieved at r state 73 is 0.8126385809312638\n",
      "The accuracy score achieved at r state 74 is 0.8281596452328159\n",
      "The accuracy score achieved at r state 75 is 0.8536585365853658\n",
      "The accuracy score achieved at r state 76 is 0.8192904656319291\n",
      "The accuracy score achieved at r state 77 is 0.8547671840354767\n",
      "The accuracy score achieved at r state 78 is 0.7982261640798226\n",
      "The accuracy score achieved at r state 79 is 0.802660753880266\n",
      "The accuracy score achieved at r state 80 is 0.8470066518847007\n",
      "The accuracy score achieved at r state 81 is 0.8392461197339246\n",
      "The accuracy score achieved at r state 82 is 0.8259423503325942\n",
      "The accuracy score achieved at r state 83 is 0.8192904656319291\n",
      "The accuracy score achieved at r state 84 is 0.8370288248337029\n",
      "The accuracy score achieved at r state 85 is 0.8303769401330376\n",
      "The accuracy score achieved at r state 86 is 0.8325942350332595\n",
      "The accuracy score achieved at r state 87 is 0.8325942350332595\n",
      "The accuracy score achieved at r state 88 is 0.8059866962305987\n",
      "The accuracy score achieved at r state 89 is 0.8270509977827051\n",
      "The accuracy score achieved at r state 90 is 0.8470066518847007\n",
      "The accuracy score achieved at r state 91 is 0.8148558758314856\n",
      "The accuracy score achieved at r state 92 is 0.8237250554323725\n",
      "The accuracy score achieved at r state 93 is 0.835920177383592\n",
      "The accuracy score achieved at r state 94 is 0.835920177383592\n",
      "The accuracy score achieved at r state 95 is 0.8414634146341463\n",
      "The accuracy score achieved at r state 96 is 0.8414634146341463\n",
      "The accuracy score achieved at r state 97 is 0.8248337028824834\n",
      "The accuracy score achieved at r state 98 is 0.8458980044345898\n",
      "The accuracy score achieved at r state 99 is 0.8170731707317073\n",
      "The accuracy score achieved at r state 100 is 0.7971175166297118\n",
      "The maximum accuracy 0.8580931263858093 is achieved at random state 59\n"
     ]
    },
    {
     "data": {
      "text/plain": [
       "0.8580931263858093"
      ]
     },
     "execution_count": 195,
     "metadata": {},
     "output_type": "execute_result"
    }
   ],
   "source": [
    "from sklearn.linear_model import LogisticRegression\n",
    "lg=LogisticRegression()\n",
    "max_accuracy(lg,x,y)"
   ]
  },
  {
   "cell_type": "code",
   "execution_count": 197,
   "metadata": {},
   "outputs": [
    {
     "name": "stdout",
     "output_type": "stream",
     "text": [
      "The cross val score is 0.83\n"
     ]
    }
   ],
   "source": [
    "#checking the cross val score\n",
    "score=cross_val_score(lg,x,y,cv=5).mean()\n",
    "print(\"The cross val score is\", round(score,2))"
   ]
  },
  {
   "cell_type": "code",
   "execution_count": 198,
   "metadata": {},
   "outputs": [],
   "source": [
    "#Finalising the train test data\n",
    "train_x,test_x,train_y,test_y=train_test_split(x,y,random_state=59,test_size=0.20)"
   ]
  },
  {
   "cell_type": "code",
   "execution_count": 200,
   "metadata": {},
   "outputs": [
    {
     "data": {
      "text/plain": [
       "{'criterion': 'entropy', 'splitter': 'random'}"
      ]
     },
     "execution_count": 200,
     "metadata": {},
     "output_type": "execute_result"
    }
   ],
   "source": [
    "#Let us use the other classification models and for the same let us use GridSearchCV to bring out the best parameters\n",
    "from sklearn.tree import DecisionTreeClassifier\n",
    "dt=DecisionTreeClassifier()\n",
    "parameters={'criterion':('gini','entropy'), 'splitter':('best','random')}\n",
    "gddt=GridSearchCV(dt,parameters)\n",
    "gddt.fit(train_x,train_y)\n",
    "gddt.best_params_"
   ]
  },
  {
   "cell_type": "code",
   "execution_count": 201,
   "metadata": {},
   "outputs": [
    {
     "data": {
      "text/plain": [
       "{'C': 10, 'kernel': 'rbf'}"
      ]
     },
     "execution_count": 201,
     "metadata": {},
     "output_type": "execute_result"
    }
   ],
   "source": [
    "from sklearn.svm import SVC\n",
    "sv=SVC()\n",
    "parameters={'C':(1,10),'kernel':('linear','poly','rbf')}\n",
    "gdsv=GridSearchCV(sv,parameters)\n",
    "gdsv.fit(train_x,train_y)\n",
    "gdsv.best_params_"
   ]
  },
  {
   "cell_type": "code",
   "execution_count": 202,
   "metadata": {},
   "outputs": [
    {
     "data": {
      "text/plain": [
       "{'algorithm': 'auto', 'n_neighbors': 20, 'weights': 'uniform'}"
      ]
     },
     "execution_count": 202,
     "metadata": {},
     "output_type": "execute_result"
    }
   ],
   "source": [
    "from sklearn.neighbors import KNeighborsClassifier\n",
    "kn=KNeighborsClassifier()\n",
    "parameters={'n_neighbors':(5,10,15,20),'weights':('uniform','distance'),'algorithm':('auto','ball_tree','kd_tree','brute')}\n",
    "gdkn=GridSearchCV(kn,parameters)\n",
    "gdkn.fit(train_x,train_y)\n",
    "gdkn.best_params_"
   ]
  },
  {
   "cell_type": "code",
   "execution_count": 206,
   "metadata": {},
   "outputs": [
    {
     "data": {
      "text/plain": [
       "{'penalty': 'l1'}"
      ]
     },
     "execution_count": 206,
     "metadata": {},
     "output_type": "execute_result"
    }
   ],
   "source": [
    "from sklearn.linear_model import LogisticRegression\n",
    "lg=LogisticRegression()\n",
    "parameters={'penalty':('l1','l2')}\n",
    "gd=GridSearchCV(lg,parameters)\n",
    "gd.fit(train_x,train_y)\n",
    "gd.best_params_"
   ]
  },
  {
   "cell_type": "code",
   "execution_count": 207,
   "metadata": {},
   "outputs": [],
   "source": [
    "#After obtaining best parameters, we should now check the models"
   ]
  },
  {
   "cell_type": "code",
   "execution_count": 208,
   "metadata": {},
   "outputs": [
    {
     "name": "stdout",
     "output_type": "stream",
     "text": [
      "LogisticRegression(C=1.0, class_weight=None, dual=False, fit_intercept=True,\n",
      "                   intercept_scaling=1, l1_ratio=None, max_iter=100,\n",
      "                   multi_class='warn', n_jobs=None, penalty='l1',\n",
      "                   random_state=None, solver='warn', tol=0.0001, verbose=0,\n",
      "                   warm_start=False)\n",
      "\n",
      "The accuracy score is  0.8536585365853658\n",
      "\n",
      "The cross val score is 0.8287548561774652\n",
      "\n",
      "              precision    recall  f1-score   support\n",
      "\n",
      "           0       0.88      0.95      0.91       747\n",
      "           1       0.62      0.39      0.48       155\n",
      "\n",
      "    accuracy                           0.85       902\n",
      "   macro avg       0.75      0.67      0.70       902\n",
      "weighted avg       0.84      0.85      0.84       902\n",
      "\n",
      "\n",
      "[[709  38]\n",
      " [ 94  61]]\n",
      "\n",
      "roc_auc_score 0.6713391199205424\n",
      "\n",
      "\n",
      "AxesSubplot(0.125,0.808774;0.62x0.0712264)\n",
      "\n",
      "\n",
      "\n",
      "\n",
      "KNeighborsClassifier(algorithm='auto', leaf_size=30, metric='minkowski',\n",
      "                     metric_params=None, n_jobs=None, n_neighbors=20, p=2,\n",
      "                     weights='uniform')\n",
      "\n",
      "The accuracy score is  0.8503325942350333\n",
      "\n",
      "The cross val score is 0.8345225310274543\n",
      "\n",
      "              precision    recall  f1-score   support\n",
      "\n",
      "           0       0.89      0.93      0.91       747\n",
      "           1       0.58      0.45      0.51       155\n",
      "\n",
      "    accuracy                           0.85       902\n",
      "   macro avg       0.74      0.69      0.71       902\n",
      "weighted avg       0.84      0.85      0.84       902\n",
      "\n",
      "\n",
      "[[697  50]\n",
      " [ 85  70]]\n",
      "\n",
      "roc_auc_score 0.6923392494710023\n",
      "\n",
      "\n",
      "AxesSubplot(0.125,0.808774;0.62x0.0712264)\n",
      "\n",
      "\n",
      "\n",
      "\n",
      "DecisionTreeClassifier(class_weight=None, criterion='entropy', max_depth=None,\n",
      "                       max_features=None, max_leaf_nodes=None,\n",
      "                       min_impurity_decrease=0.0, min_impurity_split=None,\n",
      "                       min_samples_leaf=1, min_samples_split=2,\n",
      "                       min_weight_fraction_leaf=0.0, presort=False,\n",
      "                       random_state=None, splitter='random')\n",
      "\n",
      "The accuracy score is  0.7815964523281597\n",
      "\n",
      "The cross val score is 0.7843877729467763\n",
      "\n",
      "              precision    recall  f1-score   support\n",
      "\n",
      "           0       0.89      0.84      0.86       747\n",
      "           1       0.39      0.48      0.43       155\n",
      "\n",
      "    accuracy                           0.78       902\n",
      "   macro avg       0.64      0.66      0.65       902\n",
      "weighted avg       0.80      0.78      0.79       902\n",
      "\n",
      "\n",
      "[[630 117]\n",
      " [ 80  75]]\n",
      "\n",
      "roc_auc_score 0.6636222308589196\n",
      "\n",
      "\n",
      "AxesSubplot(0.125,0.808774;0.62x0.0712264)\n",
      "\n",
      "\n",
      "\n",
      "\n",
      "SVC(C=10, cache_size=200, class_weight=None, coef0=0.0,\n",
      "    decision_function_shape='ovr', degree=3, gamma='auto_deprecated',\n",
      "    kernel='rbf', max_iter=-1, probability=False, random_state=None,\n",
      "    shrinking=True, tol=0.001, verbose=False)\n",
      "\n",
      "The accuracy score is  0.8625277161862528\n",
      "\n",
      "The cross val score is 0.83141684052105\n",
      "\n",
      "              precision    recall  f1-score   support\n",
      "\n",
      "           0       0.88      0.97      0.92       747\n",
      "           1       0.70      0.35      0.47       155\n",
      "\n",
      "    accuracy                           0.86       902\n",
      "   macro avg       0.79      0.66      0.70       902\n",
      "weighted avg       0.85      0.86      0.84       902\n",
      "\n",
      "\n",
      "[[723  24]\n",
      " [100  55]]\n",
      "\n",
      "roc_auc_score 0.6613550978105973\n",
      "\n",
      "\n",
      "AxesSubplot(0.125,0.808774;0.62x0.0712264)\n",
      "\n",
      "\n",
      "\n",
      "\n",
      "GaussianNB(priors=None, var_smoothing=1e-09)\n",
      "\n",
      "The accuracy score is  0.7716186252771619\n",
      "\n",
      "The cross val score is 0.7779536807985693\n",
      "\n",
      "              precision    recall  f1-score   support\n",
      "\n",
      "           0       0.92      0.79      0.85       747\n",
      "           1       0.40      0.68      0.51       155\n",
      "\n",
      "    accuracy                           0.77       902\n",
      "   macro avg       0.66      0.74      0.68       902\n",
      "weighted avg       0.83      0.77      0.79       902\n",
      "\n",
      "\n",
      "[[590 157]\n",
      " [ 49 106]]\n",
      "\n",
      "roc_auc_score 0.7368484691453988\n",
      "\n",
      "\n",
      "AxesSubplot(0.125,0.808774;0.62x0.0712264)\n",
      "\n",
      "\n",
      "\n",
      "\n"
     ]
    },
    {
     "data": {
      "image/png": "[encoded data removed]",
      "text/plain": [
       "<Figure size 720x2880 with 3 Axes>"
      ]
     },
     "metadata": {
      "needs_background": "light"
     },
     "output_type": "display_data"
    },
    {
     "data": {
      "image/png": "[encoded data removed]",
      "text/plain": [
       "<Figure size 720x2880 with 3 Axes>"
      ]
     },
     "metadata": {
      "needs_background": "light"
     },
     "output_type": "display_data"
    },
    {
     "data": {
      "image/png": "[encoded data removed]",
      "text/plain": [
       "<Figure size 720x2880 with 3 Axes>"
      ]
     },
     "metadata": {
      "needs_background": "light"
     },
     "output_type": "display_data"
    },
    {
     "data": {
      "image/png": "[encoded data removed]",
      "text/plain": [
       "<Figure size 720x2880 with 3 Axes>"
      ]
     },
     "metadata": {
      "needs_background": "light"
     },
     "output_type": "display_data"
    },
    {
     "data": {
      "image/png": "[encoded data removed]",
      "text/plain": [
       "<Figure size 720x2880 with 3 Axes>"
      ]
     },
     "metadata": {
      "needs_background": "light"
     },
     "output_type": "display_data"
    }
   ],
   "source": [
    "score=[]\n",
    "cv=[]\n",
    "rocscore=[]\n",
    "\n",
    "from sklearn.metrics import auc, roc_auc_score, roc_curve\n",
    "from sklearn.linear_model import LogisticRegression\n",
    "\n",
    "algorithms=[LogisticRegression(penalty='l1'),KNeighborsClassifier(algorithm='auto', n_neighbors= 20, weights='uniform'), DecisionTreeClassifier(criterion= 'entropy', splitter= 'random'), SVC(C=10, kernel='rbf'),GaussianNB()]\n",
    "\n",
    "for i in algorithms:\n",
    "    print(i)\n",
    "    i.fit(train_x,train_y)\n",
    "    pred=i.predict(test_x)\n",
    "    accscore=accuracy_score(test_y,pred)\n",
    "    score.append(accscore)\n",
    "    print(\"\")\n",
    "    print(\"The accuracy score is \", accscore)\n",
    "    print(\"\")\n",
    "    cvscore=cross_val_score(i,x,y,cv=5,scoring='accuracy').mean()\n",
    "    cv.append(cvscore)\n",
    "    print(\"The cross val score is\", cvscore)\n",
    "    print()\n",
    "    print(classification_report(test_y,pred))\n",
    "    print()\n",
    "    cm=confusion_matrix(test_y,pred)\n",
    "    print(cm)\n",
    "    print()\n",
    "    false_positive_rate,true_positive_rate,thresholds=roc_curve(test_y,pred)\n",
    "    roc_auc=auc(false_positive_rate,true_positive_rate)\n",
    "    print('roc_auc_score',roc_auc)\n",
    "    rocscore.append(roc_auc)\n",
    "    print(\"\\n\")\n",
    "    plt.figure(figsize=(10,40))\n",
    "    plt.subplot(911)\n",
    "    print(sns.heatmap(cm,annot=True))\n",
    "    plt.subplot(912)\n",
    "    plt.title(i)\n",
    "    plt.plot(false_positive_rate,true_positive_rate,label='AUC = %0.2f'%roc_auc)\n",
    "    plt.plot([0,1],[0,1],'r--')\n",
    "    plt.legend(loc='lower right')\n",
    "    plt.ylabel('True Positive Rate')\n",
    "    plt.xlabel('False Positive Rate')\n",
    "    print(\"\\n\")\n",
    "    print(\"\\n\")"
   ]
  },
  {
   "cell_type": "code",
   "execution_count": 209,
   "metadata": {},
   "outputs": [
    {
     "data": {
      "text/html": [
       "<div>\n",
       "<style scoped>\n",
       "    .dataframe tbody tr th:only-of-type {\n",
       "        vertical-align: middle;\n",
       "    }\n",
       "\n",
       "    .dataframe tbody tr th {\n",
       "        vertical-align: top;\n",
       "    }\n",
       "\n",
       "    .dataframe thead th {\n",
       "        text-align: right;\n",
       "    }\n",
       "</style>\n",
       "<table border=\"1\" class=\"dataframe\">\n",
       "  <thead>\n",
       "    <tr style=\"text-align: right;\">\n",
       "      <th></th>\n",
       "      <th>Model</th>\n",
       "      <th>Accuracy_Score</th>\n",
       "      <th>Cross_val_score</th>\n",
       "      <th>AUC_ROC</th>\n",
       "    </tr>\n",
       "  </thead>\n",
       "  <tbody>\n",
       "    <tr>\n",
       "      <td>0</td>\n",
       "      <td>&lt;class 'sklearn.linear_model.logistic.Logistic...</td>\n",
       "      <td>0.853659</td>\n",
       "      <td>0.828755</td>\n",
       "      <td>0.671339</td>\n",
       "    </tr>\n",
       "    <tr>\n",
       "      <td>1</td>\n",
       "      <td>&lt;class 'sklearn.neighbors.classification.KNeig...</td>\n",
       "      <td>0.850333</td>\n",
       "      <td>0.834523</td>\n",
       "      <td>0.692339</td>\n",
       "    </tr>\n",
       "    <tr>\n",
       "      <td>2</td>\n",
       "      <td>&lt;class 'sklearn.tree.tree.DecisionTreeClassifi...</td>\n",
       "      <td>0.781596</td>\n",
       "      <td>0.784388</td>\n",
       "      <td>0.663622</td>\n",
       "    </tr>\n",
       "    <tr>\n",
       "      <td>3</td>\n",
       "      <td>&lt;class 'sklearn.svm.classes.SVC'&gt;</td>\n",
       "      <td>0.862528</td>\n",
       "      <td>0.831417</td>\n",
       "      <td>0.661355</td>\n",
       "    </tr>\n",
       "    <tr>\n",
       "      <td>4</td>\n",
       "      <td>&lt;class 'sklearn.naive_bayes.GaussianNB'&gt;</td>\n",
       "      <td>0.771619</td>\n",
       "      <td>0.777954</td>\n",
       "      <td>0.736848</td>\n",
       "    </tr>\n",
       "  </tbody>\n",
       "</table>\n",
       "</div>"
      ],
      "text/plain": [
       "                                               Model  Accuracy_Score  \\\n",
       "0  <class 'sklearn.linear_model.logistic.Logistic...        0.853659   \n",
       "1  <class 'sklearn.neighbors.classification.KNeig...        0.850333   \n",
       "2  <class 'sklearn.tree.tree.DecisionTreeClassifi...        0.781596   \n",
       "3                  <class 'sklearn.svm.classes.SVC'>        0.862528   \n",
       "4           <class 'sklearn.naive_bayes.GaussianNB'>        0.771619   \n",
       "\n",
       "   Cross_val_score   AUC_ROC  \n",
       "0         0.828755  0.671339  \n",
       "1         0.834523  0.692339  \n",
       "2         0.784388  0.663622  \n",
       "3         0.831417  0.661355  \n",
       "4         0.777954  0.736848  "
      ]
     },
     "execution_count": 209,
     "metadata": {},
     "output_type": "execute_result"
    }
   ],
   "source": [
    "result=pd.DataFrame({'Model':[LogisticRegression,KNeighborsClassifier, DecisionTreeClassifier, SVC,GaussianNB],'Accuracy_Score':score,'Cross_val_score':cv, 'AUC_ROC':rocscore})\n",
    "result"
   ]
  },
  {
   "cell_type": "code",
   "execution_count": 210,
   "metadata": {},
   "outputs": [
    {
     "data": {
      "text/plain": [
       "{'n_estimators': 100}"
      ]
     },
     "execution_count": 210,
     "metadata": {},
     "output_type": "execute_result"
    }
   ],
   "source": [
    "# Let us try to boost the model to get more accuracy score\n",
    "from sklearn.ensemble import RandomForestClassifier\n",
    "rf=RandomForestClassifier()\n",
    "parameters={'n_estimators':(10,50,100,200,500)}\n",
    "gdrf=GridSearchCV(rf,parameters)\n",
    "gdrf.fit(train_x,train_y)\n",
    "gdrf.best_params_"
   ]
  },
  {
   "cell_type": "code",
   "execution_count": 211,
   "metadata": {},
   "outputs": [
    {
     "name": "stdout",
     "output_type": "stream",
     "text": [
      "The accuracy score achieved at r state 42 is 0.8270509977827051\n",
      "The accuracy score achieved at r state 43 is 0.8481152993348116\n",
      "The accuracy score achieved at r state 44 is 0.835920177383592\n",
      "The accuracy score achieved at r state 45 is 0.843680709534368\n",
      "The accuracy score achieved at r state 46 is 0.8514412416851441\n",
      "The accuracy score achieved at r state 47 is 0.8392461197339246\n",
      "The accuracy score achieved at r state 48 is 0.8370288248337029\n",
      "The accuracy score achieved at r state 49 is 0.8481152993348116\n",
      "The accuracy score achieved at r state 50 is 0.8170731707317073\n",
      "The accuracy score achieved at r state 51 is 0.8314855875831486\n",
      "The accuracy score achieved at r state 52 is 0.8292682926829268\n",
      "The accuracy score achieved at r state 53 is 0.8458980044345898\n",
      "The accuracy score achieved at r state 54 is 0.8536585365853658\n",
      "The accuracy score achieved at r state 55 is 0.8248337028824834\n",
      "The accuracy score achieved at r state 56 is 0.8292682926829268\n",
      "The accuracy score achieved at r state 57 is 0.8314855875831486\n",
      "The accuracy score achieved at r state 58 is 0.8292682926829268\n",
      "The accuracy score achieved at r state 59 is 0.8503325942350333\n",
      "The accuracy score achieved at r state 60 is 0.8414634146341463\n",
      "The accuracy score achieved at r state 61 is 0.8370288248337029\n",
      "The accuracy score achieved at r state 62 is 0.8348115299334812\n",
      "The accuracy score achieved at r state 63 is 0.8392461197339246\n",
      "The accuracy score achieved at r state 64 is 0.8259423503325942\n",
      "The accuracy score achieved at r state 65 is 0.8192904656319291\n",
      "The accuracy score achieved at r state 66 is 0.8636363636363636\n",
      "The accuracy score achieved at r state 67 is 0.8569844789356984\n",
      "The accuracy score achieved at r state 68 is 0.8425720620842572\n",
      "The accuracy score achieved at r state 69 is 0.8669623059866962\n",
      "The accuracy score achieved at r state 70 is 0.8458980044345898\n",
      "The accuracy score achieved at r state 71 is 0.8458980044345898\n",
      "The accuracy score achieved at r state 72 is 0.8481152993348116\n",
      "The accuracy score achieved at r state 73 is 0.8348115299334812\n",
      "The accuracy score achieved at r state 74 is 0.8348115299334812\n",
      "The accuracy score achieved at r state 75 is 0.8558758314855875\n",
      "The accuracy score achieved at r state 76 is 0.843680709534368\n",
      "The accuracy score achieved at r state 77 is 0.8547671840354767\n",
      "The accuracy score achieved at r state 78 is 0.8215077605321508\n",
      "The accuracy score achieved at r state 79 is 0.8314855875831486\n",
      "The accuracy score achieved at r state 80 is 0.8547671840354767\n",
      "The accuracy score achieved at r state 81 is 0.8403547671840355\n",
      "The accuracy score achieved at r state 82 is 0.8348115299334812\n",
      "The accuracy score achieved at r state 83 is 0.8215077605321508\n",
      "The accuracy score achieved at r state 84 is 0.8647450110864745\n",
      "The accuracy score achieved at r state 85 is 0.8337028824833703\n",
      "The accuracy score achieved at r state 86 is 0.843680709534368\n",
      "The accuracy score achieved at r state 87 is 0.844789356984479\n",
      "The accuracy score achieved at r state 88 is 0.8392461197339246\n",
      "The accuracy score achieved at r state 89 is 0.8470066518847007\n",
      "The accuracy score achieved at r state 90 is 0.844789356984479\n",
      "The accuracy score achieved at r state 91 is 0.843680709534368\n",
      "The accuracy score achieved at r state 92 is 0.8470066518847007\n",
      "The accuracy score achieved at r state 93 is 0.852549889135255\n",
      "The accuracy score achieved at r state 94 is 0.844789356984479\n",
      "The accuracy score achieved at r state 95 is 0.8536585365853658\n",
      "The accuracy score achieved at r state 96 is 0.835920177383592\n",
      "The accuracy score achieved at r state 97 is 0.8392461197339246\n",
      "The accuracy score achieved at r state 98 is 0.8536585365853658\n",
      "The accuracy score achieved at r state 99 is 0.8226164079822617\n",
      "The accuracy score achieved at r state 100 is 0.8059866962305987\n",
      "The maximum accuracy 0.8669623059866962 is achieved at random state 69\n"
     ]
    },
    {
     "data": {
      "text/plain": [
       "0.8669623059866962"
      ]
     },
     "execution_count": 211,
     "metadata": {},
     "output_type": "execute_result"
    }
   ],
   "source": [
    "#checking the best accuracy score and random state for RandomForestClassifier\n",
    "rf=RandomForestClassifier(n_estimators=100)\n",
    "max_accuracy(rf,x,y)"
   ]
  },
  {
   "cell_type": "code",
   "execution_count": 212,
   "metadata": {},
   "outputs": [
    {
     "name": "stdout",
     "output_type": "stream",
     "text": [
      "The cross val score of Random forest classifier is 0.8391825455232661\n"
     ]
    }
   ],
   "source": [
    "#checking the cross val score\n",
    "cs=cross_val_score(rf,x,y,cv=5,scoring='accuracy').mean()\n",
    "print(\"The cross val score of Random forest classifier is\", cs)"
   ]
  },
  {
   "cell_type": "code",
   "execution_count": 213,
   "metadata": {},
   "outputs": [
    {
     "data": {
      "text/plain": [
       "{'criterion': 'friedman_mse', 'learning_rate': 0.1, 'n_estimators': 100}"
      ]
     },
     "execution_count": 213,
     "metadata": {},
     "output_type": "execute_result"
    }
   ],
   "source": [
    "from sklearn.ensemble import GradientBoostingClassifier\n",
    "gc=GradientBoostingClassifier()\n",
    "parameters={'learning_rate':(0.001,0.01,0.1,1),'n_estimators':(50,100,200,500),'criterion':('friedman_mse', 'mse', 'mae')}\n",
    "gd=GridSearchCV(gc,parameters)\n",
    "gd.fit(train_x,train_y)\n",
    "gd.best_params_"
   ]
  },
  {
   "cell_type": "code",
   "execution_count": 214,
   "metadata": {},
   "outputs": [
    {
     "name": "stdout",
     "output_type": "stream",
     "text": [
      "The accuracy score achieved at r state 42 is 0.8569844789356984\n",
      "The accuracy score achieved at r state 43 is 0.8669623059866962\n",
      "The accuracy score achieved at r state 44 is 0.8614190687361419\n",
      "The accuracy score achieved at r state 45 is 0.8481152993348116\n",
      "The accuracy score achieved at r state 46 is 0.8636363636363636\n",
      "The accuracy score achieved at r state 47 is 0.8625277161862528\n",
      "The accuracy score achieved at r state 48 is 0.8558758314855875\n",
      "The accuracy score achieved at r state 49 is 0.8558758314855875\n",
      "The accuracy score achieved at r state 50 is 0.8403547671840355\n",
      "The accuracy score achieved at r state 51 is 0.8547671840354767\n",
      "The accuracy score achieved at r state 52 is 0.8414634146341463\n",
      "The accuracy score achieved at r state 53 is 0.8547671840354767\n",
      "The accuracy score achieved at r state 54 is 0.8614190687361419\n",
      "The accuracy score achieved at r state 55 is 0.8458980044345898\n",
      "The accuracy score achieved at r state 56 is 0.8514412416851441\n",
      "The accuracy score achieved at r state 57 is 0.8414634146341463\n",
      "The accuracy score achieved at r state 58 is 0.8503325942350333\n",
      "The accuracy score achieved at r state 59 is 0.8636363636363636\n",
      "The accuracy score achieved at r state 60 is 0.852549889135255\n",
      "The accuracy score achieved at r state 61 is 0.8492239467849224\n",
      "The accuracy score achieved at r state 62 is 0.852549889135255\n",
      "The accuracy score achieved at r state 63 is 0.8558758314855875\n",
      "The accuracy score achieved at r state 64 is 0.843680709534368\n",
      "The accuracy score achieved at r state 65 is 0.8348115299334812\n",
      "The accuracy score achieved at r state 66 is 0.8736141906873615\n",
      "The accuracy score achieved at r state 67 is 0.8636363636363636\n",
      "The accuracy score achieved at r state 68 is 0.8458980044345898\n",
      "The accuracy score achieved at r state 69 is 0.8736141906873615\n",
      "The accuracy score achieved at r state 70 is 0.8647450110864745\n",
      "The accuracy score achieved at r state 71 is 0.8636363636363636\n",
      "The accuracy score achieved at r state 72 is 0.8625277161862528\n",
      "The accuracy score achieved at r state 73 is 0.8403547671840355\n",
      "The accuracy score achieved at r state 74 is 0.8492239467849224\n",
      "The accuracy score achieved at r state 75 is 0.8702882483370288\n",
      "The accuracy score achieved at r state 76 is 0.8492239467849224\n",
      "The accuracy score achieved at r state 77 is 0.8680709534368071\n",
      "The accuracy score achieved at r state 78 is 0.8292682926829268\n",
      "The accuracy score achieved at r state 79 is 0.8303769401330376\n",
      "The accuracy score achieved at r state 80 is 0.8614190687361419\n",
      "The accuracy score achieved at r state 81 is 0.8514412416851441\n",
      "The accuracy score achieved at r state 82 is 0.8348115299334812\n",
      "The accuracy score achieved at r state 83 is 0.8470066518847007\n",
      "The accuracy score achieved at r state 84 is 0.8702882483370288\n",
      "The accuracy score achieved at r state 85 is 0.8492239467849224\n",
      "The accuracy score achieved at r state 86 is 0.852549889135255\n",
      "The accuracy score achieved at r state 87 is 0.8492239467849224\n",
      "The accuracy score achieved at r state 88 is 0.8458980044345898\n",
      "The accuracy score achieved at r state 89 is 0.8536585365853658\n",
      "The accuracy score achieved at r state 90 is 0.8780487804878049\n",
      "The accuracy score achieved at r state 91 is 0.843680709534368\n",
      "The accuracy score achieved at r state 92 is 0.8536585365853658\n",
      "The accuracy score achieved at r state 93 is 0.8647450110864745\n",
      "The accuracy score achieved at r state 94 is 0.8603104212860311\n",
      "The accuracy score achieved at r state 95 is 0.8658536585365854\n",
      "The accuracy score achieved at r state 96 is 0.8514412416851441\n",
      "The accuracy score achieved at r state 97 is 0.8547671840354767\n",
      "The accuracy score achieved at r state 98 is 0.8691796008869179\n",
      "The accuracy score achieved at r state 99 is 0.8414634146341463\n",
      "The accuracy score achieved at r state 100 is 0.8215077605321508\n",
      "The maximum accuracy 0.8780487804878049 is achieved at random state 90\n"
     ]
    },
    {
     "data": {
      "text/plain": [
       "0.8780487804878049"
      ]
     },
     "execution_count": 214,
     "metadata": {},
     "output_type": "execute_result"
    }
   ],
   "source": [
    "#checking the best accuracy score and random state for RandomForestClassifier\n",
    "gc=GradientBoostingClassifier(criterion='friedman_mse', learning_rate= 0.1, n_estimators= 100)\n",
    "max_accuracy(gc,x,y)"
   ]
  },
  {
   "cell_type": "code",
   "execution_count": 215,
   "metadata": {},
   "outputs": [
    {
     "name": "stdout",
     "output_type": "stream",
     "text": [
      "The cross val score of GradientBoosting classifier is 0.8513789044784732\n"
     ]
    }
   ],
   "source": [
    "#checking the cross val score\n",
    "cs=cross_val_score(gc,x,y,cv=5,scoring='accuracy').mean()\n",
    "print(\"The cross val score of GradientBoosting classifier is\", cs)"
   ]
  },
  {
   "cell_type": "code",
   "execution_count": 216,
   "metadata": {},
   "outputs": [
    {
     "data": {
      "text/plain": [
       "{'algorithm': 'SAMME.R', 'learning_rate': 1, 'n_estimators': 200}"
      ]
     },
     "execution_count": 216,
     "metadata": {},
     "output_type": "execute_result"
    }
   ],
   "source": [
    "from sklearn.ensemble import AdaBoostClassifier\n",
    "ad=AdaBoostClassifier()\n",
    "parameters={'learning_rate':(0.001,0.01,0.1,1),'n_estimators':(50,100,200,500),'algorithm':('SAMME', 'SAMME.R')}\n",
    "gd=GridSearchCV(ad,parameters)\n",
    "gd.fit(train_x,train_y)\n",
    "gd.best_params_"
   ]
  },
  {
   "cell_type": "code",
   "execution_count": 217,
   "metadata": {},
   "outputs": [
    {
     "name": "stdout",
     "output_type": "stream",
     "text": [
      "The accuracy score achieved at r state 42 is 0.8503325942350333\n",
      "The accuracy score achieved at r state 43 is 0.8658536585365854\n",
      "The accuracy score achieved at r state 44 is 0.8592017738359202\n",
      "The accuracy score achieved at r state 45 is 0.852549889135255\n",
      "The accuracy score achieved at r state 46 is 0.8614190687361419\n",
      "The accuracy score achieved at r state 47 is 0.8592017738359202\n",
      "The accuracy score achieved at r state 48 is 0.8503325942350333\n",
      "The accuracy score achieved at r state 49 is 0.8514412416851441\n",
      "The accuracy score achieved at r state 50 is 0.8403547671840355\n",
      "The accuracy score achieved at r state 51 is 0.852549889135255\n",
      "The accuracy score achieved at r state 52 is 0.8470066518847007\n",
      "The accuracy score achieved at r state 53 is 0.8558758314855875\n",
      "The accuracy score achieved at r state 54 is 0.8636363636363636\n",
      "The accuracy score achieved at r state 55 is 0.8458980044345898\n",
      "The accuracy score achieved at r state 56 is 0.8536585365853658\n",
      "The accuracy score achieved at r state 57 is 0.844789356984479\n",
      "The accuracy score achieved at r state 58 is 0.8536585365853658\n",
      "The accuracy score achieved at r state 59 is 0.8636363636363636\n",
      "The accuracy score achieved at r state 60 is 0.844789356984479\n",
      "The accuracy score achieved at r state 61 is 0.8414634146341463\n",
      "The accuracy score achieved at r state 62 is 0.8503325942350333\n",
      "The accuracy score achieved at r state 63 is 0.8514412416851441\n",
      "The accuracy score achieved at r state 64 is 0.8547671840354767\n",
      "The accuracy score achieved at r state 65 is 0.8337028824833703\n",
      "The accuracy score achieved at r state 66 is 0.8725055432372506\n",
      "The accuracy score achieved at r state 67 is 0.8647450110864745\n",
      "The accuracy score achieved at r state 68 is 0.8614190687361419\n",
      "The accuracy score achieved at r state 69 is 0.8713968957871396\n",
      "The accuracy score achieved at r state 70 is 0.8614190687361419\n",
      "The accuracy score achieved at r state 71 is 0.8569844789356984\n",
      "The accuracy score achieved at r state 72 is 0.8658536585365854\n",
      "The accuracy score achieved at r state 73 is 0.844789356984479\n",
      "The accuracy score achieved at r state 74 is 0.8470066518847007\n",
      "The accuracy score achieved at r state 75 is 0.8680709534368071\n",
      "The accuracy score achieved at r state 76 is 0.8558758314855875\n",
      "The accuracy score achieved at r state 77 is 0.8713968957871396\n",
      "The accuracy score achieved at r state 78 is 0.8325942350332595\n",
      "The accuracy score achieved at r state 79 is 0.8392461197339246\n",
      "The accuracy score achieved at r state 80 is 0.8680709534368071\n",
      "The accuracy score achieved at r state 81 is 0.8569844789356984\n",
      "The accuracy score achieved at r state 82 is 0.8381374722838137\n",
      "The accuracy score achieved at r state 83 is 0.844789356984479\n",
      "The accuracy score achieved at r state 84 is 0.8636363636363636\n",
      "The accuracy score achieved at r state 85 is 0.8425720620842572\n",
      "The accuracy score achieved at r state 86 is 0.8592017738359202\n",
      "The accuracy score achieved at r state 87 is 0.8392461197339246\n",
      "The accuracy score achieved at r state 88 is 0.8481152993348116\n",
      "The accuracy score achieved at r state 89 is 0.8614190687361419\n",
      "The accuracy score achieved at r state 90 is 0.8747228381374723\n",
      "The accuracy score achieved at r state 91 is 0.8503325942350333\n",
      "The accuracy score achieved at r state 92 is 0.8580931263858093\n",
      "The accuracy score achieved at r state 93 is 0.8669623059866962\n",
      "The accuracy score achieved at r state 94 is 0.8691796008869179\n",
      "The accuracy score achieved at r state 95 is 0.8680709534368071\n",
      "The accuracy score achieved at r state 96 is 0.8514412416851441\n",
      "The accuracy score achieved at r state 97 is 0.8470066518847007\n",
      "The accuracy score achieved at r state 98 is 0.8702882483370288\n",
      "The accuracy score achieved at r state 99 is 0.8325942350332595\n",
      "The accuracy score achieved at r state 100 is 0.8392461197339246\n",
      "The maximum accuracy 0.8747228381374723 is achieved at random state 90\n"
     ]
    },
    {
     "data": {
      "text/plain": [
       "0.8747228381374723"
      ]
     },
     "execution_count": 217,
     "metadata": {},
     "output_type": "execute_result"
    }
   ],
   "source": [
    "#checking the best accuracy score and random state for AdaBoostClassifier\n",
    "gc=AdaBoostClassifier(algorithm= 'SAMME.R', learning_rate= 1, n_estimators= 200)\n",
    "max_accuracy(gc,x,y)"
   ]
  },
  {
   "cell_type": "code",
   "execution_count": 218,
   "metadata": {},
   "outputs": [
    {
     "name": "stdout",
     "output_type": "stream",
     "text": [
      "The cross val score of AdaBoost classifier is 0.851602601074638\n"
     ]
    }
   ],
   "source": [
    "#checking the cross val score\n",
    "cs=cross_val_score(ad,x,y,cv=5,scoring='accuracy').mean()\n",
    "print(\"The cross val score of AdaBoost classifier is\", cs)"
   ]
  },
  {
   "cell_type": "code",
   "execution_count": 221,
   "metadata": {},
   "outputs": [
    {
     "data": {
      "text/html": [
       "<div>\n",
       "<style scoped>\n",
       "    .dataframe tbody tr th:only-of-type {\n",
       "        vertical-align: middle;\n",
       "    }\n",
       "\n",
       "    .dataframe tbody tr th {\n",
       "        vertical-align: top;\n",
       "    }\n",
       "\n",
       "    .dataframe thead th {\n",
       "        text-align: right;\n",
       "    }\n",
       "</style>\n",
       "<table border=\"1\" class=\"dataframe\">\n",
       "  <thead>\n",
       "    <tr style=\"text-align: right;\">\n",
       "      <th></th>\n",
       "      <th>Boosters</th>\n",
       "      <th>Accuracy Score</th>\n",
       "      <th>Cross_val_score</th>\n",
       "    </tr>\n",
       "  </thead>\n",
       "  <tbody>\n",
       "    <tr>\n",
       "      <td>0</td>\n",
       "      <td>RandomForestClassifier</td>\n",
       "      <td>0.867</td>\n",
       "      <td>0.84</td>\n",
       "    </tr>\n",
       "    <tr>\n",
       "      <td>1</td>\n",
       "      <td>GradientBoostClassifier</td>\n",
       "      <td>0.878</td>\n",
       "      <td>0.85</td>\n",
       "    </tr>\n",
       "    <tr>\n",
       "      <td>2</td>\n",
       "      <td>AdaBoostRegressor</td>\n",
       "      <td>0.874</td>\n",
       "      <td>0.85</td>\n",
       "    </tr>\n",
       "  </tbody>\n",
       "</table>\n",
       "</div>"
      ],
      "text/plain": [
       "                  Boosters  Accuracy Score  Cross_val_score\n",
       "0   RandomForestClassifier           0.867             0.84\n",
       "1  GradientBoostClassifier           0.878             0.85\n",
       "2        AdaBoostRegressor           0.874             0.85"
      ]
     },
     "execution_count": 221,
     "metadata": {},
     "output_type": "execute_result"
    }
   ],
   "source": [
    "result2=pd.DataFrame({'Boosters':['RandomForestClassifier','GradientBoostClassifier','AdaBoostRegressor'],'Accuracy Score':[0.867,0.878,0.874],'Cross_val_score':[0.84,0.85,0.85]})\n",
    "result2"
   ]
  },
  {
   "cell_type": "code",
   "execution_count": 220,
   "metadata": {},
   "outputs": [
    {
     "data": {
      "text/html": [
       "<div>\n",
       "<style scoped>\n",
       "    .dataframe tbody tr th:only-of-type {\n",
       "        vertical-align: middle;\n",
       "    }\n",
       "\n",
       "    .dataframe tbody tr th {\n",
       "        vertical-align: top;\n",
       "    }\n",
       "\n",
       "    .dataframe thead th {\n",
       "        text-align: right;\n",
       "    }\n",
       "</style>\n",
       "<table border=\"1\" class=\"dataframe\">\n",
       "  <thead>\n",
       "    <tr style=\"text-align: right;\">\n",
       "      <th></th>\n",
       "      <th>Model</th>\n",
       "      <th>Accuracy_Score</th>\n",
       "      <th>Cross_val_score</th>\n",
       "      <th>AUC_ROC</th>\n",
       "    </tr>\n",
       "  </thead>\n",
       "  <tbody>\n",
       "    <tr>\n",
       "      <td>0</td>\n",
       "      <td>&lt;class 'sklearn.linear_model.logistic.Logistic...</td>\n",
       "      <td>0.853659</td>\n",
       "      <td>0.828755</td>\n",
       "      <td>0.671339</td>\n",
       "    </tr>\n",
       "    <tr>\n",
       "      <td>1</td>\n",
       "      <td>&lt;class 'sklearn.neighbors.classification.KNeig...</td>\n",
       "      <td>0.850333</td>\n",
       "      <td>0.834523</td>\n",
       "      <td>0.692339</td>\n",
       "    </tr>\n",
       "    <tr>\n",
       "      <td>2</td>\n",
       "      <td>&lt;class 'sklearn.tree.tree.DecisionTreeClassifi...</td>\n",
       "      <td>0.781596</td>\n",
       "      <td>0.784388</td>\n",
       "      <td>0.663622</td>\n",
       "    </tr>\n",
       "    <tr>\n",
       "      <td>3</td>\n",
       "      <td>&lt;class 'sklearn.svm.classes.SVC'&gt;</td>\n",
       "      <td>0.862528</td>\n",
       "      <td>0.831417</td>\n",
       "      <td>0.661355</td>\n",
       "    </tr>\n",
       "    <tr>\n",
       "      <td>4</td>\n",
       "      <td>&lt;class 'sklearn.naive_bayes.GaussianNB'&gt;</td>\n",
       "      <td>0.771619</td>\n",
       "      <td>0.777954</td>\n",
       "      <td>0.736848</td>\n",
       "    </tr>\n",
       "  </tbody>\n",
       "</table>\n",
       "</div>"
      ],
      "text/plain": [
       "                                               Model  Accuracy_Score  \\\n",
       "0  <class 'sklearn.linear_model.logistic.Logistic...        0.853659   \n",
       "1  <class 'sklearn.neighbors.classification.KNeig...        0.850333   \n",
       "2  <class 'sklearn.tree.tree.DecisionTreeClassifi...        0.781596   \n",
       "3                  <class 'sklearn.svm.classes.SVC'>        0.862528   \n",
       "4           <class 'sklearn.naive_bayes.GaussianNB'>        0.771619   \n",
       "\n",
       "   Cross_val_score   AUC_ROC  \n",
       "0         0.828755  0.671339  \n",
       "1         0.834523  0.692339  \n",
       "2         0.784388  0.663622  \n",
       "3         0.831417  0.661355  \n",
       "4         0.777954  0.736848  "
      ]
     },
     "execution_count": 220,
     "metadata": {},
     "output_type": "execute_result"
    }
   ],
   "source": [
    "result"
   ]
  },
  {
   "cell_type": "markdown",
   "metadata": {},
   "source": [
    "By comparing the results, we can conclude that GradientBoostingClassifier is giving better results wrt Accuracy score and cross val score. Let us finalise the same."
   ]
  },
  {
   "cell_type": "code",
   "execution_count": 225,
   "metadata": {},
   "outputs": [
    {
     "name": "stdout",
     "output_type": "stream",
     "text": [
      "The accuracy score is 0.8780487804878049\n",
      "The cross val score is 0.8513791505711368\n"
     ]
    }
   ],
   "source": [
    "train_x,test_x,train_y,test_y=train_test_split(x,y,random_state=90,test_size=0.20)\n",
    "gc=GradientBoostingClassifier(criterion='friedman_mse', learning_rate= 0.1, n_estimators= 100)\n",
    "gc.fit(train_x,train_y)\n",
    "pred=gc.predict(test_x)\n",
    "acs=accuracy_score(test_y,pred)\n",
    "print(\"The accuracy score is\", acs)\n",
    "cs=cross_val_score(gc,x,y,cv=5).mean()\n",
    "print(\"The cross val score is\", cs)\n",
    "predxls=pd.DataFrame(pred).to_csv(\"prediction.csv\")"
   ]
  },
  {
   "cell_type": "markdown",
   "metadata": {},
   "source": [
    "#### Saving the model"
   ]
  },
  {
   "cell_type": "code",
   "execution_count": 226,
   "metadata": {},
   "outputs": [
    {
     "data": {
      "text/plain": [
       "['Census.pkl']"
      ]
     },
     "execution_count": 226,
     "metadata": {},
     "output_type": "execute_result"
    }
   ],
   "source": [
    "from sklearn.externals import joblib\n",
    "joblib.dump(gc,\"Census.pkl\")"
   ]
  },
  {
   "cell_type": "code",
   "execution_count": null,
   "metadata": {},
   "outputs": [],
   "source": []
  }
 ],
 "metadata": {
  "kernelspec": {
   "display_name": "Python 3",
   "language": "python",
   "name": "python3"
  },
  "language_info": {
   "codemirror_mode": {
    "name": "ipython",
    "version": 3
   },
   "file_extension": ".py",
   "mimetype": "text/x-python",
   "name": "python",
   "nbconvert_exporter": "python",
   "pygments_lexer": "ipython3",
   "version": "3.7.4"
  }
 },
 "nbformat": 4,
 "nbformat_minor": 2
}
