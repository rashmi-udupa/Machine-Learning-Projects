{
 "cells": [
  {
   "cell_type": "markdown",
   "metadata": {},
   "source": [
    "Summary\n",
    "The data consists of 10,000 observations of space taken by the SDSS. Every observation is described by 17 feature columns and 1 class column which identifies it to be either a star, galaxy or quasar.\n",
    "\n",
    "Feature Description\n",
    "The table results from a query which joins two tables (actuaclly views): \"PhotoObj\" which contains photometric data and \"SpecObj\" which contains spectral data.\n",
    "\n",
    "To ease your start with the data you can read the feature descriptions below:\n",
    "\n",
    "View \"PhotoObj\"\n",
    "objid = Object Identifier\n",
    "ra = J2000 Right Ascension (r-band)\n",
    "dec = J2000 Declination (r-band)\n",
    "\n",
    "Right ascension (abbreviated RA) is the angular distance measured eastward along the celestial equator from the Sun at the March equinox to the hour circle of the point above the earth in question. When paired with declination (abbreviated dec), these astronomical coordinates specify the direction of a point on the celestial sphere (traditionally called in English the skies or the sky) in the equatorial coordinate system.\n",
    "\n",
    "u = better of DeV/Exp magnitude fit\n",
    "g = better of DeV/Exp magnitude fit\n",
    "r = better of DeV/Exp magnitude fit\n",
    "i = better of DeV/Exp magnitude fit\n",
    "z = better of DeV/Exp magnitude fit\n",
    "The Thuan-Gunn astronomic magnitude system. u, g, r, i, z represent the response of the 5 bands of the telescope.\n",
    "\n",
    "run = Run Number\n",
    "rereun = Rerun Number\n",
    "camcol = Camera column\n",
    "field = Field number\n",
    "Run, rerun, camcol and field are features which describe a field within an image taken by the SDSS. A field is basically a part of the entire image corresponding to 2048 by 1489 pixels. A field can be identified by:\n",
    "\n",
    "run number, which identifies the specific scan,\n",
    "the camera column, or \"camcol,\" a number from 1 to 6, identifying the scanline within the run, and\n",
    "the field number. The field number typically starts at 11 (after an initial rampup time), and can be as large as 800 for particularly long runs.\n",
    "An additional number, rerun, specifies how the image was processed.\n",
    "View \"SpecObj\"\n",
    "specobjid = Object Identifier\n",
    "class = object class (galaxy, star or quasar object)\n",
    "The class identifies an object to be either a galaxy, star or quasar. This will be the response variable which we will be trying to predict.\n",
    "\n",
    "redshift = Final Redshift\n",
    "plate = plate number\n",
    "mjd = MJD of observation\n",
    "fiberid = fiber ID\n",
    "In physics, redshift happens when light or other electromagnetic radiation from an object is increased in wavelength, or shifted to the red end of the spectrum.\n",
    "\n",
    "Each spectroscopic exposure employs a large, thin, circular metal plate that positions optical fibers via holes drilled at the locations of the images in the telescope focal plane. These fibers then feed into the spectrographs. Each plate has a unique serial number, which is called plate in views such as SpecObj in the CAS.\n",
    "\n",
    "Modified Julian Date, used to indicate the date that a given piece of SDSS data (image or spectrum) was taken.\n",
    "\n",
    "The SDSS spectrograph uses optical fibers to direct the light at the focal plane from individual objects to the slithead. Each object is assigned a corresponding fiberID.\n",
    "\n"
   ]
  },
  {
   "cell_type": "code",
   "execution_count": 1,
   "metadata": {},
   "outputs": [],
   "source": [
    "#import necessary libraries\n",
    "import pandas as pd\n",
    "import numpy as np\n",
    "import matplotlib.pyplot as plt\n",
    "import seaborn as sns\n",
    "import warnings\n",
    "warnings.filterwarnings('ignore')"
   ]
  },
  {
   "cell_type": "code",
   "execution_count": 14,
   "metadata": {},
   "outputs": [
    {
     "data": {
      "text/html": [
       "<div>\n",
       "<style scoped>\n",
       "    .dataframe tbody tr th:only-of-type {\n",
       "        vertical-align: middle;\n",
       "    }\n",
       "\n",
       "    .dataframe tbody tr th {\n",
       "        vertical-align: top;\n",
       "    }\n",
       "\n",
       "    .dataframe thead th {\n",
       "        text-align: right;\n",
       "    }\n",
       "</style>\n",
       "<table border=\"1\" class=\"dataframe\">\n",
       "  <thead>\n",
       "    <tr style=\"text-align: right;\">\n",
       "      <th></th>\n",
       "      <th>objid</th>\n",
       "      <th>ra</th>\n",
       "      <th>dec</th>\n",
       "      <th>u</th>\n",
       "      <th>g</th>\n",
       "      <th>r</th>\n",
       "      <th>i</th>\n",
       "      <th>z</th>\n",
       "      <th>run</th>\n",
       "      <th>rerun</th>\n",
       "      <th>camcol</th>\n",
       "      <th>field</th>\n",
       "      <th>specobjid</th>\n",
       "      <th>class</th>\n",
       "      <th>redshift</th>\n",
       "      <th>plate</th>\n",
       "      <th>mjd</th>\n",
       "      <th>fiberid</th>\n",
       "    </tr>\n",
       "  </thead>\n",
       "  <tbody>\n",
       "    <tr>\n",
       "      <td>0</td>\n",
       "      <td>1.237650e+18</td>\n",
       "      <td>183.531326</td>\n",
       "      <td>0.089693</td>\n",
       "      <td>19.47406</td>\n",
       "      <td>17.04240</td>\n",
       "      <td>15.94699</td>\n",
       "      <td>15.50342</td>\n",
       "      <td>15.22531</td>\n",
       "      <td>752</td>\n",
       "      <td>301</td>\n",
       "      <td>4</td>\n",
       "      <td>267</td>\n",
       "      <td>3.722360e+18</td>\n",
       "      <td>STAR</td>\n",
       "      <td>-0.000009</td>\n",
       "      <td>3306</td>\n",
       "      <td>54922</td>\n",
       "      <td>491</td>\n",
       "    </tr>\n",
       "    <tr>\n",
       "      <td>1</td>\n",
       "      <td>1.237650e+18</td>\n",
       "      <td>183.598371</td>\n",
       "      <td>0.135285</td>\n",
       "      <td>18.66280</td>\n",
       "      <td>17.21449</td>\n",
       "      <td>16.67637</td>\n",
       "      <td>16.48922</td>\n",
       "      <td>16.39150</td>\n",
       "      <td>752</td>\n",
       "      <td>301</td>\n",
       "      <td>4</td>\n",
       "      <td>267</td>\n",
       "      <td>3.638140e+17</td>\n",
       "      <td>STAR</td>\n",
       "      <td>-0.000055</td>\n",
       "      <td>323</td>\n",
       "      <td>51615</td>\n",
       "      <td>541</td>\n",
       "    </tr>\n",
       "    <tr>\n",
       "      <td>2</td>\n",
       "      <td>1.237650e+18</td>\n",
       "      <td>183.680207</td>\n",
       "      <td>0.126185</td>\n",
       "      <td>19.38298</td>\n",
       "      <td>18.19169</td>\n",
       "      <td>17.47428</td>\n",
       "      <td>17.08732</td>\n",
       "      <td>16.80125</td>\n",
       "      <td>752</td>\n",
       "      <td>301</td>\n",
       "      <td>4</td>\n",
       "      <td>268</td>\n",
       "      <td>3.232740e+17</td>\n",
       "      <td>GALAXY</td>\n",
       "      <td>0.123111</td>\n",
       "      <td>287</td>\n",
       "      <td>52023</td>\n",
       "      <td>513</td>\n",
       "    </tr>\n",
       "    <tr>\n",
       "      <td>3</td>\n",
       "      <td>1.237650e+18</td>\n",
       "      <td>183.870529</td>\n",
       "      <td>0.049911</td>\n",
       "      <td>17.76536</td>\n",
       "      <td>16.60272</td>\n",
       "      <td>16.16116</td>\n",
       "      <td>15.98233</td>\n",
       "      <td>15.90438</td>\n",
       "      <td>752</td>\n",
       "      <td>301</td>\n",
       "      <td>4</td>\n",
       "      <td>269</td>\n",
       "      <td>3.722370e+18</td>\n",
       "      <td>STAR</td>\n",
       "      <td>-0.000111</td>\n",
       "      <td>3306</td>\n",
       "      <td>54922</td>\n",
       "      <td>510</td>\n",
       "    </tr>\n",
       "    <tr>\n",
       "      <td>4</td>\n",
       "      <td>1.237650e+18</td>\n",
       "      <td>183.883288</td>\n",
       "      <td>0.102557</td>\n",
       "      <td>17.55025</td>\n",
       "      <td>16.26342</td>\n",
       "      <td>16.43869</td>\n",
       "      <td>16.55492</td>\n",
       "      <td>16.61326</td>\n",
       "      <td>752</td>\n",
       "      <td>301</td>\n",
       "      <td>4</td>\n",
       "      <td>269</td>\n",
       "      <td>3.722370e+18</td>\n",
       "      <td>STAR</td>\n",
       "      <td>0.000590</td>\n",
       "      <td>3306</td>\n",
       "      <td>54922</td>\n",
       "      <td>512</td>\n",
       "    </tr>\n",
       "    <tr>\n",
       "      <td>5</td>\n",
       "      <td>1.237650e+18</td>\n",
       "      <td>183.847174</td>\n",
       "      <td>0.173694</td>\n",
       "      <td>19.43133</td>\n",
       "      <td>18.46779</td>\n",
       "      <td>18.16451</td>\n",
       "      <td>18.01475</td>\n",
       "      <td>18.04155</td>\n",
       "      <td>752</td>\n",
       "      <td>301</td>\n",
       "      <td>4</td>\n",
       "      <td>269</td>\n",
       "      <td>3.649550e+17</td>\n",
       "      <td>STAR</td>\n",
       "      <td>0.000315</td>\n",
       "      <td>324</td>\n",
       "      <td>51666</td>\n",
       "      <td>594</td>\n",
       "    </tr>\n",
       "    <tr>\n",
       "      <td>6</td>\n",
       "      <td>1.237650e+18</td>\n",
       "      <td>183.864379</td>\n",
       "      <td>0.019201</td>\n",
       "      <td>19.38322</td>\n",
       "      <td>17.88995</td>\n",
       "      <td>17.10537</td>\n",
       "      <td>16.66393</td>\n",
       "      <td>16.36955</td>\n",
       "      <td>752</td>\n",
       "      <td>301</td>\n",
       "      <td>4</td>\n",
       "      <td>269</td>\n",
       "      <td>3.232870e+17</td>\n",
       "      <td>GALAXY</td>\n",
       "      <td>0.100242</td>\n",
       "      <td>287</td>\n",
       "      <td>52023</td>\n",
       "      <td>559</td>\n",
       "    </tr>\n",
       "    <tr>\n",
       "      <td>7</td>\n",
       "      <td>1.237650e+18</td>\n",
       "      <td>183.900081</td>\n",
       "      <td>0.187473</td>\n",
       "      <td>18.97993</td>\n",
       "      <td>17.84496</td>\n",
       "      <td>17.38022</td>\n",
       "      <td>17.20673</td>\n",
       "      <td>17.07071</td>\n",
       "      <td>752</td>\n",
       "      <td>301</td>\n",
       "      <td>4</td>\n",
       "      <td>269</td>\n",
       "      <td>3.722370e+18</td>\n",
       "      <td>STAR</td>\n",
       "      <td>0.000315</td>\n",
       "      <td>3306</td>\n",
       "      <td>54922</td>\n",
       "      <td>515</td>\n",
       "    </tr>\n",
       "    <tr>\n",
       "      <td>8</td>\n",
       "      <td>1.237650e+18</td>\n",
       "      <td>183.924588</td>\n",
       "      <td>0.097246</td>\n",
       "      <td>17.90616</td>\n",
       "      <td>16.97172</td>\n",
       "      <td>16.67541</td>\n",
       "      <td>16.53776</td>\n",
       "      <td>16.47596</td>\n",
       "      <td>752</td>\n",
       "      <td>301</td>\n",
       "      <td>4</td>\n",
       "      <td>270</td>\n",
       "      <td>3.638290e+17</td>\n",
       "      <td>STAR</td>\n",
       "      <td>0.000089</td>\n",
       "      <td>323</td>\n",
       "      <td>51615</td>\n",
       "      <td>595</td>\n",
       "    </tr>\n",
       "    <tr>\n",
       "      <td>9</td>\n",
       "      <td>1.237650e+18</td>\n",
       "      <td>183.973498</td>\n",
       "      <td>0.081626</td>\n",
       "      <td>18.67249</td>\n",
       "      <td>17.71375</td>\n",
       "      <td>17.49362</td>\n",
       "      <td>17.28284</td>\n",
       "      <td>17.22644</td>\n",
       "      <td>752</td>\n",
       "      <td>301</td>\n",
       "      <td>4</td>\n",
       "      <td>270</td>\n",
       "      <td>3.243690e+17</td>\n",
       "      <td>GALAXY</td>\n",
       "      <td>0.040508</td>\n",
       "      <td>288</td>\n",
       "      <td>52000</td>\n",
       "      <td>400</td>\n",
       "    </tr>\n",
       "  </tbody>\n",
       "</table>\n",
       "</div>"
      ],
      "text/plain": [
       "          objid          ra       dec         u         g         r         i  \\\n",
       "0  1.237650e+18  183.531326  0.089693  19.47406  17.04240  15.94699  15.50342   \n",
       "1  1.237650e+18  183.598371  0.135285  18.66280  17.21449  16.67637  16.48922   \n",
       "2  1.237650e+18  183.680207  0.126185  19.38298  18.19169  17.47428  17.08732   \n",
       "3  1.237650e+18  183.870529  0.049911  17.76536  16.60272  16.16116  15.98233   \n",
       "4  1.237650e+18  183.883288  0.102557  17.55025  16.26342  16.43869  16.55492   \n",
       "5  1.237650e+18  183.847174  0.173694  19.43133  18.46779  18.16451  18.01475   \n",
       "6  1.237650e+18  183.864379  0.019201  19.38322  17.88995  17.10537  16.66393   \n",
       "7  1.237650e+18  183.900081  0.187473  18.97993  17.84496  17.38022  17.20673   \n",
       "8  1.237650e+18  183.924588  0.097246  17.90616  16.97172  16.67541  16.53776   \n",
       "9  1.237650e+18  183.973498  0.081626  18.67249  17.71375  17.49362  17.28284   \n",
       "\n",
       "          z  run  rerun  camcol  field     specobjid   class  redshift  plate  \\\n",
       "0  15.22531  752    301       4    267  3.722360e+18    STAR -0.000009   3306   \n",
       "1  16.39150  752    301       4    267  3.638140e+17    STAR -0.000055    323   \n",
       "2  16.80125  752    301       4    268  3.232740e+17  GALAXY  0.123111    287   \n",
       "3  15.90438  752    301       4    269  3.722370e+18    STAR -0.000111   3306   \n",
       "4  16.61326  752    301       4    269  3.722370e+18    STAR  0.000590   3306   \n",
       "5  18.04155  752    301       4    269  3.649550e+17    STAR  0.000315    324   \n",
       "6  16.36955  752    301       4    269  3.232870e+17  GALAXY  0.100242    287   \n",
       "7  17.07071  752    301       4    269  3.722370e+18    STAR  0.000315   3306   \n",
       "8  16.47596  752    301       4    270  3.638290e+17    STAR  0.000089    323   \n",
       "9  17.22644  752    301       4    270  3.243690e+17  GALAXY  0.040508    288   \n",
       "\n",
       "     mjd  fiberid  \n",
       "0  54922      491  \n",
       "1  51615      541  \n",
       "2  52023      513  \n",
       "3  54922      510  \n",
       "4  54922      512  \n",
       "5  51666      594  \n",
       "6  52023      559  \n",
       "7  54922      515  \n",
       "8  51615      595  \n",
       "9  52000      400  "
      ]
     },
     "execution_count": 14,
     "metadata": {},
     "output_type": "execute_result"
    }
   ],
   "source": [
    "#importing the data\n",
    "df=pd.read_csv(\"skyserver.csv\")\n",
    "df.head(10)"
   ]
  },
  {
   "cell_type": "code",
   "execution_count": 5,
   "metadata": {},
   "outputs": [
    {
     "data": {
      "text/plain": [
       "(10000, 18)"
      ]
     },
     "execution_count": 5,
     "metadata": {},
     "output_type": "execute_result"
    }
   ],
   "source": [
    "#checking the shape of the dataset\n",
    "df.shape"
   ]
  },
  {
   "cell_type": "code",
   "execution_count": 9,
   "metadata": {},
   "outputs": [
    {
     "name": "stdout",
     "output_type": "stream",
     "text": [
      "<class 'pandas.core.frame.DataFrame'>\n",
      "RangeIndex: 10000 entries, 0 to 9999\n",
      "Data columns (total 18 columns):\n",
      "objid        10000 non-null float64\n",
      "ra           10000 non-null float64\n",
      "dec          10000 non-null float64\n",
      "u            10000 non-null float64\n",
      "g            10000 non-null float64\n",
      "r            10000 non-null float64\n",
      "i            10000 non-null float64\n",
      "z            10000 non-null float64\n",
      "run          10000 non-null int64\n",
      "rerun        10000 non-null int64\n",
      "camcol       10000 non-null int64\n",
      "field        10000 non-null int64\n",
      "specobjid    10000 non-null float64\n",
      "class        10000 non-null object\n",
      "redshift     10000 non-null float64\n",
      "plate        10000 non-null int64\n",
      "mjd          10000 non-null int64\n",
      "fiberid      10000 non-null int64\n",
      "dtypes: float64(10), int64(7), object(1)\n",
      "memory usage: 1.4+ MB\n"
     ]
    }
   ],
   "source": [
    "#checking the datatypes \n",
    "df.info()"
   ]
  },
  {
   "cell_type": "code",
   "execution_count": 7,
   "metadata": {},
   "outputs": [
    {
     "data": {
      "text/plain": [
       "<matplotlib.axes._subplots.AxesSubplot at 0x1f774d7fcc8>"
      ]
     },
     "execution_count": 7,
     "metadata": {},
     "output_type": "execute_result"
    },
    {
     "data": {
      "image/png": "[encoded data removed]",
      "text/plain": [
       "<Figure size 432x288 with 2 Axes>"
      ]
     },
     "metadata": {
      "needs_background": "light"
     },
     "output_type": "display_data"
    }
   ],
   "source": [
    "#checking if there are any missing values\n",
    "sns.heatmap(df.isnull())"
   ]
  },
  {
   "cell_type": "code",
   "execution_count": 8,
   "metadata": {},
   "outputs": [
    {
     "data": {
      "text/plain": [
       "objid        0\n",
       "ra           0\n",
       "dec          0\n",
       "u            0\n",
       "g            0\n",
       "r            0\n",
       "i            0\n",
       "z            0\n",
       "run          0\n",
       "rerun        0\n",
       "camcol       0\n",
       "field        0\n",
       "specobjid    0\n",
       "class        0\n",
       "redshift     0\n",
       "plate        0\n",
       "mjd          0\n",
       "fiberid      0\n",
       "dtype: int64"
      ]
     },
     "execution_count": 8,
     "metadata": {},
     "output_type": "execute_result"
    }
   ],
   "source": [
    "df.isnull().sum()\n",
    "#There are no missing values in the dataset"
   ]
  },
  {
   "cell_type": "markdown",
   "metadata": {},
   "source": [
    "#### Univariate Analysis"
   ]
  },
  {
   "cell_type": "code",
   "execution_count": 28,
   "metadata": {},
   "outputs": [
    {
     "name": "stdout",
     "output_type": "stream",
     "text": [
      "1.237650e+18    10000\n",
      "Name: objid, dtype: int64\n",
      "\n",
      "756     3060\n",
      "752     2086\n",
      "1345     915\n",
      "1350     540\n",
      "1140     527\n",
      "745      453\n",
      "1035     396\n",
      "1412     347\n",
      "1302     246\n",
      "1331     245\n",
      "1231     245\n",
      "1334     212\n",
      "1239     197\n",
      "1336     182\n",
      "1404     137\n",
      "1045     112\n",
      "1402      49\n",
      "308       31\n",
      "1411      10\n",
      "1356       4\n",
      "727        4\n",
      "1119       1\n",
      "1332       1\n",
      "Name: run, dtype: int64\n",
      "\n",
      "301    10000\n",
      "Name: rerun, dtype: int64\n",
      "\n",
      "4    1834\n",
      "5    1827\n",
      "6    1769\n",
      "2    1712\n",
      "3    1560\n",
      "1    1298\n",
      "Name: camcol, dtype: int64\n",
      "\n",
      "301    62\n",
      "302    58\n",
      "304    56\n",
      "305    55\n",
      "309    54\n",
      "       ..\n",
      "499     1\n",
      "676     1\n",
      "507     1\n",
      "660     1\n",
      "503     1\n",
      "Name: field, Length: 703, dtype: int64\n",
      "\n",
      "GALAXY    4998\n",
      "STAR      4152\n",
      "QSO        850\n",
      "Name: class, dtype: int64\n",
      "\n"
     ]
    }
   ],
   "source": [
    "list=['objid','run','rerun', 'camcol','field', 'class']\n",
    "for i in list:\n",
    "    print(df[i].value_counts())\n",
    "    print()"
   ]
  },
  {
   "cell_type": "markdown",
   "metadata": {},
   "source": [
    "Observations:\n",
    "\n",
    "1. Class has three types. Galaxy, Star and QSO \n",
    "\n",
    "QSO means Quasar. A quasar (/ˈkweɪzɑːr/) (also known as a quasi-stellar object abbreviated QSO) is an extremely luminous active galactic nucleus (AGN), in which a supermassive black hole with mass ranging from millions to billions of times the mass of the Sun is surrounded by a gaseous accretion disk. \n",
    "\n",
    "Galaxy is a huge collection of gas, dust and billions of stars and their solar systems.\n",
    "\n",
    "A star is an astronomical object consisting of a luminous spheroid of plasma held together by its own gravity.\n",
    "\n",
    "2. camcol has six types starting from 1 to 6.\n",
    "\n",
    "3. rerun has only one value 301 repeated 10,000 times.\n",
    "rerun represents the reprocessing of the images and 301 is the latest rerun.\n",
    "\n",
    "4. field has 703 unique values and run has 23 unique values.\n",
    "\n",
    "5. Objid has single value 1.237650e+18 repeated in 10,000 rows."
   ]
  },
  {
   "cell_type": "code",
   "execution_count": 23,
   "metadata": {},
   "outputs": [
    {
     "data": {
      "image/png": "[encoded data removed]",
      "text/plain": [
       "<Figure size 1440x720 with 1 Axes>"
      ]
     },
     "metadata": {
      "needs_background": "light"
     },
     "output_type": "display_data"
    },
    {
     "data": {
      "image/png": "[encoded data removed]",
      "text/plain": [
       "<Figure size 1440x720 with 1 Axes>"
      ]
     },
     "metadata": {
      "needs_background": "light"
     },
     "output_type": "display_data"
    },
    {
     "data": {
      "image/png": "[encoded data removed]",
      "text/plain": [
       "<Figure size 1440x720 with 1 Axes>"
      ]
     },
     "metadata": {
      "needs_background": "light"
     },
     "output_type": "display_data"
    },
    {
     "data": {
      "image/png": "[encoded data removed]",
      "text/plain": [
       "<Figure size 1440x720 with 1 Axes>"
      ]
     },
     "metadata": {
      "needs_background": "light"
     },
     "output_type": "display_data"
    },
    {
     "data": {
      "image/png": "[encoded data removed]",
      "text/plain": [
       "<Figure size 1440x720 with 1 Axes>"
      ]
     },
     "metadata": {
      "needs_background": "light"
     },
     "output_type": "display_data"
    },
    {
     "data": {
      "image/png": "[encoded data removed]",
      "text/plain": [
       "<Figure size 1440x720 with 1 Axes>"
      ]
     },
     "metadata": {
      "needs_background": "light"
     },
     "output_type": "display_data"
    },
    {
     "data": {
      "image/png": "[encoded data removed]",
      "text/plain": [
       "<Figure size 1440x720 with 1 Axes>"
      ]
     },
     "metadata": {
      "needs_background": "light"
     },
     "output_type": "display_data"
    },
    {
     "data": {
      "image/png": "[encoded data removed]",
      "text/plain": [
       "<Figure size 1440x720 with 1 Axes>"
      ]
     },
     "metadata": {
      "needs_background": "light"
     },
     "output_type": "display_data"
    },
    {
     "data": {
      "image/png": "[encoded data removed]",
      "text/plain": [
       "<Figure size 1440x720 with 1 Axes>"
      ]
     },
     "metadata": {
      "needs_background": "light"
     },
     "output_type": "display_data"
    },
    {
     "data": {
      "image/png": "[encoded data removed]",
      "text/plain": [
       "<Figure size 1440x720 with 1 Axes>"
      ]
     },
     "metadata": {
      "needs_background": "light"
     },
     "output_type": "display_data"
    },
    {
     "data": {
      "image/png": "[encoded data removed]",
      "text/plain": [
       "<Figure size 1440x720 with 1 Axes>"
      ]
     },
     "metadata": {
      "needs_background": "light"
     },
     "output_type": "display_data"
    },
    {
     "data": {
      "image/png": "[encoded data removed]",
      "text/plain": [
       "<Figure size 1440x720 with 1 Axes>"
      ]
     },
     "metadata": {
      "needs_background": "light"
     },
     "output_type": "display_data"
    },
    {
     "data": {
      "image/png": "[encoded data removed]",
      "text/plain": [
       "<Figure size 1440x720 with 1 Axes>"
      ]
     },
     "metadata": {
      "needs_background": "light"
     },
     "output_type": "display_data"
    },
    {
     "data": {
      "image/png": "[encoded data removed]",
      "text/plain": [
       "<Figure size 1440x720 with 1 Axes>"
      ]
     },
     "metadata": {
      "needs_background": "light"
     },
     "output_type": "display_data"
    },
    {
     "data": {
      "image/png": "[encoded data removed]",
      "text/plain": [
       "<Figure size 1440x720 with 1 Axes>"
      ]
     },
     "metadata": {
      "needs_background": "light"
     },
     "output_type": "display_data"
    }
   ],
   "source": [
    "#checking the distribution of the values\n",
    "for i in df.iloc[:,1:-1]:\n",
    "    if df[i].dtypes!='O':\n",
    "        plt.figure(figsize=(20,10))\n",
    "        plt.subplot(5,4,3)\n",
    "        sns.distplot(df[i])"
   ]
  },
  {
   "cell_type": "markdown",
   "metadata": {},
   "source": [
    "Observations:\n",
    "1. column ra is left skewed. Most of the values is between 150 and 200.\n",
    "2. column dec is right skewed. Most of the values are between 0 and 1.\n",
    "3. column u is left skewed and most of the values is between 18 and 20.\n",
    "4. column g is left skewed and most of the values is between 17 and 18.\n",
    "5. column r is almost symmetric and most of the value lie between 16 and 18.\n",
    "6. column i is almost symmetric and most of the value lie between 16 and 17.5.\n",
    "7. column z is almost symmetric and most of the value lie between 16 and 18.\n",
    "8. column run is right skewed with most of the values betwen 650 and 800 and few between 1300 and 1400.\n",
    "9. rerun has only one value at 301.\n",
    "10. camcol has 6 values from 1 to 6\n",
    "11. field has most of its values between 250 and 400.\n",
    "12. specobijid have values between 0.1 to 0.4.\n",
    "13. redshift have values between 0 and 0.1.\n",
    "14. plate has major of its values 200-1000\n",
    "15. mjd has major values around 52000 followed around 54000 and less in 56000"
   ]
  },
  {
   "cell_type": "code",
   "execution_count": 26,
   "metadata": {},
   "outputs": [
    {
     "data": {
      "image/png": "[encoded data removed]",
      "text/plain": [
       "<Figure size 1440x720 with 1 Axes>"
      ]
     },
     "metadata": {
      "needs_background": "light"
     },
     "output_type": "display_data"
    },
    {
     "data": {
      "image/png": "[encoded data removed]",
      "text/plain": [
       "<Figure size 1440x720 with 1 Axes>"
      ]
     },
     "metadata": {
      "needs_background": "light"
     },
     "output_type": "display_data"
    },
    {
     "data": {
      "image/png": "[encoded data removed]",
      "text/plain": [
       "<Figure size 1440x720 with 1 Axes>"
      ]
     },
     "metadata": {
      "needs_background": "light"
     },
     "output_type": "display_data"
    },
    {
     "data": {
      "image/png": "[encoded data removed]",
      "text/plain": [
       "<Figure size 1440x720 with 1 Axes>"
      ]
     },
     "metadata": {
      "needs_background": "light"
     },
     "output_type": "display_data"
    },
    {
     "data": {
      "image/png": "[encoded data removed]",
      "text/plain": [
       "<Figure size 1440x720 with 1 Axes>"
      ]
     },
     "metadata": {
      "needs_background": "light"
     },
     "output_type": "display_data"
    },
    {
     "data": {
      "image/png": "[encoded data removed]",
      "text/plain": [
       "<Figure size 1440x720 with 1 Axes>"
      ]
     },
     "metadata": {
      "needs_background": "light"
     },
     "output_type": "display_data"
    },
    {
     "data": {
      "image/png": "[encoded data removed]",
      "text/plain": [
       "<Figure size 1440x720 with 1 Axes>"
      ]
     },
     "metadata": {
      "needs_background": "light"
     },
     "output_type": "display_data"
    },
    {
     "data": {
      "image/png": "[encoded data removed]",
      "text/plain": [
       "<Figure size 1440x720 with 1 Axes>"
      ]
     },
     "metadata": {
      "needs_background": "light"
     },
     "output_type": "display_data"
    },
    {
     "data": {
      "image/png": "[encoded data removed]",
      "text/plain": [
       "<Figure size 1440x720 with 1 Axes>"
      ]
     },
     "metadata": {
      "needs_background": "light"
     },
     "output_type": "display_data"
    },
    {
     "data": {
      "image/png": "[encoded data removed]",
      "text/plain": [
       "<Figure size 1440x720 with 1 Axes>"
      ]
     },
     "metadata": {
      "needs_background": "light"
     },
     "output_type": "display_data"
    },
    {
     "data": {
      "image/png": "[encoded data removed]",
      "text/plain": [
       "<Figure size 1440x720 with 1 Axes>"
      ]
     },
     "metadata": {
      "needs_background": "light"
     },
     "output_type": "display_data"
    },
    {
     "data": {
      "image/png": "[encoded data removed]",
      "text/plain": [
       "<Figure size 1440x720 with 1 Axes>"
      ]
     },
     "metadata": {
      "needs_background": "light"
     },
     "output_type": "display_data"
    },
    {
     "data": {
      "image/png": "[encoded data removed]",
      "text/plain": [
       "<Figure size 1440x720 with 1 Axes>"
      ]
     },
     "metadata": {
      "needs_background": "light"
     },
     "output_type": "display_data"
    },
    {
     "data": {
      "image/png": "[encoded data removed]",
      "text/plain": [
       "<Figure size 1440x720 with 1 Axes>"
      ]
     },
     "metadata": {
      "needs_background": "light"
     },
     "output_type": "display_data"
    },
    {
     "data": {
      "image/png": "[encoded data removed]",
      "text/plain": [
       "<Figure size 1440x720 with 1 Axes>"
      ]
     },
     "metadata": {
      "needs_background": "light"
     },
     "output_type": "display_data"
    }
   ],
   "source": [
    "#checking the outliers using boxplot \n",
    "for i in df.iloc[:,1:-1]:\n",
    "    if df[i].dtypes!='O':\n",
    "        plt.figure(figsize=(20,10))\n",
    "        plt.subplot(5,4,3)\n",
    "        sns.boxplot(df[i])"
   ]
  },
  {
   "cell_type": "markdown",
   "metadata": {},
   "source": [
    "Observations\n",
    "1. There are no outliers in the columns mjd, camcol, run and dec. \n",
    "2. Rerun has one only value hence no outliers.\n",
    "3. Rest all columns have outliers."
   ]
  },
  {
   "cell_type": "markdown",
   "metadata": {},
   "source": [
    "#### Statistical Analysis\n"
   ]
  },
  {
   "cell_type": "code",
   "execution_count": 27,
   "metadata": {},
   "outputs": [
    {
     "data": {
      "text/html": [
       "<div>\n",
       "<style scoped>\n",
       "    .dataframe tbody tr th:only-of-type {\n",
       "        vertical-align: middle;\n",
       "    }\n",
       "\n",
       "    .dataframe tbody tr th {\n",
       "        vertical-align: top;\n",
       "    }\n",
       "\n",
       "    .dataframe thead th {\n",
       "        text-align: right;\n",
       "    }\n",
       "</style>\n",
       "<table border=\"1\" class=\"dataframe\">\n",
       "  <thead>\n",
       "    <tr style=\"text-align: right;\">\n",
       "      <th></th>\n",
       "      <th>objid</th>\n",
       "      <th>ra</th>\n",
       "      <th>dec</th>\n",
       "      <th>u</th>\n",
       "      <th>g</th>\n",
       "      <th>r</th>\n",
       "      <th>i</th>\n",
       "      <th>z</th>\n",
       "      <th>run</th>\n",
       "      <th>rerun</th>\n",
       "      <th>camcol</th>\n",
       "      <th>field</th>\n",
       "      <th>specobjid</th>\n",
       "      <th>redshift</th>\n",
       "      <th>plate</th>\n",
       "      <th>mjd</th>\n",
       "      <th>fiberid</th>\n",
       "    </tr>\n",
       "  </thead>\n",
       "  <tbody>\n",
       "    <tr>\n",
       "      <td>count</td>\n",
       "      <td>1.000000e+04</td>\n",
       "      <td>10000.000000</td>\n",
       "      <td>10000.000000</td>\n",
       "      <td>10000.000000</td>\n",
       "      <td>10000.000000</td>\n",
       "      <td>10000.000000</td>\n",
       "      <td>10000.000000</td>\n",
       "      <td>10000.000000</td>\n",
       "      <td>10000.000000</td>\n",
       "      <td>10000.0</td>\n",
       "      <td>10000.000000</td>\n",
       "      <td>10000.000000</td>\n",
       "      <td>1.000000e+04</td>\n",
       "      <td>10000.000000</td>\n",
       "      <td>10000.000000</td>\n",
       "      <td>10000.000000</td>\n",
       "      <td>10000.000000</td>\n",
       "    </tr>\n",
       "    <tr>\n",
       "      <td>mean</td>\n",
       "      <td>1.237650e+18</td>\n",
       "      <td>175.529987</td>\n",
       "      <td>14.836148</td>\n",
       "      <td>18.619355</td>\n",
       "      <td>17.371931</td>\n",
       "      <td>16.840963</td>\n",
       "      <td>16.583579</td>\n",
       "      <td>16.422833</td>\n",
       "      <td>981.034800</td>\n",
       "      <td>301.0</td>\n",
       "      <td>3.648700</td>\n",
       "      <td>302.380100</td>\n",
       "      <td>1.645022e+18</td>\n",
       "      <td>0.143726</td>\n",
       "      <td>1460.986400</td>\n",
       "      <td>52943.533300</td>\n",
       "      <td>353.069400</td>\n",
       "    </tr>\n",
       "    <tr>\n",
       "      <td>std</td>\n",
       "      <td>1.577039e+05</td>\n",
       "      <td>47.783439</td>\n",
       "      <td>25.212207</td>\n",
       "      <td>0.828656</td>\n",
       "      <td>0.945457</td>\n",
       "      <td>1.067764</td>\n",
       "      <td>1.141805</td>\n",
       "      <td>1.203188</td>\n",
       "      <td>273.305024</td>\n",
       "      <td>0.0</td>\n",
       "      <td>1.666183</td>\n",
       "      <td>162.577763</td>\n",
       "      <td>2.013998e+18</td>\n",
       "      <td>0.388774</td>\n",
       "      <td>1788.778371</td>\n",
       "      <td>1511.150651</td>\n",
       "      <td>206.298149</td>\n",
       "    </tr>\n",
       "    <tr>\n",
       "      <td>min</td>\n",
       "      <td>1.237650e+18</td>\n",
       "      <td>8.235100</td>\n",
       "      <td>-5.382632</td>\n",
       "      <td>12.988970</td>\n",
       "      <td>12.799550</td>\n",
       "      <td>12.431600</td>\n",
       "      <td>11.947210</td>\n",
       "      <td>11.610410</td>\n",
       "      <td>308.000000</td>\n",
       "      <td>301.0</td>\n",
       "      <td>1.000000</td>\n",
       "      <td>11.000000</td>\n",
       "      <td>2.995780e+17</td>\n",
       "      <td>-0.004136</td>\n",
       "      <td>266.000000</td>\n",
       "      <td>51578.000000</td>\n",
       "      <td>1.000000</td>\n",
       "    </tr>\n",
       "    <tr>\n",
       "      <td>25%</td>\n",
       "      <td>1.237650e+18</td>\n",
       "      <td>157.370946</td>\n",
       "      <td>-0.539035</td>\n",
       "      <td>18.178035</td>\n",
       "      <td>16.815100</td>\n",
       "      <td>16.173333</td>\n",
       "      <td>15.853705</td>\n",
       "      <td>15.618285</td>\n",
       "      <td>752.000000</td>\n",
       "      <td>301.0</td>\n",
       "      <td>2.000000</td>\n",
       "      <td>184.000000</td>\n",
       "      <td>3.389248e+17</td>\n",
       "      <td>0.000081</td>\n",
       "      <td>301.000000</td>\n",
       "      <td>51900.000000</td>\n",
       "      <td>186.750000</td>\n",
       "    </tr>\n",
       "    <tr>\n",
       "      <td>50%</td>\n",
       "      <td>1.237650e+18</td>\n",
       "      <td>180.394514</td>\n",
       "      <td>0.404166</td>\n",
       "      <td>18.853095</td>\n",
       "      <td>17.495135</td>\n",
       "      <td>16.858770</td>\n",
       "      <td>16.554985</td>\n",
       "      <td>16.389945</td>\n",
       "      <td>756.000000</td>\n",
       "      <td>301.0</td>\n",
       "      <td>4.000000</td>\n",
       "      <td>299.000000</td>\n",
       "      <td>4.966580e+17</td>\n",
       "      <td>0.042591</td>\n",
       "      <td>441.000000</td>\n",
       "      <td>51997.000000</td>\n",
       "      <td>351.000000</td>\n",
       "    </tr>\n",
       "    <tr>\n",
       "      <td>75%</td>\n",
       "      <td>1.237650e+18</td>\n",
       "      <td>201.547279</td>\n",
       "      <td>35.649397</td>\n",
       "      <td>19.259232</td>\n",
       "      <td>18.010145</td>\n",
       "      <td>17.512675</td>\n",
       "      <td>17.258550</td>\n",
       "      <td>17.141447</td>\n",
       "      <td>1331.000000</td>\n",
       "      <td>301.0</td>\n",
       "      <td>5.000000</td>\n",
       "      <td>414.000000</td>\n",
       "      <td>2.881300e+18</td>\n",
       "      <td>0.092579</td>\n",
       "      <td>2559.000000</td>\n",
       "      <td>54468.000000</td>\n",
       "      <td>510.000000</td>\n",
       "    </tr>\n",
       "    <tr>\n",
       "      <td>max</td>\n",
       "      <td>1.237650e+18</td>\n",
       "      <td>260.884382</td>\n",
       "      <td>68.542265</td>\n",
       "      <td>19.599900</td>\n",
       "      <td>19.918970</td>\n",
       "      <td>24.802040</td>\n",
       "      <td>28.179630</td>\n",
       "      <td>22.833060</td>\n",
       "      <td>1412.000000</td>\n",
       "      <td>301.0</td>\n",
       "      <td>6.000000</td>\n",
       "      <td>768.000000</td>\n",
       "      <td>9.468830e+18</td>\n",
       "      <td>5.353854</td>\n",
       "      <td>8410.000000</td>\n",
       "      <td>57481.000000</td>\n",
       "      <td>1000.000000</td>\n",
       "    </tr>\n",
       "  </tbody>\n",
       "</table>\n",
       "</div>"
      ],
      "text/plain": [
       "              objid            ra           dec             u             g  \\\n",
       "count  1.000000e+04  10000.000000  10000.000000  10000.000000  10000.000000   \n",
       "mean   1.237650e+18    175.529987     14.836148     18.619355     17.371931   \n",
       "std    1.577039e+05     47.783439     25.212207      0.828656      0.945457   \n",
       "min    1.237650e+18      8.235100     -5.382632     12.988970     12.799550   \n",
       "25%    1.237650e+18    157.370946     -0.539035     18.178035     16.815100   \n",
       "50%    1.237650e+18    180.394514      0.404166     18.853095     17.495135   \n",
       "75%    1.237650e+18    201.547279     35.649397     19.259232     18.010145   \n",
       "max    1.237650e+18    260.884382     68.542265     19.599900     19.918970   \n",
       "\n",
       "                  r             i             z           run    rerun  \\\n",
       "count  10000.000000  10000.000000  10000.000000  10000.000000  10000.0   \n",
       "mean      16.840963     16.583579     16.422833    981.034800    301.0   \n",
       "std        1.067764      1.141805      1.203188    273.305024      0.0   \n",
       "min       12.431600     11.947210     11.610410    308.000000    301.0   \n",
       "25%       16.173333     15.853705     15.618285    752.000000    301.0   \n",
       "50%       16.858770     16.554985     16.389945    756.000000    301.0   \n",
       "75%       17.512675     17.258550     17.141447   1331.000000    301.0   \n",
       "max       24.802040     28.179630     22.833060   1412.000000    301.0   \n",
       "\n",
       "             camcol         field     specobjid      redshift         plate  \\\n",
       "count  10000.000000  10000.000000  1.000000e+04  10000.000000  10000.000000   \n",
       "mean       3.648700    302.380100  1.645022e+18      0.143726   1460.986400   \n",
       "std        1.666183    162.577763  2.013998e+18      0.388774   1788.778371   \n",
       "min        1.000000     11.000000  2.995780e+17     -0.004136    266.000000   \n",
       "25%        2.000000    184.000000  3.389248e+17      0.000081    301.000000   \n",
       "50%        4.000000    299.000000  4.966580e+17      0.042591    441.000000   \n",
       "75%        5.000000    414.000000  2.881300e+18      0.092579   2559.000000   \n",
       "max        6.000000    768.000000  9.468830e+18      5.353854   8410.000000   \n",
       "\n",
       "                mjd       fiberid  \n",
       "count  10000.000000  10000.000000  \n",
       "mean   52943.533300    353.069400  \n",
       "std     1511.150651    206.298149  \n",
       "min    51578.000000      1.000000  \n",
       "25%    51900.000000    186.750000  \n",
       "50%    51997.000000    351.000000  \n",
       "75%    54468.000000    510.000000  \n",
       "max    57481.000000   1000.000000  "
      ]
     },
     "execution_count": 27,
     "metadata": {},
     "output_type": "execute_result"
    }
   ],
   "source": [
    "df.describe()"
   ]
  },
  {
   "cell_type": "markdown",
   "metadata": {},
   "source": [
    "1. Objid has single value 1.237650e+18.\n",
    "2. ra has mean value at 175 and min at 8. There are outliers below the mean.\n",
    "3. in dec std deviation is more than mean and there is some difference between max and 75th percentile which indicates outliers.\n"
   ]
  },
  {
   "cell_type": "markdown",
   "metadata": {},
   "source": [
    "#### Bivariate Analysis"
   ]
  },
  {
   "cell_type": "code",
   "execution_count": 123,
   "metadata": {},
   "outputs": [
    {
     "data": {
      "text/plain": [
       "Index(['objid', 'ra', 'dec', 'u', 'g', 'r', 'i', 'z', 'run', 'rerun', 'camcol',\n",
       "       'field', 'specobjid', 'class', 'redshift', 'plate', 'mjd', 'fiberid'],\n",
       "      dtype='object')"
      ]
     },
     "execution_count": 123,
     "metadata": {},
     "output_type": "execute_result"
    }
   ],
   "source": [
    "df.columns"
   ]
  },
  {
   "cell_type": "code",
   "execution_count": 122,
   "metadata": {},
   "outputs": [
    {
     "data": {
      "text/html": [
       "<div>\n",
       "<style scoped>\n",
       "    .dataframe tbody tr th:only-of-type {\n",
       "        vertical-align: middle;\n",
       "    }\n",
       "\n",
       "    .dataframe tbody tr th {\n",
       "        vertical-align: top;\n",
       "    }\n",
       "\n",
       "    .dataframe thead th {\n",
       "        text-align: right;\n",
       "    }\n",
       "</style>\n",
       "<table border=\"1\" class=\"dataframe\">\n",
       "  <thead>\n",
       "    <tr style=\"text-align: right;\">\n",
       "      <th></th>\n",
       "      <th>ra</th>\n",
       "      <th>dec</th>\n",
       "      <th>u</th>\n",
       "      <th>g</th>\n",
       "      <th>r</th>\n",
       "      <th>i</th>\n",
       "      <th>z</th>\n",
       "      <th>run</th>\n",
       "      <th>camcol</th>\n",
       "      <th>field</th>\n",
       "      <th>specobjid</th>\n",
       "      <th>class</th>\n",
       "      <th>redshift</th>\n",
       "      <th>plate</th>\n",
       "      <th>mjd</th>\n",
       "      <th>fiberid</th>\n",
       "    </tr>\n",
       "  </thead>\n",
       "  <tbody>\n",
       "    <tr>\n",
       "      <td>0</td>\n",
       "      <td>183.531326</td>\n",
       "      <td>0.089693</td>\n",
       "      <td>19.47406</td>\n",
       "      <td>17.04240</td>\n",
       "      <td>15.94699</td>\n",
       "      <td>15.50342</td>\n",
       "      <td>15.22531</td>\n",
       "      <td>752</td>\n",
       "      <td>4</td>\n",
       "      <td>267</td>\n",
       "      <td>3.722360e+18</td>\n",
       "      <td>STAR</td>\n",
       "      <td>-0.000009</td>\n",
       "      <td>3306</td>\n",
       "      <td>54922</td>\n",
       "      <td>491</td>\n",
       "    </tr>\n",
       "    <tr>\n",
       "      <td>1</td>\n",
       "      <td>183.598371</td>\n",
       "      <td>0.135285</td>\n",
       "      <td>18.66280</td>\n",
       "      <td>17.21449</td>\n",
       "      <td>16.67637</td>\n",
       "      <td>16.48922</td>\n",
       "      <td>16.39150</td>\n",
       "      <td>752</td>\n",
       "      <td>4</td>\n",
       "      <td>267</td>\n",
       "      <td>3.638140e+17</td>\n",
       "      <td>STAR</td>\n",
       "      <td>-0.000055</td>\n",
       "      <td>323</td>\n",
       "      <td>51615</td>\n",
       "      <td>541</td>\n",
       "    </tr>\n",
       "    <tr>\n",
       "      <td>2</td>\n",
       "      <td>183.680207</td>\n",
       "      <td>0.126185</td>\n",
       "      <td>19.38298</td>\n",
       "      <td>18.19169</td>\n",
       "      <td>17.47428</td>\n",
       "      <td>17.08732</td>\n",
       "      <td>16.80125</td>\n",
       "      <td>752</td>\n",
       "      <td>4</td>\n",
       "      <td>268</td>\n",
       "      <td>3.232740e+17</td>\n",
       "      <td>GALAXY</td>\n",
       "      <td>0.123111</td>\n",
       "      <td>287</td>\n",
       "      <td>52023</td>\n",
       "      <td>513</td>\n",
       "    </tr>\n",
       "    <tr>\n",
       "      <td>3</td>\n",
       "      <td>183.870529</td>\n",
       "      <td>0.049911</td>\n",
       "      <td>17.76536</td>\n",
       "      <td>16.60272</td>\n",
       "      <td>16.16116</td>\n",
       "      <td>15.98233</td>\n",
       "      <td>15.90438</td>\n",
       "      <td>752</td>\n",
       "      <td>4</td>\n",
       "      <td>269</td>\n",
       "      <td>3.722370e+18</td>\n",
       "      <td>STAR</td>\n",
       "      <td>-0.000111</td>\n",
       "      <td>3306</td>\n",
       "      <td>54922</td>\n",
       "      <td>510</td>\n",
       "    </tr>\n",
       "    <tr>\n",
       "      <td>4</td>\n",
       "      <td>183.883288</td>\n",
       "      <td>0.102557</td>\n",
       "      <td>17.55025</td>\n",
       "      <td>16.26342</td>\n",
       "      <td>16.43869</td>\n",
       "      <td>16.55492</td>\n",
       "      <td>16.61326</td>\n",
       "      <td>752</td>\n",
       "      <td>4</td>\n",
       "      <td>269</td>\n",
       "      <td>3.722370e+18</td>\n",
       "      <td>STAR</td>\n",
       "      <td>0.000590</td>\n",
       "      <td>3306</td>\n",
       "      <td>54922</td>\n",
       "      <td>512</td>\n",
       "    </tr>\n",
       "  </tbody>\n",
       "</table>\n",
       "</div>"
      ],
      "text/plain": [
       "           ra       dec         u         g         r         i         z  \\\n",
       "0  183.531326  0.089693  19.47406  17.04240  15.94699  15.50342  15.22531   \n",
       "1  183.598371  0.135285  18.66280  17.21449  16.67637  16.48922  16.39150   \n",
       "2  183.680207  0.126185  19.38298  18.19169  17.47428  17.08732  16.80125   \n",
       "3  183.870529  0.049911  17.76536  16.60272  16.16116  15.98233  15.90438   \n",
       "4  183.883288  0.102557  17.55025  16.26342  16.43869  16.55492  16.61326   \n",
       "\n",
       "   run  camcol  field     specobjid   class  redshift  plate    mjd  fiberid  \n",
       "0  752       4    267  3.722360e+18    STAR -0.000009   3306  54922      491  \n",
       "1  752       4    267  3.638140e+17    STAR -0.000055    323  51615      541  \n",
       "2  752       4    268  3.232740e+17  GALAXY  0.123111    287  52023      513  \n",
       "3  752       4    269  3.722370e+18    STAR -0.000111   3306  54922      510  \n",
       "4  752       4    269  3.722370e+18    STAR  0.000590   3306  54922      512  "
      ]
     },
     "execution_count": 122,
     "metadata": {},
     "output_type": "execute_result"
    }
   ],
   "source": [
    "#dropping columns which are not necessary\n",
    "dfnew=df.drop(['objid','rerun'],axis=1)\n",
    "dfnew.head()"
   ]
  },
  {
   "cell_type": "code",
   "execution_count": 39,
   "metadata": {},
   "outputs": [
    {
     "data": {
      "text/html": [
       "<div>\n",
       "<style scoped>\n",
       "    .dataframe tbody tr th:only-of-type {\n",
       "        vertical-align: middle;\n",
       "    }\n",
       "\n",
       "    .dataframe tbody tr th {\n",
       "        vertical-align: top;\n",
       "    }\n",
       "\n",
       "    .dataframe thead th {\n",
       "        text-align: right;\n",
       "    }\n",
       "</style>\n",
       "<table border=\"1\" class=\"dataframe\">\n",
       "  <thead>\n",
       "    <tr style=\"text-align: right;\">\n",
       "      <th></th>\n",
       "      <th>ra</th>\n",
       "      <th>dec</th>\n",
       "      <th>u</th>\n",
       "      <th>g</th>\n",
       "      <th>r</th>\n",
       "      <th>i</th>\n",
       "      <th>z</th>\n",
       "      <th>run</th>\n",
       "      <th>camcol</th>\n",
       "      <th>field</th>\n",
       "      <th>specobjid</th>\n",
       "      <th>redshift</th>\n",
       "      <th>plate</th>\n",
       "      <th>mjd</th>\n",
       "      <th>fiberid</th>\n",
       "    </tr>\n",
       "  </thead>\n",
       "  <tbody>\n",
       "    <tr>\n",
       "      <td>ra</td>\n",
       "      <td>1.000000</td>\n",
       "      <td>0.003596</td>\n",
       "      <td>0.031238</td>\n",
       "      <td>0.043909</td>\n",
       "      <td>0.047103</td>\n",
       "      <td>0.045731</td>\n",
       "      <td>0.042950</td>\n",
       "      <td>-0.092741</td>\n",
       "      <td>-0.006294</td>\n",
       "      <td>0.594700</td>\n",
       "      <td>-0.095327</td>\n",
       "      <td>0.030307</td>\n",
       "      <td>-0.095329</td>\n",
       "      <td>-0.086887</td>\n",
       "      <td>0.057485</td>\n",
       "    </tr>\n",
       "    <tr>\n",
       "      <td>dec</td>\n",
       "      <td>0.003596</td>\n",
       "      <td>1.000000</td>\n",
       "      <td>0.035279</td>\n",
       "      <td>0.061875</td>\n",
       "      <td>0.063404</td>\n",
       "      <td>0.058292</td>\n",
       "      <td>0.056870</td>\n",
       "      <td>0.778385</td>\n",
       "      <td>0.114614</td>\n",
       "      <td>-0.131471</td>\n",
       "      <td>0.088345</td>\n",
       "      <td>0.067021</td>\n",
       "      <td>0.088342</td>\n",
       "      <td>0.066147</td>\n",
       "      <td>0.155012</td>\n",
       "    </tr>\n",
       "    <tr>\n",
       "      <td>u</td>\n",
       "      <td>0.031238</td>\n",
       "      <td>0.035279</td>\n",
       "      <td>1.000000</td>\n",
       "      <td>0.849232</td>\n",
       "      <td>0.692379</td>\n",
       "      <td>0.602630</td>\n",
       "      <td>0.551483</td>\n",
       "      <td>0.038229</td>\n",
       "      <td>0.009945</td>\n",
       "      <td>0.008548</td>\n",
       "      <td>-0.129429</td>\n",
       "      <td>0.163741</td>\n",
       "      <td>-0.129430</td>\n",
       "      <td>-0.168793</td>\n",
       "      <td>0.011301</td>\n",
       "    </tr>\n",
       "    <tr>\n",
       "      <td>g</td>\n",
       "      <td>0.043909</td>\n",
       "      <td>0.061875</td>\n",
       "      <td>0.849232</td>\n",
       "      <td>1.000000</td>\n",
       "      <td>0.958106</td>\n",
       "      <td>0.907419</td>\n",
       "      <td>0.879622</td>\n",
       "      <td>0.058446</td>\n",
       "      <td>0.010223</td>\n",
       "      <td>0.014651</td>\n",
       "      <td>-0.054979</td>\n",
       "      <td>0.407576</td>\n",
       "      <td>-0.054981</td>\n",
       "      <td>-0.092772</td>\n",
       "      <td>0.047187</td>\n",
       "    </tr>\n",
       "    <tr>\n",
       "      <td>r</td>\n",
       "      <td>0.047103</td>\n",
       "      <td>0.063404</td>\n",
       "      <td>0.692379</td>\n",
       "      <td>0.958106</td>\n",
       "      <td>1.000000</td>\n",
       "      <td>0.977672</td>\n",
       "      <td>0.969197</td>\n",
       "      <td>0.057261</td>\n",
       "      <td>0.010747</td>\n",
       "      <td>0.017133</td>\n",
       "      <td>0.019788</td>\n",
       "      <td>0.441080</td>\n",
       "      <td>0.019787</td>\n",
       "      <td>-0.009345</td>\n",
       "      <td>0.061081</td>\n",
       "    </tr>\n",
       "    <tr>\n",
       "      <td>i</td>\n",
       "      <td>0.045731</td>\n",
       "      <td>0.058292</td>\n",
       "      <td>0.602630</td>\n",
       "      <td>0.907419</td>\n",
       "      <td>0.977672</td>\n",
       "      <td>1.000000</td>\n",
       "      <td>0.981507</td>\n",
       "      <td>0.049765</td>\n",
       "      <td>0.013461</td>\n",
       "      <td>0.019781</td>\n",
       "      <td>0.072960</td>\n",
       "      <td>0.431450</td>\n",
       "      <td>0.072958</td>\n",
       "      <td>0.050896</td>\n",
       "      <td>0.069977</td>\n",
       "    </tr>\n",
       "    <tr>\n",
       "      <td>z</td>\n",
       "      <td>0.042950</td>\n",
       "      <td>0.056870</td>\n",
       "      <td>0.551483</td>\n",
       "      <td>0.879622</td>\n",
       "      <td>0.969197</td>\n",
       "      <td>0.981507</td>\n",
       "      <td>1.000000</td>\n",
       "      <td>0.048252</td>\n",
       "      <td>0.010930</td>\n",
       "      <td>0.018248</td>\n",
       "      <td>0.112398</td>\n",
       "      <td>0.424034</td>\n",
       "      <td>0.112397</td>\n",
       "      <td>0.095658</td>\n",
       "      <td>0.067980</td>\n",
       "    </tr>\n",
       "    <tr>\n",
       "      <td>run</td>\n",
       "      <td>-0.092741</td>\n",
       "      <td>0.778385</td>\n",
       "      <td>0.038229</td>\n",
       "      <td>0.058446</td>\n",
       "      <td>0.057261</td>\n",
       "      <td>0.049765</td>\n",
       "      <td>0.048252</td>\n",
       "      <td>1.000000</td>\n",
       "      <td>0.151814</td>\n",
       "      <td>-0.463898</td>\n",
       "      <td>0.093604</td>\n",
       "      <td>0.059056</td>\n",
       "      <td>0.093601</td>\n",
       "      <td>0.070354</td>\n",
       "      <td>0.138566</td>\n",
       "    </tr>\n",
       "    <tr>\n",
       "      <td>camcol</td>\n",
       "      <td>-0.006294</td>\n",
       "      <td>0.114614</td>\n",
       "      <td>0.009945</td>\n",
       "      <td>0.010223</td>\n",
       "      <td>0.010747</td>\n",
       "      <td>0.013461</td>\n",
       "      <td>0.010930</td>\n",
       "      <td>0.151814</td>\n",
       "      <td>1.000000</td>\n",
       "      <td>-0.067921</td>\n",
       "      <td>0.040809</td>\n",
       "      <td>0.006834</td>\n",
       "      <td>0.040795</td>\n",
       "      <td>0.026284</td>\n",
       "      <td>0.535629</td>\n",
       "    </tr>\n",
       "    <tr>\n",
       "      <td>field</td>\n",
       "      <td>0.594700</td>\n",
       "      <td>-0.131471</td>\n",
       "      <td>0.008548</td>\n",
       "      <td>0.014651</td>\n",
       "      <td>0.017133</td>\n",
       "      <td>0.019781</td>\n",
       "      <td>0.018248</td>\n",
       "      <td>-0.463898</td>\n",
       "      <td>-0.067921</td>\n",
       "      <td>1.000000</td>\n",
       "      <td>-0.093724</td>\n",
       "      <td>0.015414</td>\n",
       "      <td>-0.093723</td>\n",
       "      <td>-0.086558</td>\n",
       "      <td>-0.040493</td>\n",
       "    </tr>\n",
       "    <tr>\n",
       "      <td>specobjid</td>\n",
       "      <td>-0.095327</td>\n",
       "      <td>0.088345</td>\n",
       "      <td>-0.129429</td>\n",
       "      <td>-0.054979</td>\n",
       "      <td>0.019788</td>\n",
       "      <td>0.072960</td>\n",
       "      <td>0.112398</td>\n",
       "      <td>0.093604</td>\n",
       "      <td>0.040809</td>\n",
       "      <td>-0.093724</td>\n",
       "      <td>1.000000</td>\n",
       "      <td>-0.038090</td>\n",
       "      <td>1.000000</td>\n",
       "      <td>0.966880</td>\n",
       "      <td>0.229837</td>\n",
       "    </tr>\n",
       "    <tr>\n",
       "      <td>redshift</td>\n",
       "      <td>0.030307</td>\n",
       "      <td>0.067021</td>\n",
       "      <td>0.163741</td>\n",
       "      <td>0.407576</td>\n",
       "      <td>0.441080</td>\n",
       "      <td>0.431450</td>\n",
       "      <td>0.424034</td>\n",
       "      <td>0.059056</td>\n",
       "      <td>0.006834</td>\n",
       "      <td>0.015414</td>\n",
       "      <td>-0.038090</td>\n",
       "      <td>1.000000</td>\n",
       "      <td>-0.038091</td>\n",
       "      <td>-0.057957</td>\n",
       "      <td>0.046532</td>\n",
       "    </tr>\n",
       "    <tr>\n",
       "      <td>plate</td>\n",
       "      <td>-0.095329</td>\n",
       "      <td>0.088342</td>\n",
       "      <td>-0.129430</td>\n",
       "      <td>-0.054981</td>\n",
       "      <td>0.019787</td>\n",
       "      <td>0.072958</td>\n",
       "      <td>0.112397</td>\n",
       "      <td>0.093601</td>\n",
       "      <td>0.040795</td>\n",
       "      <td>-0.093723</td>\n",
       "      <td>1.000000</td>\n",
       "      <td>-0.038091</td>\n",
       "      <td>1.000000</td>\n",
       "      <td>0.966881</td>\n",
       "      <td>0.229811</td>\n",
       "    </tr>\n",
       "    <tr>\n",
       "      <td>mjd</td>\n",
       "      <td>-0.086887</td>\n",
       "      <td>0.066147</td>\n",
       "      <td>-0.168793</td>\n",
       "      <td>-0.092772</td>\n",
       "      <td>-0.009345</td>\n",
       "      <td>0.050896</td>\n",
       "      <td>0.095658</td>\n",
       "      <td>0.070354</td>\n",
       "      <td>0.026284</td>\n",
       "      <td>-0.086558</td>\n",
       "      <td>0.966880</td>\n",
       "      <td>-0.057957</td>\n",
       "      <td>0.966881</td>\n",
       "      <td>1.000000</td>\n",
       "      <td>0.190328</td>\n",
       "    </tr>\n",
       "    <tr>\n",
       "      <td>fiberid</td>\n",
       "      <td>0.057485</td>\n",
       "      <td>0.155012</td>\n",
       "      <td>0.011301</td>\n",
       "      <td>0.047187</td>\n",
       "      <td>0.061081</td>\n",
       "      <td>0.069977</td>\n",
       "      <td>0.067980</td>\n",
       "      <td>0.138566</td>\n",
       "      <td>0.535629</td>\n",
       "      <td>-0.040493</td>\n",
       "      <td>0.229837</td>\n",
       "      <td>0.046532</td>\n",
       "      <td>0.229811</td>\n",
       "      <td>0.190328</td>\n",
       "      <td>1.000000</td>\n",
       "    </tr>\n",
       "  </tbody>\n",
       "</table>\n",
       "</div>"
      ],
      "text/plain": [
       "                 ra       dec         u         g         r         i  \\\n",
       "ra         1.000000  0.003596  0.031238  0.043909  0.047103  0.045731   \n",
       "dec        0.003596  1.000000  0.035279  0.061875  0.063404  0.058292   \n",
       "u          0.031238  0.035279  1.000000  0.849232  0.692379  0.602630   \n",
       "g          0.043909  0.061875  0.849232  1.000000  0.958106  0.907419   \n",
       "r          0.047103  0.063404  0.692379  0.958106  1.000000  0.977672   \n",
       "i          0.045731  0.058292  0.602630  0.907419  0.977672  1.000000   \n",
       "z          0.042950  0.056870  0.551483  0.879622  0.969197  0.981507   \n",
       "run       -0.092741  0.778385  0.038229  0.058446  0.057261  0.049765   \n",
       "camcol    -0.006294  0.114614  0.009945  0.010223  0.010747  0.013461   \n",
       "field      0.594700 -0.131471  0.008548  0.014651  0.017133  0.019781   \n",
       "specobjid -0.095327  0.088345 -0.129429 -0.054979  0.019788  0.072960   \n",
       "redshift   0.030307  0.067021  0.163741  0.407576  0.441080  0.431450   \n",
       "plate     -0.095329  0.088342 -0.129430 -0.054981  0.019787  0.072958   \n",
       "mjd       -0.086887  0.066147 -0.168793 -0.092772 -0.009345  0.050896   \n",
       "fiberid    0.057485  0.155012  0.011301  0.047187  0.061081  0.069977   \n",
       "\n",
       "                  z       run    camcol     field  specobjid  redshift  \\\n",
       "ra         0.042950 -0.092741 -0.006294  0.594700  -0.095327  0.030307   \n",
       "dec        0.056870  0.778385  0.114614 -0.131471   0.088345  0.067021   \n",
       "u          0.551483  0.038229  0.009945  0.008548  -0.129429  0.163741   \n",
       "g          0.879622  0.058446  0.010223  0.014651  -0.054979  0.407576   \n",
       "r          0.969197  0.057261  0.010747  0.017133   0.019788  0.441080   \n",
       "i          0.981507  0.049765  0.013461  0.019781   0.072960  0.431450   \n",
       "z          1.000000  0.048252  0.010930  0.018248   0.112398  0.424034   \n",
       "run        0.048252  1.000000  0.151814 -0.463898   0.093604  0.059056   \n",
       "camcol     0.010930  0.151814  1.000000 -0.067921   0.040809  0.006834   \n",
       "field      0.018248 -0.463898 -0.067921  1.000000  -0.093724  0.015414   \n",
       "specobjid  0.112398  0.093604  0.040809 -0.093724   1.000000 -0.038090   \n",
       "redshift   0.424034  0.059056  0.006834  0.015414  -0.038090  1.000000   \n",
       "plate      0.112397  0.093601  0.040795 -0.093723   1.000000 -0.038091   \n",
       "mjd        0.095658  0.070354  0.026284 -0.086558   0.966880 -0.057957   \n",
       "fiberid    0.067980  0.138566  0.535629 -0.040493   0.229837  0.046532   \n",
       "\n",
       "              plate       mjd   fiberid  \n",
       "ra        -0.095329 -0.086887  0.057485  \n",
       "dec        0.088342  0.066147  0.155012  \n",
       "u         -0.129430 -0.168793  0.011301  \n",
       "g         -0.054981 -0.092772  0.047187  \n",
       "r          0.019787 -0.009345  0.061081  \n",
       "i          0.072958  0.050896  0.069977  \n",
       "z          0.112397  0.095658  0.067980  \n",
       "run        0.093601  0.070354  0.138566  \n",
       "camcol     0.040795  0.026284  0.535629  \n",
       "field     -0.093723 -0.086558 -0.040493  \n",
       "specobjid  1.000000  0.966880  0.229837  \n",
       "redshift  -0.038091 -0.057957  0.046532  \n",
       "plate      1.000000  0.966881  0.229811  \n",
       "mjd        0.966881  1.000000  0.190328  \n",
       "fiberid    0.229811  0.190328  1.000000  "
      ]
     },
     "execution_count": 39,
     "metadata": {},
     "output_type": "execute_result"
    }
   ],
   "source": [
    "dfnew.corr()"
   ]
  },
  {
   "cell_type": "code",
   "execution_count": 126,
   "metadata": {},
   "outputs": [
    {
     "data": {
      "text/plain": [
       "<matplotlib.axes._subplots.AxesSubplot at 0x1f70437a5c8>"
      ]
     },
     "execution_count": 126,
     "metadata": {},
     "output_type": "execute_result"
    },
    {
     "data": {
      "image/png": "[encoded data removed]",
      "text/plain": [
       "<Figure size 432x288 with 2 Axes>"
      ]
     },
     "metadata": {
      "needs_background": "light"
     },
     "output_type": "display_data"
    }
   ],
   "source": [
    "sns.heatmap(df.corr())"
   ]
  },
  {
   "cell_type": "markdown",
   "metadata": {},
   "source": [
    "Observations:\n",
    "1, 'u','g','r','i' and 'z' are positively correlated to each other.\n",
    "2. 'u','g','r','i' and 'z' are positively correlated toredshift.\n",
    "3. specobijd is positively correlated with plate and mjd.\n",
    "4. plate and mjd are positively correlated with each other."
   ]
  },
  {
   "cell_type": "code",
   "execution_count": 51,
   "metadata": {},
   "outputs": [
    {
     "data": {
      "image/png": "[encoded data removed]",
      "text/plain": [
       "<Figure size 864x360 with 1 Axes>"
      ]
     },
     "metadata": {
      "needs_background": "light"
     },
     "output_type": "display_data"
    },
    {
     "data": {
      "image/png": "[encoded data removed]",
      "text/plain": [
       "<Figure size 864x360 with 1 Axes>"
      ]
     },
     "metadata": {
      "needs_background": "light"
     },
     "output_type": "display_data"
    },
    {
     "data": {
      "image/png": "[encoded data removed]",
      "text/plain": [
       "<Figure size 864x360 with 1 Axes>"
      ]
     },
     "metadata": {
      "needs_background": "light"
     },
     "output_type": "display_data"
    },
    {
     "data": {
      "image/png": "[encoded data removed]",
      "text/plain": [
       "<Figure size 864x360 with 1 Axes>"
      ]
     },
     "metadata": {
      "needs_background": "light"
     },
     "output_type": "display_data"
    }
   ],
   "source": [
    "#scatterplots\n",
    "cols=['u','g','r','i']\n",
    "for i in cols:\n",
    "    if dfnew[i].dtypes!='O':\n",
    "        plt.figure(figsize=(12,5))\n",
    "        plt.title(str(i)+' with '+'z')\n",
    "        sns.scatterplot(x=dfnew['z'], y=dfnew[i], data=dfnew)\n",
    "        plt.show()\n"
   ]
  },
  {
   "cell_type": "code",
   "execution_count": 52,
   "metadata": {},
   "outputs": [
    {
     "data": {
      "text/plain": [
       "<matplotlib.axes._subplots.AxesSubplot at 0x1f77c791448>"
      ]
     },
     "execution_count": 52,
     "metadata": {},
     "output_type": "execute_result"
    },
    {
     "data": {
      "image/png": "[encoded data removed]",
      "text/plain": [
       "<Figure size 432x288 with 1 Axes>"
      ]
     },
     "metadata": {
      "needs_background": "light"
     },
     "output_type": "display_data"
    }
   ],
   "source": [
    "sns.scatterplot(x=dfnew['dec'], y=dfnew['run'], data=dfnew)"
   ]
  },
  {
   "cell_type": "code",
   "execution_count": 53,
   "metadata": {},
   "outputs": [
    {
     "data": {
      "text/plain": [
       "<matplotlib.axes._subplots.AxesSubplot at 0x1f777caafc8>"
      ]
     },
     "execution_count": 53,
     "metadata": {},
     "output_type": "execute_result"
    },
    {
     "data": {
      "image/png": "[encoded data removed]",
      "text/plain": [
       "<Figure size 432x288 with 1 Axes>"
      ]
     },
     "metadata": {
      "needs_background": "light"
     },
     "output_type": "display_data"
    }
   ],
   "source": [
    "sns.scatterplot(x=dfnew['plate'], y=dfnew['mjd'], data=dfnew)"
   ]
  },
  {
   "cell_type": "code",
   "execution_count": 54,
   "metadata": {},
   "outputs": [
    {
     "data": {
      "text/plain": [
       "<matplotlib.axes._subplots.AxesSubplot at 0x1f776291408>"
      ]
     },
     "execution_count": 54,
     "metadata": {},
     "output_type": "execute_result"
    },
    {
     "data": {
      "image/png": "[encoded data removed]",
      "text/plain": [
       "<Figure size 432x288 with 1 Axes>"
      ]
     },
     "metadata": {
      "needs_background": "light"
     },
     "output_type": "display_data"
    }
   ],
   "source": [
    "sns.scatterplot(x=dfnew['specobjid'], y=dfnew['mjd'], data=dfnew)"
   ]
  },
  {
   "cell_type": "markdown",
   "metadata": {},
   "source": [
    "Observations:\n",
    "1. The plate and mjd, specobjid and mjd are positively correlated to each other.\n",
    "2. 'u','g','r','i' and 'z' are positively correlated to each other."
   ]
  },
  {
   "cell_type": "markdown",
   "metadata": {},
   "source": [
    "#### Analysis by using groupby"
   ]
  },
  {
   "cell_type": "code",
   "execution_count": 124,
   "metadata": {},
   "outputs": [
    {
     "data": {
      "text/html": [
       "<div>\n",
       "<style scoped>\n",
       "    .dataframe tbody tr th:only-of-type {\n",
       "        vertical-align: middle;\n",
       "    }\n",
       "\n",
       "    .dataframe tbody tr th {\n",
       "        vertical-align: top;\n",
       "    }\n",
       "\n",
       "    .dataframe thead th {\n",
       "        text-align: right;\n",
       "    }\n",
       "</style>\n",
       "<table border=\"1\" class=\"dataframe\">\n",
       "  <thead>\n",
       "    <tr style=\"text-align: right;\">\n",
       "      <th></th>\n",
       "      <th>ra</th>\n",
       "      <th>dec</th>\n",
       "      <th>u</th>\n",
       "      <th>g</th>\n",
       "      <th>r</th>\n",
       "      <th>i</th>\n",
       "      <th>z</th>\n",
       "      <th>run</th>\n",
       "      <th>camcol</th>\n",
       "      <th>field</th>\n",
       "      <th>specobjid</th>\n",
       "      <th>redshift</th>\n",
       "      <th>plate</th>\n",
       "      <th>mjd</th>\n",
       "      <th>fiberid</th>\n",
       "    </tr>\n",
       "    <tr>\n",
       "      <th>class</th>\n",
       "      <th></th>\n",
       "      <th></th>\n",
       "      <th></th>\n",
       "      <th></th>\n",
       "      <th></th>\n",
       "      <th></th>\n",
       "      <th></th>\n",
       "      <th></th>\n",
       "      <th></th>\n",
       "      <th></th>\n",
       "      <th></th>\n",
       "      <th></th>\n",
       "      <th></th>\n",
       "      <th></th>\n",
       "      <th></th>\n",
       "    </tr>\n",
       "  </thead>\n",
       "  <tbody>\n",
       "    <tr>\n",
       "      <td>GALAXY</td>\n",
       "      <td>177.333570</td>\n",
       "      <td>15.764372</td>\n",
       "      <td>18.804339</td>\n",
       "      <td>17.350216</td>\n",
       "      <td>16.649506</td>\n",
       "      <td>16.272770</td>\n",
       "      <td>16.017923</td>\n",
       "      <td>996.711685</td>\n",
       "      <td>3.654662</td>\n",
       "      <td>300.963585</td>\n",
       "      <td>5.379141e+17</td>\n",
       "      <td>0.080325</td>\n",
       "      <td>477.680672</td>\n",
       "      <td>52030.280912</td>\n",
       "      <td>340.108844</td>\n",
       "    </tr>\n",
       "    <tr>\n",
       "      <td>QSO</td>\n",
       "      <td>177.468000</td>\n",
       "      <td>20.570639</td>\n",
       "      <td>18.942928</td>\n",
       "      <td>18.678714</td>\n",
       "      <td>18.498535</td>\n",
       "      <td>18.360007</td>\n",
       "      <td>18.274761</td>\n",
       "      <td>1036.120000</td>\n",
       "      <td>3.694118</td>\n",
       "      <td>304.983529</td>\n",
       "      <td>1.447231e+18</td>\n",
       "      <td>1.218366</td>\n",
       "      <td>1285.305882</td>\n",
       "      <td>52694.289412</td>\n",
       "      <td>381.558824</td>\n",
       "    </tr>\n",
       "    <tr>\n",
       "      <td>STAR</td>\n",
       "      <td>172.962158</td>\n",
       "      <td>12.544824</td>\n",
       "      <td>18.330439</td>\n",
       "      <td>17.130547</td>\n",
       "      <td>16.732093</td>\n",
       "      <td>16.594047</td>\n",
       "      <td>16.531119</td>\n",
       "      <td>950.886561</td>\n",
       "      <td>3.632225</td>\n",
       "      <td>303.552264</td>\n",
       "      <td>3.018202e+18</td>\n",
       "      <td>0.000043</td>\n",
       "      <td>2680.613198</td>\n",
       "      <td>54093.892823</td>\n",
       "      <td>362.838391</td>\n",
       "    </tr>\n",
       "  </tbody>\n",
       "</table>\n",
       "</div>"
      ],
      "text/plain": [
       "                ra        dec          u          g          r          i  \\\n",
       "class                                                                       \n",
       "GALAXY  177.333570  15.764372  18.804339  17.350216  16.649506  16.272770   \n",
       "QSO     177.468000  20.570639  18.942928  18.678714  18.498535  18.360007   \n",
       "STAR    172.962158  12.544824  18.330439  17.130547  16.732093  16.594047   \n",
       "\n",
       "                z          run    camcol       field     specobjid  redshift  \\\n",
       "class                                                                          \n",
       "GALAXY  16.017923   996.711685  3.654662  300.963585  5.379141e+17  0.080325   \n",
       "QSO     18.274761  1036.120000  3.694118  304.983529  1.447231e+18  1.218366   \n",
       "STAR    16.531119   950.886561  3.632225  303.552264  3.018202e+18  0.000043   \n",
       "\n",
       "              plate           mjd     fiberid  \n",
       "class                                          \n",
       "GALAXY   477.680672  52030.280912  340.108844  \n",
       "QSO     1285.305882  52694.289412  381.558824  \n",
       "STAR    2680.613198  54093.892823  362.838391  "
      ]
     },
     "execution_count": 124,
     "metadata": {},
     "output_type": "execute_result"
    }
   ],
   "source": [
    "dfnew.groupby('class').mean()"
   ]
  },
  {
   "cell_type": "markdown",
   "metadata": {},
   "source": [
    "1. Stars are visible at lower range of ra and dec, at little higher range Galaxies are visible and at the highest range, QSO are visible.\n",
    "2. Similarly the highest range of u, g, r, i and z are relating to QSO. The next lower range belongs to star and the lowest belong to Galaxy.\n",
    "3. The highest value of run relating to the scanning image relates to QSO and next lower range belongs to Galaxy and the lowest belongs to Star.\n",
    "4. The highest mean value of field belongs to QSO and the next lower 303 belongs to star and 300 belongs to Galaxy.\n",
    "5. The highest plate value at 2680 belongs to star, followed by QSO at 1285 and galaxy at 477.\n",
    "6. The highest fiberid relates to QSO, followed by star at 362 and galaxy at 340.\n",
    "7. The highest specobjid relates to star, followed by QSO and galaxy at the last."
   ]
  },
  {
   "cell_type": "markdown",
   "metadata": {},
   "source": [
    "#### Label encoding"
   ]
  },
  {
   "cell_type": "code",
   "execution_count": 59,
   "metadata": {},
   "outputs": [
    {
     "data": {
      "text/plain": [
       "0       2\n",
       "1       2\n",
       "2       0\n",
       "3       2\n",
       "4       2\n",
       "       ..\n",
       "9995    0\n",
       "9996    0\n",
       "9997    2\n",
       "9998    0\n",
       "9999    0\n",
       "Name: class, Length: 10000, dtype: int32"
      ]
     },
     "execution_count": 59,
     "metadata": {},
     "output_type": "execute_result"
    }
   ],
   "source": [
    "#let us encode the column class\n",
    "from sklearn.preprocessing import LabelEncoder\n",
    "lb=LabelEncoder()\n",
    "dfnew['class']=lb.fit_transform(dfnew['class'])\n",
    "dfnew['class']"
   ]
  },
  {
   "cell_type": "markdown",
   "metadata": {},
   "source": [
    "#### removing outliers"
   ]
  },
  {
   "cell_type": "code",
   "execution_count": 91,
   "metadata": {},
   "outputs": [
    {
     "name": "stdout",
     "output_type": "stream",
     "text": [
      "The datashape before removing outliers is (10000, 16)\n",
      "The datashape after removing outliers is (8698, 16)\n"
     ]
    }
   ],
   "source": [
    "from scipy.stats import zscore\n",
    "z=np.abs(zscore(dfnew))\n",
    "print(\"The datashape before removing outliers is\", dfnew.shape)\n",
    "df1=dfnew[(z<3).all(axis=1)]\n",
    "print(\"The datashape after removing outliers is\", df1.shape)"
   ]
  },
  {
   "cell_type": "markdown",
   "metadata": {},
   "source": [
    "### Separating the input and the output variable"
   ]
  },
  {
   "cell_type": "code",
   "execution_count": 92,
   "metadata": {},
   "outputs": [
    {
     "data": {
      "text/html": [
       "<div>\n",
       "<style scoped>\n",
       "    .dataframe tbody tr th:only-of-type {\n",
       "        vertical-align: middle;\n",
       "    }\n",
       "\n",
       "    .dataframe tbody tr th {\n",
       "        vertical-align: top;\n",
       "    }\n",
       "\n",
       "    .dataframe thead th {\n",
       "        text-align: right;\n",
       "    }\n",
       "</style>\n",
       "<table border=\"1\" class=\"dataframe\">\n",
       "  <thead>\n",
       "    <tr style=\"text-align: right;\">\n",
       "      <th></th>\n",
       "      <th>ra</th>\n",
       "      <th>dec</th>\n",
       "      <th>u</th>\n",
       "      <th>g</th>\n",
       "      <th>r</th>\n",
       "      <th>i</th>\n",
       "      <th>z</th>\n",
       "      <th>run</th>\n",
       "      <th>camcol</th>\n",
       "      <th>field</th>\n",
       "      <th>specobjid</th>\n",
       "      <th>redshift</th>\n",
       "      <th>plate</th>\n",
       "      <th>mjd</th>\n",
       "      <th>fiberid</th>\n",
       "    </tr>\n",
       "  </thead>\n",
       "  <tbody>\n",
       "    <tr>\n",
       "      <td>0</td>\n",
       "      <td>183.531326</td>\n",
       "      <td>0.089693</td>\n",
       "      <td>19.47406</td>\n",
       "      <td>17.04240</td>\n",
       "      <td>15.94699</td>\n",
       "      <td>15.50342</td>\n",
       "      <td>15.22531</td>\n",
       "      <td>752</td>\n",
       "      <td>4</td>\n",
       "      <td>267</td>\n",
       "      <td>3.722360e+18</td>\n",
       "      <td>-0.000009</td>\n",
       "      <td>3306</td>\n",
       "      <td>54922</td>\n",
       "      <td>491</td>\n",
       "    </tr>\n",
       "    <tr>\n",
       "      <td>1</td>\n",
       "      <td>183.598371</td>\n",
       "      <td>0.135285</td>\n",
       "      <td>18.66280</td>\n",
       "      <td>17.21449</td>\n",
       "      <td>16.67637</td>\n",
       "      <td>16.48922</td>\n",
       "      <td>16.39150</td>\n",
       "      <td>752</td>\n",
       "      <td>4</td>\n",
       "      <td>267</td>\n",
       "      <td>3.638140e+17</td>\n",
       "      <td>-0.000055</td>\n",
       "      <td>323</td>\n",
       "      <td>51615</td>\n",
       "      <td>541</td>\n",
       "    </tr>\n",
       "    <tr>\n",
       "      <td>2</td>\n",
       "      <td>183.680207</td>\n",
       "      <td>0.126185</td>\n",
       "      <td>19.38298</td>\n",
       "      <td>18.19169</td>\n",
       "      <td>17.47428</td>\n",
       "      <td>17.08732</td>\n",
       "      <td>16.80125</td>\n",
       "      <td>752</td>\n",
       "      <td>4</td>\n",
       "      <td>268</td>\n",
       "      <td>3.232740e+17</td>\n",
       "      <td>0.123111</td>\n",
       "      <td>287</td>\n",
       "      <td>52023</td>\n",
       "      <td>513</td>\n",
       "    </tr>\n",
       "    <tr>\n",
       "      <td>3</td>\n",
       "      <td>183.870529</td>\n",
       "      <td>0.049911</td>\n",
       "      <td>17.76536</td>\n",
       "      <td>16.60272</td>\n",
       "      <td>16.16116</td>\n",
       "      <td>15.98233</td>\n",
       "      <td>15.90438</td>\n",
       "      <td>752</td>\n",
       "      <td>4</td>\n",
       "      <td>269</td>\n",
       "      <td>3.722370e+18</td>\n",
       "      <td>-0.000111</td>\n",
       "      <td>3306</td>\n",
       "      <td>54922</td>\n",
       "      <td>510</td>\n",
       "    </tr>\n",
       "    <tr>\n",
       "      <td>4</td>\n",
       "      <td>183.883288</td>\n",
       "      <td>0.102557</td>\n",
       "      <td>17.55025</td>\n",
       "      <td>16.26342</td>\n",
       "      <td>16.43869</td>\n",
       "      <td>16.55492</td>\n",
       "      <td>16.61326</td>\n",
       "      <td>752</td>\n",
       "      <td>4</td>\n",
       "      <td>269</td>\n",
       "      <td>3.722370e+18</td>\n",
       "      <td>0.000590</td>\n",
       "      <td>3306</td>\n",
       "      <td>54922</td>\n",
       "      <td>512</td>\n",
       "    </tr>\n",
       "  </tbody>\n",
       "</table>\n",
       "</div>"
      ],
      "text/plain": [
       "           ra       dec         u         g         r         i         z  \\\n",
       "0  183.531326  0.089693  19.47406  17.04240  15.94699  15.50342  15.22531   \n",
       "1  183.598371  0.135285  18.66280  17.21449  16.67637  16.48922  16.39150   \n",
       "2  183.680207  0.126185  19.38298  18.19169  17.47428  17.08732  16.80125   \n",
       "3  183.870529  0.049911  17.76536  16.60272  16.16116  15.98233  15.90438   \n",
       "4  183.883288  0.102557  17.55025  16.26342  16.43869  16.55492  16.61326   \n",
       "\n",
       "   run  camcol  field     specobjid  redshift  plate    mjd  fiberid  \n",
       "0  752       4    267  3.722360e+18 -0.000009   3306  54922      491  \n",
       "1  752       4    267  3.638140e+17 -0.000055    323  51615      541  \n",
       "2  752       4    268  3.232740e+17  0.123111    287  52023      513  \n",
       "3  752       4    269  3.722370e+18 -0.000111   3306  54922      510  \n",
       "4  752       4    269  3.722370e+18  0.000590   3306  54922      512  "
      ]
     },
     "execution_count": 92,
     "metadata": {},
     "output_type": "execute_result"
    }
   ],
   "source": [
    "x=df1.drop(['class'],axis=1)\n",
    "y=pd.DataFrame(df1['class'])\n",
    "x.head()"
   ]
  },
  {
   "cell_type": "code",
   "execution_count": 93,
   "metadata": {},
   "outputs": [
    {
     "data": {
      "text/html": [
       "<div>\n",
       "<style scoped>\n",
       "    .dataframe tbody tr th:only-of-type {\n",
       "        vertical-align: middle;\n",
       "    }\n",
       "\n",
       "    .dataframe tbody tr th {\n",
       "        vertical-align: top;\n",
       "    }\n",
       "\n",
       "    .dataframe thead th {\n",
       "        text-align: right;\n",
       "    }\n",
       "</style>\n",
       "<table border=\"1\" class=\"dataframe\">\n",
       "  <thead>\n",
       "    <tr style=\"text-align: right;\">\n",
       "      <th></th>\n",
       "      <th>class</th>\n",
       "    </tr>\n",
       "  </thead>\n",
       "  <tbody>\n",
       "    <tr>\n",
       "      <td>0</td>\n",
       "      <td>2</td>\n",
       "    </tr>\n",
       "    <tr>\n",
       "      <td>1</td>\n",
       "      <td>2</td>\n",
       "    </tr>\n",
       "    <tr>\n",
       "      <td>2</td>\n",
       "      <td>0</td>\n",
       "    </tr>\n",
       "    <tr>\n",
       "      <td>3</td>\n",
       "      <td>2</td>\n",
       "    </tr>\n",
       "    <tr>\n",
       "      <td>4</td>\n",
       "      <td>2</td>\n",
       "    </tr>\n",
       "  </tbody>\n",
       "</table>\n",
       "</div>"
      ],
      "text/plain": [
       "   class\n",
       "0      2\n",
       "1      2\n",
       "2      0\n",
       "3      2\n",
       "4      2"
      ]
     },
     "execution_count": 93,
     "metadata": {},
     "output_type": "execute_result"
    }
   ],
   "source": [
    "y.head()"
   ]
  },
  {
   "cell_type": "markdown",
   "metadata": {},
   "source": [
    "#### checking skewness"
   ]
  },
  {
   "cell_type": "code",
   "execution_count": 94,
   "metadata": {},
   "outputs": [
    {
     "data": {
      "text/plain": [
       "ra          -0.130951\n",
       "dec          1.212911\n",
       "u           -0.981103\n",
       "g           -0.528033\n",
       "r           -0.153454\n",
       "i            0.055966\n",
       "z            0.167256\n",
       "run          0.518602\n",
       "camcol      -0.141193\n",
       "field        0.220032\n",
       "specobjid    1.320102\n",
       "redshift     4.951700\n",
       "plate        1.320088\n",
       "mjd          0.963989\n",
       "fiberid      0.065374\n",
       "dtype: float64"
      ]
     },
     "execution_count": 94,
     "metadata": {},
     "output_type": "execute_result"
    }
   ],
   "source": [
    "x.skew()"
   ]
  },
  {
   "cell_type": "code",
   "execution_count": 96,
   "metadata": {},
   "outputs": [],
   "source": [
    "#using log1p function to reduce skewness\n",
    "#dec and redshift are excluded in the columnlist as after removing skewness in these two columns, many values in the two columns used to go null.\n",
    "\n",
    "for i in ['ra', 'u', 'g', 'r', 'i', 'z', 'run', 'camcol', 'field', 'specobjid', 'plate', 'mjd', 'fiberid']:\n",
    "    if x.skew()[i]>0.55:\n",
    "        x[i]=np.sqrt(x[i])"
   ]
  },
  {
   "cell_type": "code",
   "execution_count": 97,
   "metadata": {},
   "outputs": [
    {
     "data": {
      "text/plain": [
       "ra          -0.130951\n",
       "dec          1.212911\n",
       "u           -0.981103\n",
       "g           -0.528033\n",
       "r           -0.153454\n",
       "i            0.055966\n",
       "z            0.167256\n",
       "run          0.518602\n",
       "camcol      -0.141193\n",
       "field        0.220032\n",
       "specobjid    0.844365\n",
       "redshift     4.951700\n",
       "plate        0.953614\n",
       "mjd          0.956708\n",
       "fiberid      0.065374\n",
       "dtype: float64"
      ]
     },
     "execution_count": 97,
     "metadata": {},
     "output_type": "execute_result"
    }
   ],
   "source": [
    "x.skew()\n",
    "#The skewness has been reduced to some extent."
   ]
  },
  {
   "cell_type": "markdown",
   "metadata": {},
   "source": [
    "### Scaling the data"
   ]
  },
  {
   "cell_type": "code",
   "execution_count": 98,
   "metadata": {},
   "outputs": [
    {
     "data": {
      "text/html": [
       "<div>\n",
       "<style scoped>\n",
       "    .dataframe tbody tr th:only-of-type {\n",
       "        vertical-align: middle;\n",
       "    }\n",
       "\n",
       "    .dataframe tbody tr th {\n",
       "        vertical-align: top;\n",
       "    }\n",
       "\n",
       "    .dataframe thead th {\n",
       "        text-align: right;\n",
       "    }\n",
       "</style>\n",
       "<table border=\"1\" class=\"dataframe\">\n",
       "  <thead>\n",
       "    <tr style=\"text-align: right;\">\n",
       "      <th></th>\n",
       "      <th>0</th>\n",
       "      <th>1</th>\n",
       "      <th>2</th>\n",
       "      <th>3</th>\n",
       "      <th>4</th>\n",
       "      <th>5</th>\n",
       "      <th>6</th>\n",
       "      <th>7</th>\n",
       "      <th>8</th>\n",
       "      <th>9</th>\n",
       "      <th>10</th>\n",
       "      <th>11</th>\n",
       "      <th>12</th>\n",
       "      <th>13</th>\n",
       "      <th>14</th>\n",
       "    </tr>\n",
       "  </thead>\n",
       "  <tbody>\n",
       "    <tr>\n",
       "      <td>0</td>\n",
       "      <td>0.661365</td>\n",
       "      <td>0.074025</td>\n",
       "      <td>0.963691</td>\n",
       "      <td>0.478487</td>\n",
       "      <td>0.380934</td>\n",
       "      <td>0.348769</td>\n",
       "      <td>0.334290</td>\n",
       "      <td>0.402174</td>\n",
       "      <td>0.6</td>\n",
       "      <td>0.338177</td>\n",
       "      <td>0.701670</td>\n",
       "      <td>0.003142</td>\n",
       "      <td>0.621147</td>\n",
       "      <td>0.656067</td>\n",
       "      <td>0.505676</td>\n",
       "    </tr>\n",
       "    <tr>\n",
       "      <td>1</td>\n",
       "      <td>0.661658</td>\n",
       "      <td>0.074642</td>\n",
       "      <td>0.729614</td>\n",
       "      <td>0.511772</td>\n",
       "      <td>0.504870</td>\n",
       "      <td>0.500139</td>\n",
       "      <td>0.496166</td>\n",
       "      <td>0.402174</td>\n",
       "      <td>0.6</td>\n",
       "      <td>0.338177</td>\n",
       "      <td>0.039794</td>\n",
       "      <td>0.003107</td>\n",
       "      <td>0.025075</td>\n",
       "      <td>0.007374</td>\n",
       "      <td>0.557276</td>\n",
       "    </tr>\n",
       "    <tr>\n",
       "      <td>2</td>\n",
       "      <td>0.662017</td>\n",
       "      <td>0.074519</td>\n",
       "      <td>0.937411</td>\n",
       "      <td>0.700781</td>\n",
       "      <td>0.640450</td>\n",
       "      <td>0.591978</td>\n",
       "      <td>0.553043</td>\n",
       "      <td>0.402174</td>\n",
       "      <td>0.6</td>\n",
       "      <td>0.339498</td>\n",
       "      <td>0.015364</td>\n",
       "      <td>0.096864</td>\n",
       "      <td>0.009524</td>\n",
       "      <td>0.088508</td>\n",
       "      <td>0.528380</td>\n",
       "    </tr>\n",
       "    <tr>\n",
       "      <td>3</td>\n",
       "      <td>0.662850</td>\n",
       "      <td>0.073487</td>\n",
       "      <td>0.470670</td>\n",
       "      <td>0.393445</td>\n",
       "      <td>0.417326</td>\n",
       "      <td>0.422306</td>\n",
       "      <td>0.428550</td>\n",
       "      <td>0.402174</td>\n",
       "      <td>0.6</td>\n",
       "      <td>0.340819</td>\n",
       "      <td>0.701671</td>\n",
       "      <td>0.003064</td>\n",
       "      <td>0.621147</td>\n",
       "      <td>0.656067</td>\n",
       "      <td>0.525284</td>\n",
       "    </tr>\n",
       "    <tr>\n",
       "      <td>4</td>\n",
       "      <td>0.662906</td>\n",
       "      <td>0.074199</td>\n",
       "      <td>0.408604</td>\n",
       "      <td>0.327818</td>\n",
       "      <td>0.464483</td>\n",
       "      <td>0.510227</td>\n",
       "      <td>0.526948</td>\n",
       "      <td>0.402174</td>\n",
       "      <td>0.6</td>\n",
       "      <td>0.340819</td>\n",
       "      <td>0.701671</td>\n",
       "      <td>0.003598</td>\n",
       "      <td>0.621147</td>\n",
       "      <td>0.656067</td>\n",
       "      <td>0.527348</td>\n",
       "    </tr>\n",
       "  </tbody>\n",
       "</table>\n",
       "</div>"
      ],
      "text/plain": [
       "          0         1         2         3         4         5         6  \\\n",
       "0  0.661365  0.074025  0.963691  0.478487  0.380934  0.348769  0.334290   \n",
       "1  0.661658  0.074642  0.729614  0.511772  0.504870  0.500139  0.496166   \n",
       "2  0.662017  0.074519  0.937411  0.700781  0.640450  0.591978  0.553043   \n",
       "3  0.662850  0.073487  0.470670  0.393445  0.417326  0.422306  0.428550   \n",
       "4  0.662906  0.074199  0.408604  0.327818  0.464483  0.510227  0.526948   \n",
       "\n",
       "          7    8         9        10        11        12        13        14  \n",
       "0  0.402174  0.6  0.338177  0.701670  0.003142  0.621147  0.656067  0.505676  \n",
       "1  0.402174  0.6  0.338177  0.039794  0.003107  0.025075  0.007374  0.557276  \n",
       "2  0.402174  0.6  0.339498  0.015364  0.096864  0.009524  0.088508  0.528380  \n",
       "3  0.402174  0.6  0.340819  0.701671  0.003064  0.621147  0.656067  0.525284  \n",
       "4  0.402174  0.6  0.340819  0.701671  0.003598  0.621147  0.656067  0.527348  "
      ]
     },
     "execution_count": 98,
     "metadata": {},
     "output_type": "execute_result"
    }
   ],
   "source": [
    "#using the minmaxscaler to scale the input variables\n",
    "from sklearn.preprocessing import MinMaxScaler\n",
    "scaler=MinMaxScaler()\n",
    "x=pd.DataFrame(scaler.fit_transform(x))\n",
    "x.head()"
   ]
  },
  {
   "cell_type": "markdown",
   "metadata": {},
   "source": [
    "#### selecting the best random state for splitting the data"
   ]
  },
  {
   "cell_type": "code",
   "execution_count": 99,
   "metadata": {},
   "outputs": [],
   "source": [
    "from sklearn.linear_model import LogisticRegression\n",
    "from sklearn.model_selection import train_test_split\n",
    "from sklearn.metrics import accuracy_score, classification_report, confusion_matrix\n",
    "from sklearn.model_selection import cross_val_score\n"
   ]
  },
  {
   "cell_type": "code",
   "execution_count": 100,
   "metadata": {},
   "outputs": [],
   "source": [
    "def max_acc_score(reg,x,y):\n",
    "    max_score=0\n",
    "    for r_state in range (42,101):\n",
    "        train_x,test_x,train_y,test_y=train_test_split(x,y,random_state=r_state,test_size=0.20)\n",
    "        reg.fit(train_x,train_y)\n",
    "        pred=reg.predict(test_x)\n",
    "        acc_score=accuracy_score(test_y,pred)\n",
    "        print(\"The accuracy score at r_state\", r_state, \"is\", acc_score)\n",
    "        if acc_score>max_score:\n",
    "            max_score=acc_score\n",
    "            final_r_state=r_state\n",
    "    print(\"The maximum accuracy score\", max_score, \"is achieved at\", final_r_state)\n",
    "    return max_score"
   ]
  },
  {
   "cell_type": "code",
   "execution_count": 101,
   "metadata": {},
   "outputs": [
    {
     "name": "stdout",
     "output_type": "stream",
     "text": [
      "The accuracy score at r_state 42 is 0.9166666666666666\n",
      "The accuracy score at r_state 43 is 0.9120689655172414\n",
      "The accuracy score at r_state 44 is 0.9241379310344827\n",
      "The accuracy score at r_state 45 is 0.9183908045977012\n",
      "The accuracy score at r_state 46 is 0.9287356321839081\n",
      "The accuracy score at r_state 47 is 0.9189655172413793\n",
      "The accuracy score at r_state 48 is 0.9172413793103448\n",
      "The accuracy score at r_state 49 is 0.9201149425287356\n",
      "The accuracy score at r_state 50 is 0.917816091954023\n",
      "The accuracy score at r_state 51 is 0.9120689655172414\n",
      "The accuracy score at r_state 52 is 0.9028735632183909\n",
      "The accuracy score at r_state 53 is 0.9091954022988505\n",
      "The accuracy score at r_state 54 is 0.921264367816092\n",
      "The accuracy score at r_state 55 is 0.9172413793103448\n",
      "The accuracy score at r_state 56 is 0.9126436781609195\n",
      "The accuracy score at r_state 57 is 0.9189655172413793\n",
      "The accuracy score at r_state 58 is 0.924712643678161\n",
      "The accuracy score at r_state 59 is 0.9155172413793103\n",
      "The accuracy score at r_state 60 is 0.9160919540229885\n",
      "The accuracy score at r_state 61 is 0.9258620689655173\n",
      "The accuracy score at r_state 62 is 0.9183908045977012\n",
      "The accuracy score at r_state 63 is 0.9120689655172414\n",
      "The accuracy score at r_state 64 is 0.9189655172413793\n",
      "The accuracy score at r_state 65 is 0.9252873563218391\n",
      "The accuracy score at r_state 66 is 0.9057471264367816\n",
      "The accuracy score at r_state 67 is 0.9224137931034483\n",
      "The accuracy score at r_state 68 is 0.9183908045977012\n",
      "The accuracy score at r_state 69 is 0.9195402298850575\n",
      "The accuracy score at r_state 70 is 0.917816091954023\n",
      "The accuracy score at r_state 71 is 0.9114942528735632\n",
      "The accuracy score at r_state 72 is 0.9206896551724137\n",
      "The accuracy score at r_state 73 is 0.9229885057471264\n",
      "The accuracy score at r_state 74 is 0.9183908045977012\n",
      "The accuracy score at r_state 75 is 0.9201149425287356\n",
      "The accuracy score at r_state 76 is 0.9120689655172414\n",
      "The accuracy score at r_state 77 is 0.9293103448275862\n",
      "The accuracy score at r_state 78 is 0.9103448275862069\n",
      "The accuracy score at r_state 79 is 0.9057471264367816\n",
      "The accuracy score at r_state 80 is 0.914367816091954\n",
      "The accuracy score at r_state 81 is 0.9103448275862069\n",
      "The accuracy score at r_state 82 is 0.9120689655172414\n",
      "The accuracy score at r_state 83 is 0.9166666666666666\n",
      "The accuracy score at r_state 84 is 0.9172413793103448\n",
      "The accuracy score at r_state 85 is 0.9258620689655173\n",
      "The accuracy score at r_state 86 is 0.9166666666666666\n",
      "The accuracy score at r_state 87 is 0.914367816091954\n",
      "The accuracy score at r_state 88 is 0.9201149425287356\n",
      "The accuracy score at r_state 89 is 0.9189655172413793\n",
      "The accuracy score at r_state 90 is 0.9252873563218391\n",
      "The accuracy score at r_state 91 is 0.917816091954023\n",
      "The accuracy score at r_state 92 is 0.9160919540229885\n",
      "The accuracy score at r_state 93 is 0.9270114942528735\n",
      "The accuracy score at r_state 94 is 0.921264367816092\n",
      "The accuracy score at r_state 95 is 0.9183908045977012\n",
      "The accuracy score at r_state 96 is 0.9137931034482759\n",
      "The accuracy score at r_state 97 is 0.9201149425287356\n",
      "The accuracy score at r_state 98 is 0.924712643678161\n",
      "The accuracy score at r_state 99 is 0.9172413793103448\n",
      "The accuracy score at r_state 100 is 0.9155172413793103\n",
      "The maximum accuracy score 0.9293103448275862 is achieved at 77\n"
     ]
    },
    {
     "data": {
      "text/plain": [
       "0.9293103448275862"
      ]
     },
     "execution_count": 101,
     "metadata": {},
     "output_type": "execute_result"
    }
   ],
   "source": [
    "lg=LogisticRegression()\n",
    "max_acc_score(lg,x,y)"
   ]
  },
  {
   "cell_type": "code",
   "execution_count": 102,
   "metadata": {},
   "outputs": [
    {
     "name": "stdout",
     "output_type": "stream",
     "text": [
      "0.9164165270861971\n"
     ]
    }
   ],
   "source": [
    "#Lets check the cross val score for the same\n",
    "cvscore=cross_val_score(lg,x,y,cv=5).mean()\n",
    "print(cvscore)"
   ]
  },
  {
   "cell_type": "code",
   "execution_count": 103,
   "metadata": {},
   "outputs": [],
   "source": [
    "#Lets finalise the train and test data\n",
    "train_x,test_x,train_y,test_y=train_test_split(x,y,random_state=77,test_size=0.20)"
   ]
  },
  {
   "cell_type": "markdown",
   "metadata": {},
   "source": [
    "\n",
    "Let us check the different models and we need to use GradientSearchCV to bring out the best parameters for the models"
   ]
  },
  {
   "cell_type": "markdown",
   "metadata": {},
   "source": [
    "#### Using GridSearchCV"
   ]
  },
  {
   "cell_type": "code",
   "execution_count": 104,
   "metadata": {},
   "outputs": [
    {
     "data": {
      "text/plain": [
       "{'algorithm': 'auto', 'n_neighbors': 5, 'weights': 'distance'}"
      ]
     },
     "execution_count": 104,
     "metadata": {},
     "output_type": "execute_result"
    }
   ],
   "source": [
    "from sklearn.model_selection import GridSearchCV\n",
    "from sklearn.neighbors import KNeighborsClassifier\n",
    "kn=KNeighborsClassifier()\n",
    "parameters={'n_neighbors':(5,10,15,20),'weights':('uniform','distance'),'algorithm':('auto','ball_tree','kd_tree','brute')}\n",
    "gdkn=GridSearchCV(kn,parameters)\n",
    "gdkn.fit(train_x,train_y)\n",
    "gdkn.best_params_"
   ]
  },
  {
   "cell_type": "code",
   "execution_count": 106,
   "metadata": {},
   "outputs": [
    {
     "data": {
      "text/plain": [
       "{'criterion': 'entropy', 'splitter': 'best'}"
      ]
     },
     "execution_count": 106,
     "metadata": {},
     "output_type": "execute_result"
    }
   ],
   "source": [
    "from sklearn.tree import DecisionTreeClassifier\n",
    "dt=DecisionTreeClassifier()\n",
    "parameters={'criterion':('gini','entropy'), 'splitter':('best','random')}\n",
    "gddt=GridSearchCV(dt,parameters)\n",
    "gddt.fit(train_x,train_y)\n",
    "gddt.best_params_"
   ]
  },
  {
   "cell_type": "code",
   "execution_count": 107,
   "metadata": {},
   "outputs": [
    {
     "data": {
      "text/plain": [
       "{'C': 10, 'kernel': 'linear'}"
      ]
     },
     "execution_count": 107,
     "metadata": {},
     "output_type": "execute_result"
    }
   ],
   "source": [
    "from sklearn.svm import SVC\n",
    "sv=SVC()\n",
    "parameters={'C':(1,10),'kernel':('linear','poly','rbf')}\n",
    "gdsv=GridSearchCV(sv,parameters)\n",
    "gdsv.fit(train_x,train_y)\n",
    "gdsv.best_params_"
   ]
  },
  {
   "cell_type": "code",
   "execution_count": 109,
   "metadata": {},
   "outputs": [
    {
     "data": {
      "text/plain": [
       "{'alpha': 0.001}"
      ]
     },
     "execution_count": 109,
     "metadata": {},
     "output_type": "execute_result"
    }
   ],
   "source": [
    "from sklearn.naive_bayes import MultinomialNB\n",
    "mb=MultinomialNB()\n",
    "parameters={'alpha':(0.001,0.01,0.1,1)}\n",
    "gd=GridSearchCV(mb,parameters)\n",
    "gd.fit(train_x,train_y)\n",
    "gd.best_params_"
   ]
  },
  {
   "cell_type": "code",
   "execution_count": 105,
   "metadata": {},
   "outputs": [],
   "source": [
    "#After obtaining best parameters, we should now check the models"
   ]
  },
  {
   "cell_type": "code",
   "execution_count": 117,
   "metadata": {},
   "outputs": [
    {
     "name": "stdout",
     "output_type": "stream",
     "text": [
      "LogisticRegression(C=1.0, class_weight=None, dual=False, fit_intercept=True,\n",
      "                   intercept_scaling=1, l1_ratio=None, max_iter=100,\n",
      "                   multi_class='warn', n_jobs=None, penalty='l2',\n",
      "                   random_state=None, solver='warn', tol=0.0001, verbose=0,\n",
      "                   warm_start=False)\n",
      "The accuracy score is  0.9293103448275862\n",
      "The cross val score is 0.9164165270861971\n",
      "\n",
      "              precision    recall  f1-score   support\n",
      "\n",
      "           0       0.91      0.96      0.94       965\n",
      "           1       0.96      0.92      0.94        78\n",
      "           2       0.95      0.88      0.92       697\n",
      "\n",
      "    accuracy                           0.93      1740\n",
      "   macro avg       0.94      0.92      0.93      1740\n",
      "weighted avg       0.93      0.93      0.93      1740\n",
      "\n",
      "\n",
      "[[931   3  31]\n",
      " [  6  72   0]\n",
      " [ 83   0 614]]\n",
      "\n",
      "The roc auc score is 0.9370660439460967\n",
      "\n",
      "\n",
      "\n",
      "\n",
      "KNeighborsClassifier(algorithm='auto', leaf_size=30, metric='minkowski',\n",
      "                     metric_params=None, n_jobs=None, n_neighbors=5, p=2,\n",
      "                     weights='distance')\n",
      "The accuracy score is  0.9132183908045977\n",
      "The cross val score is 0.8885902446570654\n",
      "\n",
      "              precision    recall  f1-score   support\n",
      "\n",
      "           0       0.90      0.96      0.93       965\n",
      "           1       0.97      0.88      0.93        78\n",
      "           2       0.93      0.86      0.89       697\n",
      "\n",
      "    accuracy                           0.91      1740\n",
      "   macro avg       0.93      0.90      0.91      1740\n",
      "weighted avg       0.91      0.91      0.91      1740\n",
      "\n",
      "\n",
      "[[923   2  40]\n",
      " [  6  69   3]\n",
      " [100   0 597]]\n",
      "\n",
      "The roc auc score is 0.9197358755780316\n",
      "\n",
      "\n",
      "\n",
      "\n",
      "DecisionTreeClassifier(class_weight=None, criterion='entropy', max_depth=None,\n",
      "                       max_features=None, max_leaf_nodes=None,\n",
      "                       min_impurity_decrease=0.0, min_impurity_split=None,\n",
      "                       min_samples_leaf=1, min_samples_split=2,\n",
      "                       min_weight_fraction_leaf=0.0, presort=False,\n",
      "                       random_state=None, splitter='best')\n",
      "The accuracy score is  0.9913793103448276\n",
      "The cross val score is 0.9858588246708413\n",
      "\n",
      "              precision    recall  f1-score   support\n",
      "\n",
      "           0       0.99      0.99      0.99       965\n",
      "           1       0.89      0.95      0.92        78\n",
      "           2       1.00      1.00      1.00       697\n",
      "\n",
      "    accuracy                           0.99      1740\n",
      "   macro avg       0.96      0.98      0.97      1740\n",
      "weighted avg       0.99      0.99      0.99      1740\n",
      "\n",
      "\n",
      "[[955   9   1]\n",
      " [  4  74   0]\n",
      " [  1   0 696]]\n",
      "\n",
      "The roc auc score is 0.9873491643431538\n",
      "\n",
      "\n",
      "\n",
      "\n",
      "SVC(C=10, cache_size=200, class_weight=None, coef0=0.0,\n",
      "    decision_function_shape='ovr', degree=3, gamma='auto_deprecated',\n",
      "    kernel='linear', max_iter=-1, probability=False, random_state=None,\n",
      "    shrinking=True, tol=0.001, verbose=False)\n",
      "The accuracy score is  0.9804597701149426\n",
      "The cross val score is 0.9806848886732921\n",
      "\n",
      "              precision    recall  f1-score   support\n",
      "\n",
      "           0       0.99      0.98      0.98       965\n",
      "           1       0.95      0.95      0.95        78\n",
      "           2       0.97      0.99      0.98       697\n",
      "\n",
      "    accuracy                           0.98      1740\n",
      "   macro avg       0.97      0.97      0.97      1740\n",
      "weighted avg       0.98      0.98      0.98      1740\n",
      "\n",
      "\n",
      "[[942   4  19]\n",
      " [  4  74   0]\n",
      " [  7   0 690]]\n",
      "\n",
      "The roc auc score is 0.9800039567196214\n",
      "\n",
      "\n",
      "\n",
      "\n",
      "MultinomialNB(alpha=0.001, class_prior=None, fit_prior=True)\n",
      "The accuracy score is  0.8419540229885057\n",
      "The cross val score is 0.8270849305061653\n",
      "\n",
      "              precision    recall  f1-score   support\n",
      "\n",
      "           0       0.79      0.98      0.87       965\n",
      "           1       0.00      0.00      0.00        78\n",
      "           2       0.97      0.74      0.84       697\n",
      "\n",
      "    accuracy                           0.84      1740\n",
      "   macro avg       0.58      0.57      0.57      1740\n",
      "weighted avg       0.82      0.84      0.82      1740\n",
      "\n",
      "\n",
      "[[950   0  15]\n",
      " [ 76   0   2]\n",
      " [182   0 515]]\n",
      "\n",
      "The roc auc score is 0.17422363362861443\n",
      "\n",
      "\n",
      "\n",
      "\n"
     ]
    }
   ],
   "source": [
    "from sklearn.metrics import accuracy_score, auc, roc_auc_score, classification_report, confusion_matrix, roc_curve\n",
    "from sklearn.preprocessing import LabelBinarizer\n",
    "\n",
    "score=[]\n",
    "cv=[]\n",
    "rocscore=[]\n",
    "\n",
    "\n",
    "algorithms=[lg,KNeighborsClassifier(algorithm='auto', n_neighbors= 5, weights='distance'), DecisionTreeClassifier(criterion= 'entropy', splitter= 'best'), SVC(C=10, kernel='linear'),MultinomialNB(alpha=0.001)]\n",
    "\n",
    "for i in algorithms:\n",
    "    print(i)\n",
    "    i.fit(train_x,train_y)\n",
    "    pred=i.predict(test_x)\n",
    "    accscore=accuracy_score(test_y,pred)\n",
    "    score.append(accscore)\n",
    "    print(\"The accuracy score is \", accscore)\n",
    "    cvscore=cross_val_score(i,x,y,cv=5,scoring='accuracy').mean()\n",
    "    cv.append(cvscore)\n",
    "    print(\"The cross val score is\", cvscore)\n",
    "    print()\n",
    "    print(classification_report(test_y,pred))\n",
    "    print()\n",
    "    cm=confusion_matrix(test_y,pred)\n",
    "    print(cm)\n",
    "    print()\n",
    "    lb=LabelBinarizer()\n",
    "    ytest=lb.fit_transform(test_y)\n",
    "    predy=lb.fit_transform(pred)\n",
    "    roc=roc_auc_score(ytest,predy)\n",
    "    print(\"The roc auc score is\", roc)\n",
    "    rocscore.append(roc)\n",
    "    print(\"\\n\")\n",
    "    print(\"\\n\")"
   ]
  },
  {
   "cell_type": "code",
   "execution_count": 118,
   "metadata": {},
   "outputs": [
    {
     "data": {
      "text/html": [
       "<div>\n",
       "<style scoped>\n",
       "    .dataframe tbody tr th:only-of-type {\n",
       "        vertical-align: middle;\n",
       "    }\n",
       "\n",
       "    .dataframe tbody tr th {\n",
       "        vertical-align: top;\n",
       "    }\n",
       "\n",
       "    .dataframe thead th {\n",
       "        text-align: right;\n",
       "    }\n",
       "</style>\n",
       "<table border=\"1\" class=\"dataframe\">\n",
       "  <thead>\n",
       "    <tr style=\"text-align: right;\">\n",
       "      <th></th>\n",
       "      <th>Model</th>\n",
       "      <th>Accuracy_Score</th>\n",
       "      <th>Cross_val_score</th>\n",
       "      <th>AUC_ROC</th>\n",
       "    </tr>\n",
       "  </thead>\n",
       "  <tbody>\n",
       "    <tr>\n",
       "      <td>0</td>\n",
       "      <td>&lt;class 'sklearn.linear_model.logistic.Logistic...</td>\n",
       "      <td>0.929310</td>\n",
       "      <td>0.916417</td>\n",
       "      <td>0.937066</td>\n",
       "    </tr>\n",
       "    <tr>\n",
       "      <td>1</td>\n",
       "      <td>&lt;class 'sklearn.neighbors.classification.KNeig...</td>\n",
       "      <td>0.913218</td>\n",
       "      <td>0.888590</td>\n",
       "      <td>0.919736</td>\n",
       "    </tr>\n",
       "    <tr>\n",
       "      <td>2</td>\n",
       "      <td>&lt;class 'sklearn.tree.tree.DecisionTreeClassifi...</td>\n",
       "      <td>0.991379</td>\n",
       "      <td>0.985859</td>\n",
       "      <td>0.987349</td>\n",
       "    </tr>\n",
       "    <tr>\n",
       "      <td>3</td>\n",
       "      <td>&lt;class 'sklearn.svm.classes.SVC'&gt;</td>\n",
       "      <td>0.980460</td>\n",
       "      <td>0.980685</td>\n",
       "      <td>0.980004</td>\n",
       "    </tr>\n",
       "    <tr>\n",
       "      <td>4</td>\n",
       "      <td>&lt;class 'sklearn.naive_bayes.MultinomialNB'&gt;</td>\n",
       "      <td>0.841954</td>\n",
       "      <td>0.827085</td>\n",
       "      <td>0.174224</td>\n",
       "    </tr>\n",
       "  </tbody>\n",
       "</table>\n",
       "</div>"
      ],
      "text/plain": [
       "                                               Model  Accuracy_Score  \\\n",
       "0  <class 'sklearn.linear_model.logistic.Logistic...        0.929310   \n",
       "1  <class 'sklearn.neighbors.classification.KNeig...        0.913218   \n",
       "2  <class 'sklearn.tree.tree.DecisionTreeClassifi...        0.991379   \n",
       "3                  <class 'sklearn.svm.classes.SVC'>        0.980460   \n",
       "4        <class 'sklearn.naive_bayes.MultinomialNB'>        0.841954   \n",
       "\n",
       "   Cross_val_score   AUC_ROC  \n",
       "0         0.916417  0.937066  \n",
       "1         0.888590  0.919736  \n",
       "2         0.985859  0.987349  \n",
       "3         0.980685  0.980004  \n",
       "4         0.827085  0.174224  "
      ]
     },
     "execution_count": 118,
     "metadata": {},
     "output_type": "execute_result"
    }
   ],
   "source": [
    "result=pd.DataFrame({'Model':[LogisticRegression,KNeighborsClassifier, DecisionTreeClassifier, SVC,MultinomialNB],'Accuracy_Score':score,'Cross_val_score':cv, 'AUC_ROC':rocscore})\n",
    "result"
   ]
  },
  {
   "cell_type": "markdown",
   "metadata": {},
   "source": [
    "\n",
    "From the above model comparison, we can conclude that DecisionTreeClassifier is performing well. Hence let us finalise the model."
   ]
  },
  {
   "cell_type": "code",
   "execution_count": 119,
   "metadata": {},
   "outputs": [
    {
     "name": "stdout",
     "output_type": "stream",
     "text": [
      "The accuracy score is 0.9902298850574712\n",
      "The cross validation score is 0.9864336701923657\n"
     ]
    }
   ],
   "source": [
    "#Let us finalise the DecisionTreeClassifier\n",
    "dt=DecisionTreeClassifier(criterion= 'entropy', splitter= 'best')\n",
    "dt.fit(train_x,train_y)\n",
    "pred=dt.predict(test_x)\n",
    "acc_score=accuracy_score(test_y,pred)\n",
    "crossval=cross_val_score(dt,x,y,cv=5,scoring='accuracy').mean()\n",
    "print(\"The accuracy score is\", acc_score)\n",
    "print(\"The cross validation score is\", crossval)"
   ]
  },
  {
   "cell_type": "code",
   "execution_count": 120,
   "metadata": {},
   "outputs": [
    {
     "data": {
      "text/plain": [
       "['Project8_Skyserver.pkl']"
      ]
     },
     "execution_count": 120,
     "metadata": {},
     "output_type": "execute_result"
    }
   ],
   "source": [
    "#saving the finalised model\n",
    "from sklearn.externals import joblib\n",
    "joblib.dump(dt,'Project8_Skyserver.pkl')"
   ]
  },
  {
   "cell_type": "code",
   "execution_count": null,
   "metadata": {},
   "outputs": [],
   "source": []
  }
 ],
 "metadata": {
  "kernelspec": {
   "display_name": "Python 3",
   "language": "python",
   "name": "python3"
  },
  "language_info": {
   "codemirror_mode": {
    "name": "ipython",
    "version": 3
   },
   "file_extension": ".py",
   "mimetype": "text/x-python",
   "name": "python",
   "nbconvert_exporter": "python",
   "pygments_lexer": "ipython3",
   "version": "3.7.4"
  }
 },
 "nbformat": 4,
 "nbformat_minor": 2
}
