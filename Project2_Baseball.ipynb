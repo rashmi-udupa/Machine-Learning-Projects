{
 "cells": [
  {
   "cell_type": "markdown",
   "metadata": {},
   "source": [
    "## Baseball case study\n",
    "\n",
    "### Summary \n",
    "This dataset utilizes data from 2014 Major League Baseball seasons in order to develop an algorithm that predicts the number of wins for a given team in the 2015 season based on several different indicators of success.There are 16 different features that will be used as the inputs to the machine learning and the output will be a value that represents the number of wins. \n",
    "\n",
    "-- Input features: Runs, At Bats, Hits, Doubles, Triples, Homeruns, Walks, Strikeouts,Stolen Bases, Runs Allowed, Earned Runs, Earned Run Average (ERA), Shutouts, Saves, and Errors\n",
    "\n",
    "\n",
    "\n",
    "-- Output: Number of predicted wins (W)\n",
    "\n",
    "\n",
    "\n",
    "-- General Approach: For predicting the number of wins a baseball team will attain -- based on the given input features, a linear regression approach is neccessary. "
   ]
  },
  {
   "cell_type": "code",
   "execution_count": 1,
   "metadata": {},
   "outputs": [],
   "source": [
    "#import necessary libraries\n",
    "import numpy as np\n",
    "import pandas as pd\n",
    "import matplotlib.pyplot as plt\n",
    "import seaborn as sns\n",
    "import warnings\n",
    "warnings.filterwarnings('ignore')"
   ]
  },
  {
   "cell_type": "code",
   "execution_count": 2,
   "metadata": {},
   "outputs": [
    {
     "data": {
      "text/html": [
       "<div>\n",
       "<style scoped>\n",
       "    .dataframe tbody tr th:only-of-type {\n",
       "        vertical-align: middle;\n",
       "    }\n",
       "\n",
       "    .dataframe tbody tr th {\n",
       "        vertical-align: top;\n",
       "    }\n",
       "\n",
       "    .dataframe thead th {\n",
       "        text-align: right;\n",
       "    }\n",
       "</style>\n",
       "<table border=\"1\" class=\"dataframe\">\n",
       "  <thead>\n",
       "    <tr style=\"text-align: right;\">\n",
       "      <th></th>\n",
       "      <th>W</th>\n",
       "      <th>R</th>\n",
       "      <th>AB</th>\n",
       "      <th>H</th>\n",
       "      <th>2B</th>\n",
       "      <th>3B</th>\n",
       "      <th>HR</th>\n",
       "      <th>BB</th>\n",
       "      <th>SO</th>\n",
       "      <th>SB</th>\n",
       "      <th>RA</th>\n",
       "      <th>ER</th>\n",
       "      <th>ERA</th>\n",
       "      <th>CG</th>\n",
       "      <th>SHO</th>\n",
       "      <th>SV</th>\n",
       "      <th>E</th>\n",
       "    </tr>\n",
       "  </thead>\n",
       "  <tbody>\n",
       "    <tr>\n",
       "      <td>0</td>\n",
       "      <td>95</td>\n",
       "      <td>724</td>\n",
       "      <td>5575</td>\n",
       "      <td>1497</td>\n",
       "      <td>300</td>\n",
       "      <td>42</td>\n",
       "      <td>139</td>\n",
       "      <td>383</td>\n",
       "      <td>973</td>\n",
       "      <td>104</td>\n",
       "      <td>641</td>\n",
       "      <td>601</td>\n",
       "      <td>3.73</td>\n",
       "      <td>2</td>\n",
       "      <td>8</td>\n",
       "      <td>56</td>\n",
       "      <td>88</td>\n",
       "    </tr>\n",
       "    <tr>\n",
       "      <td>1</td>\n",
       "      <td>83</td>\n",
       "      <td>696</td>\n",
       "      <td>5467</td>\n",
       "      <td>1349</td>\n",
       "      <td>277</td>\n",
       "      <td>44</td>\n",
       "      <td>156</td>\n",
       "      <td>439</td>\n",
       "      <td>1264</td>\n",
       "      <td>70</td>\n",
       "      <td>700</td>\n",
       "      <td>653</td>\n",
       "      <td>4.07</td>\n",
       "      <td>2</td>\n",
       "      <td>12</td>\n",
       "      <td>45</td>\n",
       "      <td>86</td>\n",
       "    </tr>\n",
       "    <tr>\n",
       "      <td>2</td>\n",
       "      <td>81</td>\n",
       "      <td>669</td>\n",
       "      <td>5439</td>\n",
       "      <td>1395</td>\n",
       "      <td>303</td>\n",
       "      <td>29</td>\n",
       "      <td>141</td>\n",
       "      <td>533</td>\n",
       "      <td>1157</td>\n",
       "      <td>86</td>\n",
       "      <td>640</td>\n",
       "      <td>584</td>\n",
       "      <td>3.67</td>\n",
       "      <td>11</td>\n",
       "      <td>10</td>\n",
       "      <td>38</td>\n",
       "      <td>79</td>\n",
       "    </tr>\n",
       "    <tr>\n",
       "      <td>3</td>\n",
       "      <td>76</td>\n",
       "      <td>622</td>\n",
       "      <td>5533</td>\n",
       "      <td>1381</td>\n",
       "      <td>260</td>\n",
       "      <td>27</td>\n",
       "      <td>136</td>\n",
       "      <td>404</td>\n",
       "      <td>1231</td>\n",
       "      <td>68</td>\n",
       "      <td>701</td>\n",
       "      <td>643</td>\n",
       "      <td>3.98</td>\n",
       "      <td>7</td>\n",
       "      <td>9</td>\n",
       "      <td>37</td>\n",
       "      <td>101</td>\n",
       "    </tr>\n",
       "    <tr>\n",
       "      <td>4</td>\n",
       "      <td>74</td>\n",
       "      <td>689</td>\n",
       "      <td>5605</td>\n",
       "      <td>1515</td>\n",
       "      <td>289</td>\n",
       "      <td>49</td>\n",
       "      <td>151</td>\n",
       "      <td>455</td>\n",
       "      <td>1259</td>\n",
       "      <td>83</td>\n",
       "      <td>803</td>\n",
       "      <td>746</td>\n",
       "      <td>4.64</td>\n",
       "      <td>7</td>\n",
       "      <td>12</td>\n",
       "      <td>35</td>\n",
       "      <td>86</td>\n",
       "    </tr>\n",
       "  </tbody>\n",
       "</table>\n",
       "</div>"
      ],
      "text/plain": [
       "    W    R    AB     H   2B  3B   HR   BB    SO   SB   RA   ER   ERA  CG  SHO  \\\n",
       "0  95  724  5575  1497  300  42  139  383   973  104  641  601  3.73   2    8   \n",
       "1  83  696  5467  1349  277  44  156  439  1264   70  700  653  4.07   2   12   \n",
       "2  81  669  5439  1395  303  29  141  533  1157   86  640  584  3.67  11   10   \n",
       "3  76  622  5533  1381  260  27  136  404  1231   68  701  643  3.98   7    9   \n",
       "4  74  689  5605  1515  289  49  151  455  1259   83  803  746  4.64   7   12   \n",
       "\n",
       "   SV    E  \n",
       "0  56   88  \n",
       "1  45   86  \n",
       "2  38   79  \n",
       "3  37  101  \n",
       "4  35   86  "
      ]
     },
     "execution_count": 2,
     "metadata": {},
     "output_type": "execute_result"
    }
   ],
   "source": [
    "#importing dataset to the notebook\n",
    "df=pd.read_csv(\"Baseball.csv\")\n",
    "df.head()"
   ]
  },
  {
   "cell_type": "code",
   "execution_count": 3,
   "metadata": {},
   "outputs": [],
   "source": [
    "df=df.rename(columns={'W':'wins','R':'Runs', 'AB':'At Bats', 'H':'Hits', '2B':'Doubles', '3B':'Triples', 'HR':'Homeruns', 'BB':'Walks', 'SO':'Strikeouts','SB':'Stolen Bases', 'RA':'Runs Allowed', 'ER':'Earned Runs', 'ERA':'Earned Run Average', 'CG':'Complete Game', 'SHO':'Shutouts', 'SV':'Saves', 'E':'Errors'})\n"
   ]
  },
  {
   "cell_type": "code",
   "execution_count": 4,
   "metadata": {},
   "outputs": [
    {
     "data": {
      "text/html": [
       "<div>\n",
       "<style scoped>\n",
       "    .dataframe tbody tr th:only-of-type {\n",
       "        vertical-align: middle;\n",
       "    }\n",
       "\n",
       "    .dataframe tbody tr th {\n",
       "        vertical-align: top;\n",
       "    }\n",
       "\n",
       "    .dataframe thead th {\n",
       "        text-align: right;\n",
       "    }\n",
       "</style>\n",
       "<table border=\"1\" class=\"dataframe\">\n",
       "  <thead>\n",
       "    <tr style=\"text-align: right;\">\n",
       "      <th></th>\n",
       "      <th>wins</th>\n",
       "      <th>Runs</th>\n",
       "      <th>At Bats</th>\n",
       "      <th>Hits</th>\n",
       "      <th>Doubles</th>\n",
       "      <th>Triples</th>\n",
       "      <th>Homeruns</th>\n",
       "      <th>Walks</th>\n",
       "      <th>Strikeouts</th>\n",
       "      <th>Stolen Bases</th>\n",
       "      <th>Runs Allowed</th>\n",
       "      <th>Earned Runs</th>\n",
       "      <th>Earned Run Average</th>\n",
       "      <th>Complete Game</th>\n",
       "      <th>Shutouts</th>\n",
       "      <th>Saves</th>\n",
       "      <th>Errors</th>\n",
       "    </tr>\n",
       "  </thead>\n",
       "  <tbody>\n",
       "    <tr>\n",
       "      <td>0</td>\n",
       "      <td>95</td>\n",
       "      <td>724</td>\n",
       "      <td>5575</td>\n",
       "      <td>1497</td>\n",
       "      <td>300</td>\n",
       "      <td>42</td>\n",
       "      <td>139</td>\n",
       "      <td>383</td>\n",
       "      <td>973</td>\n",
       "      <td>104</td>\n",
       "      <td>641</td>\n",
       "      <td>601</td>\n",
       "      <td>3.73</td>\n",
       "      <td>2</td>\n",
       "      <td>8</td>\n",
       "      <td>56</td>\n",
       "      <td>88</td>\n",
       "    </tr>\n",
       "    <tr>\n",
       "      <td>1</td>\n",
       "      <td>83</td>\n",
       "      <td>696</td>\n",
       "      <td>5467</td>\n",
       "      <td>1349</td>\n",
       "      <td>277</td>\n",
       "      <td>44</td>\n",
       "      <td>156</td>\n",
       "      <td>439</td>\n",
       "      <td>1264</td>\n",
       "      <td>70</td>\n",
       "      <td>700</td>\n",
       "      <td>653</td>\n",
       "      <td>4.07</td>\n",
       "      <td>2</td>\n",
       "      <td>12</td>\n",
       "      <td>45</td>\n",
       "      <td>86</td>\n",
       "    </tr>\n",
       "    <tr>\n",
       "      <td>2</td>\n",
       "      <td>81</td>\n",
       "      <td>669</td>\n",
       "      <td>5439</td>\n",
       "      <td>1395</td>\n",
       "      <td>303</td>\n",
       "      <td>29</td>\n",
       "      <td>141</td>\n",
       "      <td>533</td>\n",
       "      <td>1157</td>\n",
       "      <td>86</td>\n",
       "      <td>640</td>\n",
       "      <td>584</td>\n",
       "      <td>3.67</td>\n",
       "      <td>11</td>\n",
       "      <td>10</td>\n",
       "      <td>38</td>\n",
       "      <td>79</td>\n",
       "    </tr>\n",
       "    <tr>\n",
       "      <td>3</td>\n",
       "      <td>76</td>\n",
       "      <td>622</td>\n",
       "      <td>5533</td>\n",
       "      <td>1381</td>\n",
       "      <td>260</td>\n",
       "      <td>27</td>\n",
       "      <td>136</td>\n",
       "      <td>404</td>\n",
       "      <td>1231</td>\n",
       "      <td>68</td>\n",
       "      <td>701</td>\n",
       "      <td>643</td>\n",
       "      <td>3.98</td>\n",
       "      <td>7</td>\n",
       "      <td>9</td>\n",
       "      <td>37</td>\n",
       "      <td>101</td>\n",
       "    </tr>\n",
       "    <tr>\n",
       "      <td>4</td>\n",
       "      <td>74</td>\n",
       "      <td>689</td>\n",
       "      <td>5605</td>\n",
       "      <td>1515</td>\n",
       "      <td>289</td>\n",
       "      <td>49</td>\n",
       "      <td>151</td>\n",
       "      <td>455</td>\n",
       "      <td>1259</td>\n",
       "      <td>83</td>\n",
       "      <td>803</td>\n",
       "      <td>746</td>\n",
       "      <td>4.64</td>\n",
       "      <td>7</td>\n",
       "      <td>12</td>\n",
       "      <td>35</td>\n",
       "      <td>86</td>\n",
       "    </tr>\n",
       "  </tbody>\n",
       "</table>\n",
       "</div>"
      ],
      "text/plain": [
       "   wins  Runs  At Bats  Hits  Doubles  Triples  Homeruns  Walks  Strikeouts  \\\n",
       "0    95   724     5575  1497      300       42       139    383         973   \n",
       "1    83   696     5467  1349      277       44       156    439        1264   \n",
       "2    81   669     5439  1395      303       29       141    533        1157   \n",
       "3    76   622     5533  1381      260       27       136    404        1231   \n",
       "4    74   689     5605  1515      289       49       151    455        1259   \n",
       "\n",
       "   Stolen Bases  Runs Allowed  Earned Runs  Earned Run Average  Complete Game  \\\n",
       "0           104           641          601                3.73              2   \n",
       "1            70           700          653                4.07              2   \n",
       "2            86           640          584                3.67             11   \n",
       "3            68           701          643                3.98              7   \n",
       "4            83           803          746                4.64              7   \n",
       "\n",
       "   Shutouts  Saves  Errors  \n",
       "0         8     56      88  \n",
       "1        12     45      86  \n",
       "2        10     38      79  \n",
       "3         9     37     101  \n",
       "4        12     35      86  "
      ]
     },
     "execution_count": 4,
     "metadata": {},
     "output_type": "execute_result"
    }
   ],
   "source": [
    "df.head()"
   ]
  },
  {
   "cell_type": "code",
   "execution_count": 5,
   "metadata": {},
   "outputs": [
    {
     "data": {
      "text/plain": [
       "(30, 17)"
      ]
     },
     "execution_count": 5,
     "metadata": {},
     "output_type": "execute_result"
    }
   ],
   "source": [
    "#Let's check the shape of the dataset\n",
    "df.shape\n",
    "#The dataset has 30 rows and 17 columns including the target 'wins'"
   ]
  },
  {
   "cell_type": "code",
   "execution_count": 6,
   "metadata": {},
   "outputs": [
    {
     "data": {
      "text/plain": [
       "<matplotlib.axes._subplots.AxesSubplot at 0x17913bca888>"
      ]
     },
     "execution_count": 6,
     "metadata": {},
     "output_type": "execute_result"
    },
    {
     "data": {
      "image/png": "[encoded data removed]",
      "text/plain": [
       "<Figure size 432x288 with 2 Axes>"
      ]
     },
     "metadata": {
      "needs_background": "light"
     },
     "output_type": "display_data"
    }
   ],
   "source": [
    "#Let's check if there are any missing values in the dataset\n",
    "sns.heatmap(df.isnull())"
   ]
  },
  {
   "cell_type": "code",
   "execution_count": 7,
   "metadata": {},
   "outputs": [
    {
     "data": {
      "text/plain": [
       "wins                  0\n",
       "Runs                  0\n",
       "At Bats               0\n",
       "Hits                  0\n",
       "Doubles               0\n",
       "Triples               0\n",
       "Homeruns              0\n",
       "Walks                 0\n",
       "Strikeouts            0\n",
       "Stolen Bases          0\n",
       "Runs Allowed          0\n",
       "Earned Runs           0\n",
       "Earned Run Average    0\n",
       "Complete Game         0\n",
       "Shutouts              0\n",
       "Saves                 0\n",
       "Errors                0\n",
       "dtype: int64"
      ]
     },
     "execution_count": 7,
     "metadata": {},
     "output_type": "execute_result"
    }
   ],
   "source": [
    "df.isnull().sum()\n",
    "#There are no missing values in the dataset"
   ]
  },
  {
   "cell_type": "markdown",
   "metadata": {},
   "source": [
    "### Univariate Analysis"
   ]
  },
  {
   "cell_type": "code",
   "execution_count": 8,
   "metadata": {},
   "outputs": [
    {
     "data": {
      "text/plain": [
       "Index(['wins', 'Runs', 'At Bats', 'Hits', 'Doubles', 'Triples', 'Homeruns',\n",
       "       'Walks', 'Strikeouts', 'Stolen Bases', 'Runs Allowed', 'Earned Runs',\n",
       "       'Earned Run Average', 'Complete Game', 'Shutouts', 'Saves', 'Errors'],\n",
       "      dtype='object')"
      ]
     },
     "execution_count": 8,
     "metadata": {},
     "output_type": "execute_result"
    }
   ],
   "source": [
    "df.columns"
   ]
  },
  {
   "cell_type": "code",
   "execution_count": 9,
   "metadata": {},
   "outputs": [
    {
     "data": {
      "text/plain": [
       "<matplotlib.axes._subplots.AxesSubplot at 0x17914f6c908>"
      ]
     },
     "execution_count": 9,
     "metadata": {},
     "output_type": "execute_result"
    },
    {
     "data": {
      "image/png": "[encoded data removed]",
      "text/plain": [
       "<Figure size 432x288 with 1 Axes>"
      ]
     },
     "metadata": {
      "needs_background": "light"
     },
     "output_type": "display_data"
    }
   ],
   "source": [
    "sns.distplot(df['Runs'])"
   ]
  },
  {
   "cell_type": "code",
   "execution_count": 10,
   "metadata": {},
   "outputs": [
    {
     "data": {
      "image/png": "[encoded data removed]",
      "text/plain": [
       "<Figure size 1080x1080 with 20 Axes>"
      ]
     },
     "metadata": {
      "needs_background": "light"
     },
     "output_type": "display_data"
    }
   ],
   "source": [
    "df.hist(bins=10,figsize=(15,15))\n",
    "plt.show()"
   ]
  },
  {
   "cell_type": "markdown",
   "metadata": {},
   "source": [
    "Observations:\n",
    "1. Most At Bats are between 5400 and 5500.\n",
    "2. Most of the complete Game are one and two.\n",
    "3. Between 270 to 280 most of the doubles are scored.\n",
    "4. Average earned run is between 4 and 4.2\n",
    "5. Most of the runs earned are between 650-700.\n",
    "6. Most errors are occuring between 85-90.\n",
    "7. Most hits are between 1360 to 1380.\n",
    "8. Most runs allowed are between 600-660 and 680-750.\n",
    "9. Most walks are between 470-500\n",
    "10. Most strikeouts are between 1250-1300\n",
    "11. Between 78-85 most wins are recorded.\n"
   ]
  },
  {
   "cell_type": "code",
   "execution_count": 11,
   "metadata": {},
   "outputs": [
    {
     "data": {
      "text/plain": [
       "{'whiskers': [<matplotlib.lines.Line2D at 0x17915d65e88>,\n",
       "  <matplotlib.lines.Line2D at 0x17915d65748>,\n",
       "  <matplotlib.lines.Line2D at 0x17915d6c808>,\n",
       "  <matplotlib.lines.Line2D at 0x17915d6cfc8>,\n",
       "  <matplotlib.lines.Line2D at 0x179157a4d88>,\n",
       "  <matplotlib.lines.Line2D at 0x179157a6bc8>,\n",
       "  <matplotlib.lines.Line2D at 0x179157aaa88>,\n",
       "  <matplotlib.lines.Line2D at 0x179157adb48>,\n",
       "  <matplotlib.lines.Line2D at 0x179157b9ac8>,\n",
       "  <matplotlib.lines.Line2D at 0x179157a6588>,\n",
       "  <matplotlib.lines.Line2D at 0x179157c3e48>,\n",
       "  <matplotlib.lines.Line2D at 0x179157c3c88>,\n",
       "  <matplotlib.lines.Line2D at 0x179157d9508>,\n",
       "  <matplotlib.lines.Line2D at 0x179157d4648>,\n",
       "  <matplotlib.lines.Line2D at 0x179157ec988>,\n",
       "  <matplotlib.lines.Line2D at 0x179157f2708>,\n",
       "  <matplotlib.lines.Line2D at 0x179157b9a48>,\n",
       "  <matplotlib.lines.Line2D at 0x17915802588>,\n",
       "  <matplotlib.lines.Line2D at 0x17915814948>,\n",
       "  <matplotlib.lines.Line2D at 0x1791580d2c8>,\n",
       "  <matplotlib.lines.Line2D at 0x17915824888>,\n",
       "  <matplotlib.lines.Line2D at 0x1791581ff08>,\n",
       "  <matplotlib.lines.Line2D at 0x17915835dc8>,\n",
       "  <matplotlib.lines.Line2D at 0x17915835d88>,\n",
       "  <matplotlib.lines.Line2D at 0x1791584c908>,\n",
       "  <matplotlib.lines.Line2D at 0x17915845248>,\n",
       "  <matplotlib.lines.Line2D at 0x1791585d888>,\n",
       "  <matplotlib.lines.Line2D at 0x17915856788>,\n",
       "  <matplotlib.lines.Line2D at 0x1791586cdc8>,\n",
       "  <matplotlib.lines.Line2D at 0x1791586cd88>,\n",
       "  <matplotlib.lines.Line2D at 0x17915884908>,\n",
       "  <matplotlib.lines.Line2D at 0x1791587f248>,\n",
       "  <matplotlib.lines.Line2D at 0x17915894888>,\n",
       "  <matplotlib.lines.Line2D at 0x1791588f788>,\n",
       "  <matplotlib.lines.Line2D at 0x179158a6dc8>,\n",
       "  <matplotlib.lines.Line2D at 0x179158a6d88>,\n",
       "  <matplotlib.lines.Line2D at 0x179158b9908>,\n",
       "  <matplotlib.lines.Line2D at 0x179158b5248>,\n",
       "  <matplotlib.lines.Line2D at 0x179158cb888>,\n",
       "  <matplotlib.lines.Line2D at 0x179158c6788>,\n",
       "  <matplotlib.lines.Line2D at 0x179158dcdc8>,\n",
       "  <matplotlib.lines.Line2D at 0x179158dcd88>,\n",
       "  <matplotlib.lines.Line2D at 0x179158f3908>,\n",
       "  <matplotlib.lines.Line2D at 0x179158ee248>,\n",
       "  <matplotlib.lines.Line2D at 0x17915904888>,\n",
       "  <matplotlib.lines.Line2D at 0x179158fd788>,\n",
       "  <matplotlib.lines.Line2D at 0x17915915dc8>,\n",
       "  <matplotlib.lines.Line2D at 0x17915915d88>,\n",
       "  <matplotlib.lines.Line2D at 0x1791592a908>,\n",
       "  <matplotlib.lines.Line2D at 0x17915925248>,\n",
       "  <matplotlib.lines.Line2D at 0x1791593c888>,\n",
       "  <matplotlib.lines.Line2D at 0x17915936788>,\n",
       "  <matplotlib.lines.Line2D at 0x1791594ddc8>,\n",
       "  <matplotlib.lines.Line2D at 0x1791594dd88>,\n",
       "  <matplotlib.lines.Line2D at 0x17915963908>,\n",
       "  <matplotlib.lines.Line2D at 0x1791595d248>,\n",
       "  <matplotlib.lines.Line2D at 0x17915974888>,\n",
       "  <matplotlib.lines.Line2D at 0x1791596ef08>,\n",
       "  <matplotlib.lines.Line2D at 0x17915985dc8>,\n",
       "  <matplotlib.lines.Line2D at 0x17915985d88>],\n",
       " 'caps': [<matplotlib.lines.Line2D at 0x17915d65fc8>,\n",
       "  <matplotlib.lines.Line2D at 0x17915d697c8>,\n",
       "  <matplotlib.lines.Line2D at 0x17915d6f7c8>,\n",
       "  <matplotlib.lines.Line2D at 0x17915d6ff08>,\n",
       "  <matplotlib.lines.Line2D at 0x179157a6d48>,\n",
       "  <matplotlib.lines.Line2D at 0x179157a7b48>,\n",
       "  <matplotlib.lines.Line2D at 0x179157af148>,\n",
       "  <matplotlib.lines.Line2D at 0x179157adc08>,\n",
       "  <matplotlib.lines.Line2D at 0x179157bf188>,\n",
       "  <matplotlib.lines.Line2D at 0x179157a7548>,\n",
       "  <matplotlib.lines.Line2D at 0x179157ce1c8>,\n",
       "  <matplotlib.lines.Line2D at 0x179157c8c88>,\n",
       "  <matplotlib.lines.Line2D at 0x179157e01c8>,\n",
       "  <matplotlib.lines.Line2D at 0x179157d9c88>,\n",
       "  <matplotlib.lines.Line2D at 0x179157e6888>,\n",
       "  <matplotlib.lines.Line2D at 0x179157f2e88>,\n",
       "  <matplotlib.lines.Line2D at 0x17915802cc8>,\n",
       "  <matplotlib.lines.Line2D at 0x17915808388>,\n",
       "  <matplotlib.lines.Line2D at 0x1791581b0c8>,\n",
       "  <matplotlib.lines.Line2D at 0x17915814b08>,\n",
       "  <matplotlib.lines.Line2D at 0x1791582a608>,\n",
       "  <matplotlib.lines.Line2D at 0x1791582aec8>,\n",
       "  <matplotlib.lines.Line2D at 0x1791583ac88>,\n",
       "  <matplotlib.lines.Line2D at 0x1791583a5c8>,\n",
       "  <matplotlib.lines.Line2D at 0x179158510c8>,\n",
       "  <matplotlib.lines.Line2D at 0x1791584cb08>,\n",
       "  <matplotlib.lines.Line2D at 0x17915862608>,\n",
       "  <matplotlib.lines.Line2D at 0x17915862ec8>,\n",
       "  <matplotlib.lines.Line2D at 0x17915873c88>,\n",
       "  <matplotlib.lines.Line2D at 0x179158735c8>,\n",
       "  <matplotlib.lines.Line2D at 0x179158890c8>,\n",
       "  <matplotlib.lines.Line2D at 0x17915884b08>,\n",
       "  <matplotlib.lines.Line2D at 0x17915899608>,\n",
       "  <matplotlib.lines.Line2D at 0x17915899ec8>,\n",
       "  <matplotlib.lines.Line2D at 0x179158aac88>,\n",
       "  <matplotlib.lines.Line2D at 0x179158aa5c8>,\n",
       "  <matplotlib.lines.Line2D at 0x179158c10c8>,\n",
       "  <matplotlib.lines.Line2D at 0x179158b9b08>,\n",
       "  <matplotlib.lines.Line2D at 0x179158d2608>,\n",
       "  <matplotlib.lines.Line2D at 0x179158d2ec8>,\n",
       "  <matplotlib.lines.Line2D at 0x179158e2c88>,\n",
       "  <matplotlib.lines.Line2D at 0x179158e25c8>,\n",
       "  <matplotlib.lines.Line2D at 0x179158f80c8>,\n",
       "  <matplotlib.lines.Line2D at 0x179158f3b08>,\n",
       "  <matplotlib.lines.Line2D at 0x1791590a608>,\n",
       "  <matplotlib.lines.Line2D at 0x1791590aec8>,\n",
       "  <matplotlib.lines.Line2D at 0x1791591ac88>,\n",
       "  <matplotlib.lines.Line2D at 0x1791591a5c8>,\n",
       "  <matplotlib.lines.Line2D at 0x179159310c8>,\n",
       "  <matplotlib.lines.Line2D at 0x1791592ab08>,\n",
       "  <matplotlib.lines.Line2D at 0x17915941608>,\n",
       "  <matplotlib.lines.Line2D at 0x17915941ec8>,\n",
       "  <matplotlib.lines.Line2D at 0x17915952c88>,\n",
       "  <matplotlib.lines.Line2D at 0x179159525c8>,\n",
       "  <matplotlib.lines.Line2D at 0x179159680c8>,\n",
       "  <matplotlib.lines.Line2D at 0x17915963b08>,\n",
       "  <matplotlib.lines.Line2D at 0x17915978608>,\n",
       "  <matplotlib.lines.Line2D at 0x17915978ec8>,\n",
       "  <matplotlib.lines.Line2D at 0x1791598ac88>,\n",
       "  <matplotlib.lines.Line2D at 0x1791598a5c8>],\n",
       " 'boxes': [<matplotlib.lines.Line2D at 0x17915d654c8>,\n",
       "  <matplotlib.lines.Line2D at 0x17915d6af08>,\n",
       "  <matplotlib.lines.Line2D at 0x179157a4608>,\n",
       "  <matplotlib.lines.Line2D at 0x179157a6a48>,\n",
       "  <matplotlib.lines.Line2D at 0x179157b3d88>,\n",
       "  <matplotlib.lines.Line2D at 0x179157c8548>,\n",
       "  <matplotlib.lines.Line2D at 0x179157d4ec8>,\n",
       "  <matplotlib.lines.Line2D at 0x179157ec788>,\n",
       "  <matplotlib.lines.Line2D at 0x179157b3e48>,\n",
       "  <matplotlib.lines.Line2D at 0x179157c3d88>,\n",
       "  <matplotlib.lines.Line2D at 0x17915824848>,\n",
       "  <matplotlib.lines.Line2D at 0x17915835bc8>,\n",
       "  <matplotlib.lines.Line2D at 0x17915845bc8>,\n",
       "  <matplotlib.lines.Line2D at 0x1791585d688>,\n",
       "  <matplotlib.lines.Line2D at 0x1791586cbc8>,\n",
       "  <matplotlib.lines.Line2D at 0x1791587fbc8>,\n",
       "  <matplotlib.lines.Line2D at 0x17915894688>,\n",
       "  <matplotlib.lines.Line2D at 0x179158a6bc8>,\n",
       "  <matplotlib.lines.Line2D at 0x179158b5bc8>,\n",
       "  <matplotlib.lines.Line2D at 0x179158cb688>,\n",
       "  <matplotlib.lines.Line2D at 0x179158dcbc8>,\n",
       "  <matplotlib.lines.Line2D at 0x179158eebc8>,\n",
       "  <matplotlib.lines.Line2D at 0x17915904688>,\n",
       "  <matplotlib.lines.Line2D at 0x17915915bc8>,\n",
       "  <matplotlib.lines.Line2D at 0x17915925bc8>,\n",
       "  <matplotlib.lines.Line2D at 0x1791593c688>,\n",
       "  <matplotlib.lines.Line2D at 0x1791594dbc8>,\n",
       "  <matplotlib.lines.Line2D at 0x1791595dbc8>,\n",
       "  <matplotlib.lines.Line2D at 0x17915974848>,\n",
       "  <matplotlib.lines.Line2D at 0x17915985bc8>],\n",
       " 'medians': [<matplotlib.lines.Line2D at 0x17915d69f88>,\n",
       "  <matplotlib.lines.Line2D at 0x179157a16c8>,\n",
       "  <matplotlib.lines.Line2D at 0x179157a7cc8>,\n",
       "  <matplotlib.lines.Line2D at 0x179157af808>,\n",
       "  <matplotlib.lines.Line2D at 0x179157bf888>,\n",
       "  <matplotlib.lines.Line2D at 0x179157ce888>,\n",
       "  <matplotlib.lines.Line2D at 0x179157e0948>,\n",
       "  <matplotlib.lines.Line2D at 0x179157f2908>,\n",
       "  <matplotlib.lines.Line2D at 0x17915802dc8>,\n",
       "  <matplotlib.lines.Line2D at 0x1791581b848>,\n",
       "  <matplotlib.lines.Line2D at 0x1791582ad88>,\n",
       "  <matplotlib.lines.Line2D at 0x17915841bc8>,\n",
       "  <matplotlib.lines.Line2D at 0x17915851848>,\n",
       "  <matplotlib.lines.Line2D at 0x17915862d88>,\n",
       "  <matplotlib.lines.Line2D at 0x17915877bc8>,\n",
       "  <matplotlib.lines.Line2D at 0x17915889848>,\n",
       "  <matplotlib.lines.Line2D at 0x17915899d88>,\n",
       "  <matplotlib.lines.Line2D at 0x179158b0bc8>,\n",
       "  <matplotlib.lines.Line2D at 0x179158c1848>,\n",
       "  <matplotlib.lines.Line2D at 0x179158d2d88>,\n",
       "  <matplotlib.lines.Line2D at 0x179158e7bc8>,\n",
       "  <matplotlib.lines.Line2D at 0x179158f8848>,\n",
       "  <matplotlib.lines.Line2D at 0x1791590ad88>,\n",
       "  <matplotlib.lines.Line2D at 0x17915921bc8>,\n",
       "  <matplotlib.lines.Line2D at 0x17915931848>,\n",
       "  <matplotlib.lines.Line2D at 0x17915941d88>,\n",
       "  <matplotlib.lines.Line2D at 0x17915957bc8>,\n",
       "  <matplotlib.lines.Line2D at 0x17915968848>,\n",
       "  <matplotlib.lines.Line2D at 0x17915978d88>,\n",
       "  <matplotlib.lines.Line2D at 0x17915990bc8>],\n",
       " 'fliers': [<matplotlib.lines.Line2D at 0x17915d6a748>,\n",
       "  <matplotlib.lines.Line2D at 0x179157a1e48>,\n",
       "  <matplotlib.lines.Line2D at 0x179157aa4c8>,\n",
       "  <matplotlib.lines.Line2D at 0x179157afec8>,\n",
       "  <matplotlib.lines.Line2D at 0x179157c3688>,\n",
       "  <matplotlib.lines.Line2D at 0x179157cef48>,\n",
       "  <matplotlib.lines.Line2D at 0x179157e6108>,\n",
       "  <matplotlib.lines.Line2D at 0x179157f7f08>,\n",
       "  <matplotlib.lines.Line2D at 0x179157bff08>,\n",
       "  <matplotlib.lines.Line2D at 0x1791581f048>,\n",
       "  <matplotlib.lines.Line2D at 0x1791582ee08>,\n",
       "  <matplotlib.lines.Line2D at 0x17915841a88>,\n",
       "  <matplotlib.lines.Line2D at 0x17915856048>,\n",
       "  <matplotlib.lines.Line2D at 0x17915867e08>,\n",
       "  <matplotlib.lines.Line2D at 0x17915877a88>,\n",
       "  <matplotlib.lines.Line2D at 0x1791588f048>,\n",
       "  <matplotlib.lines.Line2D at 0x179158a0e08>,\n",
       "  <matplotlib.lines.Line2D at 0x179158b0a88>,\n",
       "  <matplotlib.lines.Line2D at 0x179158c6048>,\n",
       "  <matplotlib.lines.Line2D at 0x179158d8e08>,\n",
       "  <matplotlib.lines.Line2D at 0x179158e7a88>,\n",
       "  <matplotlib.lines.Line2D at 0x179158fd048>,\n",
       "  <matplotlib.lines.Line2D at 0x1791590fe08>,\n",
       "  <matplotlib.lines.Line2D at 0x17915921a88>,\n",
       "  <matplotlib.lines.Line2D at 0x17915936048>,\n",
       "  <matplotlib.lines.Line2D at 0x17915946e08>,\n",
       "  <matplotlib.lines.Line2D at 0x17915957a88>,\n",
       "  <matplotlib.lines.Line2D at 0x1791596e048>,\n",
       "  <matplotlib.lines.Line2D at 0x1791597ee08>,\n",
       "  <matplotlib.lines.Line2D at 0x17915990a88>],\n",
       " 'means': []}"
      ]
     },
     "execution_count": 11,
     "metadata": {},
     "output_type": "execute_result"
    },
    {
     "data": {
      "image/png": "[encoded data removed]",
      "text/plain": [
       "<Figure size 864x720 with 1 Axes>"
      ]
     },
     "metadata": {
      "needs_background": "light"
     },
     "output_type": "display_data"
    }
   ],
   "source": [
    "plt.figure(figsize=(12,10))\n",
    "plt.boxplot(df)\n",
    "#There seems to very few outliers in the column which needs to be treated later."
   ]
  },
  {
   "cell_type": "markdown",
   "metadata": {},
   "source": [
    "## Bivariate Analysis"
   ]
  },
  {
   "cell_type": "code",
   "execution_count": 12,
   "metadata": {},
   "outputs": [
    {
     "data": {
      "text/plain": [
       "Index(['wins', 'Runs', 'At Bats', 'Hits', 'Doubles', 'Triples', 'Homeruns',\n",
       "       'Walks', 'Strikeouts', 'Stolen Bases', 'Runs Allowed', 'Earned Runs',\n",
       "       'Earned Run Average', 'Complete Game', 'Shutouts', 'Saves', 'Errors'],\n",
       "      dtype='object')"
      ]
     },
     "execution_count": 12,
     "metadata": {},
     "output_type": "execute_result"
    }
   ],
   "source": [
    "df.columns"
   ]
  },
  {
   "cell_type": "code",
   "execution_count": 13,
   "metadata": {},
   "outputs": [
    {
     "data": {
      "text/plain": [
       "<matplotlib.axes._subplots.AxesSubplot at 0x179160a2108>"
      ]
     },
     "execution_count": 13,
     "metadata": {},
     "output_type": "execute_result"
    },
    {
     "data": {
      "image/png": "[encoded data removed]",
      "text/plain": [
       "<Figure size 432x288 with 1 Axes>"
      ]
     },
     "metadata": {
      "needs_background": "light"
     },
     "output_type": "display_data"
    }
   ],
   "source": [
    "sns.scatterplot(x='Runs',y='wins',data=df)\n",
    "#Runs and wins show a positive correlation"
   ]
  },
  {
   "cell_type": "code",
   "execution_count": 14,
   "metadata": {},
   "outputs": [
    {
     "data": {
      "text/plain": [
       "<matplotlib.axes._subplots.AxesSubplot at 0x179159c8908>"
      ]
     },
     "execution_count": 14,
     "metadata": {},
     "output_type": "execute_result"
    },
    {
     "data": {
      "image/png": "[encoded data removed]",
      "text/plain": [
       "<Figure size 432x288 with 1 Axes>"
      ]
     },
     "metadata": {
      "needs_background": "light"
     },
     "output_type": "display_data"
    }
   ],
   "source": [
    "sns.scatterplot(x='Runs',y='Hits',data=df)\n",
    "#runs and hits also show a positive correlation"
   ]
  },
  {
   "cell_type": "code",
   "execution_count": 15,
   "metadata": {},
   "outputs": [
    {
     "data": {
      "text/plain": [
       "<matplotlib.axes._subplots.AxesSubplot at 0x17915a1d7c8>"
      ]
     },
     "execution_count": 15,
     "metadata": {},
     "output_type": "execute_result"
    },
    {
     "data": {
      "image/png": "[encoded data removed]",
      "text/plain": [
       "<Figure size 432x288 with 1 Axes>"
      ]
     },
     "metadata": {
      "needs_background": "light"
     },
     "output_type": "display_data"
    }
   ],
   "source": [
    "sns.scatterplot(x='Doubles',y='Triples',data=df)"
   ]
  },
  {
   "cell_type": "code",
   "execution_count": 16,
   "metadata": {},
   "outputs": [
    {
     "data": {
      "text/plain": [
       "<matplotlib.axes._subplots.AxesSubplot at 0x17915ab3748>"
      ]
     },
     "execution_count": 16,
     "metadata": {},
     "output_type": "execute_result"
    },
    {
     "data": {
      "image/png": "[encoded data removed]",
      "text/plain": [
       "<Figure size 432x288 with 1 Axes>"
      ]
     },
     "metadata": {
      "needs_background": "light"
     },
     "output_type": "display_data"
    }
   ],
   "source": [
    "sns.scatterplot(x='Earned Runs',y='Errors',data=df)"
   ]
  },
  {
   "cell_type": "markdown",
   "metadata": {},
   "source": [
    "## Correlation"
   ]
  },
  {
   "cell_type": "code",
   "execution_count": 17,
   "metadata": {},
   "outputs": [
    {
     "data": {
      "text/html": [
       "<div>\n",
       "<style scoped>\n",
       "    .dataframe tbody tr th:only-of-type {\n",
       "        vertical-align: middle;\n",
       "    }\n",
       "\n",
       "    .dataframe tbody tr th {\n",
       "        vertical-align: top;\n",
       "    }\n",
       "\n",
       "    .dataframe thead th {\n",
       "        text-align: right;\n",
       "    }\n",
       "</style>\n",
       "<table border=\"1\" class=\"dataframe\">\n",
       "  <thead>\n",
       "    <tr style=\"text-align: right;\">\n",
       "      <th></th>\n",
       "      <th>wins</th>\n",
       "      <th>Runs</th>\n",
       "      <th>At Bats</th>\n",
       "      <th>Hits</th>\n",
       "      <th>Doubles</th>\n",
       "      <th>Triples</th>\n",
       "      <th>Homeruns</th>\n",
       "      <th>Walks</th>\n",
       "      <th>Strikeouts</th>\n",
       "      <th>Stolen Bases</th>\n",
       "      <th>Runs Allowed</th>\n",
       "      <th>Earned Runs</th>\n",
       "      <th>Earned Run Average</th>\n",
       "      <th>Complete Game</th>\n",
       "      <th>Shutouts</th>\n",
       "      <th>Saves</th>\n",
       "      <th>Errors</th>\n",
       "    </tr>\n",
       "  </thead>\n",
       "  <tbody>\n",
       "    <tr>\n",
       "      <td>wins</td>\n",
       "      <td>1.000000</td>\n",
       "      <td>0.430751</td>\n",
       "      <td>-0.087947</td>\n",
       "      <td>0.037612</td>\n",
       "      <td>0.427797</td>\n",
       "      <td>-0.251118</td>\n",
       "      <td>0.307407</td>\n",
       "      <td>0.484342</td>\n",
       "      <td>0.111850</td>\n",
       "      <td>-0.157234</td>\n",
       "      <td>-0.812952</td>\n",
       "      <td>-0.809435</td>\n",
       "      <td>-0.819600</td>\n",
       "      <td>0.080533</td>\n",
       "      <td>0.471805</td>\n",
       "      <td>0.666530</td>\n",
       "      <td>-0.089485</td>\n",
       "    </tr>\n",
       "    <tr>\n",
       "      <td>Runs</td>\n",
       "      <td>0.430751</td>\n",
       "      <td>1.000000</td>\n",
       "      <td>0.319464</td>\n",
       "      <td>0.482856</td>\n",
       "      <td>0.560084</td>\n",
       "      <td>-0.070072</td>\n",
       "      <td>0.671283</td>\n",
       "      <td>0.402452</td>\n",
       "      <td>-0.054726</td>\n",
       "      <td>0.081367</td>\n",
       "      <td>-0.041623</td>\n",
       "      <td>-0.041245</td>\n",
       "      <td>-0.049281</td>\n",
       "      <td>0.232042</td>\n",
       "      <td>-0.103274</td>\n",
       "      <td>-0.096380</td>\n",
       "      <td>-0.023262</td>\n",
       "    </tr>\n",
       "    <tr>\n",
       "      <td>At Bats</td>\n",
       "      <td>-0.087947</td>\n",
       "      <td>0.319464</td>\n",
       "      <td>1.000000</td>\n",
       "      <td>0.739122</td>\n",
       "      <td>0.453370</td>\n",
       "      <td>0.435422</td>\n",
       "      <td>-0.066983</td>\n",
       "      <td>-0.136414</td>\n",
       "      <td>-0.106022</td>\n",
       "      <td>0.372618</td>\n",
       "      <td>0.316010</td>\n",
       "      <td>0.309686</td>\n",
       "      <td>0.255551</td>\n",
       "      <td>-0.080876</td>\n",
       "      <td>-0.197321</td>\n",
       "      <td>-0.106367</td>\n",
       "      <td>0.316743</td>\n",
       "    </tr>\n",
       "    <tr>\n",
       "      <td>Hits</td>\n",
       "      <td>0.037612</td>\n",
       "      <td>0.482856</td>\n",
       "      <td>0.739122</td>\n",
       "      <td>1.000000</td>\n",
       "      <td>0.566847</td>\n",
       "      <td>0.478694</td>\n",
       "      <td>-0.090855</td>\n",
       "      <td>-0.118281</td>\n",
       "      <td>-0.398830</td>\n",
       "      <td>0.413444</td>\n",
       "      <td>0.224324</td>\n",
       "      <td>0.252489</td>\n",
       "      <td>0.231172</td>\n",
       "      <td>0.147955</td>\n",
       "      <td>-0.145559</td>\n",
       "      <td>-0.130371</td>\n",
       "      <td>-0.033173</td>\n",
       "    </tr>\n",
       "    <tr>\n",
       "      <td>Doubles</td>\n",
       "      <td>0.427797</td>\n",
       "      <td>0.560084</td>\n",
       "      <td>0.453370</td>\n",
       "      <td>0.566847</td>\n",
       "      <td>1.000000</td>\n",
       "      <td>0.220490</td>\n",
       "      <td>0.056292</td>\n",
       "      <td>0.302700</td>\n",
       "      <td>-0.150752</td>\n",
       "      <td>0.195027</td>\n",
       "      <td>-0.218160</td>\n",
       "      <td>-0.235531</td>\n",
       "      <td>-0.254854</td>\n",
       "      <td>0.306675</td>\n",
       "      <td>0.057998</td>\n",
       "      <td>0.171576</td>\n",
       "      <td>0.105754</td>\n",
       "    </tr>\n",
       "    <tr>\n",
       "      <td>Triples</td>\n",
       "      <td>-0.251118</td>\n",
       "      <td>-0.070072</td>\n",
       "      <td>0.435422</td>\n",
       "      <td>0.478694</td>\n",
       "      <td>0.220490</td>\n",
       "      <td>1.000000</td>\n",
       "      <td>-0.430915</td>\n",
       "      <td>-0.454949</td>\n",
       "      <td>-0.141196</td>\n",
       "      <td>0.457437</td>\n",
       "      <td>0.314125</td>\n",
       "      <td>0.340225</td>\n",
       "      <td>0.330951</td>\n",
       "      <td>-0.065898</td>\n",
       "      <td>-0.041396</td>\n",
       "      <td>-0.142370</td>\n",
       "      <td>0.126678</td>\n",
       "    </tr>\n",
       "    <tr>\n",
       "      <td>Homeruns</td>\n",
       "      <td>0.307407</td>\n",
       "      <td>0.671283</td>\n",
       "      <td>-0.066983</td>\n",
       "      <td>-0.090855</td>\n",
       "      <td>0.056292</td>\n",
       "      <td>-0.430915</td>\n",
       "      <td>1.000000</td>\n",
       "      <td>0.425691</td>\n",
       "      <td>0.359923</td>\n",
       "      <td>-0.136567</td>\n",
       "      <td>-0.103903</td>\n",
       "      <td>-0.085922</td>\n",
       "      <td>-0.090917</td>\n",
       "      <td>0.156502</td>\n",
       "      <td>-0.019119</td>\n",
       "      <td>-0.028540</td>\n",
       "      <td>-0.207597</td>\n",
       "    </tr>\n",
       "    <tr>\n",
       "      <td>Walks</td>\n",
       "      <td>0.484342</td>\n",
       "      <td>0.402452</td>\n",
       "      <td>-0.136414</td>\n",
       "      <td>-0.118281</td>\n",
       "      <td>0.302700</td>\n",
       "      <td>-0.454949</td>\n",
       "      <td>0.425691</td>\n",
       "      <td>1.000000</td>\n",
       "      <td>0.233652</td>\n",
       "      <td>-0.098347</td>\n",
       "      <td>-0.416445</td>\n",
       "      <td>-0.452663</td>\n",
       "      <td>-0.459832</td>\n",
       "      <td>0.462478</td>\n",
       "      <td>0.426004</td>\n",
       "      <td>0.099445</td>\n",
       "      <td>-0.075685</td>\n",
       "    </tr>\n",
       "    <tr>\n",
       "      <td>Strikeouts</td>\n",
       "      <td>0.111850</td>\n",
       "      <td>-0.054726</td>\n",
       "      <td>-0.106022</td>\n",
       "      <td>-0.398830</td>\n",
       "      <td>-0.150752</td>\n",
       "      <td>-0.141196</td>\n",
       "      <td>0.359923</td>\n",
       "      <td>0.233652</td>\n",
       "      <td>1.000000</td>\n",
       "      <td>0.030968</td>\n",
       "      <td>-0.129745</td>\n",
       "      <td>-0.161612</td>\n",
       "      <td>-0.180368</td>\n",
       "      <td>-0.093418</td>\n",
       "      <td>0.237721</td>\n",
       "      <td>0.126297</td>\n",
       "      <td>0.155133</td>\n",
       "    </tr>\n",
       "    <tr>\n",
       "      <td>Stolen Bases</td>\n",
       "      <td>-0.157234</td>\n",
       "      <td>0.081367</td>\n",
       "      <td>0.372618</td>\n",
       "      <td>0.413444</td>\n",
       "      <td>0.195027</td>\n",
       "      <td>0.457437</td>\n",
       "      <td>-0.136567</td>\n",
       "      <td>-0.098347</td>\n",
       "      <td>0.030968</td>\n",
       "      <td>1.000000</td>\n",
       "      <td>0.132290</td>\n",
       "      <td>0.143068</td>\n",
       "      <td>0.126063</td>\n",
       "      <td>-0.020783</td>\n",
       "      <td>-0.106563</td>\n",
       "      <td>-0.183418</td>\n",
       "      <td>0.079149</td>\n",
       "    </tr>\n",
       "    <tr>\n",
       "      <td>Runs Allowed</td>\n",
       "      <td>-0.812952</td>\n",
       "      <td>-0.041623</td>\n",
       "      <td>0.316010</td>\n",
       "      <td>0.224324</td>\n",
       "      <td>-0.218160</td>\n",
       "      <td>0.314125</td>\n",
       "      <td>-0.103903</td>\n",
       "      <td>-0.416445</td>\n",
       "      <td>-0.129745</td>\n",
       "      <td>0.132290</td>\n",
       "      <td>1.000000</td>\n",
       "      <td>0.991018</td>\n",
       "      <td>0.986674</td>\n",
       "      <td>-0.016659</td>\n",
       "      <td>-0.636862</td>\n",
       "      <td>-0.616224</td>\n",
       "      <td>0.198996</td>\n",
       "    </tr>\n",
       "    <tr>\n",
       "      <td>Earned Runs</td>\n",
       "      <td>-0.809435</td>\n",
       "      <td>-0.041245</td>\n",
       "      <td>0.309686</td>\n",
       "      <td>0.252489</td>\n",
       "      <td>-0.235531</td>\n",
       "      <td>0.340225</td>\n",
       "      <td>-0.085922</td>\n",
       "      <td>-0.452663</td>\n",
       "      <td>-0.161612</td>\n",
       "      <td>0.143068</td>\n",
       "      <td>0.991018</td>\n",
       "      <td>1.000000</td>\n",
       "      <td>0.997248</td>\n",
       "      <td>-0.020221</td>\n",
       "      <td>-0.630192</td>\n",
       "      <td>-0.589663</td>\n",
       "      <td>0.136921</td>\n",
       "    </tr>\n",
       "    <tr>\n",
       "      <td>Earned Run Average</td>\n",
       "      <td>-0.819600</td>\n",
       "      <td>-0.049281</td>\n",
       "      <td>0.255551</td>\n",
       "      <td>0.231172</td>\n",
       "      <td>-0.254854</td>\n",
       "      <td>0.330951</td>\n",
       "      <td>-0.090917</td>\n",
       "      <td>-0.459832</td>\n",
       "      <td>-0.180368</td>\n",
       "      <td>0.126063</td>\n",
       "      <td>0.986674</td>\n",
       "      <td>0.997248</td>\n",
       "      <td>1.000000</td>\n",
       "      <td>-0.009856</td>\n",
       "      <td>-0.630833</td>\n",
       "      <td>-0.607005</td>\n",
       "      <td>0.113137</td>\n",
       "    </tr>\n",
       "    <tr>\n",
       "      <td>Complete Game</td>\n",
       "      <td>0.080533</td>\n",
       "      <td>0.232042</td>\n",
       "      <td>-0.080876</td>\n",
       "      <td>0.147955</td>\n",
       "      <td>0.306675</td>\n",
       "      <td>-0.065898</td>\n",
       "      <td>0.156502</td>\n",
       "      <td>0.462478</td>\n",
       "      <td>-0.093418</td>\n",
       "      <td>-0.020783</td>\n",
       "      <td>-0.016659</td>\n",
       "      <td>-0.020221</td>\n",
       "      <td>-0.009856</td>\n",
       "      <td>1.000000</td>\n",
       "      <td>0.241676</td>\n",
       "      <td>-0.367766</td>\n",
       "      <td>-0.140047</td>\n",
       "    </tr>\n",
       "    <tr>\n",
       "      <td>Shutouts</td>\n",
       "      <td>0.471805</td>\n",
       "      <td>-0.103274</td>\n",
       "      <td>-0.197321</td>\n",
       "      <td>-0.145559</td>\n",
       "      <td>0.057998</td>\n",
       "      <td>-0.041396</td>\n",
       "      <td>-0.019119</td>\n",
       "      <td>0.426004</td>\n",
       "      <td>0.237721</td>\n",
       "      <td>-0.106563</td>\n",
       "      <td>-0.636862</td>\n",
       "      <td>-0.630192</td>\n",
       "      <td>-0.630833</td>\n",
       "      <td>0.241676</td>\n",
       "      <td>1.000000</td>\n",
       "      <td>0.221639</td>\n",
       "      <td>-0.115716</td>\n",
       "    </tr>\n",
       "    <tr>\n",
       "      <td>Saves</td>\n",
       "      <td>0.666530</td>\n",
       "      <td>-0.096380</td>\n",
       "      <td>-0.106367</td>\n",
       "      <td>-0.130371</td>\n",
       "      <td>0.171576</td>\n",
       "      <td>-0.142370</td>\n",
       "      <td>-0.028540</td>\n",
       "      <td>0.099445</td>\n",
       "      <td>0.126297</td>\n",
       "      <td>-0.183418</td>\n",
       "      <td>-0.616224</td>\n",
       "      <td>-0.589663</td>\n",
       "      <td>-0.607005</td>\n",
       "      <td>-0.367766</td>\n",
       "      <td>0.221639</td>\n",
       "      <td>1.000000</td>\n",
       "      <td>-0.025636</td>\n",
       "    </tr>\n",
       "    <tr>\n",
       "      <td>Errors</td>\n",
       "      <td>-0.089485</td>\n",
       "      <td>-0.023262</td>\n",
       "      <td>0.316743</td>\n",
       "      <td>-0.033173</td>\n",
       "      <td>0.105754</td>\n",
       "      <td>0.126678</td>\n",
       "      <td>-0.207597</td>\n",
       "      <td>-0.075685</td>\n",
       "      <td>0.155133</td>\n",
       "      <td>0.079149</td>\n",
       "      <td>0.198996</td>\n",
       "      <td>0.136921</td>\n",
       "      <td>0.113137</td>\n",
       "      <td>-0.140047</td>\n",
       "      <td>-0.115716</td>\n",
       "      <td>-0.025636</td>\n",
       "      <td>1.000000</td>\n",
       "    </tr>\n",
       "  </tbody>\n",
       "</table>\n",
       "</div>"
      ],
      "text/plain": [
       "                        wins      Runs   At Bats      Hits   Doubles  \\\n",
       "wins                1.000000  0.430751 -0.087947  0.037612  0.427797   \n",
       "Runs                0.430751  1.000000  0.319464  0.482856  0.560084   \n",
       "At Bats            -0.087947  0.319464  1.000000  0.739122  0.453370   \n",
       "Hits                0.037612  0.482856  0.739122  1.000000  0.566847   \n",
       "Doubles             0.427797  0.560084  0.453370  0.566847  1.000000   \n",
       "Triples            -0.251118 -0.070072  0.435422  0.478694  0.220490   \n",
       "Homeruns            0.307407  0.671283 -0.066983 -0.090855  0.056292   \n",
       "Walks               0.484342  0.402452 -0.136414 -0.118281  0.302700   \n",
       "Strikeouts          0.111850 -0.054726 -0.106022 -0.398830 -0.150752   \n",
       "Stolen Bases       -0.157234  0.081367  0.372618  0.413444  0.195027   \n",
       "Runs Allowed       -0.812952 -0.041623  0.316010  0.224324 -0.218160   \n",
       "Earned Runs        -0.809435 -0.041245  0.309686  0.252489 -0.235531   \n",
       "Earned Run Average -0.819600 -0.049281  0.255551  0.231172 -0.254854   \n",
       "Complete Game       0.080533  0.232042 -0.080876  0.147955  0.306675   \n",
       "Shutouts            0.471805 -0.103274 -0.197321 -0.145559  0.057998   \n",
       "Saves               0.666530 -0.096380 -0.106367 -0.130371  0.171576   \n",
       "Errors             -0.089485 -0.023262  0.316743 -0.033173  0.105754   \n",
       "\n",
       "                     Triples  Homeruns     Walks  Strikeouts  Stolen Bases  \\\n",
       "wins               -0.251118  0.307407  0.484342    0.111850     -0.157234   \n",
       "Runs               -0.070072  0.671283  0.402452   -0.054726      0.081367   \n",
       "At Bats             0.435422 -0.066983 -0.136414   -0.106022      0.372618   \n",
       "Hits                0.478694 -0.090855 -0.118281   -0.398830      0.413444   \n",
       "Doubles             0.220490  0.056292  0.302700   -0.150752      0.195027   \n",
       "Triples             1.000000 -0.430915 -0.454949   -0.141196      0.457437   \n",
       "Homeruns           -0.430915  1.000000  0.425691    0.359923     -0.136567   \n",
       "Walks              -0.454949  0.425691  1.000000    0.233652     -0.098347   \n",
       "Strikeouts         -0.141196  0.359923  0.233652    1.000000      0.030968   \n",
       "Stolen Bases        0.457437 -0.136567 -0.098347    0.030968      1.000000   \n",
       "Runs Allowed        0.314125 -0.103903 -0.416445   -0.129745      0.132290   \n",
       "Earned Runs         0.340225 -0.085922 -0.452663   -0.161612      0.143068   \n",
       "Earned Run Average  0.330951 -0.090917 -0.459832   -0.180368      0.126063   \n",
       "Complete Game      -0.065898  0.156502  0.462478   -0.093418     -0.020783   \n",
       "Shutouts           -0.041396 -0.019119  0.426004    0.237721     -0.106563   \n",
       "Saves              -0.142370 -0.028540  0.099445    0.126297     -0.183418   \n",
       "Errors              0.126678 -0.207597 -0.075685    0.155133      0.079149   \n",
       "\n",
       "                    Runs Allowed  Earned Runs  Earned Run Average  \\\n",
       "wins                   -0.812952    -0.809435           -0.819600   \n",
       "Runs                   -0.041623    -0.041245           -0.049281   \n",
       "At Bats                 0.316010     0.309686            0.255551   \n",
       "Hits                    0.224324     0.252489            0.231172   \n",
       "Doubles                -0.218160    -0.235531           -0.254854   \n",
       "Triples                 0.314125     0.340225            0.330951   \n",
       "Homeruns               -0.103903    -0.085922           -0.090917   \n",
       "Walks                  -0.416445    -0.452663           -0.459832   \n",
       "Strikeouts             -0.129745    -0.161612           -0.180368   \n",
       "Stolen Bases            0.132290     0.143068            0.126063   \n",
       "Runs Allowed            1.000000     0.991018            0.986674   \n",
       "Earned Runs             0.991018     1.000000            0.997248   \n",
       "Earned Run Average      0.986674     0.997248            1.000000   \n",
       "Complete Game          -0.016659    -0.020221           -0.009856   \n",
       "Shutouts               -0.636862    -0.630192           -0.630833   \n",
       "Saves                  -0.616224    -0.589663           -0.607005   \n",
       "Errors                  0.198996     0.136921            0.113137   \n",
       "\n",
       "                    Complete Game  Shutouts     Saves    Errors  \n",
       "wins                     0.080533  0.471805  0.666530 -0.089485  \n",
       "Runs                     0.232042 -0.103274 -0.096380 -0.023262  \n",
       "At Bats                 -0.080876 -0.197321 -0.106367  0.316743  \n",
       "Hits                     0.147955 -0.145559 -0.130371 -0.033173  \n",
       "Doubles                  0.306675  0.057998  0.171576  0.105754  \n",
       "Triples                 -0.065898 -0.041396 -0.142370  0.126678  \n",
       "Homeruns                 0.156502 -0.019119 -0.028540 -0.207597  \n",
       "Walks                    0.462478  0.426004  0.099445 -0.075685  \n",
       "Strikeouts              -0.093418  0.237721  0.126297  0.155133  \n",
       "Stolen Bases            -0.020783 -0.106563 -0.183418  0.079149  \n",
       "Runs Allowed            -0.016659 -0.636862 -0.616224  0.198996  \n",
       "Earned Runs             -0.020221 -0.630192 -0.589663  0.136921  \n",
       "Earned Run Average      -0.009856 -0.630833 -0.607005  0.113137  \n",
       "Complete Game            1.000000  0.241676 -0.367766 -0.140047  \n",
       "Shutouts                 0.241676  1.000000  0.221639 -0.115716  \n",
       "Saves                   -0.367766  0.221639  1.000000 -0.025636  \n",
       "Errors                  -0.140047 -0.115716 -0.025636  1.000000  "
      ]
     },
     "execution_count": 17,
     "metadata": {},
     "output_type": "execute_result"
    }
   ],
   "source": [
    "df.corr()"
   ]
  },
  {
   "cell_type": "code",
   "execution_count": 18,
   "metadata": {},
   "outputs": [
    {
     "data": {
      "text/plain": [
       "<matplotlib.axes._subplots.AxesSubplot at 0x17915b2ba88>"
      ]
     },
     "execution_count": 18,
     "metadata": {},
     "output_type": "execute_result"
    },
    {
     "data": {
      "image/png": "[encoded data removed]",
      "text/plain": [
       "<Figure size 720x576 with 2 Axes>"
      ]
     },
     "metadata": {
      "needs_background": "light"
     },
     "output_type": "display_data"
    }
   ],
   "source": [
    "plt.figure(figsize=(10,8))\n",
    "sns.heatmap(df.corr(),annot=True)"
   ]
  },
  {
   "cell_type": "markdown",
   "metadata": {},
   "source": [
    "Observation:-\n",
    "1. At Bats and hits have a positive correlation.\n",
    "2. Doubles and triples have positive correlation with hits.\n",
    "3. Walks have positive correlation with complete game and shutouts.\n",
    "4. Wins have negative correlation with Runs Allowed, Earned Runs and Earned Runs Average.\n",
    "5. Shutouts have negative correlation with Earned Runs, Runs Allowed and Earned Runs Average.\n",
    "6. Wins have positive correlation with walks, saves, shutouts, doubles and runs."
   ]
  },
  {
   "cell_type": "markdown",
   "metadata": {},
   "source": [
    "### Statistical Analysis"
   ]
  },
  {
   "cell_type": "code",
   "execution_count": 19,
   "metadata": {},
   "outputs": [
    {
     "data": {
      "text/html": [
       "<div>\n",
       "<style scoped>\n",
       "    .dataframe tbody tr th:only-of-type {\n",
       "        vertical-align: middle;\n",
       "    }\n",
       "\n",
       "    .dataframe tbody tr th {\n",
       "        vertical-align: top;\n",
       "    }\n",
       "\n",
       "    .dataframe thead th {\n",
       "        text-align: right;\n",
       "    }\n",
       "</style>\n",
       "<table border=\"1\" class=\"dataframe\">\n",
       "  <thead>\n",
       "    <tr style=\"text-align: right;\">\n",
       "      <th></th>\n",
       "      <th>wins</th>\n",
       "      <th>Runs</th>\n",
       "      <th>At Bats</th>\n",
       "      <th>Hits</th>\n",
       "      <th>Doubles</th>\n",
       "      <th>Triples</th>\n",
       "      <th>Homeruns</th>\n",
       "      <th>Walks</th>\n",
       "      <th>Strikeouts</th>\n",
       "      <th>Stolen Bases</th>\n",
       "      <th>Runs Allowed</th>\n",
       "      <th>Earned Runs</th>\n",
       "      <th>Earned Run Average</th>\n",
       "      <th>Complete Game</th>\n",
       "      <th>Shutouts</th>\n",
       "      <th>Saves</th>\n",
       "      <th>Errors</th>\n",
       "    </tr>\n",
       "  </thead>\n",
       "  <tbody>\n",
       "    <tr>\n",
       "      <td>count</td>\n",
       "      <td>30.000000</td>\n",
       "      <td>30.000000</td>\n",
       "      <td>30.000000</td>\n",
       "      <td>30.000000</td>\n",
       "      <td>30.000000</td>\n",
       "      <td>30.000000</td>\n",
       "      <td>30.000000</td>\n",
       "      <td>30.000000</td>\n",
       "      <td>30.00000</td>\n",
       "      <td>30.000000</td>\n",
       "      <td>30.000000</td>\n",
       "      <td>30.000000</td>\n",
       "      <td>30.000000</td>\n",
       "      <td>30.000000</td>\n",
       "      <td>30.000000</td>\n",
       "      <td>30.000000</td>\n",
       "      <td>30.000000</td>\n",
       "    </tr>\n",
       "    <tr>\n",
       "      <td>mean</td>\n",
       "      <td>80.966667</td>\n",
       "      <td>688.233333</td>\n",
       "      <td>5516.266667</td>\n",
       "      <td>1403.533333</td>\n",
       "      <td>274.733333</td>\n",
       "      <td>31.300000</td>\n",
       "      <td>163.633333</td>\n",
       "      <td>469.100000</td>\n",
       "      <td>1248.20000</td>\n",
       "      <td>83.500000</td>\n",
       "      <td>688.233333</td>\n",
       "      <td>635.833333</td>\n",
       "      <td>3.956333</td>\n",
       "      <td>3.466667</td>\n",
       "      <td>11.300000</td>\n",
       "      <td>43.066667</td>\n",
       "      <td>94.333333</td>\n",
       "    </tr>\n",
       "    <tr>\n",
       "      <td>std</td>\n",
       "      <td>10.453455</td>\n",
       "      <td>58.761754</td>\n",
       "      <td>70.467372</td>\n",
       "      <td>57.140923</td>\n",
       "      <td>18.095405</td>\n",
       "      <td>10.452355</td>\n",
       "      <td>31.823309</td>\n",
       "      <td>57.053725</td>\n",
       "      <td>103.75947</td>\n",
       "      <td>22.815225</td>\n",
       "      <td>72.108005</td>\n",
       "      <td>70.140786</td>\n",
       "      <td>0.454089</td>\n",
       "      <td>2.763473</td>\n",
       "      <td>4.120177</td>\n",
       "      <td>7.869335</td>\n",
       "      <td>13.958889</td>\n",
       "    </tr>\n",
       "    <tr>\n",
       "      <td>min</td>\n",
       "      <td>63.000000</td>\n",
       "      <td>573.000000</td>\n",
       "      <td>5385.000000</td>\n",
       "      <td>1324.000000</td>\n",
       "      <td>236.000000</td>\n",
       "      <td>13.000000</td>\n",
       "      <td>100.000000</td>\n",
       "      <td>375.000000</td>\n",
       "      <td>973.00000</td>\n",
       "      <td>44.000000</td>\n",
       "      <td>525.000000</td>\n",
       "      <td>478.000000</td>\n",
       "      <td>2.940000</td>\n",
       "      <td>0.000000</td>\n",
       "      <td>4.000000</td>\n",
       "      <td>28.000000</td>\n",
       "      <td>75.000000</td>\n",
       "    </tr>\n",
       "    <tr>\n",
       "      <td>25%</td>\n",
       "      <td>74.000000</td>\n",
       "      <td>651.250000</td>\n",
       "      <td>5464.000000</td>\n",
       "      <td>1363.000000</td>\n",
       "      <td>262.250000</td>\n",
       "      <td>23.000000</td>\n",
       "      <td>140.250000</td>\n",
       "      <td>428.250000</td>\n",
       "      <td>1157.50000</td>\n",
       "      <td>69.000000</td>\n",
       "      <td>636.250000</td>\n",
       "      <td>587.250000</td>\n",
       "      <td>3.682500</td>\n",
       "      <td>1.000000</td>\n",
       "      <td>9.000000</td>\n",
       "      <td>37.250000</td>\n",
       "      <td>86.000000</td>\n",
       "    </tr>\n",
       "    <tr>\n",
       "      <td>50%</td>\n",
       "      <td>81.000000</td>\n",
       "      <td>689.000000</td>\n",
       "      <td>5510.000000</td>\n",
       "      <td>1382.500000</td>\n",
       "      <td>275.500000</td>\n",
       "      <td>31.000000</td>\n",
       "      <td>158.500000</td>\n",
       "      <td>473.000000</td>\n",
       "      <td>1261.50000</td>\n",
       "      <td>83.500000</td>\n",
       "      <td>695.500000</td>\n",
       "      <td>644.500000</td>\n",
       "      <td>4.025000</td>\n",
       "      <td>3.000000</td>\n",
       "      <td>12.000000</td>\n",
       "      <td>42.000000</td>\n",
       "      <td>91.000000</td>\n",
       "    </tr>\n",
       "    <tr>\n",
       "      <td>75%</td>\n",
       "      <td>87.750000</td>\n",
       "      <td>718.250000</td>\n",
       "      <td>5570.000000</td>\n",
       "      <td>1451.500000</td>\n",
       "      <td>288.750000</td>\n",
       "      <td>39.000000</td>\n",
       "      <td>177.000000</td>\n",
       "      <td>501.250000</td>\n",
       "      <td>1311.50000</td>\n",
       "      <td>96.500000</td>\n",
       "      <td>732.500000</td>\n",
       "      <td>679.250000</td>\n",
       "      <td>4.220000</td>\n",
       "      <td>5.750000</td>\n",
       "      <td>13.000000</td>\n",
       "      <td>46.750000</td>\n",
       "      <td>96.750000</td>\n",
       "    </tr>\n",
       "    <tr>\n",
       "      <td>max</td>\n",
       "      <td>100.000000</td>\n",
       "      <td>891.000000</td>\n",
       "      <td>5649.000000</td>\n",
       "      <td>1515.000000</td>\n",
       "      <td>308.000000</td>\n",
       "      <td>49.000000</td>\n",
       "      <td>232.000000</td>\n",
       "      <td>570.000000</td>\n",
       "      <td>1518.00000</td>\n",
       "      <td>134.000000</td>\n",
       "      <td>844.000000</td>\n",
       "      <td>799.000000</td>\n",
       "      <td>5.040000</td>\n",
       "      <td>11.000000</td>\n",
       "      <td>21.000000</td>\n",
       "      <td>62.000000</td>\n",
       "      <td>126.000000</td>\n",
       "    </tr>\n",
       "  </tbody>\n",
       "</table>\n",
       "</div>"
      ],
      "text/plain": [
       "             wins        Runs      At Bats         Hits     Doubles  \\\n",
       "count   30.000000   30.000000    30.000000    30.000000   30.000000   \n",
       "mean    80.966667  688.233333  5516.266667  1403.533333  274.733333   \n",
       "std     10.453455   58.761754    70.467372    57.140923   18.095405   \n",
       "min     63.000000  573.000000  5385.000000  1324.000000  236.000000   \n",
       "25%     74.000000  651.250000  5464.000000  1363.000000  262.250000   \n",
       "50%     81.000000  689.000000  5510.000000  1382.500000  275.500000   \n",
       "75%     87.750000  718.250000  5570.000000  1451.500000  288.750000   \n",
       "max    100.000000  891.000000  5649.000000  1515.000000  308.000000   \n",
       "\n",
       "         Triples    Homeruns       Walks  Strikeouts  Stolen Bases  \\\n",
       "count  30.000000   30.000000   30.000000    30.00000     30.000000   \n",
       "mean   31.300000  163.633333  469.100000  1248.20000     83.500000   \n",
       "std    10.452355   31.823309   57.053725   103.75947     22.815225   \n",
       "min    13.000000  100.000000  375.000000   973.00000     44.000000   \n",
       "25%    23.000000  140.250000  428.250000  1157.50000     69.000000   \n",
       "50%    31.000000  158.500000  473.000000  1261.50000     83.500000   \n",
       "75%    39.000000  177.000000  501.250000  1311.50000     96.500000   \n",
       "max    49.000000  232.000000  570.000000  1518.00000    134.000000   \n",
       "\n",
       "       Runs Allowed  Earned Runs  Earned Run Average  Complete Game  \\\n",
       "count     30.000000    30.000000           30.000000      30.000000   \n",
       "mean     688.233333   635.833333            3.956333       3.466667   \n",
       "std       72.108005    70.140786            0.454089       2.763473   \n",
       "min      525.000000   478.000000            2.940000       0.000000   \n",
       "25%      636.250000   587.250000            3.682500       1.000000   \n",
       "50%      695.500000   644.500000            4.025000       3.000000   \n",
       "75%      732.500000   679.250000            4.220000       5.750000   \n",
       "max      844.000000   799.000000            5.040000      11.000000   \n",
       "\n",
       "        Shutouts      Saves      Errors  \n",
       "count  30.000000  30.000000   30.000000  \n",
       "mean   11.300000  43.066667   94.333333  \n",
       "std     4.120177   7.869335   13.958889  \n",
       "min     4.000000  28.000000   75.000000  \n",
       "25%     9.000000  37.250000   86.000000  \n",
       "50%    12.000000  42.000000   91.000000  \n",
       "75%    13.000000  46.750000   96.750000  \n",
       "max    21.000000  62.000000  126.000000  "
      ]
     },
     "execution_count": 19,
     "metadata": {},
     "output_type": "execute_result"
    }
   ],
   "source": [
    "df.describe()"
   ]
  },
  {
   "cell_type": "markdown",
   "metadata": {},
   "source": [
    "Observations:-\n",
    "1. The mean and median of most of the attributes are very close to each other.\n",
    "2. There seems no much outliers which needs to be analysed further.\n"
   ]
  },
  {
   "cell_type": "markdown",
   "metadata": {},
   "source": [
    "### Preprocessing the data"
   ]
  },
  {
   "cell_type": "code",
   "execution_count": 20,
   "metadata": {},
   "outputs": [
    {
     "name": "stdout",
     "output_type": "stream",
     "text": [
      "The shape before removing the outliers (30, 17)\n",
      "The shape after removing the outliers (29, 17)\n"
     ]
    },
    {
     "data": {
      "text/html": [
       "<div>\n",
       "<style scoped>\n",
       "    .dataframe tbody tr th:only-of-type {\n",
       "        vertical-align: middle;\n",
       "    }\n",
       "\n",
       "    .dataframe tbody tr th {\n",
       "        vertical-align: top;\n",
       "    }\n",
       "\n",
       "    .dataframe thead th {\n",
       "        text-align: right;\n",
       "    }\n",
       "</style>\n",
       "<table border=\"1\" class=\"dataframe\">\n",
       "  <thead>\n",
       "    <tr style=\"text-align: right;\">\n",
       "      <th></th>\n",
       "      <th>wins</th>\n",
       "      <th>Runs</th>\n",
       "      <th>At Bats</th>\n",
       "      <th>Hits</th>\n",
       "      <th>Doubles</th>\n",
       "      <th>Triples</th>\n",
       "      <th>Homeruns</th>\n",
       "      <th>Walks</th>\n",
       "      <th>Strikeouts</th>\n",
       "      <th>Stolen Bases</th>\n",
       "      <th>Runs Allowed</th>\n",
       "      <th>Earned Runs</th>\n",
       "      <th>Earned Run Average</th>\n",
       "      <th>Complete Game</th>\n",
       "      <th>Shutouts</th>\n",
       "      <th>Saves</th>\n",
       "      <th>Errors</th>\n",
       "    </tr>\n",
       "  </thead>\n",
       "  <tbody>\n",
       "    <tr>\n",
       "      <td>0</td>\n",
       "      <td>95</td>\n",
       "      <td>724</td>\n",
       "      <td>5575</td>\n",
       "      <td>1497</td>\n",
       "      <td>300</td>\n",
       "      <td>42</td>\n",
       "      <td>139</td>\n",
       "      <td>383</td>\n",
       "      <td>973</td>\n",
       "      <td>104</td>\n",
       "      <td>641</td>\n",
       "      <td>601</td>\n",
       "      <td>3.73</td>\n",
       "      <td>2</td>\n",
       "      <td>8</td>\n",
       "      <td>56</td>\n",
       "      <td>88</td>\n",
       "    </tr>\n",
       "    <tr>\n",
       "      <td>1</td>\n",
       "      <td>83</td>\n",
       "      <td>696</td>\n",
       "      <td>5467</td>\n",
       "      <td>1349</td>\n",
       "      <td>277</td>\n",
       "      <td>44</td>\n",
       "      <td>156</td>\n",
       "      <td>439</td>\n",
       "      <td>1264</td>\n",
       "      <td>70</td>\n",
       "      <td>700</td>\n",
       "      <td>653</td>\n",
       "      <td>4.07</td>\n",
       "      <td>2</td>\n",
       "      <td>12</td>\n",
       "      <td>45</td>\n",
       "      <td>86</td>\n",
       "    </tr>\n",
       "    <tr>\n",
       "      <td>2</td>\n",
       "      <td>81</td>\n",
       "      <td>669</td>\n",
       "      <td>5439</td>\n",
       "      <td>1395</td>\n",
       "      <td>303</td>\n",
       "      <td>29</td>\n",
       "      <td>141</td>\n",
       "      <td>533</td>\n",
       "      <td>1157</td>\n",
       "      <td>86</td>\n",
       "      <td>640</td>\n",
       "      <td>584</td>\n",
       "      <td>3.67</td>\n",
       "      <td>11</td>\n",
       "      <td>10</td>\n",
       "      <td>38</td>\n",
       "      <td>79</td>\n",
       "    </tr>\n",
       "    <tr>\n",
       "      <td>3</td>\n",
       "      <td>76</td>\n",
       "      <td>622</td>\n",
       "      <td>5533</td>\n",
       "      <td>1381</td>\n",
       "      <td>260</td>\n",
       "      <td>27</td>\n",
       "      <td>136</td>\n",
       "      <td>404</td>\n",
       "      <td>1231</td>\n",
       "      <td>68</td>\n",
       "      <td>701</td>\n",
       "      <td>643</td>\n",
       "      <td>3.98</td>\n",
       "      <td>7</td>\n",
       "      <td>9</td>\n",
       "      <td>37</td>\n",
       "      <td>101</td>\n",
       "    </tr>\n",
       "    <tr>\n",
       "      <td>4</td>\n",
       "      <td>74</td>\n",
       "      <td>689</td>\n",
       "      <td>5605</td>\n",
       "      <td>1515</td>\n",
       "      <td>289</td>\n",
       "      <td>49</td>\n",
       "      <td>151</td>\n",
       "      <td>455</td>\n",
       "      <td>1259</td>\n",
       "      <td>83</td>\n",
       "      <td>803</td>\n",
       "      <td>746</td>\n",
       "      <td>4.64</td>\n",
       "      <td>7</td>\n",
       "      <td>12</td>\n",
       "      <td>35</td>\n",
       "      <td>86</td>\n",
       "    </tr>\n",
       "  </tbody>\n",
       "</table>\n",
       "</div>"
      ],
      "text/plain": [
       "   wins  Runs  At Bats  Hits  Doubles  Triples  Homeruns  Walks  Strikeouts  \\\n",
       "0    95   724     5575  1497      300       42       139    383         973   \n",
       "1    83   696     5467  1349      277       44       156    439        1264   \n",
       "2    81   669     5439  1395      303       29       141    533        1157   \n",
       "3    76   622     5533  1381      260       27       136    404        1231   \n",
       "4    74   689     5605  1515      289       49       151    455        1259   \n",
       "\n",
       "   Stolen Bases  Runs Allowed  Earned Runs  Earned Run Average  Complete Game  \\\n",
       "0           104           641          601                3.73              2   \n",
       "1            70           700          653                4.07              2   \n",
       "2            86           640          584                3.67             11   \n",
       "3            68           701          643                3.98              7   \n",
       "4            83           803          746                4.64              7   \n",
       "\n",
       "   Shutouts  Saves  Errors  \n",
       "0         8     56      88  \n",
       "1        12     45      86  \n",
       "2        10     38      79  \n",
       "3         9     37     101  \n",
       "4        12     35      86  "
      ]
     },
     "execution_count": 20,
     "metadata": {},
     "output_type": "execute_result"
    }
   ],
   "source": [
    "#Removing the outliers\n",
    "print(\"The shape before removing the outliers\", df.shape)\n",
    "from scipy.stats import zscore\n",
    "z=np.abs(zscore(df))\n",
    "df=df[(z<3).all(axis=1)]\n",
    "print(\"The shape after removing the outliers\",df.shape)\n",
    "df.head()"
   ]
  },
  {
   "cell_type": "code",
   "execution_count": 21,
   "metadata": {},
   "outputs": [
    {
     "data": {
      "text/plain": [
       "wins                  0.119013\n",
       "Runs                 -0.215364\n",
       "At Bats               0.169573\n",
       "Hits                  0.783772\n",
       "Doubles              -0.335304\n",
       "Triples               0.090124\n",
       "Homeruns              0.450862\n",
       "Walks                 0.151193\n",
       "Strikeouts           -0.233815\n",
       "Stolen Bases          0.494966\n",
       "Runs Allowed          0.018155\n",
       "Earned Runs           0.018461\n",
       "Earned Run Average    0.016693\n",
       "Complete Game         0.854980\n",
       "Shutouts              0.526943\n",
       "Saves                 0.627480\n",
       "Errors                0.840271\n",
       "dtype: float64"
      ]
     },
     "execution_count": 21,
     "metadata": {},
     "output_type": "execute_result"
    }
   ],
   "source": [
    "#checking the skewness\n",
    "df.skew()"
   ]
  },
  {
   "cell_type": "code",
   "execution_count": 22,
   "metadata": {},
   "outputs": [],
   "source": [
    "\n",
    "#treating the skewness using sqrt method\n",
    "for i in df.columns:\n",
    "    if df.skew()[i]>0.55:\n",
    "        df[i]=np.sqrt(df[i])\n",
    "        \n",
    "#df['Hits']=np.sqrt(df['Hits'])\n",
    "#df['Complete Game']=np.sqrt(df['Complete Game'])\n",
    "#df['Saves']=np.sqrt(df['Saves'])\n",
    "#df['Errors']=np.sqrt(df['Errors'])\n"
   ]
  },
  {
   "cell_type": "code",
   "execution_count": 23,
   "metadata": {},
   "outputs": [
    {
     "data": {
      "text/plain": [
       "wins                  0.119013\n",
       "Runs                 -0.215364\n",
       "At Bats               0.169573\n",
       "Hits                  0.761274\n",
       "Doubles              -0.335304\n",
       "Triples               0.090124\n",
       "Homeruns              0.450862\n",
       "Walks                 0.151193\n",
       "Strikeouts           -0.233815\n",
       "Stolen Bases          0.494966\n",
       "Runs Allowed          0.018155\n",
       "Earned Runs           0.018461\n",
       "Earned Run Average    0.016693\n",
       "Complete Game        -0.260678\n",
       "Shutouts              0.526943\n",
       "Saves                 0.370280\n",
       "Errors                0.714966\n",
       "dtype: float64"
      ]
     },
     "execution_count": 23,
     "metadata": {},
     "output_type": "execute_result"
    }
   ],
   "source": [
    "#checking the skewness again\n",
    "df.skew()\n",
    "#This has reduced the skewness to some extent."
   ]
  },
  {
   "cell_type": "markdown",
   "metadata": {},
   "source": [
    "### Separating the target and input variables\n"
   ]
  },
  {
   "cell_type": "code",
   "execution_count": 24,
   "metadata": {},
   "outputs": [
    {
     "name": "stdout",
     "output_type": "stream",
     "text": [
      "(29, 16)\n",
      "\n",
      "(29, 1)\n"
     ]
    }
   ],
   "source": [
    "x=df.iloc[:,1:]\n",
    "y=pd.DataFrame(df.iloc[:,0])\n",
    "print(x.shape)\n",
    "print()\n",
    "print(y.shape)"
   ]
  },
  {
   "cell_type": "markdown",
   "metadata": {},
   "source": [
    "### Scaling the data"
   ]
  },
  {
   "cell_type": "code",
   "execution_count": 25,
   "metadata": {},
   "outputs": [
    {
     "data": {
      "text/html": [
       "<div>\n",
       "<style scoped>\n",
       "    .dataframe tbody tr th:only-of-type {\n",
       "        vertical-align: middle;\n",
       "    }\n",
       "\n",
       "    .dataframe tbody tr th {\n",
       "        vertical-align: top;\n",
       "    }\n",
       "\n",
       "    .dataframe thead th {\n",
       "        text-align: right;\n",
       "    }\n",
       "</style>\n",
       "<table border=\"1\" class=\"dataframe\">\n",
       "  <thead>\n",
       "    <tr style=\"text-align: right;\">\n",
       "      <th></th>\n",
       "      <th>0</th>\n",
       "      <th>1</th>\n",
       "      <th>2</th>\n",
       "      <th>3</th>\n",
       "      <th>4</th>\n",
       "      <th>5</th>\n",
       "      <th>6</th>\n",
       "      <th>7</th>\n",
       "      <th>8</th>\n",
       "      <th>9</th>\n",
       "      <th>10</th>\n",
       "      <th>11</th>\n",
       "      <th>12</th>\n",
       "      <th>13</th>\n",
       "      <th>14</th>\n",
       "      <th>15</th>\n",
       "    </tr>\n",
       "  </thead>\n",
       "  <tbody>\n",
       "    <tr>\n",
       "      <td>0</td>\n",
       "      <td>0.790576</td>\n",
       "      <td>0.719697</td>\n",
       "      <td>0.908557</td>\n",
       "      <td>0.955224</td>\n",
       "      <td>0.805556</td>\n",
       "      <td>0.300000</td>\n",
       "      <td>0.041667</td>\n",
       "      <td>0.000000</td>\n",
       "      <td>0.666667</td>\n",
       "      <td>0.363636</td>\n",
       "      <td>0.383178</td>\n",
       "      <td>0.376190</td>\n",
       "      <td>0.426401</td>\n",
       "      <td>0.235294</td>\n",
       "      <td>0.848715</td>\n",
       "      <td>0.280958</td>\n",
       "    </tr>\n",
       "    <tr>\n",
       "      <td>1</td>\n",
       "      <td>0.643979</td>\n",
       "      <td>0.310606</td>\n",
       "      <td>0.134818</td>\n",
       "      <td>0.611940</td>\n",
       "      <td>0.861111</td>\n",
       "      <td>0.430769</td>\n",
       "      <td>0.333333</td>\n",
       "      <td>0.533945</td>\n",
       "      <td>0.288889</td>\n",
       "      <td>0.548589</td>\n",
       "      <td>0.545171</td>\n",
       "      <td>0.538095</td>\n",
       "      <td>0.426401</td>\n",
       "      <td>0.470588</td>\n",
       "      <td>0.548576</td>\n",
       "      <td>0.239155</td>\n",
       "    </tr>\n",
       "    <tr>\n",
       "      <td>2</td>\n",
       "      <td>0.502618</td>\n",
       "      <td>0.204545</td>\n",
       "      <td>0.379659</td>\n",
       "      <td>1.000000</td>\n",
       "      <td>0.444444</td>\n",
       "      <td>0.315385</td>\n",
       "      <td>0.822917</td>\n",
       "      <td>0.337615</td>\n",
       "      <td>0.466667</td>\n",
       "      <td>0.360502</td>\n",
       "      <td>0.330218</td>\n",
       "      <td>0.347619</td>\n",
       "      <td>1.000000</td>\n",
       "      <td>0.352941</td>\n",
       "      <td>0.338010</td>\n",
       "      <td>0.088875</td>\n",
       "    </tr>\n",
       "    <tr>\n",
       "      <td>3</td>\n",
       "      <td>0.256545</td>\n",
       "      <td>0.560606</td>\n",
       "      <td>0.305575</td>\n",
       "      <td>0.358209</td>\n",
       "      <td>0.388889</td>\n",
       "      <td>0.276923</td>\n",
       "      <td>0.151042</td>\n",
       "      <td>0.473394</td>\n",
       "      <td>0.266667</td>\n",
       "      <td>0.551724</td>\n",
       "      <td>0.514019</td>\n",
       "      <td>0.495238</td>\n",
       "      <td>0.797724</td>\n",
       "      <td>0.294118</td>\n",
       "      <td>0.306392</td>\n",
       "      <td>0.541822</td>\n",
       "    </tr>\n",
       "    <tr>\n",
       "      <td>4</td>\n",
       "      <td>0.607330</td>\n",
       "      <td>0.833333</td>\n",
       "      <td>1.000000</td>\n",
       "      <td>0.791045</td>\n",
       "      <td>1.000000</td>\n",
       "      <td>0.392308</td>\n",
       "      <td>0.416667</td>\n",
       "      <td>0.524771</td>\n",
       "      <td>0.433333</td>\n",
       "      <td>0.871473</td>\n",
       "      <td>0.834891</td>\n",
       "      <td>0.809524</td>\n",
       "      <td>0.797724</td>\n",
       "      <td>0.470588</td>\n",
       "      <td>0.241849</td>\n",
       "      <td>0.239155</td>\n",
       "    </tr>\n",
       "  </tbody>\n",
       "</table>\n",
       "</div>"
      ],
      "text/plain": [
       "          0         1         2         3         4         5         6  \\\n",
       "0  0.790576  0.719697  0.908557  0.955224  0.805556  0.300000  0.041667   \n",
       "1  0.643979  0.310606  0.134818  0.611940  0.861111  0.430769  0.333333   \n",
       "2  0.502618  0.204545  0.379659  1.000000  0.444444  0.315385  0.822917   \n",
       "3  0.256545  0.560606  0.305575  0.358209  0.388889  0.276923  0.151042   \n",
       "4  0.607330  0.833333  1.000000  0.791045  1.000000  0.392308  0.416667   \n",
       "\n",
       "          7         8         9        10        11        12        13  \\\n",
       "0  0.000000  0.666667  0.363636  0.383178  0.376190  0.426401  0.235294   \n",
       "1  0.533945  0.288889  0.548589  0.545171  0.538095  0.426401  0.470588   \n",
       "2  0.337615  0.466667  0.360502  0.330218  0.347619  1.000000  0.352941   \n",
       "3  0.473394  0.266667  0.551724  0.514019  0.495238  0.797724  0.294118   \n",
       "4  0.524771  0.433333  0.871473  0.834891  0.809524  0.797724  0.470588   \n",
       "\n",
       "         14        15  \n",
       "0  0.848715  0.280958  \n",
       "1  0.548576  0.239155  \n",
       "2  0.338010  0.088875  \n",
       "3  0.306392  0.541822  \n",
       "4  0.241849  0.239155  "
      ]
     },
     "execution_count": 25,
     "metadata": {},
     "output_type": "execute_result"
    }
   ],
   "source": [
    "from sklearn.preprocessing import MinMaxScaler\n",
    "scaler=MinMaxScaler()\n",
    "x=pd.DataFrame(scaler.fit_transform(x))\n",
    "x.head()"
   ]
  },
  {
   "cell_type": "code",
   "execution_count": 26,
   "metadata": {},
   "outputs": [
    {
     "data": {
      "text/html": [
       "<div>\n",
       "<style scoped>\n",
       "    .dataframe tbody tr th:only-of-type {\n",
       "        vertical-align: middle;\n",
       "    }\n",
       "\n",
       "    .dataframe tbody tr th {\n",
       "        vertical-align: top;\n",
       "    }\n",
       "\n",
       "    .dataframe thead th {\n",
       "        text-align: right;\n",
       "    }\n",
       "</style>\n",
       "<table border=\"1\" class=\"dataframe\">\n",
       "  <thead>\n",
       "    <tr style=\"text-align: right;\">\n",
       "      <th></th>\n",
       "      <th>wins</th>\n",
       "    </tr>\n",
       "  </thead>\n",
       "  <tbody>\n",
       "    <tr>\n",
       "      <td>0</td>\n",
       "      <td>95</td>\n",
       "    </tr>\n",
       "    <tr>\n",
       "      <td>1</td>\n",
       "      <td>83</td>\n",
       "    </tr>\n",
       "    <tr>\n",
       "      <td>2</td>\n",
       "      <td>81</td>\n",
       "    </tr>\n",
       "    <tr>\n",
       "      <td>3</td>\n",
       "      <td>76</td>\n",
       "    </tr>\n",
       "    <tr>\n",
       "      <td>4</td>\n",
       "      <td>74</td>\n",
       "    </tr>\n",
       "  </tbody>\n",
       "</table>\n",
       "</div>"
      ],
      "text/plain": [
       "   wins\n",
       "0    95\n",
       "1    83\n",
       "2    81\n",
       "3    76\n",
       "4    74"
      ]
     },
     "execution_count": 26,
     "metadata": {},
     "output_type": "execute_result"
    }
   ],
   "source": [
    "y.head()"
   ]
  },
  {
   "cell_type": "markdown",
   "metadata": {},
   "source": [
    "### Selecting the best r_state for train test and split"
   ]
  },
  {
   "cell_type": "code",
   "execution_count": 27,
   "metadata": {},
   "outputs": [],
   "source": [
    "from sklearn.model_selection import train_test_split\n",
    "from sklearn.linear_model import LinearRegression\n",
    "from sklearn.metrics import r2_score, mean_absolute_error, mean_squared_error\n",
    "\n",
    "def max_r2_score(reg,x,y):\n",
    "    max_r2score=0\n",
    "    for r_state in range(42,101):\n",
    "        train_x,test_x,train_y,test_y=train_test_split(x,y,random_state=r_state,test_size=0.20)\n",
    "        reg.fit(train_x,train_y)\n",
    "        pred=reg.predict(test_x)\n",
    "        r2score=r2_score(test_y,pred)\n",
    "        print(\"The r2 score\", r2score, \"is achieved at r_state\", r_state)\n",
    "        if r2score>max_r2score:\n",
    "            max_r2score=r2score\n",
    "            final_r_state=r_state\n",
    "    print(\"The maximum r2 score\", max_r2score, \"is achieved at r_state\", final_r_state)\n",
    "    return final_r_state\n",
    "        "
   ]
  },
  {
   "cell_type": "code",
   "execution_count": 28,
   "metadata": {},
   "outputs": [
    {
     "name": "stdout",
     "output_type": "stream",
     "text": [
      "The r2 score 0.457308110853482 is achieved at r_state 42\n",
      "The r2 score -3.284232310038628 is achieved at r_state 43\n",
      "The r2 score 0.3657801704485196 is achieved at r_state 44\n",
      "The r2 score 0.2551930464497736 is achieved at r_state 45\n",
      "The r2 score 0.7642035978491319 is achieved at r_state 46\n",
      "The r2 score -0.12483636941158172 is achieved at r_state 47\n",
      "The r2 score -0.11804488532678303 is achieved at r_state 48\n",
      "The r2 score -0.4406680216109249 is achieved at r_state 49\n",
      "The r2 score 0.8019666158353888 is achieved at r_state 50\n",
      "The r2 score 0.5975425683659261 is achieved at r_state 51\n",
      "The r2 score 0.3553676804005327 is achieved at r_state 52\n",
      "The r2 score 0.34378978594405596 is achieved at r_state 53\n",
      "The r2 score -0.08833802640201127 is achieved at r_state 54\n",
      "The r2 score 0.7097837641357312 is achieved at r_state 55\n",
      "The r2 score 0.6751149472859896 is achieved at r_state 56\n",
      "The r2 score 0.6388639060403809 is achieved at r_state 57\n",
      "The r2 score 0.5979178685771389 is achieved at r_state 58\n",
      "The r2 score 0.6246218792798844 is achieved at r_state 59\n",
      "The r2 score 0.11354897158238075 is achieved at r_state 60\n",
      "The r2 score 0.608494841709379 is achieved at r_state 61\n",
      "The r2 score 0.5258122808584069 is achieved at r_state 62\n",
      "The r2 score 0.6006718755006414 is achieved at r_state 63\n",
      "The r2 score 0.7740261867931235 is achieved at r_state 64\n",
      "The r2 score 0.4273698154256208 is achieved at r_state 65\n",
      "The r2 score 0.45507630252643405 is achieved at r_state 66\n",
      "The r2 score 0.8280319662805495 is achieved at r_state 67\n",
      "The r2 score -0.1907468216832049 is achieved at r_state 68\n",
      "The r2 score 0.36836201490633147 is achieved at r_state 69\n",
      "The r2 score 0.03524804004856796 is achieved at r_state 70\n",
      "The r2 score -4.265479784990043 is achieved at r_state 71\n",
      "The r2 score -0.3158666308984104 is achieved at r_state 72\n",
      "The r2 score 0.8613344394914262 is achieved at r_state 73\n",
      "The r2 score -0.14913924734383022 is achieved at r_state 74\n",
      "The r2 score 0.2445460493444691 is achieved at r_state 75\n",
      "The r2 score 0.5550601609335747 is achieved at r_state 76\n",
      "The r2 score 0.5877845734623406 is achieved at r_state 77\n",
      "The r2 score 0.09427637390065247 is achieved at r_state 78\n",
      "The r2 score 0.6345741375878129 is achieved at r_state 79\n",
      "The r2 score 0.6081554647350679 is achieved at r_state 80\n",
      "The r2 score 0.7759799884633503 is achieved at r_state 81\n",
      "The r2 score 0.5932586441257793 is achieved at r_state 82\n",
      "The r2 score 0.16602003404656984 is achieved at r_state 83\n",
      "The r2 score 0.44030167802639153 is achieved at r_state 84\n",
      "The r2 score 0.3088994968680713 is achieved at r_state 85\n",
      "The r2 score -0.02611885657586832 is achieved at r_state 86\n",
      "The r2 score 0.3723399969460185 is achieved at r_state 87\n",
      "The r2 score -2.369706380310907 is achieved at r_state 88\n",
      "The r2 score 0.5740915685642076 is achieved at r_state 89\n",
      "The r2 score 0.8370978819532925 is achieved at r_state 90\n",
      "The r2 score 0.31251492527810365 is achieved at r_state 91\n",
      "The r2 score 0.5415004694949797 is achieved at r_state 92\n",
      "The r2 score 0.12185818067445253 is achieved at r_state 93\n",
      "The r2 score 0.4281719507569749 is achieved at r_state 94\n",
      "The r2 score 0.60720084558636 is achieved at r_state 95\n",
      "The r2 score -0.34425668028875656 is achieved at r_state 96\n",
      "The r2 score 0.7554888908716768 is achieved at r_state 97\n",
      "The r2 score -0.7811357579846536 is achieved at r_state 98\n",
      "The r2 score 0.8428869207518198 is achieved at r_state 99\n",
      "The r2 score 0.31231444825445376 is achieved at r_state 100\n",
      "The maximum r2 score 0.8613344394914262 is achieved at r_state 73\n"
     ]
    },
    {
     "data": {
      "text/plain": [
       "73"
      ]
     },
     "execution_count": 28,
     "metadata": {},
     "output_type": "execute_result"
    }
   ],
   "source": [
    "lr=LinearRegression()\n",
    "max_r2_score(lr,x,y)"
   ]
  },
  {
   "cell_type": "code",
   "execution_count": 29,
   "metadata": {},
   "outputs": [],
   "source": [
    "train_x,test_x,train_y,test_y=train_test_split(x,y,random_state=73,test_size=0.20)"
   ]
  },
  {
   "cell_type": "code",
   "execution_count": 30,
   "metadata": {},
   "outputs": [
    {
     "name": "stdout",
     "output_type": "stream",
     "text": [
      "The cross val score of the linear regression is -0.021906990312963125\n"
     ]
    }
   ],
   "source": [
    "#Lets check the cross val score for the same\n",
    "from sklearn.model_selection import cross_val_score\n",
    "lrcrossval=cross_val_score(lr,x,y,cv=5, scoring='r2').mean()\n",
    "print(\"The cross val score of the linear regression is\", lrcrossval)"
   ]
  },
  {
   "cell_type": "code",
   "execution_count": 31,
   "metadata": {},
   "outputs": [],
   "source": [
    "#Since the Cross val score is negative, we need to check the other models and its performance.\n",
    "import warnings\n",
    "warnings.filterwarnings('ignore')"
   ]
  },
  {
   "cell_type": "code",
   "execution_count": 32,
   "metadata": {},
   "outputs": [
    {
     "data": {
      "text/plain": [
       "{'n_neighbors': 10}"
      ]
     },
     "execution_count": 32,
     "metadata": {},
     "output_type": "execute_result"
    }
   ],
   "source": [
    "#using GridSearchCV to select best parameter for the models\n",
    "from sklearn.model_selection import GridSearchCV\n",
    "from sklearn.neighbors import KNeighborsRegressor\n",
    "kn=KNeighborsRegressor()\n",
    "parameters={'n_neighbors':(1,10)}\n",
    "gdk=GridSearchCV(kn,parameters)\n",
    "gdk.fit(train_x,train_y)\n",
    "gdk.best_params_"
   ]
  },
  {
   "cell_type": "code",
   "execution_count": 33,
   "metadata": {},
   "outputs": [
    {
     "data": {
      "text/plain": [
       "{'criterion': 'mse'}"
      ]
     },
     "execution_count": 33,
     "metadata": {},
     "output_type": "execute_result"
    }
   ],
   "source": [
    "from sklearn.tree import DecisionTreeRegressor\n",
    "dt=DecisionTreeRegressor()\n",
    "parameters={'criterion':('mse','friedman_mse','mae')}\n",
    "gdd=GridSearchCV(dt,parameters)\n",
    "gdd.fit(train_x,train_y)\n",
    "gdd.best_params_"
   ]
  },
  {
   "cell_type": "code",
   "execution_count": 34,
   "metadata": {},
   "outputs": [
    {
     "data": {
      "text/plain": [
       "{'C': 10, 'kernel': 'linear'}"
      ]
     },
     "execution_count": 34,
     "metadata": {},
     "output_type": "execute_result"
    }
   ],
   "source": [
    "from sklearn.svm import SVR\n",
    "sv=SVR()\n",
    "parameters={'kernel':('linear','rbf'), 'C':[1,10]}\n",
    "gdsr=GridSearchCV(sv,parameters)\n",
    "gdsr.fit(train_x,train_y)\n",
    "gdsr.best_params_"
   ]
  },
  {
   "cell_type": "code",
   "execution_count": 35,
   "metadata": {},
   "outputs": [
    {
     "name": "stdout",
     "output_type": "stream",
     "text": [
      "LinearRegression(copy_X=True, fit_intercept=True, n_jobs=None, normalize=False)\n",
      "\n",
      "The r2 score is  0.8613344394914262\n",
      "\n",
      "The cross validation score is -0.021906990312963125\n",
      "\n",
      "The mean absolute error is  3.7241241131766145\n",
      "\n",
      "The root mean square error is 1.9297989825825421\n",
      "\n",
      "\n",
      "KNeighborsRegressor(algorithm='auto', leaf_size=30, metric='minkowski',\n",
      "                    metric_params=None, n_jobs=None, n_neighbors=10, p=2,\n",
      "                    weights='uniform')\n",
      "\n",
      "The r2 score is  0.5953605015673982\n",
      "\n",
      "The cross validation score is -0.2708231388654642\n",
      "\n",
      "The mean absolute error is  6.599999999999999\n",
      "\n",
      "The root mean square error is 2.569046515733026\n",
      "\n",
      "\n",
      "DecisionTreeRegressor(criterion='mse', max_depth=None, max_features=None,\n",
      "                      max_leaf_nodes=None, min_impurity_decrease=0.0,\n",
      "                      min_impurity_split=None, min_samples_leaf=1,\n",
      "                      min_samples_split=2, min_weight_fraction_leaf=0.0,\n",
      "                      presort=False, random_state=None, splitter='best')\n",
      "\n",
      "The r2 score is  0.6250783699059561\n",
      "\n",
      "The cross validation score is -2.0269964019353575\n",
      "\n",
      "The mean absolute error is  5.166666666666667\n",
      "\n",
      "The root mean square error is 2.273030282830976\n",
      "\n",
      "\n",
      "SVR(C=10, cache_size=200, coef0=0.0, degree=3, epsilon=0.1,\n",
      "    gamma='auto_deprecated', kernel='linear', max_iter=-1, shrinking=True,\n",
      "    tol=0.001, verbose=False)\n",
      "\n",
      "The r2 score is  0.6749072453284601\n",
      "\n",
      "The cross validation score is 0.27022014240701414\n",
      "\n",
      "The mean absolute error is  5.387186365731904\n",
      "\n",
      "The root mean square error is 2.3210313151122937\n",
      "\n",
      "\n"
     ]
    }
   ],
   "source": [
    "score=[]\n",
    "cv=[]\n",
    "Mean=[]\n",
    "Root=[]\n",
    "\n",
    "models=[lr,KNeighborsRegressor(n_neighbors=10),DecisionTreeRegressor(criterion='mse'),SVR(C=10,kernel='linear')]\n",
    "\n",
    "for i in models:\n",
    "    i.fit(train_x,train_y)\n",
    "    pred=i.predict(test_x)\n",
    "    r2score=r2_score(test_y,pred)\n",
    "    score.append(r2score)\n",
    "    print(i)\n",
    "    print(\"\")\n",
    "    print(\"The r2 score is \", r2score)\n",
    "    cross=cross_val_score(i,x,y,cv=5,scoring='r2').mean()\n",
    "    cv.append(cross)\n",
    "    print(\"\")\n",
    "    print(\"The cross validation score is\", cross)\n",
    "    print()\n",
    "    Meanerror=mean_absolute_error(test_y,pred)\n",
    "    Mean.append(Meanerror)\n",
    "    print(\"The mean absolute error is \", Meanerror)\n",
    "    rmse=np.sqrt(Meanerror)\n",
    "    Root.append(rmse)\n",
    "    print()\n",
    "    print(\"The root mean square error is\", rmse)\n",
    "    print()\n",
    "    print()\n",
    "    "
   ]
  },
  {
   "cell_type": "code",
   "execution_count": 36,
   "metadata": {},
   "outputs": [
    {
     "data": {
      "text/html": [
       "<div>\n",
       "<style scoped>\n",
       "    .dataframe tbody tr th:only-of-type {\n",
       "        vertical-align: middle;\n",
       "    }\n",
       "\n",
       "    .dataframe tbody tr th {\n",
       "        vertical-align: top;\n",
       "    }\n",
       "\n",
       "    .dataframe thead th {\n",
       "        text-align: right;\n",
       "    }\n",
       "</style>\n",
       "<table border=\"1\" class=\"dataframe\">\n",
       "  <thead>\n",
       "    <tr style=\"text-align: right;\">\n",
       "      <th></th>\n",
       "      <th>Model</th>\n",
       "      <th>R2score</th>\n",
       "      <th>Cross_val_score</th>\n",
       "      <th>Mean Squared Error</th>\n",
       "      <th>Root Mean Squared Error</th>\n",
       "    </tr>\n",
       "  </thead>\n",
       "  <tbody>\n",
       "    <tr>\n",
       "      <td>0</td>\n",
       "      <td>LinearRegression</td>\n",
       "      <td>0.861334</td>\n",
       "      <td>-0.021907</td>\n",
       "      <td>3.724124</td>\n",
       "      <td>1.929799</td>\n",
       "    </tr>\n",
       "    <tr>\n",
       "      <td>1</td>\n",
       "      <td>KNeighborsRegressor</td>\n",
       "      <td>0.595361</td>\n",
       "      <td>-0.270823</td>\n",
       "      <td>6.600000</td>\n",
       "      <td>2.569047</td>\n",
       "    </tr>\n",
       "    <tr>\n",
       "      <td>2</td>\n",
       "      <td>DecisionTreeRegressor</td>\n",
       "      <td>0.625078</td>\n",
       "      <td>-2.026996</td>\n",
       "      <td>5.166667</td>\n",
       "      <td>2.273030</td>\n",
       "    </tr>\n",
       "    <tr>\n",
       "      <td>3</td>\n",
       "      <td>SVR</td>\n",
       "      <td>0.674907</td>\n",
       "      <td>0.270220</td>\n",
       "      <td>5.387186</td>\n",
       "      <td>2.321031</td>\n",
       "    </tr>\n",
       "  </tbody>\n",
       "</table>\n",
       "</div>"
      ],
      "text/plain": [
       "                   Model   R2score  Cross_val_score  Mean Squared Error  \\\n",
       "0       LinearRegression  0.861334        -0.021907            3.724124   \n",
       "1    KNeighborsRegressor  0.595361        -0.270823            6.600000   \n",
       "2  DecisionTreeRegressor  0.625078        -2.026996            5.166667   \n",
       "3                    SVR  0.674907         0.270220            5.387186   \n",
       "\n",
       "   Root Mean Squared Error  \n",
       "0                 1.929799  \n",
       "1                 2.569047  \n",
       "2                 2.273030  \n",
       "3                 2.321031  "
      ]
     },
     "execution_count": 36,
     "metadata": {},
     "output_type": "execute_result"
    }
   ],
   "source": [
    "result=pd.DataFrame({'Model':['LinearRegression','KNeighborsRegressor', 'DecisionTreeRegressor', 'SVR'],'R2score':score,'Cross_val_score':cv,'Mean Squared Error':Mean, 'Root Mean Squared Error': Root})\n",
    "result"
   ]
  },
  {
   "cell_type": "markdown",
   "metadata": {},
   "source": [
    "#The cross val score for all the models are either negative or too low. Let us try regularisation techniques, Lasso and Ridge regressions"
   ]
  },
  {
   "cell_type": "markdown",
   "metadata": {},
   "source": [
    "### Lasso"
   ]
  },
  {
   "cell_type": "code",
   "execution_count": 37,
   "metadata": {},
   "outputs": [
    {
     "data": {
      "text/plain": [
       "{'alpha': 0.1}"
      ]
     },
     "execution_count": 37,
     "metadata": {},
     "output_type": "execute_result"
    }
   ],
   "source": [
    "#Let us check the best parameters for lasso\n",
    "from sklearn.linear_model import Lasso\n",
    "ls=Lasso()\n",
    "parameters={'alpha':(0.001,0.01,0.1,1)}\n",
    "gdls=GridSearchCV(ls,parameters)\n",
    "gdls.fit(train_x,train_y)\n",
    "gdls.best_params_"
   ]
  },
  {
   "cell_type": "code",
   "execution_count": 38,
   "metadata": {},
   "outputs": [
    {
     "name": "stdout",
     "output_type": "stream",
     "text": [
      "The r2 score 0.7317571806042364 is achieved at r_state 42\n",
      "The r2 score 0.5350876051294294 is achieved at r_state 43\n",
      "The r2 score 0.8103979625484403 is achieved at r_state 44\n",
      "The r2 score 0.5540443801757587 is achieved at r_state 45\n",
      "The r2 score 0.9149110490607509 is achieved at r_state 46\n",
      "The r2 score 0.9455593796495969 is achieved at r_state 47\n",
      "The r2 score 0.734074541577484 is achieved at r_state 48\n",
      "The r2 score -0.057477754636321876 is achieved at r_state 49\n",
      "The r2 score 0.7432804164536847 is achieved at r_state 50\n",
      "The r2 score 0.5771870297640592 is achieved at r_state 51\n",
      "The r2 score 0.43074233949955365 is achieved at r_state 52\n",
      "The r2 score 0.8079157221792673 is achieved at r_state 53\n",
      "The r2 score 0.7110500532019006 is achieved at r_state 54\n",
      "The r2 score 0.7884838936763449 is achieved at r_state 55\n",
      "The r2 score 0.5869938408547117 is achieved at r_state 56\n",
      "The r2 score 0.8283425924162691 is achieved at r_state 57\n",
      "The r2 score 0.6447257399722288 is achieved at r_state 58\n",
      "The r2 score 0.5729894557163143 is achieved at r_state 59\n",
      "The r2 score 0.5368122773610169 is achieved at r_state 60\n",
      "The r2 score 0.7178290956654967 is achieved at r_state 61\n",
      "The r2 score 0.5490438126689635 is achieved at r_state 62\n",
      "The r2 score 0.47781167865350005 is achieved at r_state 63\n",
      "The r2 score 0.8585762945946719 is achieved at r_state 64\n",
      "The r2 score 0.7340277922169522 is achieved at r_state 65\n",
      "The r2 score 0.7263380745081354 is achieved at r_state 66\n",
      "The r2 score 0.8750445152841866 is achieved at r_state 67\n",
      "The r2 score 0.9431995788060775 is achieved at r_state 68\n",
      "The r2 score 0.7961565720520528 is achieved at r_state 69\n",
      "The r2 score 0.7899668082041935 is achieved at r_state 70\n",
      "The r2 score -1.0975739945630498 is achieved at r_state 71\n",
      "The r2 score 0.6190832858841298 is achieved at r_state 72\n",
      "The r2 score 0.912756101243686 is achieved at r_state 73\n",
      "The r2 score 0.7630172122949147 is achieved at r_state 74\n",
      "The r2 score 0.9473279231175609 is achieved at r_state 75\n",
      "The r2 score 0.7597204882624004 is achieved at r_state 76\n",
      "The r2 score 0.7253743960867209 is achieved at r_state 77\n",
      "The r2 score 0.7885985599085796 is achieved at r_state 78\n",
      "The r2 score 0.7608320740267622 is achieved at r_state 79\n",
      "The r2 score 0.8191068593450139 is achieved at r_state 80\n",
      "The r2 score 0.7927273552508355 is achieved at r_state 81\n",
      "The r2 score 0.8938837573091019 is achieved at r_state 82\n",
      "The r2 score 0.8380670217306405 is achieved at r_state 83\n",
      "The r2 score 0.7593508620760504 is achieved at r_state 84\n",
      "The r2 score 0.7780123157360445 is achieved at r_state 85\n",
      "The r2 score 0.6221650924487168 is achieved at r_state 86\n",
      "The r2 score 0.8339157858181577 is achieved at r_state 87\n",
      "The r2 score 0.4654523971907093 is achieved at r_state 88\n",
      "The r2 score 0.8287366930474339 is achieved at r_state 89\n",
      "The r2 score 0.9131403062782187 is achieved at r_state 90\n",
      "The r2 score 0.6394484692495697 is achieved at r_state 91\n",
      "The r2 score 0.6237265640950245 is achieved at r_state 92\n",
      "The r2 score 0.7089383268536129 is achieved at r_state 93\n",
      "The r2 score 0.773203372271833 is achieved at r_state 94\n",
      "The r2 score 0.830447846231508 is achieved at r_state 95\n",
      "The r2 score 0.7451449470160075 is achieved at r_state 96\n",
      "The r2 score 0.8206650058873354 is achieved at r_state 97\n",
      "The r2 score 0.4510771442192608 is achieved at r_state 98\n",
      "The r2 score 0.9113369565634286 is achieved at r_state 99\n",
      "The r2 score 0.7733747477100679 is achieved at r_state 100\n",
      "The maximum r2 score 0.9473279231175609 is achieved at r_state 75\n"
     ]
    },
    {
     "data": {
      "text/plain": [
       "75"
      ]
     },
     "execution_count": 38,
     "metadata": {},
     "output_type": "execute_result"
    }
   ],
   "source": [
    "#Lets check the r2 score for lasso\n",
    "ls=Lasso(alpha=0.1)\n",
    "max_r2_score(ls,x,y)"
   ]
  },
  {
   "cell_type": "code",
   "execution_count": 39,
   "metadata": {},
   "outputs": [
    {
     "name": "stdout",
     "output_type": "stream",
     "text": [
      "The cross validation score is 0.4792613962491137\n"
     ]
    }
   ],
   "source": [
    "#Lets check the cross val score\n",
    "cvscore=cross_val_score(ls,x,y,cv=5,scoring='r2').mean()\n",
    "print(\"The cross validation score is\", cvscore)\n"
   ]
  },
  {
   "cell_type": "markdown",
   "metadata": {},
   "source": [
    "### Ridge"
   ]
  },
  {
   "cell_type": "code",
   "execution_count": 40,
   "metadata": {},
   "outputs": [
    {
     "data": {
      "text/plain": [
       "{'alpha': 1}"
      ]
     },
     "execution_count": 40,
     "metadata": {},
     "output_type": "execute_result"
    }
   ],
   "source": [
    "#2. Ridge\n",
    "#Lets check the best parameters for ridge\n",
    "from sklearn.linear_model import Ridge\n",
    "rd=Ridge()\n",
    "parameters={'alpha':(0.001,0.01,0.1,1)}\n",
    "grd=GridSearchCV(rd,parameters)\n",
    "grd.fit(train_x,train_y)\n",
    "grd.best_params_"
   ]
  },
  {
   "cell_type": "code",
   "execution_count": 41,
   "metadata": {},
   "outputs": [
    {
     "name": "stdout",
     "output_type": "stream",
     "text": [
      "The r2 score 0.5809534137623222 is achieved at r_state 42\n",
      "The r2 score 0.38460909964554646 is achieved at r_state 43\n",
      "The r2 score 0.6758928746474706 is achieved at r_state 44\n",
      "The r2 score 0.5236345408613414 is achieved at r_state 45\n",
      "The r2 score 0.9195391224962532 is achieved at r_state 46\n",
      "The r2 score 0.8198535477697579 is achieved at r_state 47\n",
      "The r2 score 0.6365754097866401 is achieved at r_state 48\n",
      "The r2 score -0.4651890770122977 is achieved at r_state 49\n",
      "The r2 score 0.5865486400978652 is achieved at r_state 50\n",
      "The r2 score 0.6307093902236585 is achieved at r_state 51\n",
      "The r2 score 0.47022153606972183 is achieved at r_state 52\n",
      "The r2 score 0.6793736755567938 is achieved at r_state 53\n",
      "The r2 score 0.64503840863132 is achieved at r_state 54\n",
      "The r2 score 0.6132671888270088 is achieved at r_state 55\n",
      "The r2 score 0.5864524227349315 is achieved at r_state 56\n",
      "The r2 score 0.7202887185023693 is achieved at r_state 57\n",
      "The r2 score 0.5584886890901657 is achieved at r_state 58\n",
      "The r2 score 0.7338713588774219 is achieved at r_state 59\n",
      "The r2 score 0.5563632421561417 is achieved at r_state 60\n",
      "The r2 score 0.7955224271034149 is achieved at r_state 61\n",
      "The r2 score 0.4653965196616219 is achieved at r_state 62\n",
      "The r2 score 0.47353234274800593 is achieved at r_state 63\n",
      "The r2 score 0.7365704712278554 is achieved at r_state 64\n",
      "The r2 score 0.6249728464140187 is achieved at r_state 65\n",
      "The r2 score 0.6075290925817822 is achieved at r_state 66\n",
      "The r2 score 0.7237101579271434 is achieved at r_state 67\n",
      "The r2 score 0.7637120340169398 is achieved at r_state 68\n",
      "The r2 score 0.7681525325172432 is achieved at r_state 69\n",
      "The r2 score 0.5491105357199981 is achieved at r_state 70\n",
      "The r2 score 0.24307270832718542 is achieved at r_state 71\n",
      "The r2 score 0.43471141094708454 is achieved at r_state 72\n",
      "The r2 score 0.6807111984047127 is achieved at r_state 73\n",
      "The r2 score -0.036925361988499494 is achieved at r_state 74\n",
      "The r2 score 0.8251073510548192 is achieved at r_state 75\n",
      "The r2 score 0.6334840745002868 is achieved at r_state 76\n",
      "The r2 score 0.41204350994252725 is achieved at r_state 77\n",
      "The r2 score 0.7134191205993958 is achieved at r_state 78\n",
      "The r2 score 0.7095636918791862 is achieved at r_state 79\n",
      "The r2 score 0.7633545754913471 is achieved at r_state 80\n",
      "The r2 score 0.6751616499241007 is achieved at r_state 81\n",
      "The r2 score 0.8915914376553674 is achieved at r_state 82\n",
      "The r2 score 0.7042430604201699 is achieved at r_state 83\n",
      "The r2 score 0.642448753671765 is achieved at r_state 84\n",
      "The r2 score 0.5799797086452049 is achieved at r_state 85\n",
      "The r2 score 0.2610556624713912 is achieved at r_state 86\n",
      "The r2 score 0.540337186205673 is achieved at r_state 87\n",
      "The r2 score 0.342470343867325 is achieved at r_state 88\n",
      "The r2 score 0.5753317981912482 is achieved at r_state 89\n",
      "The r2 score 0.7225913402283797 is achieved at r_state 90\n",
      "The r2 score 0.2739861059632709 is achieved at r_state 91\n",
      "The r2 score 0.7543754250475588 is achieved at r_state 92\n",
      "The r2 score 0.49316990744904987 is achieved at r_state 93\n",
      "The r2 score 0.6795994839620094 is achieved at r_state 94\n",
      "The r2 score 0.662548653573301 is achieved at r_state 95\n",
      "The r2 score 0.6478736535120726 is achieved at r_state 96\n",
      "The r2 score 0.6824215435754207 is achieved at r_state 97\n",
      "The r2 score 0.24261232063482208 is achieved at r_state 98\n",
      "The r2 score 0.8067519971291688 is achieved at r_state 99\n",
      "The r2 score 0.4652092493646457 is achieved at r_state 100\n",
      "The maximum r2 score 0.9195391224962532 is achieved at r_state 46\n"
     ]
    },
    {
     "data": {
      "text/plain": [
       "46"
      ]
     },
     "execution_count": 41,
     "metadata": {},
     "output_type": "execute_result"
    }
   ],
   "source": [
    "#Lets check the r2 score for ridge\n",
    "rd=Ridge(alpha=1)\n",
    "max_r2_score(rd,x,y)"
   ]
  },
  {
   "cell_type": "code",
   "execution_count": 42,
   "metadata": {},
   "outputs": [
    {
     "name": "stdout",
     "output_type": "stream",
     "text": [
      "The cross validation score is 0.2923676017856522\n"
     ]
    }
   ],
   "source": [
    "#Lets check the cross val score\n",
    "cvscore=cross_val_score(rd,x,y,cv=5,scoring='r2').mean()\n",
    "print(\"The cross validation score is\", cvscore)\n"
   ]
  },
  {
   "cell_type": "markdown",
   "metadata": {},
   "source": [
    "### Ensemble Techniques"
   ]
  },
  {
   "cell_type": "markdown",
   "metadata": {},
   "source": [
    "### RandomForest"
   ]
  },
  {
   "cell_type": "code",
   "execution_count": 43,
   "metadata": {},
   "outputs": [],
   "source": [
    "#Since the cross validation score is low, we can try to boost the model by using ensemble techniques\n",
    "from sklearn.ensemble import RandomForestRegressor\n",
    "from sklearn.ensemble import GradientBoostingRegressor\n",
    "from sklearn.ensemble import AdaBoostRegressor\n"
   ]
  },
  {
   "cell_type": "code",
   "execution_count": 44,
   "metadata": {},
   "outputs": [
    {
     "data": {
      "text/plain": [
       "{'criterion': 'mae', 'n_estimators': 50}"
      ]
     },
     "execution_count": 44,
     "metadata": {},
     "output_type": "execute_result"
    }
   ],
   "source": [
    "#Selecting the best parameters using GridSearchCV\n",
    "rf=RandomForestRegressor()\n",
    "parameters={'n_estimators':(50,100,200,500), 'criterion':('mse','mae')}\n",
    "gdrf=GridSearchCV(rf,parameters)\n",
    "gdrf.fit(train_x,train_y)\n",
    "gdrf.best_params_"
   ]
  },
  {
   "cell_type": "code",
   "execution_count": 45,
   "metadata": {},
   "outputs": [
    {
     "name": "stdout",
     "output_type": "stream",
     "text": [
      "The r2 score 0.47081937716263034 is achieved at r_state 42\n",
      "The r2 score 0.002807217058501732 is achieved at r_state 43\n",
      "The r2 score 0.7118880000000001 is achieved at r_state 44\n",
      "The r2 score 0.009377256317689153 is achieved at r_state 45\n",
      "The r2 score 0.8370346276838738 is achieved at r_state 46\n",
      "The r2 score 0.7405860915492958 is achieved at r_state 47\n",
      "The r2 score 0.7167783711615487 is achieved at r_state 48\n",
      "The r2 score -0.59160014342058 is achieved at r_state 49\n",
      "The r2 score 0.18436608391608433 is achieved at r_state 50\n",
      "The r2 score 0.7277057286432163 is achieved at r_state 51\n",
      "The r2 score 0.4869035265989241 is achieved at r_state 52\n",
      "The r2 score 0.5917671585557297 is achieved at r_state 53\n",
      "The r2 score 0.6952768683274024 is achieved at r_state 54\n",
      "The r2 score 0.5500697303456131 is achieved at r_state 55\n",
      "The r2 score 0.2427940992400538 is achieved at r_state 56\n",
      "The r2 score 0.5220813238770683 is achieved at r_state 57\n",
      "The r2 score -0.03561656210790387 is achieved at r_state 58\n",
      "The r2 score 0.4111796363636363 is achieved at r_state 59\n",
      "The r2 score 0.3430805357651754 is achieved at r_state 60\n",
      "The r2 score 0.6085716039907907 is achieved at r_state 61\n",
      "The r2 score 0.5002940590264475 is achieved at r_state 62\n",
      "The r2 score 0.10540127080181527 is achieved at r_state 63\n",
      "The r2 score 0.6452243346007607 is achieved at r_state 64\n",
      "The r2 score 0.606692965917331 is achieved at r_state 65\n",
      "The r2 score 0.07116990291262071 is achieved at r_state 66\n",
      "The r2 score 0.594722406639004 is achieved at r_state 67\n",
      "The r2 score 0.4945815261044175 is achieved at r_state 68\n",
      "The r2 score 0.2798420436402348 is achieved at r_state 69\n",
      "The r2 score 0.6384138709677423 is achieved at r_state 70\n",
      "The r2 score 0.008017937219730764 is achieved at r_state 71\n",
      "The r2 score -1.6678986020503248 is achieved at r_state 72\n",
      "The r2 score 0.6086495297805644 is achieved at r_state 73\n",
      "The r2 score -0.27873105802047826 is achieved at r_state 74\n",
      "The r2 score 0.6422016855087358 is achieved at r_state 75\n",
      "The r2 score 0.5606761171032361 is achieved at r_state 76\n",
      "The r2 score 0.3095297619047618 is achieved at r_state 77\n",
      "The r2 score 0.6183006675567422 is achieved at r_state 78\n",
      "The r2 score 0.5141430376988447 is achieved at r_state 79\n",
      "The r2 score 0.5254941320893689 is achieved at r_state 80\n",
      "The r2 score 0.6071311969839776 is achieved at r_state 81\n",
      "The r2 score 0.6150192176224837 is achieved at r_state 82\n",
      "The r2 score 0.6264319921491661 is achieved at r_state 83\n",
      "The r2 score 0.6816886414253893 is achieved at r_state 84\n",
      "The r2 score 0.5135642199871602 is achieved at r_state 85\n",
      "The r2 score 0.4295104693140789 is achieved at r_state 86\n",
      "The r2 score 0.6625936981757876 is achieved at r_state 87\n",
      "The r2 score 0.2954246679316882 is achieved at r_state 88\n",
      "The r2 score 0.3024057377049181 is achieved at r_state 89\n",
      "The r2 score 0.6197828314606744 is achieved at r_state 90\n",
      "The r2 score 0.3458902566658365 is achieved at r_state 91\n",
      "The r2 score 0.4683049230769232 is achieved at r_state 92\n",
      "The r2 score 0.715605033557047 is achieved at r_state 93\n",
      "The r2 score 0.8113384044526905 is achieved at r_state 94\n",
      "The r2 score 0.6126248254460822 is achieved at r_state 95\n",
      "The r2 score 0.38390402144772084 is achieved at r_state 96\n",
      "The r2 score 0.6971557706266636 is achieved at r_state 97\n",
      "The r2 score 0.2516588824020014 is achieved at r_state 98\n",
      "The r2 score 0.6477305171158048 is achieved at r_state 99\n",
      "The r2 score 0.19132574307304806 is achieved at r_state 100\n",
      "The maximum r2 score 0.8370346276838738 is achieved at r_state 46\n"
     ]
    },
    {
     "data": {
      "text/plain": [
       "46"
      ]
     },
     "execution_count": 45,
     "metadata": {},
     "output_type": "execute_result"
    }
   ],
   "source": [
    "#Lets check the r2 score \n",
    "rf=RandomForestRegressor(criterion='mae',n_estimators=50)\n",
    "max_r2_score(rf,x,y)"
   ]
  },
  {
   "cell_type": "code",
   "execution_count": 46,
   "metadata": {},
   "outputs": [
    {
     "name": "stdout",
     "output_type": "stream",
     "text": [
      "The cross validation score is -0.44382919615722843\n"
     ]
    }
   ],
   "source": [
    "#Lets check the cross val score\n",
    "cvscore=cross_val_score(rf,x,y,cv=5,scoring='r2').mean()\n",
    "print(\"The cross validation score is\", cvscore)"
   ]
  },
  {
   "cell_type": "markdown",
   "metadata": {},
   "source": [
    "### GradientBoostingRegressor"
   ]
  },
  {
   "cell_type": "code",
   "execution_count": 47,
   "metadata": {},
   "outputs": [
    {
     "data": {
      "text/plain": [
       "{'criterion': 'mae',\n",
       " 'learning_rate': 0.01,\n",
       " 'loss': 'lad',\n",
       " 'n_estimators': 1000}"
      ]
     },
     "execution_count": 47,
     "metadata": {},
     "output_type": "execute_result"
    }
   ],
   "source": [
    "#selecting the best parameters \n",
    "gb=GradientBoostingRegressor()\n",
    "parameters={'loss':('ls','lad','huber','quantile'), 'learning_rate':(0.001,0.01,0.1,1), 'n_estimators':(10,50,100,500,1000), 'criterion':('friedman_mse', 'mse', 'mae')}\n",
    "gdg=GridSearchCV(gb,parameters)                                                                                                                                        \n",
    "gdg.fit(train_x,train_y)                                                                                                                                         \n",
    "gdg.best_params_                                                                                                                                         "
   ]
  },
  {
   "cell_type": "code",
   "execution_count": 48,
   "metadata": {},
   "outputs": [
    {
     "name": "stdout",
     "output_type": "stream",
     "text": [
      "The r2 score 0.3058383724496876 is achieved at r_state 42\n",
      "The r2 score 0.2683020291878935 is achieved at r_state 43\n",
      "The r2 score 0.8185021647765705 is achieved at r_state 44\n",
      "The r2 score 0.11091651404749947 is achieved at r_state 45\n",
      "The r2 score 0.8590233616099349 is achieved at r_state 46\n",
      "The r2 score 0.7432273599203241 is achieved at r_state 47\n",
      "The r2 score 0.7274661923347108 is achieved at r_state 48\n",
      "The r2 score -1.086420025669462 is achieved at r_state 49\n",
      "The r2 score 0.26705885017057185 is achieved at r_state 50\n",
      "The r2 score 0.6056089537753104 is achieved at r_state 51\n",
      "The r2 score 0.3543990417726779 is achieved at r_state 52\n",
      "The r2 score 0.5387274549721845 is achieved at r_state 53\n",
      "The r2 score 0.5525220703099788 is achieved at r_state 54\n",
      "The r2 score 0.5076247837277541 is achieved at r_state 55\n",
      "The r2 score 0.4077707825334619 is achieved at r_state 56\n",
      "The r2 score 0.6526366425280683 is achieved at r_state 57\n",
      "The r2 score 0.23391925010828407 is achieved at r_state 58\n",
      "The r2 score 0.60225616024409 is achieved at r_state 59\n",
      "The r2 score 0.47619626730922315 is achieved at r_state 60\n",
      "The r2 score 0.7066909234381618 is achieved at r_state 61\n",
      "The r2 score 0.4169399807905039 is achieved at r_state 62\n",
      "The r2 score 0.37058538566731714 is achieved at r_state 63\n",
      "The r2 score 0.7293614817450094 is achieved at r_state 64\n",
      "The r2 score 0.655478909001423 is achieved at r_state 65\n",
      "The r2 score -0.12000776833474647 is achieved at r_state 66\n",
      "The r2 score 0.5709585506553814 is achieved at r_state 67\n",
      "The r2 score 0.5760844068183661 is achieved at r_state 68\n",
      "The r2 score 0.6953099627893073 is achieved at r_state 69\n",
      "The r2 score 0.6109713397556574 is achieved at r_state 70\n",
      "The r2 score -0.2305246470427036 is achieved at r_state 71\n",
      "The r2 score -0.4858127023694345 is achieved at r_state 72\n",
      "The r2 score 0.49765118777586803 is achieved at r_state 73\n",
      "The r2 score -0.14456760327388052 is achieved at r_state 74\n",
      "The r2 score 0.7366739424594815 is achieved at r_state 75\n",
      "The r2 score 0.5900306030519398 is achieved at r_state 76\n",
      "The r2 score 0.07451484199347547 is achieved at r_state 77\n",
      "The r2 score 0.7442156269825648 is achieved at r_state 78\n",
      "The r2 score 0.5121654254884831 is achieved at r_state 79\n",
      "The r2 score 0.542975399742205 is achieved at r_state 80\n",
      "The r2 score 0.5117610264568626 is achieved at r_state 81\n",
      "The r2 score 0.663628092998275 is achieved at r_state 82\n",
      "The r2 score 0.8013710064192706 is achieved at r_state 83\n",
      "The r2 score 0.6427726690555656 is achieved at r_state 84\n",
      "The r2 score 0.4797769696261125 is achieved at r_state 85\n",
      "The r2 score 0.010793101863050492 is achieved at r_state 86\n",
      "The r2 score 0.6130202992463853 is achieved at r_state 87\n",
      "The r2 score 0.447223924765889 is achieved at r_state 88\n",
      "The r2 score -0.03171860627841183 is achieved at r_state 89\n",
      "The r2 score 0.6075456686398484 is achieved at r_state 90\n",
      "The r2 score 0.04446813600804511 is achieved at r_state 91\n",
      "The r2 score 0.4074079635874154 is achieved at r_state 92\n",
      "The r2 score 0.6248545054134909 is achieved at r_state 93\n",
      "The r2 score 0.7461633133175409 is achieved at r_state 94\n",
      "The r2 score 0.699427441816465 is achieved at r_state 95\n",
      "The r2 score 0.5956442737195582 is achieved at r_state 96\n",
      "The r2 score 0.7542640728551112 is achieved at r_state 97\n",
      "The r2 score 0.20512928361931015 is achieved at r_state 98\n",
      "The r2 score 0.8087904788173202 is achieved at r_state 99\n",
      "The r2 score 0.30109413829692433 is achieved at r_state 100\n",
      "The maximum r2 score 0.8590233616099349 is achieved at r_state 46\n"
     ]
    },
    {
     "data": {
      "text/plain": [
       "46"
      ]
     },
     "execution_count": 48,
     "metadata": {},
     "output_type": "execute_result"
    }
   ],
   "source": [
    "#Lets check the r2 score \n",
    "gb=GradientBoostingRegressor(criterion='mae',n_estimators=1000,learning_rate=0.01,loss='lad')\n",
    "max_r2_score(gb,x,y)"
   ]
  },
  {
   "cell_type": "code",
   "execution_count": 49,
   "metadata": {},
   "outputs": [
    {
     "name": "stdout",
     "output_type": "stream",
     "text": [
      "The cross validation score is -0.49961534631010984\n"
     ]
    }
   ],
   "source": [
    "#Lets check the cross val score\n",
    "cvscore=cross_val_score(gb,x,y,cv=5,scoring='r2').mean()\n",
    "print(\"The cross validation score is\", cvscore)"
   ]
  },
  {
   "cell_type": "markdown",
   "metadata": {},
   "source": [
    "### AdaBoostRegressor"
   ]
  },
  {
   "cell_type": "code",
   "execution_count": 50,
   "metadata": {},
   "outputs": [
    {
     "data": {
      "text/plain": [
       "{'learning_rate': 0.001, 'loss': 'exponential', 'n_estimators': 100}"
      ]
     },
     "execution_count": 50,
     "metadata": {},
     "output_type": "execute_result"
    }
   ],
   "source": [
    "#selecting the best parameters\n",
    "ad=AdaBoostRegressor()\n",
    "parameters={'n_estimators':(10,50,100,200,500),'learning_rate':(0.001,0.01,0.1,1),'loss':('linear','square','exponential')}\n",
    "gad=GridSearchCV(ad,parameters)\n",
    "gad.fit(train_x,train_y)\n",
    "gad.best_params_"
   ]
  },
  {
   "cell_type": "code",
   "execution_count": 51,
   "metadata": {},
   "outputs": [
    {
     "name": "stdout",
     "output_type": "stream",
     "text": [
      "The r2 score 0.5086745482506727 is achieved at r_state 42\n",
      "The r2 score 0.10779013020675143 is achieved at r_state 43\n",
      "The r2 score 0.5573148148148155 is achieved at r_state 44\n",
      "The r2 score -0.3201150722021662 is achieved at r_state 45\n",
      "The r2 score 0.7283005938784833 is achieved at r_state 46\n",
      "The r2 score 0.7524207746478874 is achieved at r_state 47\n",
      "The r2 score 0.7617968402314197 is achieved at r_state 48\n",
      "The r2 score -0.8530311043384722 is achieved at r_state 49\n",
      "The r2 score 0.027097902097902193 is achieved at r_state 50\n",
      "The r2 score 0.3060502512562814 is achieved at r_state 51\n",
      "The r2 score -0.249839609483961 is achieved at r_state 52\n",
      "The r2 score 0.5945308578690505 is achieved at r_state 53\n",
      "The r2 score 0.462307236061685 is achieved at r_state 54\n",
      "The r2 score 0.48354526922808605 is achieved at r_state 55\n",
      "The r2 score -0.07789450156459554 is achieved at r_state 56\n",
      "The r2 score 0.5398854084581035 is achieved at r_state 57\n",
      "The r2 score -0.21250731911334153 is achieved at r_state 58\n",
      "The r2 score -0.11651034151034145 is achieved at r_state 59\n",
      "The r2 score 0.335981286216396 is achieved at r_state 60\n",
      "The r2 score 0.23367613200307003 is achieved at r_state 61\n",
      "The r2 score 0.45340424172735383 is achieved at r_state 62\n",
      "The r2 score 0.15220939822813462 is achieved at r_state 63\n",
      "The r2 score 0.751083082353664 is achieved at r_state 64\n",
      "The r2 score 0.6926874904878288 is achieved at r_state 65\n",
      "The r2 score -0.6976699029126212 is achieved at r_state 66\n",
      "The r2 score 0.680901337021669 is achieved at r_state 67\n",
      "The r2 score 0.33426449562422034 is achieved at r_state 68\n",
      "The r2 score 0.2340086005821327 is achieved at r_state 69\n",
      "The r2 score 0.6558467741935484 is achieved at r_state 70\n",
      "The r2 score -2.2474311847309933 is achieved at r_state 71\n",
      "The r2 score -2.5581662767623348 is achieved at r_state 72\n",
      "The r2 score 0.6465993360771685 is achieved at r_state 73\n",
      "The r2 score -0.9005022230735291 is achieved at r_state 74\n",
      "The r2 score 0.6300219952318029 is achieved at r_state 75\n",
      "The r2 score 0.5217989738268188 is achieved at r_state 76\n",
      "The r2 score -0.6369047619047619 is achieved at r_state 77\n",
      "The r2 score 0.41723773673540043 is achieved at r_state 78\n",
      "The r2 score 0.6149800629664781 is achieved at r_state 79\n",
      "The r2 score 0.538318909076029 is achieved at r_state 80\n",
      "The r2 score 0.5606410330390403 is achieved at r_state 81\n",
      "The r2 score 0.3715983035827315 is achieved at r_state 82\n",
      "The r2 score 0.6746781947495848 is achieved at r_state 83\n",
      "The r2 score 0.5549136971046771 is achieved at r_state 84\n",
      "The r2 score 0.5317426349953636 is achieved at r_state 85\n",
      "The r2 score 0.8237063778580025 is achieved at r_state 86\n",
      "The r2 score 0.5074217390414182 is achieved at r_state 87\n",
      "The r2 score -0.41817611154378076 is achieved at r_state 88\n",
      "The r2 score 0.2803658989210438 is achieved at r_state 89\n",
      "The r2 score 0.4978996254681646 is achieved at r_state 90\n",
      "The r2 score 0.5315177449555007 is achieved at r_state 91\n",
      "The r2 score 0.25654558036660324 is achieved at r_state 92\n",
      "The r2 score 0.677489940974726 is achieved at r_state 93\n",
      "The r2 score 0.7903669990723563 is achieved at r_state 94\n",
      "The r2 score 0.6945306439100078 is achieved at r_state 95\n",
      "The r2 score 0.280193956244001 is achieved at r_state 96\n",
      "The r2 score 0.6072867771594486 is achieved at r_state 97\n",
      "The r2 score 0.19550145954962483 is achieved at r_state 98\n",
      "The r2 score 0.6011770243421477 is achieved at r_state 99\n",
      "The r2 score 0.09632790143765302 is achieved at r_state 100\n",
      "The maximum r2 score 0.8237063778580025 is achieved at r_state 86\n"
     ]
    },
    {
     "data": {
      "text/plain": [
       "86"
      ]
     },
     "execution_count": 51,
     "metadata": {},
     "output_type": "execute_result"
    }
   ],
   "source": [
    "#Lets check the r2 score \n",
    "ad=AdaBoostRegressor(n_estimators=100,learning_rate=0.001,loss='exponential')\n",
    "max_r2_score(ad,x,y)"
   ]
  },
  {
   "cell_type": "code",
   "execution_count": 52,
   "metadata": {},
   "outputs": [
    {
     "name": "stdout",
     "output_type": "stream",
     "text": [
      "The cross validation score is -1.3237503431428574\n"
     ]
    }
   ],
   "source": [
    "#Lets check the cross val score\n",
    "cvscore=cross_val_score(ad,x,y,cv=5,scoring='r2').mean()\n",
    "print(\"The cross validation score is\", cvscore)"
   ]
  },
  {
   "cell_type": "code",
   "execution_count": 53,
   "metadata": {},
   "outputs": [
    {
     "data": {
      "text/html": [
       "<div>\n",
       "<style scoped>\n",
       "    .dataframe tbody tr th:only-of-type {\n",
       "        vertical-align: middle;\n",
       "    }\n",
       "\n",
       "    .dataframe tbody tr th {\n",
       "        vertical-align: top;\n",
       "    }\n",
       "\n",
       "    .dataframe thead th {\n",
       "        text-align: right;\n",
       "    }\n",
       "</style>\n",
       "<table border=\"1\" class=\"dataframe\">\n",
       "  <thead>\n",
       "    <tr style=\"text-align: right;\">\n",
       "      <th></th>\n",
       "      <th>Boosters</th>\n",
       "      <th>R2 Score</th>\n",
       "      <th>Cross_val_score</th>\n",
       "    </tr>\n",
       "  </thead>\n",
       "  <tbody>\n",
       "    <tr>\n",
       "      <td>0</td>\n",
       "      <td>Lasso</td>\n",
       "      <td>0.947</td>\n",
       "      <td>0.479</td>\n",
       "    </tr>\n",
       "    <tr>\n",
       "      <td>1</td>\n",
       "      <td>Ridge</td>\n",
       "      <td>0.919</td>\n",
       "      <td>0.292</td>\n",
       "    </tr>\n",
       "    <tr>\n",
       "      <td>2</td>\n",
       "      <td>RandomForestRegressor</td>\n",
       "      <td>0.830</td>\n",
       "      <td>-0.443</td>\n",
       "    </tr>\n",
       "    <tr>\n",
       "      <td>3</td>\n",
       "      <td>GradientBoostRegressor</td>\n",
       "      <td>0.859</td>\n",
       "      <td>-0.499</td>\n",
       "    </tr>\n",
       "    <tr>\n",
       "      <td>4</td>\n",
       "      <td>AdaBoostRegressor</td>\n",
       "      <td>0.823</td>\n",
       "      <td>-1.320</td>\n",
       "    </tr>\n",
       "  </tbody>\n",
       "</table>\n",
       "</div>"
      ],
      "text/plain": [
       "                 Boosters  R2 Score  Cross_val_score\n",
       "0                   Lasso     0.947            0.479\n",
       "1                   Ridge     0.919            0.292\n",
       "2   RandomForestRegressor     0.830           -0.443\n",
       "3  GradientBoostRegressor     0.859           -0.499\n",
       "4       AdaBoostRegressor     0.823           -1.320"
      ]
     },
     "execution_count": 53,
     "metadata": {},
     "output_type": "execute_result"
    }
   ],
   "source": [
    "result2=pd.DataFrame({'Boosters':['Lasso','Ridge','RandomForestRegressor','GradientBoostRegressor','AdaBoostRegressor'],'R2 Score':[0.947,0.919,0.83,0.859,0.823],'Cross_val_score':[0.479,0.292,-0.443,-0.499,-1.32]})\n",
    "result2"
   ]
  },
  {
   "cell_type": "code",
   "execution_count": 54,
   "metadata": {},
   "outputs": [
    {
     "data": {
      "text/html": [
       "<div>\n",
       "<style scoped>\n",
       "    .dataframe tbody tr th:only-of-type {\n",
       "        vertical-align: middle;\n",
       "    }\n",
       "\n",
       "    .dataframe tbody tr th {\n",
       "        vertical-align: top;\n",
       "    }\n",
       "\n",
       "    .dataframe thead th {\n",
       "        text-align: right;\n",
       "    }\n",
       "</style>\n",
       "<table border=\"1\" class=\"dataframe\">\n",
       "  <thead>\n",
       "    <tr style=\"text-align: right;\">\n",
       "      <th></th>\n",
       "      <th>Model</th>\n",
       "      <th>R2score</th>\n",
       "      <th>Cross_val_score</th>\n",
       "      <th>Mean Squared Error</th>\n",
       "      <th>Root Mean Squared Error</th>\n",
       "    </tr>\n",
       "  </thead>\n",
       "  <tbody>\n",
       "    <tr>\n",
       "      <td>0</td>\n",
       "      <td>LinearRegression</td>\n",
       "      <td>0.861334</td>\n",
       "      <td>-0.021907</td>\n",
       "      <td>3.724124</td>\n",
       "      <td>1.929799</td>\n",
       "    </tr>\n",
       "    <tr>\n",
       "      <td>1</td>\n",
       "      <td>KNeighborsRegressor</td>\n",
       "      <td>0.595361</td>\n",
       "      <td>-0.270823</td>\n",
       "      <td>6.600000</td>\n",
       "      <td>2.569047</td>\n",
       "    </tr>\n",
       "    <tr>\n",
       "      <td>2</td>\n",
       "      <td>DecisionTreeRegressor</td>\n",
       "      <td>0.625078</td>\n",
       "      <td>-2.026996</td>\n",
       "      <td>5.166667</td>\n",
       "      <td>2.273030</td>\n",
       "    </tr>\n",
       "    <tr>\n",
       "      <td>3</td>\n",
       "      <td>SVR</td>\n",
       "      <td>0.674907</td>\n",
       "      <td>0.270220</td>\n",
       "      <td>5.387186</td>\n",
       "      <td>2.321031</td>\n",
       "    </tr>\n",
       "  </tbody>\n",
       "</table>\n",
       "</div>"
      ],
      "text/plain": [
       "                   Model   R2score  Cross_val_score  Mean Squared Error  \\\n",
       "0       LinearRegression  0.861334        -0.021907            3.724124   \n",
       "1    KNeighborsRegressor  0.595361        -0.270823            6.600000   \n",
       "2  DecisionTreeRegressor  0.625078        -2.026996            5.166667   \n",
       "3                    SVR  0.674907         0.270220            5.387186   \n",
       "\n",
       "   Root Mean Squared Error  \n",
       "0                 1.929799  \n",
       "1                 2.569047  \n",
       "2                 2.273030  \n",
       "3                 2.321031  "
      ]
     },
     "execution_count": 54,
     "metadata": {},
     "output_type": "execute_result"
    }
   ],
   "source": [
    "result"
   ]
  },
  {
   "cell_type": "markdown",
   "metadata": {},
   "source": [
    "Conclusion\n",
    "1. After comparing the scores of models, regularisation and ensemble techniques, we can select the regularisation model Lasso with comparitively better cross_val_score. "
   ]
  },
  {
   "cell_type": "code",
   "execution_count": 55,
   "metadata": {},
   "outputs": [
    {
     "name": "stdout",
     "output_type": "stream",
     "text": [
      "The accuracy score is 0.9473279231175609\n",
      "The cross val score is 0.4792613962491137\n"
     ]
    }
   ],
   "source": [
    "#Finalising the model\n",
    "train_x,test_x,train_y,test_y=train_test_split(x,y,random_state=75,test_size=0.20)\n",
    "ls=Lasso(alpha=0.1)\n",
    "ls.fit(train_x,train_y)\n",
    "pred=ls.predict(test_x)\n",
    "r2score=r2_score(test_y,pred)\n",
    "cv=cross_val_score(ls,x,y,cv=5,scoring='r2').mean()\n",
    "print(\"The accuracy score is\", r2score)\n",
    "print(\"The cross val score is\", cv)\n",
    "pd.DataFrame(pred).to_csv(\"Project2_Baseballpredictions.csv\")"
   ]
  },
  {
   "cell_type": "code",
   "execution_count": 56,
   "metadata": {},
   "outputs": [
    {
     "data": {
      "text/plain": [
       "['Project2_Baseball.pkl']"
      ]
     },
     "execution_count": 56,
     "metadata": {},
     "output_type": "execute_result"
    }
   ],
   "source": [
    "#saving the model\n",
    "from sklearn.externals import joblib\n",
    "joblib.dump(ls,'Project2_Baseball.pkl')"
   ]
  },
  {
   "cell_type": "code",
   "execution_count": null,
   "metadata": {},
   "outputs": [],
   "source": []
  }
 ],
 "metadata": {
  "kernelspec": {
   "display_name": "Python 3",
   "language": "python",
   "name": "python3"
  },
  "language_info": {
   "codemirror_mode": {
    "name": "ipython",
    "version": 3
   },
   "file_extension": ".py",
   "mimetype": "text/x-python",
   "name": "python",
   "nbconvert_exporter": "python",
   "pygments_lexer": "ipython3",
   "version": "3.7.4"
  }
 },
 "nbformat": 4,
 "nbformat_minor": 2
}
