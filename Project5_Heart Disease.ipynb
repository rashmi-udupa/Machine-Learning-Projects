{
 "cells": [
  {
   "cell_type": "markdown",
   "metadata": {},
   "source": [
    "### Heart Disease Data Set\n",
    "\n",
    "#### Data Set Information:\n",
    "\n",
    "This database contains 14 attributes . In particular, the Cleveland database is the only one that has been used by ML researchers to this date. The \"goal\" field refers to the presence of heart disease in the patient. It is integer valued from 0 (no presence) to 4. Experiments with the Cleveland database have concentrated on simply attempting to distinguish presence (values 1,2,3,4) from absence (value 0).\n",
    "\n",
    "\n",
    "\n",
    "Only 14 attributes used:\n",
    "1. #3 (age)\n",
    "2. #4 (sex)\n",
    "3. #9 (cp)\n",
    "4. #10 (trestbps)\n",
    "5. #12 (chol)\n",
    "6. #16 (fbs)\n",
    "7. #19 (restecg)\n",
    "8. #32 (thalach)\n",
    "9. #38 (exang)\n",
    "10. #40 (oldpeak)\n",
    "11. #41 (slope)\n",
    "12. #44 (ca)\n",
    "13. #51 (thal)\n",
    "14. #58 (num) (the predicted attribute)"
   ]
  },
  {
   "cell_type": "code",
   "execution_count": 203,
   "metadata": {},
   "outputs": [],
   "source": [
    "#importing necessary libraries\n",
    "import pandas as pd\n",
    "import numpy as np\n",
    "import matplotlib.pyplot as plt\n",
    "import seaborn as sns\n",
    "import warnings\n",
    "warnings.filterwarnings('ignore')"
   ]
  },
  {
   "cell_type": "code",
   "execution_count": 204,
   "metadata": {},
   "outputs": [
    {
     "data": {
      "text/html": [
       "<div>\n",
       "<style scoped>\n",
       "    .dataframe tbody tr th:only-of-type {\n",
       "        vertical-align: middle;\n",
       "    }\n",
       "\n",
       "    .dataframe tbody tr th {\n",
       "        vertical-align: top;\n",
       "    }\n",
       "\n",
       "    .dataframe thead th {\n",
       "        text-align: right;\n",
       "    }\n",
       "</style>\n",
       "<table border=\"1\" class=\"dataframe\">\n",
       "  <thead>\n",
       "    <tr style=\"text-align: right;\">\n",
       "      <th></th>\n",
       "      <th>0</th>\n",
       "      <th>1</th>\n",
       "      <th>2</th>\n",
       "      <th>3</th>\n",
       "      <th>4</th>\n",
       "      <th>5</th>\n",
       "      <th>6</th>\n",
       "      <th>7</th>\n",
       "      <th>8</th>\n",
       "      <th>9</th>\n",
       "      <th>10</th>\n",
       "      <th>11</th>\n",
       "      <th>12</th>\n",
       "      <th>13</th>\n",
       "    </tr>\n",
       "  </thead>\n",
       "  <tbody>\n",
       "    <tr>\n",
       "      <td>0</td>\n",
       "      <td>63</td>\n",
       "      <td>1</td>\n",
       "      <td>4</td>\n",
       "      <td>140</td>\n",
       "      <td>260</td>\n",
       "      <td>0</td>\n",
       "      <td>1</td>\n",
       "      <td>112</td>\n",
       "      <td>1</td>\n",
       "      <td>3</td>\n",
       "      <td>2</td>\n",
       "      <td>?</td>\n",
       "      <td>?</td>\n",
       "      <td>2</td>\n",
       "    </tr>\n",
       "    <tr>\n",
       "      <td>1</td>\n",
       "      <td>44</td>\n",
       "      <td>1</td>\n",
       "      <td>4</td>\n",
       "      <td>130</td>\n",
       "      <td>209</td>\n",
       "      <td>0</td>\n",
       "      <td>1</td>\n",
       "      <td>127</td>\n",
       "      <td>0</td>\n",
       "      <td>0</td>\n",
       "      <td>?</td>\n",
       "      <td>?</td>\n",
       "      <td>?</td>\n",
       "      <td>0</td>\n",
       "    </tr>\n",
       "    <tr>\n",
       "      <td>2</td>\n",
       "      <td>60</td>\n",
       "      <td>1</td>\n",
       "      <td>4</td>\n",
       "      <td>132</td>\n",
       "      <td>218</td>\n",
       "      <td>0</td>\n",
       "      <td>1</td>\n",
       "      <td>140</td>\n",
       "      <td>1</td>\n",
       "      <td>1.5</td>\n",
       "      <td>3</td>\n",
       "      <td>?</td>\n",
       "      <td>?</td>\n",
       "      <td>2</td>\n",
       "    </tr>\n",
       "    <tr>\n",
       "      <td>3</td>\n",
       "      <td>55</td>\n",
       "      <td>1</td>\n",
       "      <td>4</td>\n",
       "      <td>142</td>\n",
       "      <td>228</td>\n",
       "      <td>0</td>\n",
       "      <td>1</td>\n",
       "      <td>149</td>\n",
       "      <td>1</td>\n",
       "      <td>2.5</td>\n",
       "      <td>1</td>\n",
       "      <td>?</td>\n",
       "      <td>?</td>\n",
       "      <td>1</td>\n",
       "    </tr>\n",
       "    <tr>\n",
       "      <td>4</td>\n",
       "      <td>66</td>\n",
       "      <td>1</td>\n",
       "      <td>3</td>\n",
       "      <td>110</td>\n",
       "      <td>213</td>\n",
       "      <td>1</td>\n",
       "      <td>2</td>\n",
       "      <td>99</td>\n",
       "      <td>1</td>\n",
       "      <td>1.3</td>\n",
       "      <td>2</td>\n",
       "      <td>?</td>\n",
       "      <td>?</td>\n",
       "      <td>0</td>\n",
       "    </tr>\n",
       "  </tbody>\n",
       "</table>\n",
       "</div>"
      ],
      "text/plain": [
       "   0   1   2    3    4  5   6    7  8    9  10 11 12  13\n",
       "0  63   1   4  140  260  0   1  112  1    3  2  ?  ?   2\n",
       "1  44   1   4  130  209  0   1  127  0    0  ?  ?  ?   0\n",
       "2  60   1   4  132  218  0   1  140  1  1.5  3  ?  ?   2\n",
       "3  55   1   4  142  228  0   1  149  1  2.5  1  ?  ?   1\n",
       "4  66   1   3  110  213  1   2   99  1  1.3  2  ?  ?   0"
      ]
     },
     "execution_count": 204,
     "metadata": {},
     "output_type": "execute_result"
    }
   ],
   "source": [
    "#importing input file\n",
    "df=pd.read_csv(\"heartdisease_data.csv\",header=None)\n",
    "df.head()"
   ]
  },
  {
   "cell_type": "code",
   "execution_count": 205,
   "metadata": {},
   "outputs": [
    {
     "data": {
      "text/html": [
       "<div>\n",
       "<style scoped>\n",
       "    .dataframe tbody tr th:only-of-type {\n",
       "        vertical-align: middle;\n",
       "    }\n",
       "\n",
       "    .dataframe tbody tr th {\n",
       "        vertical-align: top;\n",
       "    }\n",
       "\n",
       "    .dataframe thead th {\n",
       "        text-align: right;\n",
       "    }\n",
       "</style>\n",
       "<table border=\"1\" class=\"dataframe\">\n",
       "  <thead>\n",
       "    <tr style=\"text-align: right;\">\n",
       "      <th></th>\n",
       "      <th>age</th>\n",
       "      <th>sex</th>\n",
       "      <th>cp</th>\n",
       "      <th>trestbps</th>\n",
       "      <th>chol</th>\n",
       "      <th>fbs</th>\n",
       "      <th>restecg</th>\n",
       "      <th>thalach</th>\n",
       "      <th>exang</th>\n",
       "      <th>oldpeak</th>\n",
       "      <th>slope</th>\n",
       "      <th>ca</th>\n",
       "      <th>thal</th>\n",
       "      <th>num</th>\n",
       "    </tr>\n",
       "  </thead>\n",
       "  <tbody>\n",
       "    <tr>\n",
       "      <td>0</td>\n",
       "      <td>63</td>\n",
       "      <td>1</td>\n",
       "      <td>4</td>\n",
       "      <td>140</td>\n",
       "      <td>260</td>\n",
       "      <td>0</td>\n",
       "      <td>1</td>\n",
       "      <td>112</td>\n",
       "      <td>1</td>\n",
       "      <td>3</td>\n",
       "      <td>2</td>\n",
       "      <td>?</td>\n",
       "      <td>?</td>\n",
       "      <td>2</td>\n",
       "    </tr>\n",
       "    <tr>\n",
       "      <td>1</td>\n",
       "      <td>44</td>\n",
       "      <td>1</td>\n",
       "      <td>4</td>\n",
       "      <td>130</td>\n",
       "      <td>209</td>\n",
       "      <td>0</td>\n",
       "      <td>1</td>\n",
       "      <td>127</td>\n",
       "      <td>0</td>\n",
       "      <td>0</td>\n",
       "      <td>?</td>\n",
       "      <td>?</td>\n",
       "      <td>?</td>\n",
       "      <td>0</td>\n",
       "    </tr>\n",
       "    <tr>\n",
       "      <td>2</td>\n",
       "      <td>60</td>\n",
       "      <td>1</td>\n",
       "      <td>4</td>\n",
       "      <td>132</td>\n",
       "      <td>218</td>\n",
       "      <td>0</td>\n",
       "      <td>1</td>\n",
       "      <td>140</td>\n",
       "      <td>1</td>\n",
       "      <td>1.5</td>\n",
       "      <td>3</td>\n",
       "      <td>?</td>\n",
       "      <td>?</td>\n",
       "      <td>2</td>\n",
       "    </tr>\n",
       "    <tr>\n",
       "      <td>3</td>\n",
       "      <td>55</td>\n",
       "      <td>1</td>\n",
       "      <td>4</td>\n",
       "      <td>142</td>\n",
       "      <td>228</td>\n",
       "      <td>0</td>\n",
       "      <td>1</td>\n",
       "      <td>149</td>\n",
       "      <td>1</td>\n",
       "      <td>2.5</td>\n",
       "      <td>1</td>\n",
       "      <td>?</td>\n",
       "      <td>?</td>\n",
       "      <td>1</td>\n",
       "    </tr>\n",
       "    <tr>\n",
       "      <td>4</td>\n",
       "      <td>66</td>\n",
       "      <td>1</td>\n",
       "      <td>3</td>\n",
       "      <td>110</td>\n",
       "      <td>213</td>\n",
       "      <td>1</td>\n",
       "      <td>2</td>\n",
       "      <td>99</td>\n",
       "      <td>1</td>\n",
       "      <td>1.3</td>\n",
       "      <td>2</td>\n",
       "      <td>?</td>\n",
       "      <td>?</td>\n",
       "      <td>0</td>\n",
       "    </tr>\n",
       "  </tbody>\n",
       "</table>\n",
       "</div>"
      ],
      "text/plain": [
       "   age  sex  cp trestbps chol fbs  restecg thalach exang oldpeak slope ca  \\\n",
       "0   63    1   4      140  260   0        1     112     1       3     2  ?   \n",
       "1   44    1   4      130  209   0        1     127     0       0     ?  ?   \n",
       "2   60    1   4      132  218   0        1     140     1     1.5     3  ?   \n",
       "3   55    1   4      142  228   0        1     149     1     2.5     1  ?   \n",
       "4   66    1   3      110  213   1        2      99     1     1.3     2  ?   \n",
       "\n",
       "  thal  num  \n",
       "0    ?    2  \n",
       "1    ?    0  \n",
       "2    ?    2  \n",
       "3    ?    1  \n",
       "4    ?    0  "
      ]
     },
     "execution_count": 205,
     "metadata": {},
     "output_type": "execute_result"
    }
   ],
   "source": [
    "df.columns=['age','sex','cp','trestbps','chol','fbs','restecg','thalach','exang','oldpeak','slope','ca','thal','num']\n",
    "df.head()"
   ]
  },
  {
   "cell_type": "markdown",
   "metadata": {},
   "source": [
    "Attribute information:\n",
    "1. age: age in years\n",
    "2. sex: sex (1 = male; 0 = female)\n",
    "\n",
    "3.  cp: chest pain type\n",
    "-- Value 1: typical angina\n",
    "Angina pectoris or typical angina is the discomfort that is noted when the heart does not get enough blood or oxygen. Typically, this is caused by blockage or plaque buildup in the coronary arteries. If one or more of the coronary arteries is partially or completely clogged, the heart will not get enough oxygen\n",
    "\n",
    "-- Value 2: atypical angina\n",
    "If one or more of the coronary arteries is partially or completely clogged, the heart will not get enough oxygen. Usually, angina is a symptom that may feel like a tightness or heaviness in the central chest. ... Women may have more of a subtle presentation called atypical angina.\n",
    "\n",
    "-- Value 3: non-anginal pain\n",
    "Non-cardiac chest pain is often described as feeling like angina, the chest pain caused by heart disease. The patient feels a pressure or squeezing pain behind the breast bone. Some people also report the pain spreads to the neck, left arm, or back. The pain can last for a few minutes or for hours.\n",
    "\n",
    "-- Value 4: asymptomatic\n",
    "Asymptomatic means neither causing nor exhibiting symptoms of disease.\n",
    "\n",
    "4. trestbps: resting blood pressure (in mm Hg on admission to the hospital)\n",
    "A normal reading would be any blood pressure below 120/80 mm Hg and above 90/60 mm Hg in an adult\n",
    "\n",
    "5. chol: serum cholestoral in mg/dl\n",
    "healthy serum cholesterol\tless than 200 mg/dL\n",
    "\n",
    "6. fbs: (fasting blood sugar > 120 mg/dl) (1 = true; 0 = false)\n",
    "\n",
    "7. restecg: resting electrocardiographic results\n",
    "-- Value 0: normal\n",
    "-- Value 1: having ST-T wave abnormality (T wave inversions and/or ST elevation or depression of > 0.05 mV)\n",
    "-- Value 2: showing probable or definite left ventricular hypertrophy by Estes' criteria\n",
    "\n",
    "8. thalach: maximum heart rate achieved\n",
    "\n",
    "9. exang: exercise induced angina (1 = yes; 0 = no)\n",
    "\n",
    "10. oldpeak = ST depression induced by exercise relative to rest\n",
    "In a cardiac stress test, an ST depression of at least 1 mm after adenosine administration indicates a reversible ischaemia, while an exercise stress test requires an ST depression of at least 2 mm to significantly indicate reversible ischaemia.\n",
    "\n",
    "11. slope: the slope of the peak exercise ST segment\n",
    "-- Value 1: upsloping\n",
    "-- Value 2: flat\n",
    "-- Value 3: downsloping\n",
    "The normal ST segment during exercise therefore slopes sharply upwards. By convention, ST segment depression is measured relative to the isoelectric baseline (between the T and P waves) at a point 60-80 ms after the J point.\n",
    "\n",
    "12. ca: number of major vessels (0-3) colored by flourosopy\n",
    "\n",
    "13. thal: 3 = normal; 6 = fixed defect; 7 = reversable defect\n",
    "\n",
    "14. num: diagnosis of heart disease (angiographic disease status)\n",
    "-- Value 0: < 50% diameter narrowing\n",
    "-- Value 1: > 50% diameter narrowing"
   ]
  },
  {
   "cell_type": "code",
   "execution_count": 206,
   "metadata": {},
   "outputs": [
    {
     "data": {
      "text/plain": [
       "(200, 14)"
      ]
     },
     "execution_count": 206,
     "metadata": {},
     "output_type": "execute_result"
    }
   ],
   "source": [
    "#Checking the shape of the dataset\n",
    "df.shape"
   ]
  },
  {
   "cell_type": "code",
   "execution_count": 207,
   "metadata": {},
   "outputs": [
    {
     "data": {
      "text/plain": [
       "<matplotlib.axes._subplots.AxesSubplot at 0x2dd134ad888>"
      ]
     },
     "execution_count": 207,
     "metadata": {},
     "output_type": "execute_result"
    },
    {
     "data": {
      "image/png": "[encoded data removed]",
      "text/plain": [
       "<Figure size 432x288 with 2 Axes>"
      ]
     },
     "metadata": {
      "needs_background": "light"
     },
     "output_type": "display_data"
    }
   ],
   "source": [
    "#Let's check if there are any missing values\n",
    "sns.heatmap(df.isnull())"
   ]
  },
  {
   "cell_type": "code",
   "execution_count": 208,
   "metadata": {},
   "outputs": [
    {
     "data": {
      "text/plain": [
       "age         0\n",
       "sex         0\n",
       "cp          0\n",
       "trestbps    0\n",
       "chol        0\n",
       "fbs         0\n",
       "restecg     0\n",
       "thalach     0\n",
       "exang       0\n",
       "oldpeak     0\n",
       "slope       0\n",
       "ca          0\n",
       "thal        0\n",
       "num         0\n",
       "dtype: int64"
      ]
     },
     "execution_count": 208,
     "metadata": {},
     "output_type": "execute_result"
    }
   ],
   "source": [
    "df.isnull().sum()\n",
    "#There are no null values"
   ]
  },
  {
   "cell_type": "code",
   "execution_count": 209,
   "metadata": {},
   "outputs": [
    {
     "name": "stdout",
     "output_type": "stream",
     "text": [
      "<class 'pandas.core.frame.DataFrame'>\n",
      "RangeIndex: 200 entries, 0 to 199\n",
      "Data columns (total 14 columns):\n",
      "age         200 non-null int64\n",
      "sex         200 non-null int64\n",
      "cp          200 non-null int64\n",
      "trestbps    200 non-null object\n",
      "chol        200 non-null object\n",
      "fbs         200 non-null object\n",
      "restecg     200 non-null int64\n",
      "thalach     200 non-null object\n",
      "exang       200 non-null object\n",
      "oldpeak     200 non-null object\n",
      "slope       200 non-null object\n",
      "ca          200 non-null object\n",
      "thal        200 non-null object\n",
      "num         200 non-null int64\n",
      "dtypes: int64(5), object(9)\n",
      "memory usage: 22.0+ KB\n"
     ]
    }
   ],
   "source": [
    "#Checking the datatypes of the dataset\n",
    "df.info()"
   ]
  },
  {
   "cell_type": "code",
   "execution_count": 210,
   "metadata": {},
   "outputs": [
    {
     "name": "stdout",
     "output_type": "stream",
     "text": [
      "The unique value counts of age are: \n",
      "63    15\n",
      "62    15\n",
      "55    14\n",
      "60    12\n",
      "58    12\n",
      "61    12\n",
      "57    10\n",
      "64     9\n",
      "56     9\n",
      "69     8\n",
      "59     8\n",
      "54     7\n",
      "51     7\n",
      "65     6\n",
      "74     5\n",
      "67     5\n",
      "53     5\n",
      "68     4\n",
      "48     4\n",
      "72     3\n",
      "66     3\n",
      "75     3\n",
      "40     2\n",
      "46     2\n",
      "50     2\n",
      "49     2\n",
      "41     2\n",
      "52     2\n",
      "71     2\n",
      "42     1\n",
      "37     1\n",
      "38     1\n",
      "77     1\n",
      "43     1\n",
      "44     1\n",
      "45     1\n",
      "76     1\n",
      "70     1\n",
      "35     1\n",
      "Name: age, dtype: int64\n",
      "\n",
      "\n",
      "The unique value counts of sex are: \n",
      "1    194\n",
      "0      6\n",
      "Name: sex, dtype: int64\n",
      "\n",
      "\n",
      "The unique value counts of cp are: \n",
      "4    131\n",
      "3     47\n",
      "2     14\n",
      "1      8\n",
      "Name: cp, dtype: int64\n",
      "\n",
      "\n",
      "The unique value counts of trestbps are: \n",
      "?      56\n",
      "120    16\n",
      "130    15\n",
      "140    10\n",
      "110     9\n",
      "150     9\n",
      "160     8\n",
      "122     6\n",
      "142     5\n",
      "134     4\n",
      "124     4\n",
      "128     4\n",
      "126     4\n",
      "136     4\n",
      "144     4\n",
      "170     4\n",
      "132     3\n",
      "158     3\n",
      "155     2\n",
      "154     2\n",
      "112     2\n",
      "104     2\n",
      "125     2\n",
      "152     2\n",
      "116     2\n",
      "180     2\n",
      "138     2\n",
      "0       1\n",
      "118     1\n",
      "135     1\n",
      "156     1\n",
      "96      1\n",
      "106     1\n",
      "127     1\n",
      "102     1\n",
      "114     1\n",
      "146     1\n",
      "100     1\n",
      "172     1\n",
      "190     1\n",
      "178     1\n",
      "Name: trestbps, dtype: int64\n",
      "\n",
      "\n",
      "The unique value counts of chol are: \n",
      "0      49\n",
      "?       7\n",
      "203     4\n",
      "220     4\n",
      "258     4\n",
      "       ..\n",
      "160     1\n",
      "308     1\n",
      "237     1\n",
      "281     1\n",
      "192     1\n",
      "Name: chol, Length: 100, dtype: int64\n",
      "\n",
      "\n",
      "The unique value counts of fbs are: \n",
      "0    125\n",
      "1     68\n",
      "?      7\n",
      "Name: fbs, dtype: int64\n",
      "\n",
      "\n",
      "The unique value counts of restecg are: \n",
      "1    93\n",
      "0    80\n",
      "2    27\n",
      "Name: restecg, dtype: int64\n",
      "\n",
      "\n",
      "The unique value counts of thalach are: \n",
      "?      53\n",
      "120    12\n",
      "140    12\n",
      "110     8\n",
      "130     6\n",
      "112     6\n",
      "118     4\n",
      "150     4\n",
      "128     4\n",
      "105     4\n",
      "100     4\n",
      "160     4\n",
      "117     3\n",
      "106     3\n",
      "84      3\n",
      "135     3\n",
      "122     3\n",
      "148     3\n",
      "102     3\n",
      "86      3\n",
      "108     3\n",
      "125     3\n",
      "98      2\n",
      "138     2\n",
      "165     2\n",
      "80      2\n",
      "119     2\n",
      "180     2\n",
      "111     2\n",
      "154     2\n",
      "127     2\n",
      "96      2\n",
      "129     2\n",
      "115     1\n",
      "94      1\n",
      "149     1\n",
      "121     1\n",
      "155     1\n",
      "99      1\n",
      "145     1\n",
      "141     1\n",
      "107     1\n",
      "93      1\n",
      "124     1\n",
      "131     1\n",
      "161     1\n",
      "97      1\n",
      "126     1\n",
      "151     1\n",
      "157     1\n",
      "113     1\n",
      "69      1\n",
      "144     1\n",
      "132     1\n",
      "159     1\n",
      "133     1\n",
      "162     1\n",
      "88      1\n",
      "73      1\n",
      "123     1\n",
      "Name: thalach, dtype: int64\n",
      "\n",
      "\n",
      "The unique value counts of exang are: \n",
      "1    95\n",
      "?    53\n",
      "0    52\n",
      "Name: exang, dtype: int64\n",
      "\n",
      "\n",
      "The unique value counts of oldpeak are: \n",
      "?       56\n",
      "0       40\n",
      "2       25\n",
      "1.5     21\n",
      "1       18\n",
      "3       13\n",
      "2.5      9\n",
      "0.5      7\n",
      "4        4\n",
      "1.3      2\n",
      "1.7      1\n",
      "1.6      1\n",
      "-0.5     1\n",
      "3.5      1\n",
      "0.8      1\n",
      "Name: oldpeak, dtype: int64\n",
      "\n",
      "\n",
      "The unique value counts of slope are: \n",
      "?    102\n",
      "2     53\n",
      "3     29\n",
      "1     16\n",
      "Name: slope, dtype: int64\n",
      "\n",
      "\n",
      "The unique value counts of ca are: \n",
      "?    198\n",
      "0      2\n",
      "Name: ca, dtype: int64\n",
      "\n",
      "\n",
      "The unique value counts of thal are: \n",
      "?    166\n",
      "7     22\n",
      "6      8\n",
      "3      4\n",
      "Name: thal, dtype: int64\n",
      "\n",
      "\n",
      "The unique value counts of num are: \n",
      "1    56\n",
      "0    51\n",
      "3    42\n",
      "2    41\n",
      "4    10\n",
      "Name: num, dtype: int64\n",
      "\n",
      "\n"
     ]
    }
   ],
   "source": [
    "#Certain columns which have integers are showing object datatype. We need to check if there missing values represented by symbols.\n",
    "# We can check the unique value counts and we will find if any such values\n",
    "for i in df.columns:\n",
    "    print(\"The unique value counts of\", i, \"are: \")\n",
    "    print(df[i].value_counts())\n",
    "    print(\"\\n\")"
   ]
  },
  {
   "cell_type": "markdown",
   "metadata": {},
   "source": [
    "Observations:-\n",
    "1. Trestbps has 56 missing values represented by '?' out of 200\n",
    "2. Chol has 7 missing values represented by '?' out of 200.\n",
    "3. fbs has 7 missing values represented by '?' out of 200.\n",
    "4. thalach has 53 missing values represented by '?' out of 200.\n",
    "5. Exang has 53 missing values represented by '?' out of 200.\n",
    "6. oldpeak has 56 missing values represented by '?' out of 200.\n",
    "7. slope has 102 missing values represented by '?' out of 200. The other values are 1, 2 and 3.\n",
    "8. ca has 198 missing values represented by '?' out of 200. The other value is 0.\n",
    "9. thal has 166 missing values represented by '?' out of 200. The other values are 7,6 and 3."
   ]
  },
  {
   "cell_type": "markdown",
   "metadata": {},
   "source": [
    "From analysing above, we can come up with the below solution to handle the missing values:-\n",
    "1. ca has only two values rest all is missing. So we need to delete the column.\n",
    "2. thal has most of the values missing (166 out of 200). So we can delele that as well.\n",
    "3. rest all the values can be handled by replacing it with mean, median or mode."
   ]
  },
  {
   "cell_type": "markdown",
   "metadata": {},
   "source": [
    "#### Handling the missing values"
   ]
  },
  {
   "cell_type": "code",
   "execution_count": null,
   "metadata": {},
   "outputs": [],
   "source": []
  },
  {
   "cell_type": "code",
   "execution_count": 211,
   "metadata": {},
   "outputs": [
    {
     "data": {
      "text/html": [
       "<div>\n",
       "<style scoped>\n",
       "    .dataframe tbody tr th:only-of-type {\n",
       "        vertical-align: middle;\n",
       "    }\n",
       "\n",
       "    .dataframe tbody tr th {\n",
       "        vertical-align: top;\n",
       "    }\n",
       "\n",
       "    .dataframe thead th {\n",
       "        text-align: right;\n",
       "    }\n",
       "</style>\n",
       "<table border=\"1\" class=\"dataframe\">\n",
       "  <thead>\n",
       "    <tr style=\"text-align: right;\">\n",
       "      <th></th>\n",
       "      <th>age</th>\n",
       "      <th>sex</th>\n",
       "      <th>cp</th>\n",
       "      <th>trestbps</th>\n",
       "      <th>chol</th>\n",
       "      <th>fbs</th>\n",
       "      <th>restecg</th>\n",
       "      <th>thalach</th>\n",
       "      <th>exang</th>\n",
       "      <th>oldpeak</th>\n",
       "      <th>slope</th>\n",
       "      <th>num</th>\n",
       "    </tr>\n",
       "  </thead>\n",
       "  <tbody>\n",
       "    <tr>\n",
       "      <td>0</td>\n",
       "      <td>63</td>\n",
       "      <td>1</td>\n",
       "      <td>4</td>\n",
       "      <td>140</td>\n",
       "      <td>260</td>\n",
       "      <td>0</td>\n",
       "      <td>1</td>\n",
       "      <td>112</td>\n",
       "      <td>1</td>\n",
       "      <td>3</td>\n",
       "      <td>2</td>\n",
       "      <td>2</td>\n",
       "    </tr>\n",
       "    <tr>\n",
       "      <td>1</td>\n",
       "      <td>44</td>\n",
       "      <td>1</td>\n",
       "      <td>4</td>\n",
       "      <td>130</td>\n",
       "      <td>209</td>\n",
       "      <td>0</td>\n",
       "      <td>1</td>\n",
       "      <td>127</td>\n",
       "      <td>0</td>\n",
       "      <td>0</td>\n",
       "      <td>?</td>\n",
       "      <td>0</td>\n",
       "    </tr>\n",
       "    <tr>\n",
       "      <td>2</td>\n",
       "      <td>60</td>\n",
       "      <td>1</td>\n",
       "      <td>4</td>\n",
       "      <td>132</td>\n",
       "      <td>218</td>\n",
       "      <td>0</td>\n",
       "      <td>1</td>\n",
       "      <td>140</td>\n",
       "      <td>1</td>\n",
       "      <td>1.5</td>\n",
       "      <td>3</td>\n",
       "      <td>2</td>\n",
       "    </tr>\n",
       "    <tr>\n",
       "      <td>3</td>\n",
       "      <td>55</td>\n",
       "      <td>1</td>\n",
       "      <td>4</td>\n",
       "      <td>142</td>\n",
       "      <td>228</td>\n",
       "      <td>0</td>\n",
       "      <td>1</td>\n",
       "      <td>149</td>\n",
       "      <td>1</td>\n",
       "      <td>2.5</td>\n",
       "      <td>1</td>\n",
       "      <td>1</td>\n",
       "    </tr>\n",
       "    <tr>\n",
       "      <td>4</td>\n",
       "      <td>66</td>\n",
       "      <td>1</td>\n",
       "      <td>3</td>\n",
       "      <td>110</td>\n",
       "      <td>213</td>\n",
       "      <td>1</td>\n",
       "      <td>2</td>\n",
       "      <td>99</td>\n",
       "      <td>1</td>\n",
       "      <td>1.3</td>\n",
       "      <td>2</td>\n",
       "      <td>0</td>\n",
       "    </tr>\n",
       "  </tbody>\n",
       "</table>\n",
       "</div>"
      ],
      "text/plain": [
       "   age  sex  cp trestbps chol fbs  restecg thalach exang oldpeak slope  num\n",
       "0   63    1   4      140  260   0        1     112     1       3     2    2\n",
       "1   44    1   4      130  209   0        1     127     0       0     ?    0\n",
       "2   60    1   4      132  218   0        1     140     1     1.5     3    2\n",
       "3   55    1   4      142  228   0        1     149     1     2.5     1    1\n",
       "4   66    1   3      110  213   1        2      99     1     1.3     2    0"
      ]
     },
     "execution_count": 211,
     "metadata": {},
     "output_type": "execute_result"
    }
   ],
   "source": [
    "#Deleting relevant columns\n",
    "df.drop(['ca','thal'],axis=1,inplace=True)\n",
    "df.head()"
   ]
  },
  {
   "cell_type": "code",
   "execution_count": 212,
   "metadata": {},
   "outputs": [],
   "source": [
    "#replacing '?' values with relevant values\n",
    "#manually replacing with most repeated values instead of mode in some columns as mode value is showing ? again and mean is not calculating as ? is in the column\n",
    "df['slope']=df['slope'].replace('?','2') \n",
    "df['oldpeak']=df['oldpeak'].replace('?','0')\n",
    "df['exang']=df['exang'].replace('?',df['exang'].mode()[0])\n",
    "df['thalach']=df['thalach'].replace('?','120')\n",
    "df['fbs']=df['fbs'].replace('?',df['fbs'].mode()[0])\n",
    "df['chol']=df['chol'].replace('?',df['chol'].mode()[0])\n",
    "df['trestbps']=df['trestbps'].replace('?','120')\n"
   ]
  },
  {
   "cell_type": "code",
   "execution_count": 213,
   "metadata": {},
   "outputs": [
    {
     "data": {
      "text/plain": [
       "age          int64\n",
       "sex          int64\n",
       "cp           int64\n",
       "trestbps    object\n",
       "chol        object\n",
       "fbs         object\n",
       "restecg      int64\n",
       "thalach     object\n",
       "exang       object\n",
       "oldpeak     object\n",
       "slope       object\n",
       "num          int64\n",
       "dtype: object"
      ]
     },
     "execution_count": 213,
     "metadata": {},
     "output_type": "execute_result"
    }
   ],
   "source": [
    "df.dtypes\n",
    "#There are few columns whose datatype should be numeric but it is object. We need to convert them to numeric datatype."
   ]
  },
  {
   "cell_type": "markdown",
   "metadata": {},
   "source": [
    "#### Converting the object type dtypes to integer or float type as necessary"
   ]
  },
  {
   "cell_type": "code",
   "execution_count": 214,
   "metadata": {},
   "outputs": [],
   "source": [
    "\n",
    "df['chol']=df['chol'].astype(int)\n",
    "df['oldpeak']=df['oldpeak'].astype(float)\n",
    "df['exang']=df['exang'].astype(int)\n",
    "df['thalach']=df['thalach'].astype(int)\n",
    "df['fbs']=df['fbs'].astype(int)\n",
    "df['chol']=df['chol'].astype(int)\n",
    "df['trestbps']=df['trestbps'].astype(int)\n",
    "df['slope']=df['slope'].astype(int)"
   ]
  },
  {
   "cell_type": "code",
   "execution_count": 215,
   "metadata": {},
   "outputs": [
    {
     "data": {
      "text/plain": [
       "age           int64\n",
       "sex           int64\n",
       "cp            int64\n",
       "trestbps      int32\n",
       "chol          int32\n",
       "fbs           int32\n",
       "restecg       int64\n",
       "thalach       int32\n",
       "exang         int32\n",
       "oldpeak     float64\n",
       "slope         int32\n",
       "num           int64\n",
       "dtype: object"
      ]
     },
     "execution_count": 215,
     "metadata": {},
     "output_type": "execute_result"
    }
   ],
   "source": [
    "#rechecking the datatypes\n",
    "df.dtypes"
   ]
  },
  {
   "cell_type": "markdown",
   "metadata": {},
   "source": [
    "### Statistical Analysis"
   ]
  },
  {
   "cell_type": "code",
   "execution_count": 216,
   "metadata": {},
   "outputs": [
    {
     "data": {
      "text/html": [
       "<div>\n",
       "<style scoped>\n",
       "    .dataframe tbody tr th:only-of-type {\n",
       "        vertical-align: middle;\n",
       "    }\n",
       "\n",
       "    .dataframe tbody tr th {\n",
       "        vertical-align: top;\n",
       "    }\n",
       "\n",
       "    .dataframe thead th {\n",
       "        text-align: right;\n",
       "    }\n",
       "</style>\n",
       "<table border=\"1\" class=\"dataframe\">\n",
       "  <thead>\n",
       "    <tr style=\"text-align: right;\">\n",
       "      <th></th>\n",
       "      <th>age</th>\n",
       "      <th>sex</th>\n",
       "      <th>cp</th>\n",
       "      <th>trestbps</th>\n",
       "      <th>chol</th>\n",
       "      <th>fbs</th>\n",
       "      <th>restecg</th>\n",
       "      <th>thalach</th>\n",
       "      <th>exang</th>\n",
       "      <th>oldpeak</th>\n",
       "      <th>slope</th>\n",
       "      <th>num</th>\n",
       "    </tr>\n",
       "  </thead>\n",
       "  <tbody>\n",
       "    <tr>\n",
       "      <td>count</td>\n",
       "      <td>200.000000</td>\n",
       "      <td>200.000000</td>\n",
       "      <td>200.000000</td>\n",
       "      <td>200.000000</td>\n",
       "      <td>200.000000</td>\n",
       "      <td>200.000000</td>\n",
       "      <td>200.000000</td>\n",
       "      <td>200.000000</td>\n",
       "      <td>200.000000</td>\n",
       "      <td>200.000000</td>\n",
       "      <td>200.000000</td>\n",
       "      <td>200.000000</td>\n",
       "    </tr>\n",
       "    <tr>\n",
       "      <td>mean</td>\n",
       "      <td>59.350000</td>\n",
       "      <td>0.970000</td>\n",
       "      <td>3.505000</td>\n",
       "      <td>129.910000</td>\n",
       "      <td>172.490000</td>\n",
       "      <td>0.340000</td>\n",
       "      <td>0.735000</td>\n",
       "      <td>122.055000</td>\n",
       "      <td>0.740000</td>\n",
       "      <td>0.951000</td>\n",
       "      <td>2.065000</td>\n",
       "      <td>1.520000</td>\n",
       "    </tr>\n",
       "    <tr>\n",
       "      <td>std</td>\n",
       "      <td>7.811697</td>\n",
       "      <td>0.171015</td>\n",
       "      <td>0.795701</td>\n",
       "      <td>19.280055</td>\n",
       "      <td>116.752497</td>\n",
       "      <td>0.474898</td>\n",
       "      <td>0.683455</td>\n",
       "      <td>18.876269</td>\n",
       "      <td>0.439735</td>\n",
       "      <td>1.110344</td>\n",
       "      <td>0.471046</td>\n",
       "      <td>1.219441</td>\n",
       "    </tr>\n",
       "    <tr>\n",
       "      <td>min</td>\n",
       "      <td>35.000000</td>\n",
       "      <td>0.000000</td>\n",
       "      <td>1.000000</td>\n",
       "      <td>0.000000</td>\n",
       "      <td>0.000000</td>\n",
       "      <td>0.000000</td>\n",
       "      <td>0.000000</td>\n",
       "      <td>69.000000</td>\n",
       "      <td>0.000000</td>\n",
       "      <td>-0.500000</td>\n",
       "      <td>1.000000</td>\n",
       "      <td>0.000000</td>\n",
       "    </tr>\n",
       "    <tr>\n",
       "      <td>25%</td>\n",
       "      <td>55.000000</td>\n",
       "      <td>1.000000</td>\n",
       "      <td>3.000000</td>\n",
       "      <td>120.000000</td>\n",
       "      <td>0.000000</td>\n",
       "      <td>0.000000</td>\n",
       "      <td>0.000000</td>\n",
       "      <td>112.000000</td>\n",
       "      <td>0.000000</td>\n",
       "      <td>0.000000</td>\n",
       "      <td>2.000000</td>\n",
       "      <td>0.000000</td>\n",
       "    </tr>\n",
       "    <tr>\n",
       "      <td>50%</td>\n",
       "      <td>60.000000</td>\n",
       "      <td>1.000000</td>\n",
       "      <td>4.000000</td>\n",
       "      <td>123.000000</td>\n",
       "      <td>214.000000</td>\n",
       "      <td>0.000000</td>\n",
       "      <td>1.000000</td>\n",
       "      <td>120.000000</td>\n",
       "      <td>1.000000</td>\n",
       "      <td>0.500000</td>\n",
       "      <td>2.000000</td>\n",
       "      <td>1.000000</td>\n",
       "    </tr>\n",
       "    <tr>\n",
       "      <td>75%</td>\n",
       "      <td>64.000000</td>\n",
       "      <td>1.000000</td>\n",
       "      <td>4.000000</td>\n",
       "      <td>140.000000</td>\n",
       "      <td>254.500000</td>\n",
       "      <td>1.000000</td>\n",
       "      <td>1.000000</td>\n",
       "      <td>130.000000</td>\n",
       "      <td>1.000000</td>\n",
       "      <td>2.000000</td>\n",
       "      <td>2.000000</td>\n",
       "      <td>3.000000</td>\n",
       "    </tr>\n",
       "    <tr>\n",
       "      <td>max</td>\n",
       "      <td>77.000000</td>\n",
       "      <td>1.000000</td>\n",
       "      <td>4.000000</td>\n",
       "      <td>190.000000</td>\n",
       "      <td>458.000000</td>\n",
       "      <td>1.000000</td>\n",
       "      <td>2.000000</td>\n",
       "      <td>180.000000</td>\n",
       "      <td>1.000000</td>\n",
       "      <td>4.000000</td>\n",
       "      <td>3.000000</td>\n",
       "      <td>4.000000</td>\n",
       "    </tr>\n",
       "  </tbody>\n",
       "</table>\n",
       "</div>"
      ],
      "text/plain": [
       "              age         sex          cp    trestbps        chol         fbs  \\\n",
       "count  200.000000  200.000000  200.000000  200.000000  200.000000  200.000000   \n",
       "mean    59.350000    0.970000    3.505000  129.910000  172.490000    0.340000   \n",
       "std      7.811697    0.171015    0.795701   19.280055  116.752497    0.474898   \n",
       "min     35.000000    0.000000    1.000000    0.000000    0.000000    0.000000   \n",
       "25%     55.000000    1.000000    3.000000  120.000000    0.000000    0.000000   \n",
       "50%     60.000000    1.000000    4.000000  123.000000  214.000000    0.000000   \n",
       "75%     64.000000    1.000000    4.000000  140.000000  254.500000    1.000000   \n",
       "max     77.000000    1.000000    4.000000  190.000000  458.000000    1.000000   \n",
       "\n",
       "          restecg     thalach       exang     oldpeak       slope         num  \n",
       "count  200.000000  200.000000  200.000000  200.000000  200.000000  200.000000  \n",
       "mean     0.735000  122.055000    0.740000    0.951000    2.065000    1.520000  \n",
       "std      0.683455   18.876269    0.439735    1.110344    0.471046    1.219441  \n",
       "min      0.000000   69.000000    0.000000   -0.500000    1.000000    0.000000  \n",
       "25%      0.000000  112.000000    0.000000    0.000000    2.000000    0.000000  \n",
       "50%      1.000000  120.000000    1.000000    0.500000    2.000000    1.000000  \n",
       "75%      1.000000  130.000000    1.000000    2.000000    2.000000    3.000000  \n",
       "max      2.000000  180.000000    1.000000    4.000000    3.000000    4.000000  "
      ]
     },
     "execution_count": 216,
     "metadata": {},
     "output_type": "execute_result"
    }
   ],
   "source": [
    "df.describe()"
   ]
  },
  {
   "cell_type": "markdown",
   "metadata": {},
   "source": [
    "Observations\n",
    "1. Most of the patients taken on record are of average age 59.\n",
    "2. The sex of patients on record is male.\n",
    "3. Chol column seems to have outliers. We need to check it.\n"
   ]
  },
  {
   "cell_type": "markdown",
   "metadata": {},
   "source": [
    "#### Univariate Analysis"
   ]
  },
  {
   "cell_type": "code",
   "execution_count": 217,
   "metadata": {},
   "outputs": [
    {
     "data": {
      "image/png": "[encoded data removed]",
      "text/plain": [
       "<Figure size 720x720 with 12 Axes>"
      ]
     },
     "metadata": {
      "needs_background": "light"
     },
     "output_type": "display_data"
    }
   ],
   "source": [
    "df.hist(figsize=(10,10))\n",
    "plt.show()"
   ]
  },
  {
   "cell_type": "code",
   "execution_count": 218,
   "metadata": {},
   "outputs": [],
   "source": [
    "#Few columns like age, thalach seems to be symmetric and other are not symmetric and needs to be treated later"
   ]
  },
  {
   "cell_type": "code",
   "execution_count": 219,
   "metadata": {},
   "outputs": [
    {
     "data": {
      "image/png": "[encoded data removed]",
      "text/plain": [
       "<Figure size 1080x720 with 1 Axes>"
      ]
     },
     "metadata": {
      "needs_background": "light"
     },
     "output_type": "display_data"
    },
    {
     "data": {
      "image/png": "[encoded data removed]",
      "text/plain": [
       "<Figure size 1080x720 with 1 Axes>"
      ]
     },
     "metadata": {
      "needs_background": "light"
     },
     "output_type": "display_data"
    },
    {
     "data": {
      "image/png": "[encoded data removed]",
      "text/plain": [
       "<Figure size 1080x720 with 1 Axes>"
      ]
     },
     "metadata": {
      "needs_background": "light"
     },
     "output_type": "display_data"
    },
    {
     "data": {
      "image/png": "[encoded data removed]",
      "text/plain": [
       "<Figure size 1080x720 with 1 Axes>"
      ]
     },
     "metadata": {
      "needs_background": "light"
     },
     "output_type": "display_data"
    },
    {
     "data": {
      "image/png": "[encoded data removed]",
      "text/plain": [
       "<Figure size 1080x720 with 1 Axes>"
      ]
     },
     "metadata": {
      "needs_background": "light"
     },
     "output_type": "display_data"
    },
    {
     "data": {
      "image/png": "[encoded data removed]",
      "text/plain": [
       "<Figure size 1080x720 with 1 Axes>"
      ]
     },
     "metadata": {
      "needs_background": "light"
     },
     "output_type": "display_data"
    },
    {
     "data": {
      "image/png": "[encoded data removed]",
      "text/plain": [
       "<Figure size 1080x720 with 1 Axes>"
      ]
     },
     "metadata": {
      "needs_background": "light"
     },
     "output_type": "display_data"
    },
    {
     "data": {
      "image/png": "[encoded data removed]",
      "text/plain": [
       "<Figure size 1080x720 with 1 Axes>"
      ]
     },
     "metadata": {
      "needs_background": "light"
     },
     "output_type": "display_data"
    },
    {
     "data": {
      "image/png": "[encoded data removed]",
      "text/plain": [
       "<Figure size 1080x720 with 1 Axes>"
      ]
     },
     "metadata": {
      "needs_background": "light"
     },
     "output_type": "display_data"
    },
    {
     "data": {
      "image/png": "[encoded data removed]",
      "text/plain": [
       "<Figure size 1080x720 with 1 Axes>"
      ]
     },
     "metadata": {
      "needs_background": "light"
     },
     "output_type": "display_data"
    },
    {
     "data": {
      "image/png": "[encoded data removed]",
      "text/plain": [
       "<Figure size 1080x720 with 1 Axes>"
      ]
     },
     "metadata": {
      "needs_background": "light"
     },
     "output_type": "display_data"
    },
    {
     "data": {
      "image/png": "[encoded data removed]",
      "text/plain": [
       "<Figure size 1080x720 with 1 Axes>"
      ]
     },
     "metadata": {
      "needs_background": "light"
     },
     "output_type": "display_data"
    }
   ],
   "source": [
    "col_list=df.columns.values\n",
    "for i in range(0,len(col_list)):\n",
    "    if df[col_list[i]].dtypes!='O':\n",
    "        plt.figure(figsize=(15,10))\n",
    "        plt.subplot(4,3,2)\n",
    "        sns.boxplot(df[col_list[i]])\n",
    "        plt.show()"
   ]
  },
  {
   "cell_type": "code",
   "execution_count": 220,
   "metadata": {},
   "outputs": [],
   "source": [
    "#only few columns have outliers which needs to be treated"
   ]
  },
  {
   "cell_type": "markdown",
   "metadata": {},
   "source": [
    "### Bivariate Analysis"
   ]
  },
  {
   "cell_type": "code",
   "execution_count": 221,
   "metadata": {},
   "outputs": [
    {
     "data": {
      "text/plain": [
       "Index(['age', 'sex', 'cp', 'trestbps', 'chol', 'fbs', 'restecg', 'thalach',\n",
       "       'exang', 'oldpeak', 'slope', 'num'],\n",
       "      dtype='object')"
      ]
     },
     "execution_count": 221,
     "metadata": {},
     "output_type": "execute_result"
    }
   ],
   "source": [
    "df.columns"
   ]
  },
  {
   "cell_type": "code",
   "execution_count": 222,
   "metadata": {},
   "outputs": [
    {
     "data": {
      "text/html": [
       "<div>\n",
       "<style scoped>\n",
       "    .dataframe tbody tr th:only-of-type {\n",
       "        vertical-align: middle;\n",
       "    }\n",
       "\n",
       "    .dataframe tbody tr th {\n",
       "        vertical-align: top;\n",
       "    }\n",
       "\n",
       "    .dataframe thead th {\n",
       "        text-align: right;\n",
       "    }\n",
       "</style>\n",
       "<table border=\"1\" class=\"dataframe\">\n",
       "  <thead>\n",
       "    <tr style=\"text-align: right;\">\n",
       "      <th></th>\n",
       "      <th>age</th>\n",
       "      <th>sex</th>\n",
       "      <th>cp</th>\n",
       "      <th>trestbps</th>\n",
       "      <th>chol</th>\n",
       "      <th>fbs</th>\n",
       "      <th>restecg</th>\n",
       "      <th>thalach</th>\n",
       "      <th>exang</th>\n",
       "      <th>oldpeak</th>\n",
       "      <th>slope</th>\n",
       "      <th>num</th>\n",
       "    </tr>\n",
       "  </thead>\n",
       "  <tbody>\n",
       "    <tr>\n",
       "      <td>age</td>\n",
       "      <td>1.000000</td>\n",
       "      <td>0.034230</td>\n",
       "      <td>-0.038280</td>\n",
       "      <td>0.167637</td>\n",
       "      <td>0.049923</td>\n",
       "      <td>0.135728</td>\n",
       "      <td>0.002400</td>\n",
       "      <td>-0.150146</td>\n",
       "      <td>0.129027</td>\n",
       "      <td>0.134659</td>\n",
       "      <td>0.107135</td>\n",
       "      <td>0.287289</td>\n",
       "    </tr>\n",
       "    <tr>\n",
       "      <td>sex</td>\n",
       "      <td>0.034230</td>\n",
       "      <td>1.000000</td>\n",
       "      <td>0.038036</td>\n",
       "      <td>-0.002347</td>\n",
       "      <td>-0.101693</td>\n",
       "      <td>-0.059400</td>\n",
       "      <td>0.060621</td>\n",
       "      <td>-0.004156</td>\n",
       "      <td>0.029402</td>\n",
       "      <td>0.058379</td>\n",
       "      <td>0.086709</td>\n",
       "      <td>0.147470</td>\n",
       "    </tr>\n",
       "    <tr>\n",
       "      <td>cp</td>\n",
       "      <td>-0.038280</td>\n",
       "      <td>0.038036</td>\n",
       "      <td>1.000000</td>\n",
       "      <td>0.139569</td>\n",
       "      <td>0.048981</td>\n",
       "      <td>-0.044416</td>\n",
       "      <td>0.034790</td>\n",
       "      <td>-0.108585</td>\n",
       "      <td>0.089904</td>\n",
       "      <td>0.186268</td>\n",
       "      <td>0.059460</td>\n",
       "      <td>0.168210</td>\n",
       "    </tr>\n",
       "    <tr>\n",
       "      <td>trestbps</td>\n",
       "      <td>0.167637</td>\n",
       "      <td>-0.002347</td>\n",
       "      <td>0.139569</td>\n",
       "      <td>1.000000</td>\n",
       "      <td>0.126037</td>\n",
       "      <td>0.159776</td>\n",
       "      <td>0.077503</td>\n",
       "      <td>0.014484</td>\n",
       "      <td>0.084356</td>\n",
       "      <td>0.250914</td>\n",
       "      <td>0.099138</td>\n",
       "      <td>0.149265</td>\n",
       "    </tr>\n",
       "    <tr>\n",
       "      <td>chol</td>\n",
       "      <td>0.049923</td>\n",
       "      <td>-0.101693</td>\n",
       "      <td>0.048981</td>\n",
       "      <td>0.126037</td>\n",
       "      <td>1.000000</td>\n",
       "      <td>0.156311</td>\n",
       "      <td>0.002391</td>\n",
       "      <td>-0.058601</td>\n",
       "      <td>0.115446</td>\n",
       "      <td>-0.060076</td>\n",
       "      <td>0.049033</td>\n",
       "      <td>0.058451</td>\n",
       "    </tr>\n",
       "    <tr>\n",
       "      <td>fbs</td>\n",
       "      <td>0.135728</td>\n",
       "      <td>-0.059400</td>\n",
       "      <td>-0.044416</td>\n",
       "      <td>0.159776</td>\n",
       "      <td>0.156311</td>\n",
       "      <td>1.000000</td>\n",
       "      <td>0.170616</td>\n",
       "      <td>0.033219</td>\n",
       "      <td>-0.176144</td>\n",
       "      <td>-0.138832</td>\n",
       "      <td>-0.009435</td>\n",
       "      <td>0.048940</td>\n",
       "    </tr>\n",
       "    <tr>\n",
       "      <td>restecg</td>\n",
       "      <td>0.002400</td>\n",
       "      <td>0.060621</td>\n",
       "      <td>0.034790</td>\n",
       "      <td>0.077503</td>\n",
       "      <td>0.002391</td>\n",
       "      <td>0.170616</td>\n",
       "      <td>1.000000</td>\n",
       "      <td>0.010094</td>\n",
       "      <td>-0.063203</td>\n",
       "      <td>-0.115200</td>\n",
       "      <td>-0.039881</td>\n",
       "      <td>-0.032800</td>\n",
       "    </tr>\n",
       "    <tr>\n",
       "      <td>thalach</td>\n",
       "      <td>-0.150146</td>\n",
       "      <td>-0.004156</td>\n",
       "      <td>-0.108585</td>\n",
       "      <td>0.014484</td>\n",
       "      <td>-0.058601</td>\n",
       "      <td>0.033219</td>\n",
       "      <td>0.010094</td>\n",
       "      <td>1.000000</td>\n",
       "      <td>-0.093316</td>\n",
       "      <td>0.140268</td>\n",
       "      <td>-0.101567</td>\n",
       "      <td>-0.073072</td>\n",
       "    </tr>\n",
       "    <tr>\n",
       "      <td>exang</td>\n",
       "      <td>0.129027</td>\n",
       "      <td>0.029402</td>\n",
       "      <td>0.089904</td>\n",
       "      <td>0.084356</td>\n",
       "      <td>0.115446</td>\n",
       "      <td>-0.176144</td>\n",
       "      <td>-0.063203</td>\n",
       "      <td>-0.093316</td>\n",
       "      <td>1.000000</td>\n",
       "      <td>0.073608</td>\n",
       "      <td>0.106259</td>\n",
       "      <td>0.206541</td>\n",
       "    </tr>\n",
       "    <tr>\n",
       "      <td>oldpeak</td>\n",
       "      <td>0.134659</td>\n",
       "      <td>0.058379</td>\n",
       "      <td>0.186268</td>\n",
       "      <td>0.250914</td>\n",
       "      <td>-0.060076</td>\n",
       "      <td>-0.138832</td>\n",
       "      <td>-0.115200</td>\n",
       "      <td>0.140268</td>\n",
       "      <td>0.073608</td>\n",
       "      <td>1.000000</td>\n",
       "      <td>0.293395</td>\n",
       "      <td>0.383736</td>\n",
       "    </tr>\n",
       "    <tr>\n",
       "      <td>slope</td>\n",
       "      <td>0.107135</td>\n",
       "      <td>0.086709</td>\n",
       "      <td>0.059460</td>\n",
       "      <td>0.099138</td>\n",
       "      <td>0.049033</td>\n",
       "      <td>-0.009435</td>\n",
       "      <td>-0.039881</td>\n",
       "      <td>-0.101567</td>\n",
       "      <td>0.106259</td>\n",
       "      <td>0.293395</td>\n",
       "      <td>1.000000</td>\n",
       "      <td>0.142072</td>\n",
       "    </tr>\n",
       "    <tr>\n",
       "      <td>num</td>\n",
       "      <td>0.287289</td>\n",
       "      <td>0.147470</td>\n",
       "      <td>0.168210</td>\n",
       "      <td>0.149265</td>\n",
       "      <td>0.058451</td>\n",
       "      <td>0.048940</td>\n",
       "      <td>-0.032800</td>\n",
       "      <td>-0.073072</td>\n",
       "      <td>0.206541</td>\n",
       "      <td>0.383736</td>\n",
       "      <td>0.142072</td>\n",
       "      <td>1.000000</td>\n",
       "    </tr>\n",
       "  </tbody>\n",
       "</table>\n",
       "</div>"
      ],
      "text/plain": [
       "               age       sex        cp  trestbps      chol       fbs  \\\n",
       "age       1.000000  0.034230 -0.038280  0.167637  0.049923  0.135728   \n",
       "sex       0.034230  1.000000  0.038036 -0.002347 -0.101693 -0.059400   \n",
       "cp       -0.038280  0.038036  1.000000  0.139569  0.048981 -0.044416   \n",
       "trestbps  0.167637 -0.002347  0.139569  1.000000  0.126037  0.159776   \n",
       "chol      0.049923 -0.101693  0.048981  0.126037  1.000000  0.156311   \n",
       "fbs       0.135728 -0.059400 -0.044416  0.159776  0.156311  1.000000   \n",
       "restecg   0.002400  0.060621  0.034790  0.077503  0.002391  0.170616   \n",
       "thalach  -0.150146 -0.004156 -0.108585  0.014484 -0.058601  0.033219   \n",
       "exang     0.129027  0.029402  0.089904  0.084356  0.115446 -0.176144   \n",
       "oldpeak   0.134659  0.058379  0.186268  0.250914 -0.060076 -0.138832   \n",
       "slope     0.107135  0.086709  0.059460  0.099138  0.049033 -0.009435   \n",
       "num       0.287289  0.147470  0.168210  0.149265  0.058451  0.048940   \n",
       "\n",
       "           restecg   thalach     exang   oldpeak     slope       num  \n",
       "age       0.002400 -0.150146  0.129027  0.134659  0.107135  0.287289  \n",
       "sex       0.060621 -0.004156  0.029402  0.058379  0.086709  0.147470  \n",
       "cp        0.034790 -0.108585  0.089904  0.186268  0.059460  0.168210  \n",
       "trestbps  0.077503  0.014484  0.084356  0.250914  0.099138  0.149265  \n",
       "chol      0.002391 -0.058601  0.115446 -0.060076  0.049033  0.058451  \n",
       "fbs       0.170616  0.033219 -0.176144 -0.138832 -0.009435  0.048940  \n",
       "restecg   1.000000  0.010094 -0.063203 -0.115200 -0.039881 -0.032800  \n",
       "thalach   0.010094  1.000000 -0.093316  0.140268 -0.101567 -0.073072  \n",
       "exang    -0.063203 -0.093316  1.000000  0.073608  0.106259  0.206541  \n",
       "oldpeak  -0.115200  0.140268  0.073608  1.000000  0.293395  0.383736  \n",
       "slope    -0.039881 -0.101567  0.106259  0.293395  1.000000  0.142072  \n",
       "num      -0.032800 -0.073072  0.206541  0.383736  0.142072  1.000000  "
      ]
     },
     "execution_count": 222,
     "metadata": {},
     "output_type": "execute_result"
    }
   ],
   "source": [
    "df.corr()"
   ]
  },
  {
   "cell_type": "code",
   "execution_count": 223,
   "metadata": {},
   "outputs": [
    {
     "data": {
      "text/plain": [
       "<matplotlib.axes._subplots.AxesSubplot at 0x2dd11c1fd88>"
      ]
     },
     "execution_count": 223,
     "metadata": {},
     "output_type": "execute_result"
    },
    {
     "data": {
      "image/png": "[encoded data removed]",
      "text/plain": [
       "<Figure size 432x288 with 2 Axes>"
      ]
     },
     "metadata": {
      "needs_background": "light"
     },
     "output_type": "display_data"
    }
   ],
   "source": [
    "sns.heatmap(df.corr())"
   ]
  },
  {
   "cell_type": "code",
   "execution_count": 224,
   "metadata": {},
   "outputs": [
    {
     "data": {
      "text/plain": [
       "<matplotlib.axes._subplots.AxesSubplot at 0x2dd11aabdc8>"
      ]
     },
     "execution_count": 224,
     "metadata": {},
     "output_type": "execute_result"
    },
    {
     "data": {
      "image/png": "[encoded data removed]",
      "text/plain": [
       "<Figure size 432x288 with 1 Axes>"
      ]
     },
     "metadata": {
      "needs_background": "light"
     },
     "output_type": "display_data"
    }
   ],
   "source": [
    "sns.scatterplot(x='chol',y='num',data=df)"
   ]
  },
  {
   "cell_type": "code",
   "execution_count": 225,
   "metadata": {},
   "outputs": [
    {
     "data": {
      "text/plain": [
       "<matplotlib.axes._subplots.AxesSubplot at 0x2dd11b4ebc8>"
      ]
     },
     "execution_count": 225,
     "metadata": {},
     "output_type": "execute_result"
    },
    {
     "data": {
      "image/png": "[encoded data removed]",
      "text/plain": [
       "<Figure size 432x288 with 1 Axes>"
      ]
     },
     "metadata": {
      "needs_background": "light"
     },
     "output_type": "display_data"
    }
   ],
   "source": [
    "sns.scatterplot(x='age',y='num',data=df)"
   ]
  },
  {
   "cell_type": "markdown",
   "metadata": {},
   "source": [
    "Observations\n",
    "1. We can observe that the highest range of narrowing (4) is happening for age group above 60.\n",
    "2. Around 40 age group the narrowing range is from 0 to 3.\n",
    "3. Above 70 more are in the range 3.\n"
   ]
  },
  {
   "cell_type": "code",
   "execution_count": 226,
   "metadata": {},
   "outputs": [
    {
     "data": {
      "text/html": [
       "<div>\n",
       "<style scoped>\n",
       "    .dataframe tbody tr th:only-of-type {\n",
       "        vertical-align: middle;\n",
       "    }\n",
       "\n",
       "    .dataframe tbody tr th {\n",
       "        vertical-align: top;\n",
       "    }\n",
       "\n",
       "    .dataframe thead th {\n",
       "        text-align: right;\n",
       "    }\n",
       "</style>\n",
       "<table border=\"1\" class=\"dataframe\">\n",
       "  <thead>\n",
       "    <tr style=\"text-align: right;\">\n",
       "      <th></th>\n",
       "      <th>age</th>\n",
       "      <th>sex</th>\n",
       "      <th>cp</th>\n",
       "      <th>trestbps</th>\n",
       "      <th>chol</th>\n",
       "      <th>fbs</th>\n",
       "      <th>restecg</th>\n",
       "      <th>thalach</th>\n",
       "      <th>exang</th>\n",
       "      <th>oldpeak</th>\n",
       "      <th>slope</th>\n",
       "    </tr>\n",
       "    <tr>\n",
       "      <th>num</th>\n",
       "      <th></th>\n",
       "      <th></th>\n",
       "      <th></th>\n",
       "      <th></th>\n",
       "      <th></th>\n",
       "      <th></th>\n",
       "      <th></th>\n",
       "      <th></th>\n",
       "      <th></th>\n",
       "      <th></th>\n",
       "      <th></th>\n",
       "    </tr>\n",
       "  </thead>\n",
       "  <tbody>\n",
       "    <tr>\n",
       "      <td>0</td>\n",
       "      <td>56.823529</td>\n",
       "      <td>0.941176</td>\n",
       "      <td>3.156863</td>\n",
       "      <td>126.215686</td>\n",
       "      <td>171.647059</td>\n",
       "      <td>0.274510</td>\n",
       "      <td>0.803922</td>\n",
       "      <td>123.098039</td>\n",
       "      <td>0.607843</td>\n",
       "      <td>0.437255</td>\n",
       "      <td>2.000000</td>\n",
       "    </tr>\n",
       "    <tr>\n",
       "      <td>1</td>\n",
       "      <td>57.571429</td>\n",
       "      <td>0.946429</td>\n",
       "      <td>3.642857</td>\n",
       "      <td>128.607143</td>\n",
       "      <td>169.410714</td>\n",
       "      <td>0.392857</td>\n",
       "      <td>0.714286</td>\n",
       "      <td>123.017857</td>\n",
       "      <td>0.732143</td>\n",
       "      <td>0.764286</td>\n",
       "      <td>2.017857</td>\n",
       "    </tr>\n",
       "    <tr>\n",
       "      <td>2</td>\n",
       "      <td>61.048780</td>\n",
       "      <td>1.000000</td>\n",
       "      <td>3.682927</td>\n",
       "      <td>133.268293</td>\n",
       "      <td>147.780488</td>\n",
       "      <td>0.317073</td>\n",
       "      <td>0.731707</td>\n",
       "      <td>122.878049</td>\n",
       "      <td>0.756098</td>\n",
       "      <td>1.221951</td>\n",
       "      <td>2.146341</td>\n",
       "    </tr>\n",
       "    <tr>\n",
       "      <td>3</td>\n",
       "      <td>62.452381</td>\n",
       "      <td>1.000000</td>\n",
       "      <td>3.523810</td>\n",
       "      <td>129.880952</td>\n",
       "      <td>197.714286</td>\n",
       "      <td>0.357143</td>\n",
       "      <td>0.619048</td>\n",
       "      <td>119.500000</td>\n",
       "      <td>0.857143</td>\n",
       "      <td>1.202381</td>\n",
       "      <td>2.023810</td>\n",
       "    </tr>\n",
       "    <tr>\n",
       "      <td>4</td>\n",
       "      <td>62.200000</td>\n",
       "      <td>1.000000</td>\n",
       "      <td>3.700000</td>\n",
       "      <td>142.400000</td>\n",
       "      <td>189.400000</td>\n",
       "      <td>0.400000</td>\n",
       "      <td>1.000000</td>\n",
       "      <td>118.700000</td>\n",
       "      <td>0.900000</td>\n",
       "      <td>2.450000</td>\n",
       "      <td>2.500000</td>\n",
       "    </tr>\n",
       "  </tbody>\n",
       "</table>\n",
       "</div>"
      ],
      "text/plain": [
       "           age       sex        cp    trestbps        chol       fbs  \\\n",
       "num                                                                    \n",
       "0    56.823529  0.941176  3.156863  126.215686  171.647059  0.274510   \n",
       "1    57.571429  0.946429  3.642857  128.607143  169.410714  0.392857   \n",
       "2    61.048780  1.000000  3.682927  133.268293  147.780488  0.317073   \n",
       "3    62.452381  1.000000  3.523810  129.880952  197.714286  0.357143   \n",
       "4    62.200000  1.000000  3.700000  142.400000  189.400000  0.400000   \n",
       "\n",
       "      restecg     thalach     exang   oldpeak     slope  \n",
       "num                                                      \n",
       "0    0.803922  123.098039  0.607843  0.437255  2.000000  \n",
       "1    0.714286  123.017857  0.732143  0.764286  2.017857  \n",
       "2    0.731707  122.878049  0.756098  1.221951  2.146341  \n",
       "3    0.619048  119.500000  0.857143  1.202381  2.023810  \n",
       "4    1.000000  118.700000  0.900000  2.450000  2.500000  "
      ]
     },
     "execution_count": 226,
     "metadata": {},
     "output_type": "execute_result"
    }
   ],
   "source": [
    "df.groupby('num').mean()"
   ]
  },
  {
   "cell_type": "markdown",
   "metadata": {},
   "source": [
    "Observations:\n",
    "1. The least risky range of 0 and 1 are amongst the mean age of 56 and 57. So as age progresses risk is more.\n",
    "2. As cp value increases, the num range also increases.\n",
    "3. Num range 3 and 4 have highest choloestrol range of 197 and 189 respectively.\n",
    "4. Num range of 4 has highest mean fbs of 0.40\n",
    "5. Num range of 4 has highest slope, oldpeak, exang and restecg.\n",
    "6. Num range of 4 has least thalach (maximum heart rate achieved)"
   ]
  },
  {
   "cell_type": "markdown",
   "metadata": {},
   "source": [
    "### Preprocessing of Data"
   ]
  },
  {
   "cell_type": "code",
   "execution_count": 227,
   "metadata": {},
   "outputs": [
    {
     "name": "stdout",
     "output_type": "stream",
     "text": [
      "The shape before removing outliers is (200, 12)\n",
      "The shape before removing outliers is (181, 12)\n"
     ]
    }
   ],
   "source": [
    "#### removing the outliers\n",
    "from scipy.stats import zscore\n",
    "print(\"The shape before removing outliers is\", df.shape)\n",
    "z=np.abs(zscore(df))\n",
    "df=df[(z<3).all(axis=1)]\n",
    "print(\"The shape before removing outliers is\", df.shape)"
   ]
  },
  {
   "cell_type": "markdown",
   "metadata": {},
   "source": [
    "#### Scaling the Data"
   ]
  },
  {
   "cell_type": "code",
   "execution_count": 228,
   "metadata": {},
   "outputs": [
    {
     "name": "stdout",
     "output_type": "stream",
     "text": [
      "(181, 11)\n",
      "(181, 1)\n"
     ]
    },
    {
     "data": {
      "text/html": [
       "<div>\n",
       "<style scoped>\n",
       "    .dataframe tbody tr th:only-of-type {\n",
       "        vertical-align: middle;\n",
       "    }\n",
       "\n",
       "    .dataframe tbody tr th {\n",
       "        vertical-align: top;\n",
       "    }\n",
       "\n",
       "    .dataframe thead th {\n",
       "        text-align: right;\n",
       "    }\n",
       "</style>\n",
       "<table border=\"1\" class=\"dataframe\">\n",
       "  <thead>\n",
       "    <tr style=\"text-align: right;\">\n",
       "      <th></th>\n",
       "      <th>age</th>\n",
       "      <th>sex</th>\n",
       "      <th>cp</th>\n",
       "      <th>trestbps</th>\n",
       "      <th>chol</th>\n",
       "      <th>fbs</th>\n",
       "      <th>restecg</th>\n",
       "      <th>thalach</th>\n",
       "      <th>exang</th>\n",
       "      <th>oldpeak</th>\n",
       "      <th>slope</th>\n",
       "    </tr>\n",
       "  </thead>\n",
       "  <tbody>\n",
       "    <tr>\n",
       "      <td>0</td>\n",
       "      <td>63</td>\n",
       "      <td>1</td>\n",
       "      <td>4</td>\n",
       "      <td>140</td>\n",
       "      <td>260</td>\n",
       "      <td>0</td>\n",
       "      <td>1</td>\n",
       "      <td>112</td>\n",
       "      <td>1</td>\n",
       "      <td>3.0</td>\n",
       "      <td>2</td>\n",
       "    </tr>\n",
       "    <tr>\n",
       "      <td>1</td>\n",
       "      <td>44</td>\n",
       "      <td>1</td>\n",
       "      <td>4</td>\n",
       "      <td>130</td>\n",
       "      <td>209</td>\n",
       "      <td>0</td>\n",
       "      <td>1</td>\n",
       "      <td>127</td>\n",
       "      <td>0</td>\n",
       "      <td>0.0</td>\n",
       "      <td>2</td>\n",
       "    </tr>\n",
       "    <tr>\n",
       "      <td>2</td>\n",
       "      <td>60</td>\n",
       "      <td>1</td>\n",
       "      <td>4</td>\n",
       "      <td>132</td>\n",
       "      <td>218</td>\n",
       "      <td>0</td>\n",
       "      <td>1</td>\n",
       "      <td>140</td>\n",
       "      <td>1</td>\n",
       "      <td>1.5</td>\n",
       "      <td>3</td>\n",
       "    </tr>\n",
       "    <tr>\n",
       "      <td>3</td>\n",
       "      <td>55</td>\n",
       "      <td>1</td>\n",
       "      <td>4</td>\n",
       "      <td>142</td>\n",
       "      <td>228</td>\n",
       "      <td>0</td>\n",
       "      <td>1</td>\n",
       "      <td>149</td>\n",
       "      <td>1</td>\n",
       "      <td>2.5</td>\n",
       "      <td>1</td>\n",
       "    </tr>\n",
       "    <tr>\n",
       "      <td>4</td>\n",
       "      <td>66</td>\n",
       "      <td>1</td>\n",
       "      <td>3</td>\n",
       "      <td>110</td>\n",
       "      <td>213</td>\n",
       "      <td>1</td>\n",
       "      <td>2</td>\n",
       "      <td>99</td>\n",
       "      <td>1</td>\n",
       "      <td>1.3</td>\n",
       "      <td>2</td>\n",
       "    </tr>\n",
       "  </tbody>\n",
       "</table>\n",
       "</div>"
      ],
      "text/plain": [
       "   age  sex  cp  trestbps  chol  fbs  restecg  thalach  exang  oldpeak  slope\n",
       "0   63    1   4       140   260    0        1      112      1      3.0      2\n",
       "1   44    1   4       130   209    0        1      127      0      0.0      2\n",
       "2   60    1   4       132   218    0        1      140      1      1.5      3\n",
       "3   55    1   4       142   228    0        1      149      1      2.5      1\n",
       "4   66    1   3       110   213    1        2       99      1      1.3      2"
      ]
     },
     "execution_count": 228,
     "metadata": {},
     "output_type": "execute_result"
    }
   ],
   "source": [
    "#separating the input and target variables before using the scaler\n",
    "x=df.iloc[:,0:-1]\n",
    "y=pd.DataFrame(df.iloc[:,-1])\n",
    "print(x.shape)\n",
    "print(y.shape)\n",
    "x.head()"
   ]
  },
  {
   "cell_type": "code",
   "execution_count": 229,
   "metadata": {},
   "outputs": [
    {
     "data": {
      "text/html": [
       "<div>\n",
       "<style scoped>\n",
       "    .dataframe tbody tr th:only-of-type {\n",
       "        vertical-align: middle;\n",
       "    }\n",
       "\n",
       "    .dataframe tbody tr th {\n",
       "        vertical-align: top;\n",
       "    }\n",
       "\n",
       "    .dataframe thead th {\n",
       "        text-align: right;\n",
       "    }\n",
       "</style>\n",
       "<table border=\"1\" class=\"dataframe\">\n",
       "  <thead>\n",
       "    <tr style=\"text-align: right;\">\n",
       "      <th></th>\n",
       "      <th>num</th>\n",
       "    </tr>\n",
       "  </thead>\n",
       "  <tbody>\n",
       "    <tr>\n",
       "      <td>0</td>\n",
       "      <td>2</td>\n",
       "    </tr>\n",
       "    <tr>\n",
       "      <td>1</td>\n",
       "      <td>0</td>\n",
       "    </tr>\n",
       "    <tr>\n",
       "      <td>2</td>\n",
       "      <td>2</td>\n",
       "    </tr>\n",
       "    <tr>\n",
       "      <td>3</td>\n",
       "      <td>1</td>\n",
       "    </tr>\n",
       "    <tr>\n",
       "      <td>4</td>\n",
       "      <td>0</td>\n",
       "    </tr>\n",
       "  </tbody>\n",
       "</table>\n",
       "</div>"
      ],
      "text/plain": [
       "   num\n",
       "0    2\n",
       "1    0\n",
       "2    2\n",
       "3    1\n",
       "4    0"
      ]
     },
     "execution_count": 229,
     "metadata": {},
     "output_type": "execute_result"
    }
   ],
   "source": [
    "y.head()"
   ]
  },
  {
   "cell_type": "code",
   "execution_count": 230,
   "metadata": {},
   "outputs": [
    {
     "data": {
      "text/html": [
       "<div>\n",
       "<style scoped>\n",
       "    .dataframe tbody tr th:only-of-type {\n",
       "        vertical-align: middle;\n",
       "    }\n",
       "\n",
       "    .dataframe tbody tr th {\n",
       "        vertical-align: top;\n",
       "    }\n",
       "\n",
       "    .dataframe thead th {\n",
       "        text-align: right;\n",
       "    }\n",
       "</style>\n",
       "<table border=\"1\" class=\"dataframe\">\n",
       "  <thead>\n",
       "    <tr style=\"text-align: right;\">\n",
       "      <th></th>\n",
       "      <th>0</th>\n",
       "      <th>1</th>\n",
       "      <th>2</th>\n",
       "      <th>3</th>\n",
       "      <th>4</th>\n",
       "      <th>5</th>\n",
       "      <th>6</th>\n",
       "      <th>7</th>\n",
       "      <th>8</th>\n",
       "      <th>9</th>\n",
       "      <th>10</th>\n",
       "    </tr>\n",
       "  </thead>\n",
       "  <tbody>\n",
       "    <tr>\n",
       "      <td>0</td>\n",
       "      <td>0.650</td>\n",
       "      <td>0.0</td>\n",
       "      <td>1.0</td>\n",
       "      <td>0.523810</td>\n",
       "      <td>0.567686</td>\n",
       "      <td>0.0</td>\n",
       "      <td>0.5</td>\n",
       "      <td>0.447917</td>\n",
       "      <td>1.0</td>\n",
       "      <td>0.777778</td>\n",
       "      <td>0.5</td>\n",
       "    </tr>\n",
       "    <tr>\n",
       "      <td>1</td>\n",
       "      <td>0.175</td>\n",
       "      <td>0.0</td>\n",
       "      <td>1.0</td>\n",
       "      <td>0.404762</td>\n",
       "      <td>0.456332</td>\n",
       "      <td>0.0</td>\n",
       "      <td>0.5</td>\n",
       "      <td>0.604167</td>\n",
       "      <td>0.0</td>\n",
       "      <td>0.111111</td>\n",
       "      <td>0.5</td>\n",
       "    </tr>\n",
       "    <tr>\n",
       "      <td>2</td>\n",
       "      <td>0.575</td>\n",
       "      <td>0.0</td>\n",
       "      <td>1.0</td>\n",
       "      <td>0.428571</td>\n",
       "      <td>0.475983</td>\n",
       "      <td>0.0</td>\n",
       "      <td>0.5</td>\n",
       "      <td>0.739583</td>\n",
       "      <td>1.0</td>\n",
       "      <td>0.444444</td>\n",
       "      <td>1.0</td>\n",
       "    </tr>\n",
       "    <tr>\n",
       "      <td>3</td>\n",
       "      <td>0.450</td>\n",
       "      <td>0.0</td>\n",
       "      <td>1.0</td>\n",
       "      <td>0.547619</td>\n",
       "      <td>0.497817</td>\n",
       "      <td>0.0</td>\n",
       "      <td>0.5</td>\n",
       "      <td>0.833333</td>\n",
       "      <td>1.0</td>\n",
       "      <td>0.666667</td>\n",
       "      <td>0.0</td>\n",
       "    </tr>\n",
       "    <tr>\n",
       "      <td>4</td>\n",
       "      <td>0.725</td>\n",
       "      <td>0.0</td>\n",
       "      <td>0.5</td>\n",
       "      <td>0.166667</td>\n",
       "      <td>0.465066</td>\n",
       "      <td>1.0</td>\n",
       "      <td>1.0</td>\n",
       "      <td>0.312500</td>\n",
       "      <td>1.0</td>\n",
       "      <td>0.400000</td>\n",
       "      <td>0.5</td>\n",
       "    </tr>\n",
       "  </tbody>\n",
       "</table>\n",
       "</div>"
      ],
      "text/plain": [
       "       0    1    2         3         4    5    6         7    8         9   10\n",
       "0  0.650  0.0  1.0  0.523810  0.567686  0.0  0.5  0.447917  1.0  0.777778  0.5\n",
       "1  0.175  0.0  1.0  0.404762  0.456332  0.0  0.5  0.604167  0.0  0.111111  0.5\n",
       "2  0.575  0.0  1.0  0.428571  0.475983  0.0  0.5  0.739583  1.0  0.444444  1.0\n",
       "3  0.450  0.0  1.0  0.547619  0.497817  0.0  0.5  0.833333  1.0  0.666667  0.0\n",
       "4  0.725  0.0  0.5  0.166667  0.465066  1.0  1.0  0.312500  1.0  0.400000  0.5"
      ]
     },
     "execution_count": 230,
     "metadata": {},
     "output_type": "execute_result"
    }
   ],
   "source": [
    "from sklearn.preprocessing import MinMaxScaler\n",
    "scaler=MinMaxScaler()\n",
    "x=pd.DataFrame(scaler.fit_transform(x))\n",
    "x.head()"
   ]
  },
  {
   "cell_type": "code",
   "execution_count": 231,
   "metadata": {},
   "outputs": [],
   "source": [
    "#Since the problem is classification type, we need to implement classification algorithms for the same. \n"
   ]
  },
  {
   "cell_type": "markdown",
   "metadata": {},
   "source": [
    "#### selecting best random_state for splitting the data"
   ]
  },
  {
   "cell_type": "code",
   "execution_count": 244,
   "metadata": {},
   "outputs": [],
   "source": [
    "#import necessary libraries\n",
    "from sklearn.model_selection import train_test_split\n",
    "from sklearn.model_selection import cross_val_score\n",
    "from sklearn.metrics import accuracy_score, classification_report, confusion_matrix\n",
    "\n",
    "def max_accuracy(reg,x,y):\n",
    "    max_acc_score=0\n",
    "    for r_state in range(42,101):\n",
    "        train_x,test_x,train_y,test_y=train_test_split(x,y,random_state=r_state,test_size=0.20)\n",
    "        reg.fit(train_x,train_y)\n",
    "        pred=reg.predict(test_x)\n",
    "        acc_score=accuracy_score(test_y,pred)\n",
    "        print(\"The accuracy score achieved at r state\", r_state, \"is\", acc_score)\n",
    "        if acc_score>max_acc_score:\n",
    "            max_acc_score=acc_score\n",
    "            final_r_state=r_state\n",
    "    print(\"The maximum accuracy\", max_acc_score, \"is achieved at random state\", final_r_state)\n",
    "    return max_acc_score"
   ]
  },
  {
   "cell_type": "code",
   "execution_count": 233,
   "metadata": {},
   "outputs": [
    {
     "name": "stdout",
     "output_type": "stream",
     "text": [
      "The accuracy score achieved at r state 42 is 0.24324324324324326\n",
      "The accuracy score achieved at r state 43 is 0.32432432432432434\n",
      "The accuracy score achieved at r state 44 is 0.32432432432432434\n",
      "The accuracy score achieved at r state 45 is 0.35135135135135137\n",
      "The accuracy score achieved at r state 46 is 0.2972972972972973\n",
      "The accuracy score achieved at r state 47 is 0.4864864864864865\n",
      "The accuracy score achieved at r state 48 is 0.16216216216216217\n",
      "The accuracy score achieved at r state 49 is 0.21621621621621623\n",
      "The accuracy score achieved at r state 50 is 0.24324324324324326\n",
      "The accuracy score achieved at r state 51 is 0.32432432432432434\n",
      "The accuracy score achieved at r state 52 is 0.35135135135135137\n",
      "The accuracy score achieved at r state 53 is 0.1891891891891892\n",
      "The accuracy score achieved at r state 54 is 0.2702702702702703\n",
      "The accuracy score achieved at r state 55 is 0.21621621621621623\n",
      "The accuracy score achieved at r state 56 is 0.24324324324324326\n",
      "The accuracy score achieved at r state 57 is 0.40540540540540543\n",
      "The accuracy score achieved at r state 58 is 0.24324324324324326\n",
      "The accuracy score achieved at r state 59 is 0.21621621621621623\n",
      "The accuracy score achieved at r state 60 is 0.35135135135135137\n",
      "The accuracy score achieved at r state 61 is 0.2972972972972973\n",
      "The accuracy score achieved at r state 62 is 0.2972972972972973\n",
      "The accuracy score achieved at r state 63 is 0.32432432432432434\n",
      "The accuracy score achieved at r state 64 is 0.24324324324324326\n",
      "The accuracy score achieved at r state 65 is 0.24324324324324326\n",
      "The accuracy score achieved at r state 66 is 0.2702702702702703\n",
      "The accuracy score achieved at r state 67 is 0.32432432432432434\n",
      "The accuracy score achieved at r state 68 is 0.21621621621621623\n",
      "The accuracy score achieved at r state 69 is 0.2972972972972973\n",
      "The accuracy score achieved at r state 70 is 0.2702702702702703\n",
      "The accuracy score achieved at r state 71 is 0.2972972972972973\n",
      "The accuracy score achieved at r state 72 is 0.2702702702702703\n",
      "The accuracy score achieved at r state 73 is 0.2972972972972973\n",
      "The accuracy score achieved at r state 74 is 0.3783783783783784\n",
      "The accuracy score achieved at r state 75 is 0.21621621621621623\n",
      "The accuracy score achieved at r state 76 is 0.40540540540540543\n",
      "The accuracy score achieved at r state 77 is 0.2972972972972973\n",
      "The accuracy score achieved at r state 78 is 0.24324324324324326\n",
      "The accuracy score achieved at r state 79 is 0.16216216216216217\n",
      "The accuracy score achieved at r state 80 is 0.1891891891891892\n",
      "The accuracy score achieved at r state 81 is 0.35135135135135137\n",
      "The accuracy score achieved at r state 82 is 0.24324324324324326\n",
      "The accuracy score achieved at r state 83 is 0.1891891891891892\n",
      "The accuracy score achieved at r state 84 is 0.24324324324324326\n",
      "The accuracy score achieved at r state 85 is 0.24324324324324326\n",
      "The accuracy score achieved at r state 86 is 0.2702702702702703\n",
      "The accuracy score achieved at r state 87 is 0.24324324324324326\n",
      "The accuracy score achieved at r state 88 is 0.24324324324324326\n",
      "The accuracy score achieved at r state 89 is 0.2972972972972973\n",
      "The accuracy score achieved at r state 90 is 0.24324324324324326\n",
      "The accuracy score achieved at r state 91 is 0.3783783783783784\n",
      "The accuracy score achieved at r state 92 is 0.21621621621621623\n",
      "The accuracy score achieved at r state 93 is 0.35135135135135137\n",
      "The accuracy score achieved at r state 94 is 0.35135135135135137\n",
      "The accuracy score achieved at r state 95 is 0.24324324324324326\n",
      "The accuracy score achieved at r state 96 is 0.32432432432432434\n",
      "The accuracy score achieved at r state 97 is 0.35135135135135137\n",
      "The accuracy score achieved at r state 98 is 0.24324324324324326\n",
      "The accuracy score achieved at r state 99 is 0.2702702702702703\n",
      "The accuracy score achieved at r state 100 is 0.2702702702702703\n",
      "The maximum accuracy 0.4864864864864865 is achieved at random state 47\n"
     ]
    },
    {
     "data": {
      "text/plain": [
       "0.4864864864864865"
      ]
     },
     "execution_count": 233,
     "metadata": {},
     "output_type": "execute_result"
    }
   ],
   "source": [
    "from sklearn.naive_bayes import MultinomialNB\n",
    "mb=MultinomialNB()\n",
    "max_accuracy(mb,x,y)"
   ]
  },
  {
   "cell_type": "code",
   "execution_count": 235,
   "metadata": {},
   "outputs": [],
   "source": [
    "#splitting the test and training data\n",
    "train_x,test_x,train_y,test_y=train_test_split(x,y,random_state=47,test_size=0.20)"
   ]
  },
  {
   "cell_type": "code",
   "execution_count": 237,
   "metadata": {},
   "outputs": [
    {
     "data": {
      "text/plain": [
       "{'alpha': 0}"
      ]
     },
     "execution_count": 237,
     "metadata": {},
     "output_type": "execute_result"
    }
   ],
   "source": [
    "#Checking the best parameters using GridSearchCV\n",
    "from sklearn.model_selection import GridSearchCV\n",
    "from sklearn.naive_bayes import MultinomialNB\n",
    "mb=MultinomialNB()\n",
    "parameters={'alpha':(0,0.001,0.01,0.1,1)}\n",
    "gdmb=GridSearchCV(mb,parameters)\n",
    "gdmb.fit(train_x,train_y)\n",
    "gdmb.best_params_"
   ]
  },
  {
   "cell_type": "code",
   "execution_count": 238,
   "metadata": {},
   "outputs": [
    {
     "data": {
      "text/plain": [
       "{'criterion': 'entropy', 'splitter': 'random'}"
      ]
     },
     "execution_count": 238,
     "metadata": {},
     "output_type": "execute_result"
    }
   ],
   "source": [
    "from sklearn.tree import DecisionTreeClassifier\n",
    "dt=DecisionTreeClassifier()\n",
    "parameters={'criterion':('gini','entropy'), 'splitter':('best','random')}\n",
    "gddt=GridSearchCV(dt,parameters)\n",
    "gddt.fit(train_x,train_y)\n",
    "gddt.best_params_"
   ]
  },
  {
   "cell_type": "code",
   "execution_count": 240,
   "metadata": {},
   "outputs": [
    {
     "data": {
      "text/plain": [
       "{'C': 10, 'kernel': 'rbf'}"
      ]
     },
     "execution_count": 240,
     "metadata": {},
     "output_type": "execute_result"
    }
   ],
   "source": [
    "from sklearn.svm import SVC\n",
    "sv=SVC()\n",
    "parameters={'C':(1,10),'kernel':('linear','poly','rbf')}\n",
    "gdsv=GridSearchCV(sv,parameters)\n",
    "gdsv.fit(train_x,train_y)\n",
    "gdsv.best_params_"
   ]
  },
  {
   "cell_type": "code",
   "execution_count": 241,
   "metadata": {},
   "outputs": [
    {
     "data": {
      "text/plain": [
       "{'algorithm': 'auto', 'n_neighbors': 5, 'weights': 'uniform'}"
      ]
     },
     "execution_count": 241,
     "metadata": {},
     "output_type": "execute_result"
    }
   ],
   "source": [
    "from sklearn.neighbors import KNeighborsClassifier\n",
    "kn=KNeighborsClassifier()\n",
    "parameters={'n_neighbors':(5,10,15,20),'weights':('uniform','distance'),'algorithm':('auto','ball_tree','kd_tree','brute')}\n",
    "gdkn=GridSearchCV(kn,parameters)\n",
    "gdkn.fit(train_x,train_y)\n",
    "gdkn.best_params_"
   ]
  },
  {
   "cell_type": "code",
   "execution_count": 242,
   "metadata": {},
   "outputs": [],
   "source": [
    "#After obtaining best parameters, we should now check the models"
   ]
  },
  {
   "cell_type": "code",
   "execution_count": 245,
   "metadata": {},
   "outputs": [
    {
     "name": "stdout",
     "output_type": "stream",
     "text": [
      "KNeighborsClassifier(algorithm='auto', leaf_size=30, metric='minkowski',\n",
      "                     metric_params=None, n_jobs=None, n_neighbors=5, p=2,\n",
      "                     weights='uniform')\n",
      "\n",
      "The accuracy score is  0.43243243243243246\n",
      "\n",
      "The cross val score is 0.3266602624497361\n",
      "\n",
      "              precision    recall  f1-score   support\n",
      "\n",
      "           0       0.50      0.78      0.61         9\n",
      "           1       0.45      0.38      0.42        13\n",
      "           2       0.29      0.25      0.27         8\n",
      "           3       0.50      0.40      0.44         5\n",
      "           4       0.00      0.00      0.00         2\n",
      "\n",
      "    accuracy                           0.43        37\n",
      "   macro avg       0.35      0.36      0.35        37\n",
      "weighted avg       0.41      0.43      0.41        37\n",
      "\n",
      "\n",
      "[[7 1 1 0 0]\n",
      " [4 5 2 1 1]\n",
      " [3 3 2 0 0]\n",
      " [0 2 1 2 0]\n",
      " [0 0 1 1 0]]\n",
      "\n",
      "DecisionTreeClassifier(class_weight=None, criterion='entropy', max_depth=None,\n",
      "                       max_features=None, max_leaf_nodes=None,\n",
      "                       min_impurity_decrease=0.0, min_impurity_split=None,\n",
      "                       min_samples_leaf=1, min_samples_split=2,\n",
      "                       min_weight_fraction_leaf=0.0, presort=False,\n",
      "                       random_state=None, splitter='random')\n",
      "\n",
      "The accuracy score is  0.24324324324324326\n",
      "\n",
      "The cross val score is 0.3132530343056659\n",
      "\n",
      "              precision    recall  f1-score   support\n",
      "\n",
      "           0       0.33      0.22      0.27         9\n",
      "           1       0.25      0.15      0.19        13\n",
      "           2       0.25      0.25      0.25         8\n",
      "           3       0.21      0.60      0.32         5\n",
      "           4       0.00      0.00      0.00         2\n",
      "\n",
      "    accuracy                           0.24        37\n",
      "   macro avg       0.21      0.25      0.20        37\n",
      "weighted avg       0.25      0.24      0.23        37\n",
      "\n",
      "\n",
      "[[2 3 1 3 0]\n",
      " [3 2 2 5 1]\n",
      " [1 3 2 2 0]\n",
      " [0 0 2 3 0]\n",
      " [0 0 1 1 0]]\n",
      "\n",
      "SVC(C=10, cache_size=200, class_weight=None, coef0=0.0,\n",
      "    decision_function_shape='ovr', degree=3, gamma='auto_deprecated',\n",
      "    kernel='rbf', max_iter=-1, probability=False, random_state=None,\n",
      "    shrinking=True, tol=0.001, verbose=False)\n",
      "\n",
      "The accuracy score is  0.43243243243243246\n",
      "\n",
      "The cross val score is 0.35824475192896243\n",
      "\n",
      "              precision    recall  f1-score   support\n",
      "\n",
      "           0       0.70      0.78      0.74         9\n",
      "           1       0.45      0.38      0.42        13\n",
      "           2       0.00      0.00      0.00         8\n",
      "           3       0.29      0.80      0.42         5\n",
      "           4       0.00      0.00      0.00         2\n",
      "\n",
      "    accuracy                           0.43        37\n",
      "   macro avg       0.29      0.39      0.31        37\n",
      "weighted avg       0.37      0.43      0.38        37\n",
      "\n",
      "\n",
      "[[7 1 0 1 0]\n",
      " [3 5 1 4 0]\n",
      " [0 4 0 4 0]\n",
      " [0 1 0 4 0]\n",
      " [0 0 1 1 0]]\n",
      "\n",
      "MultinomialNB(alpha=0, class_prior=None, fit_prior=True)\n",
      "\n",
      "The accuracy score is  0.4864864864864865\n",
      "\n",
      "The cross val score is 0.3155835534782903\n",
      "\n",
      "              precision    recall  f1-score   support\n",
      "\n",
      "           0       0.60      0.67      0.63         9\n",
      "           1       0.45      0.69      0.55        13\n",
      "           2       0.00      0.00      0.00         8\n",
      "           3       0.43      0.60      0.50         5\n",
      "           4       0.00      0.00      0.00         2\n",
      "\n",
      "    accuracy                           0.49        37\n",
      "   macro avg       0.30      0.39      0.34        37\n",
      "weighted avg       0.36      0.49      0.41        37\n",
      "\n",
      "\n",
      "[[6 3 0 0 0]\n",
      " [3 9 0 1 0]\n",
      " [1 6 0 1 0]\n",
      " [0 2 0 3 0]\n",
      " [0 0 0 2 0]]\n",
      "\n"
     ]
    }
   ],
   "source": [
    "score=[]\n",
    "cv=[]\n",
    "\n",
    "algorithms=[KNeighborsClassifier(algorithm='auto', n_neighbors= 5, weights='uniform'), DecisionTreeClassifier(criterion= 'entropy', splitter= 'random'), SVC(C=10, kernel='rbf'),MultinomialNB(alpha=0)]\n",
    "\n",
    "for i in algorithms:\n",
    "    print(i)\n",
    "    i.fit(train_x,train_y)\n",
    "    pred=i.predict(test_x)\n",
    "    accscore=accuracy_score(test_y,pred)\n",
    "    score.append(accscore)\n",
    "    print(\"\")\n",
    "    print(\"The accuracy score is \", accscore)\n",
    "    print(\"\")\n",
    "    cvscore=cross_val_score(i,x,y,cv=5,scoring='accuracy').mean()\n",
    "    cv.append(cvscore)\n",
    "    print(\"The cross val score is\", cvscore)\n",
    "    print()\n",
    "    print(classification_report(test_y,pred))\n",
    "    print()\n",
    "    cm=confusion_matrix(test_y,pred)\n",
    "    print(cm)\n",
    "    print()"
   ]
  },
  {
   "cell_type": "code",
   "execution_count": 246,
   "metadata": {},
   "outputs": [
    {
     "data": {
      "text/html": [
       "<div>\n",
       "<style scoped>\n",
       "    .dataframe tbody tr th:only-of-type {\n",
       "        vertical-align: middle;\n",
       "    }\n",
       "\n",
       "    .dataframe tbody tr th {\n",
       "        vertical-align: top;\n",
       "    }\n",
       "\n",
       "    .dataframe thead th {\n",
       "        text-align: right;\n",
       "    }\n",
       "</style>\n",
       "<table border=\"1\" class=\"dataframe\">\n",
       "  <thead>\n",
       "    <tr style=\"text-align: right;\">\n",
       "      <th></th>\n",
       "      <th>Model</th>\n",
       "      <th>Accuracy_Score</th>\n",
       "      <th>Cross_val_score</th>\n",
       "    </tr>\n",
       "  </thead>\n",
       "  <tbody>\n",
       "    <tr>\n",
       "      <td>0</td>\n",
       "      <td>&lt;class 'sklearn.neighbors.classification.KNeig...</td>\n",
       "      <td>0.432432</td>\n",
       "      <td>0.326660</td>\n",
       "    </tr>\n",
       "    <tr>\n",
       "      <td>1</td>\n",
       "      <td>&lt;class 'sklearn.tree.tree.DecisionTreeClassifi...</td>\n",
       "      <td>0.243243</td>\n",
       "      <td>0.313253</td>\n",
       "    </tr>\n",
       "    <tr>\n",
       "      <td>2</td>\n",
       "      <td>&lt;class 'sklearn.svm.classes.SVC'&gt;</td>\n",
       "      <td>0.432432</td>\n",
       "      <td>0.358245</td>\n",
       "    </tr>\n",
       "    <tr>\n",
       "      <td>3</td>\n",
       "      <td>&lt;class 'sklearn.naive_bayes.MultinomialNB'&gt;</td>\n",
       "      <td>0.486486</td>\n",
       "      <td>0.315584</td>\n",
       "    </tr>\n",
       "  </tbody>\n",
       "</table>\n",
       "</div>"
      ],
      "text/plain": [
       "                                               Model  Accuracy_Score  \\\n",
       "0  <class 'sklearn.neighbors.classification.KNeig...        0.432432   \n",
       "1  <class 'sklearn.tree.tree.DecisionTreeClassifi...        0.243243   \n",
       "2                  <class 'sklearn.svm.classes.SVC'>        0.432432   \n",
       "3        <class 'sklearn.naive_bayes.MultinomialNB'>        0.486486   \n",
       "\n",
       "   Cross_val_score  \n",
       "0         0.326660  \n",
       "1         0.313253  \n",
       "2         0.358245  \n",
       "3         0.315584  "
      ]
     },
     "execution_count": 246,
     "metadata": {},
     "output_type": "execute_result"
    }
   ],
   "source": [
    "result=pd.DataFrame({'Model':[KNeighborsClassifier, DecisionTreeClassifier, SVC,MultinomialNB],'Accuracy_Score':score,'Cross_val_score':cv})\n",
    "result"
   ]
  },
  {
   "cell_type": "markdown",
   "metadata": {},
   "source": [
    "Since the models are giving low Accuracy score we need to use ensemble techniques to boost the score"
   ]
  },
  {
   "cell_type": "code",
   "execution_count": 247,
   "metadata": {},
   "outputs": [
    {
     "data": {
      "text/plain": [
       "{'n_estimators': 50}"
      ]
     },
     "execution_count": 247,
     "metadata": {},
     "output_type": "execute_result"
    }
   ],
   "source": [
    "from sklearn.ensemble import RandomForestClassifier\n",
    "rf=RandomForestClassifier()\n",
    "parameters={'n_estimators':(10,50,100,200,500)}\n",
    "gdrf=GridSearchCV(rf,parameters)\n",
    "gdrf.fit(train_x,train_y)\n",
    "gdrf.best_params_"
   ]
  },
  {
   "cell_type": "code",
   "execution_count": 248,
   "metadata": {},
   "outputs": [
    {
     "name": "stdout",
     "output_type": "stream",
     "text": [
      "The accuracy score achieved at r state 42 is 0.2702702702702703\n",
      "The accuracy score achieved at r state 43 is 0.2702702702702703\n",
      "The accuracy score achieved at r state 44 is 0.35135135135135137\n",
      "The accuracy score achieved at r state 45 is 0.2702702702702703\n",
      "The accuracy score achieved at r state 46 is 0.32432432432432434\n",
      "The accuracy score achieved at r state 47 is 0.2972972972972973\n",
      "The accuracy score achieved at r state 48 is 0.35135135135135137\n",
      "The accuracy score achieved at r state 49 is 0.21621621621621623\n",
      "The accuracy score achieved at r state 50 is 0.32432432432432434\n",
      "The accuracy score achieved at r state 51 is 0.24324324324324326\n",
      "The accuracy score achieved at r state 52 is 0.32432432432432434\n",
      "The accuracy score achieved at r state 53 is 0.2702702702702703\n",
      "The accuracy score achieved at r state 54 is 0.2972972972972973\n",
      "The accuracy score achieved at r state 55 is 0.2702702702702703\n",
      "The accuracy score achieved at r state 56 is 0.24324324324324326\n",
      "The accuracy score achieved at r state 57 is 0.32432432432432434\n",
      "The accuracy score achieved at r state 58 is 0.3783783783783784\n",
      "The accuracy score achieved at r state 59 is 0.2702702702702703\n",
      "The accuracy score achieved at r state 60 is 0.40540540540540543\n",
      "The accuracy score achieved at r state 61 is 0.43243243243243246\n",
      "The accuracy score achieved at r state 62 is 0.2972972972972973\n",
      "The accuracy score achieved at r state 63 is 0.2972972972972973\n",
      "The accuracy score achieved at r state 64 is 0.35135135135135137\n",
      "The accuracy score achieved at r state 65 is 0.2972972972972973\n",
      "The accuracy score achieved at r state 66 is 0.35135135135135137\n",
      "The accuracy score achieved at r state 67 is 0.3783783783783784\n",
      "The accuracy score achieved at r state 68 is 0.21621621621621623\n",
      "The accuracy score achieved at r state 69 is 0.40540540540540543\n",
      "The accuracy score achieved at r state 70 is 0.43243243243243246\n",
      "The accuracy score achieved at r state 71 is 0.35135135135135137\n",
      "The accuracy score achieved at r state 72 is 0.24324324324324326\n",
      "The accuracy score achieved at r state 73 is 0.35135135135135137\n",
      "The accuracy score achieved at r state 74 is 0.32432432432432434\n",
      "The accuracy score achieved at r state 75 is 0.35135135135135137\n",
      "The accuracy score achieved at r state 76 is 0.43243243243243246\n",
      "The accuracy score achieved at r state 77 is 0.32432432432432434\n",
      "The accuracy score achieved at r state 78 is 0.40540540540540543\n",
      "The accuracy score achieved at r state 79 is 0.2702702702702703\n",
      "The accuracy score achieved at r state 80 is 0.40540540540540543\n",
      "The accuracy score achieved at r state 81 is 0.2972972972972973\n",
      "The accuracy score achieved at r state 82 is 0.32432432432432434\n",
      "The accuracy score achieved at r state 83 is 0.2972972972972973\n",
      "The accuracy score achieved at r state 84 is 0.2702702702702703\n",
      "The accuracy score achieved at r state 85 is 0.32432432432432434\n",
      "The accuracy score achieved at r state 86 is 0.2972972972972973\n",
      "The accuracy score achieved at r state 87 is 0.35135135135135137\n",
      "The accuracy score achieved at r state 88 is 0.35135135135135137\n",
      "The accuracy score achieved at r state 89 is 0.40540540540540543\n",
      "The accuracy score achieved at r state 90 is 0.21621621621621623\n",
      "The accuracy score achieved at r state 91 is 0.2702702702702703\n",
      "The accuracy score achieved at r state 92 is 0.35135135135135137\n",
      "The accuracy score achieved at r state 93 is 0.40540540540540543\n",
      "The accuracy score achieved at r state 94 is 0.2702702702702703\n",
      "The accuracy score achieved at r state 95 is 0.3783783783783784\n",
      "The accuracy score achieved at r state 96 is 0.2972972972972973\n",
      "The accuracy score achieved at r state 97 is 0.32432432432432434\n",
      "The accuracy score achieved at r state 98 is 0.43243243243243246\n",
      "The accuracy score achieved at r state 99 is 0.21621621621621623\n",
      "The accuracy score achieved at r state 100 is 0.43243243243243246\n",
      "The maximum accuracy 0.43243243243243246 is achieved at random state 61\n"
     ]
    },
    {
     "data": {
      "text/plain": [
       "0.43243243243243246"
      ]
     },
     "execution_count": 248,
     "metadata": {},
     "output_type": "execute_result"
    }
   ],
   "source": [
    "#checking the best accuracy score and random state for RandomForestClassifier\n",
    "rf=RandomForestClassifier(n_estimators=50)\n",
    "max_accuracy(rf,x,y)"
   ]
  },
  {
   "cell_type": "code",
   "execution_count": 257,
   "metadata": {},
   "outputs": [
    {
     "name": "stdout",
     "output_type": "stream",
     "text": [
      "The cross val score of Random forest classifier is 0.34778026146447194\n"
     ]
    }
   ],
   "source": [
    "#checking the cross val score\n",
    "cs=cross_val_score(rf,x,y,cv=5,scoring='accuracy').mean()\n",
    "print(\"The cross val score of Random forest classifier is\", cs)"
   ]
  },
  {
   "cell_type": "code",
   "execution_count": 252,
   "metadata": {},
   "outputs": [
    {
     "data": {
      "text/plain": [
       "{'criterion': 'mae', 'learning_rate': 0.1, 'n_estimators': 200}"
      ]
     },
     "execution_count": 252,
     "metadata": {},
     "output_type": "execute_result"
    }
   ],
   "source": [
    "from sklearn.ensemble import GradientBoostingClassifier\n",
    "gc=GradientBoostingClassifier()\n",
    "parameters={'learning_rate':(0.001,0.01,0.1,1),'n_estimators':(50,100,200,500),'criterion':('friedman_mse', 'mse', 'mae')}\n",
    "gd=GridSearchCV(gc,parameters)\n",
    "gd.fit(train_x,train_y)\n",
    "gd.best_params_"
   ]
  },
  {
   "cell_type": "code",
   "execution_count": 253,
   "metadata": {
    "scrolled": true
   },
   "outputs": [
    {
     "name": "stdout",
     "output_type": "stream",
     "text": [
      "The accuracy score achieved at r state 42 is 0.3783783783783784\n",
      "The accuracy score achieved at r state 43 is 0.21621621621621623\n",
      "The accuracy score achieved at r state 44 is 0.2972972972972973\n",
      "The accuracy score achieved at r state 45 is 0.21621621621621623\n",
      "The accuracy score achieved at r state 46 is 0.2702702702702703\n",
      "The accuracy score achieved at r state 47 is 0.2972972972972973\n",
      "The accuracy score achieved at r state 48 is 0.21621621621621623\n",
      "The accuracy score achieved at r state 49 is 0.2702702702702703\n",
      "The accuracy score achieved at r state 50 is 0.3783783783783784\n",
      "The accuracy score achieved at r state 51 is 0.32432432432432434\n",
      "The accuracy score achieved at r state 52 is 0.40540540540540543\n",
      "The accuracy score achieved at r state 53 is 0.24324324324324326\n",
      "The accuracy score achieved at r state 54 is 0.13513513513513514\n",
      "The accuracy score achieved at r state 55 is 0.21621621621621623\n",
      "The accuracy score achieved at r state 56 is 0.2702702702702703\n",
      "The accuracy score achieved at r state 57 is 0.1891891891891892\n",
      "The accuracy score achieved at r state 58 is 0.3783783783783784\n",
      "The accuracy score achieved at r state 59 is 0.24324324324324326\n",
      "The accuracy score achieved at r state 60 is 0.43243243243243246\n",
      "The accuracy score achieved at r state 61 is 0.2972972972972973\n",
      "The accuracy score achieved at r state 62 is 0.2972972972972973\n",
      "The accuracy score achieved at r state 63 is 0.2972972972972973\n",
      "The accuracy score achieved at r state 64 is 0.24324324324324326\n",
      "The accuracy score achieved at r state 65 is 0.24324324324324326\n",
      "The accuracy score achieved at r state 66 is 0.2972972972972973\n",
      "The accuracy score achieved at r state 67 is 0.35135135135135137\n",
      "The accuracy score achieved at r state 68 is 0.24324324324324326\n",
      "The accuracy score achieved at r state 69 is 0.2972972972972973\n",
      "The accuracy score achieved at r state 70 is 0.24324324324324326\n",
      "The accuracy score achieved at r state 71 is 0.2972972972972973\n",
      "The accuracy score achieved at r state 72 is 0.21621621621621623\n",
      "The accuracy score achieved at r state 73 is 0.3783783783783784\n",
      "The accuracy score achieved at r state 74 is 0.35135135135135137\n",
      "The accuracy score achieved at r state 75 is 0.21621621621621623\n",
      "The accuracy score achieved at r state 76 is 0.3783783783783784\n",
      "The accuracy score achieved at r state 77 is 0.24324324324324326\n",
      "The accuracy score achieved at r state 78 is 0.13513513513513514\n",
      "The accuracy score achieved at r state 79 is 0.2702702702702703\n",
      "The accuracy score achieved at r state 80 is 0.1891891891891892\n",
      "The accuracy score achieved at r state 81 is 0.1891891891891892\n",
      "The accuracy score achieved at r state 82 is 0.3783783783783784\n",
      "The accuracy score achieved at r state 83 is 0.16216216216216217\n",
      "The accuracy score achieved at r state 84 is 0.2972972972972973\n",
      "The accuracy score achieved at r state 85 is 0.2702702702702703\n",
      "The accuracy score achieved at r state 86 is 0.2702702702702703\n",
      "The accuracy score achieved at r state 87 is 0.2702702702702703\n",
      "The accuracy score achieved at r state 88 is 0.24324324324324326\n",
      "The accuracy score achieved at r state 89 is 0.2972972972972973\n",
      "The accuracy score achieved at r state 90 is 0.32432432432432434\n",
      "The accuracy score achieved at r state 91 is 0.2702702702702703\n",
      "The accuracy score achieved at r state 92 is 0.35135135135135137\n",
      "The accuracy score achieved at r state 93 is 0.2972972972972973\n",
      "The accuracy score achieved at r state 94 is 0.32432432432432434\n",
      "The accuracy score achieved at r state 95 is 0.2972972972972973\n",
      "The accuracy score achieved at r state 96 is 0.2972972972972973\n",
      "The accuracy score achieved at r state 97 is 0.3783783783783784\n",
      "The accuracy score achieved at r state 98 is 0.35135135135135137\n",
      "The accuracy score achieved at r state 99 is 0.24324324324324326\n",
      "The accuracy score achieved at r state 100 is 0.2702702702702703\n",
      "The maximum accuracy 0.43243243243243246 is achieved at random state 60\n"
     ]
    },
    {
     "data": {
      "text/plain": [
       "0.43243243243243246"
      ]
     },
     "execution_count": 253,
     "metadata": {},
     "output_type": "execute_result"
    }
   ],
   "source": [
    "#checking the best accuracy score and random state for RandomForestClassifier\n",
    "gc=GradientBoostingClassifier(criterion='mae', learning_rate= 0.1, n_estimators= 200)\n",
    "max_accuracy(gc,x,y)"
   ]
  },
  {
   "cell_type": "code",
   "execution_count": 261,
   "metadata": {},
   "outputs": [
    {
     "name": "stdout",
     "output_type": "stream",
     "text": [
      "The cross val score of GradientBoosting classifier is 0.26118317907791594\n"
     ]
    }
   ],
   "source": [
    "#checking the cross val score\n",
    "cs=cross_val_score(gc,x,y,cv=5,scoring='accuracy').mean()\n",
    "print(\"The cross val score of GradientBoosting classifier is\", cs)"
   ]
  },
  {
   "cell_type": "code",
   "execution_count": 255,
   "metadata": {},
   "outputs": [
    {
     "data": {
      "text/plain": [
       "{'algorithm': 'SAMME.R', 'learning_rate': 1, 'n_estimators': 100}"
      ]
     },
     "execution_count": 255,
     "metadata": {},
     "output_type": "execute_result"
    }
   ],
   "source": [
    "from sklearn.ensemble import AdaBoostClassifier\n",
    "ad=AdaBoostClassifier()\n",
    "parameters={'learning_rate':(0.001,0.01,0.1,1),'n_estimators':(50,100,200,500),'algorithm':('SAMME', 'SAMME.R')}\n",
    "gd=GridSearchCV(ad,parameters)\n",
    "gd.fit(train_x,train_y)\n",
    "gd.best_params_"
   ]
  },
  {
   "cell_type": "code",
   "execution_count": 258,
   "metadata": {},
   "outputs": [
    {
     "name": "stdout",
     "output_type": "stream",
     "text": [
      "The accuracy score achieved at r state 42 is 0.21621621621621623\n",
      "The accuracy score achieved at r state 43 is 0.21621621621621623\n",
      "The accuracy score achieved at r state 44 is 0.3783783783783784\n",
      "The accuracy score achieved at r state 45 is 0.2972972972972973\n",
      "The accuracy score achieved at r state 46 is 0.24324324324324326\n",
      "The accuracy score achieved at r state 47 is 0.24324324324324326\n",
      "The accuracy score achieved at r state 48 is 0.40540540540540543\n",
      "The accuracy score achieved at r state 49 is 0.2702702702702703\n",
      "The accuracy score achieved at r state 50 is 0.2702702702702703\n",
      "The accuracy score achieved at r state 51 is 0.3783783783783784\n",
      "The accuracy score achieved at r state 52 is 0.35135135135135137\n",
      "The accuracy score achieved at r state 53 is 0.21621621621621623\n",
      "The accuracy score achieved at r state 54 is 0.2972972972972973\n",
      "The accuracy score achieved at r state 55 is 0.24324324324324326\n",
      "The accuracy score achieved at r state 56 is 0.2702702702702703\n",
      "The accuracy score achieved at r state 57 is 0.32432432432432434\n",
      "The accuracy score achieved at r state 58 is 0.24324324324324326\n",
      "The accuracy score achieved at r state 59 is 0.32432432432432434\n",
      "The accuracy score achieved at r state 60 is 0.32432432432432434\n",
      "The accuracy score achieved at r state 61 is 0.2972972972972973\n",
      "The accuracy score achieved at r state 62 is 0.1891891891891892\n",
      "The accuracy score achieved at r state 63 is 0.35135135135135137\n",
      "The accuracy score achieved at r state 64 is 0.2702702702702703\n",
      "The accuracy score achieved at r state 65 is 0.2972972972972973\n",
      "The accuracy score achieved at r state 66 is 0.24324324324324326\n",
      "The accuracy score achieved at r state 67 is 0.2702702702702703\n",
      "The accuracy score achieved at r state 68 is 0.2972972972972973\n",
      "The accuracy score achieved at r state 69 is 0.2972972972972973\n",
      "The accuracy score achieved at r state 70 is 0.13513513513513514\n",
      "The accuracy score achieved at r state 71 is 0.32432432432432434\n",
      "The accuracy score achieved at r state 72 is 0.13513513513513514\n",
      "The accuracy score achieved at r state 73 is 0.2702702702702703\n",
      "The accuracy score achieved at r state 74 is 0.35135135135135137\n",
      "The accuracy score achieved at r state 75 is 0.21621621621621623\n",
      "The accuracy score achieved at r state 76 is 0.40540540540540543\n",
      "The accuracy score achieved at r state 77 is 0.24324324324324326\n",
      "The accuracy score achieved at r state 78 is 0.2702702702702703\n",
      "The accuracy score achieved at r state 79 is 0.10810810810810811\n",
      "The accuracy score achieved at r state 80 is 0.32432432432432434\n",
      "The accuracy score achieved at r state 81 is 0.21621621621621623\n",
      "The accuracy score achieved at r state 82 is 0.40540540540540543\n",
      "The accuracy score achieved at r state 83 is 0.2702702702702703\n",
      "The accuracy score achieved at r state 84 is 0.24324324324324326\n",
      "The accuracy score achieved at r state 85 is 0.3783783783783784\n",
      "The accuracy score achieved at r state 86 is 0.1891891891891892\n",
      "The accuracy score achieved at r state 87 is 0.2972972972972973\n",
      "The accuracy score achieved at r state 88 is 0.2702702702702703\n",
      "The accuracy score achieved at r state 89 is 0.32432432432432434\n",
      "The accuracy score achieved at r state 90 is 0.35135135135135137\n",
      "The accuracy score achieved at r state 91 is 0.32432432432432434\n",
      "The accuracy score achieved at r state 92 is 0.32432432432432434\n",
      "The accuracy score achieved at r state 93 is 0.3783783783783784\n",
      "The accuracy score achieved at r state 94 is 0.24324324324324326\n",
      "The accuracy score achieved at r state 95 is 0.1891891891891892\n",
      "The accuracy score achieved at r state 96 is 0.21621621621621623\n",
      "The accuracy score achieved at r state 97 is 0.32432432432432434\n",
      "The accuracy score achieved at r state 98 is 0.24324324324324326\n",
      "The accuracy score achieved at r state 99 is 0.2702702702702703\n",
      "The accuracy score achieved at r state 100 is 0.1891891891891892\n",
      "The maximum accuracy 0.40540540540540543 is achieved at random state 48\n"
     ]
    },
    {
     "data": {
      "text/plain": [
       "0.40540540540540543"
      ]
     },
     "execution_count": 258,
     "metadata": {},
     "output_type": "execute_result"
    }
   ],
   "source": [
    "#checking the best accuracy score and random state for AdaBoostClassifier\n",
    "gc=AdaBoostClassifier(algorithm= 'SAMME.R', learning_rate= 1, n_estimators= 100)\n",
    "max_accuracy(gc,x,y)"
   ]
  },
  {
   "cell_type": "code",
   "execution_count": 260,
   "metadata": {},
   "outputs": [
    {
     "name": "stdout",
     "output_type": "stream",
     "text": [
      "The cross val score of AdaBoost classifier is 0.29937866779972044\n"
     ]
    }
   ],
   "source": [
    "#checking the cross val score\n",
    "cs=cross_val_score(ad,x,y,cv=5,scoring='accuracy').mean()\n",
    "print(\"The cross val score of AdaBoost classifier is\", cs)"
   ]
  },
  {
   "cell_type": "code",
   "execution_count": 263,
   "metadata": {},
   "outputs": [
    {
     "data": {
      "text/html": [
       "<div>\n",
       "<style scoped>\n",
       "    .dataframe tbody tr th:only-of-type {\n",
       "        vertical-align: middle;\n",
       "    }\n",
       "\n",
       "    .dataframe tbody tr th {\n",
       "        vertical-align: top;\n",
       "    }\n",
       "\n",
       "    .dataframe thead th {\n",
       "        text-align: right;\n",
       "    }\n",
       "</style>\n",
       "<table border=\"1\" class=\"dataframe\">\n",
       "  <thead>\n",
       "    <tr style=\"text-align: right;\">\n",
       "      <th></th>\n",
       "      <th>Boosters</th>\n",
       "      <th>R2 Score</th>\n",
       "      <th>Cross_val_score</th>\n",
       "    </tr>\n",
       "  </thead>\n",
       "  <tbody>\n",
       "    <tr>\n",
       "      <td>0</td>\n",
       "      <td>RandomForestClassifier</td>\n",
       "      <td>0.432</td>\n",
       "      <td>0.347</td>\n",
       "    </tr>\n",
       "    <tr>\n",
       "      <td>1</td>\n",
       "      <td>GradientBoostClassifier</td>\n",
       "      <td>0.432</td>\n",
       "      <td>0.261</td>\n",
       "    </tr>\n",
       "    <tr>\n",
       "      <td>2</td>\n",
       "      <td>AdaBoostRegressor</td>\n",
       "      <td>0.405</td>\n",
       "      <td>0.300</td>\n",
       "    </tr>\n",
       "  </tbody>\n",
       "</table>\n",
       "</div>"
      ],
      "text/plain": [
       "                  Boosters  R2 Score  Cross_val_score\n",
       "0   RandomForestClassifier     0.432            0.347\n",
       "1  GradientBoostClassifier     0.432            0.261\n",
       "2        AdaBoostRegressor     0.405            0.300"
      ]
     },
     "execution_count": 263,
     "metadata": {},
     "output_type": "execute_result"
    }
   ],
   "source": [
    "result2=pd.DataFrame({'Boosters':['RandomForestClassifier','GradientBoostClassifier','AdaBoostRegressor'],'R2 Score':[0.432,0.432,0.405],'Cross_val_score':[0.347,0.261,0.30]})\n",
    "result2"
   ]
  },
  {
   "cell_type": "code",
   "execution_count": 264,
   "metadata": {},
   "outputs": [
    {
     "data": {
      "text/html": [
       "<div>\n",
       "<style scoped>\n",
       "    .dataframe tbody tr th:only-of-type {\n",
       "        vertical-align: middle;\n",
       "    }\n",
       "\n",
       "    .dataframe tbody tr th {\n",
       "        vertical-align: top;\n",
       "    }\n",
       "\n",
       "    .dataframe thead th {\n",
       "        text-align: right;\n",
       "    }\n",
       "</style>\n",
       "<table border=\"1\" class=\"dataframe\">\n",
       "  <thead>\n",
       "    <tr style=\"text-align: right;\">\n",
       "      <th></th>\n",
       "      <th>Model</th>\n",
       "      <th>Accuracy_Score</th>\n",
       "      <th>Cross_val_score</th>\n",
       "    </tr>\n",
       "  </thead>\n",
       "  <tbody>\n",
       "    <tr>\n",
       "      <td>0</td>\n",
       "      <td>&lt;class 'sklearn.neighbors.classification.KNeig...</td>\n",
       "      <td>0.432432</td>\n",
       "      <td>0.326660</td>\n",
       "    </tr>\n",
       "    <tr>\n",
       "      <td>1</td>\n",
       "      <td>&lt;class 'sklearn.tree.tree.DecisionTreeClassifi...</td>\n",
       "      <td>0.243243</td>\n",
       "      <td>0.313253</td>\n",
       "    </tr>\n",
       "    <tr>\n",
       "      <td>2</td>\n",
       "      <td>&lt;class 'sklearn.svm.classes.SVC'&gt;</td>\n",
       "      <td>0.432432</td>\n",
       "      <td>0.358245</td>\n",
       "    </tr>\n",
       "    <tr>\n",
       "      <td>3</td>\n",
       "      <td>&lt;class 'sklearn.naive_bayes.MultinomialNB'&gt;</td>\n",
       "      <td>0.486486</td>\n",
       "      <td>0.315584</td>\n",
       "    </tr>\n",
       "  </tbody>\n",
       "</table>\n",
       "</div>"
      ],
      "text/plain": [
       "                                               Model  Accuracy_Score  \\\n",
       "0  <class 'sklearn.neighbors.classification.KNeig...        0.432432   \n",
       "1  <class 'sklearn.tree.tree.DecisionTreeClassifi...        0.243243   \n",
       "2                  <class 'sklearn.svm.classes.SVC'>        0.432432   \n",
       "3        <class 'sklearn.naive_bayes.MultinomialNB'>        0.486486   \n",
       "\n",
       "   Cross_val_score  \n",
       "0         0.326660  \n",
       "1         0.313253  \n",
       "2         0.358245  \n",
       "3         0.315584  "
      ]
     },
     "execution_count": 264,
     "metadata": {},
     "output_type": "execute_result"
    }
   ],
   "source": [
    "result"
   ]
  },
  {
   "cell_type": "code",
   "execution_count": 265,
   "metadata": {},
   "outputs": [],
   "source": [
    "#The classification models or emsemble models are not giving good scores. The problem might be with the dataset.\n",
    "#amongst the models, MultinomialNB performs better so let us finalise the same."
   ]
  },
  {
   "cell_type": "code",
   "execution_count": 271,
   "metadata": {},
   "outputs": [
    {
     "name": "stdout",
     "output_type": "stream",
     "text": [
      "The accuracy score is 0.4864864864864865\n",
      "The cross val score is 0.3155835534782903\n"
     ]
    }
   ],
   "source": [
    "mb=MultinomialNB(alpha=0)\n",
    "mb.fit(train_x,train_y)\n",
    "pred=mb.predict(test_x)\n",
    "ascore=accuracy_score(test_y,pred)\n",
    "print(\"The accuracy score is\", ascore)\n",
    "cs=cross_val_score(mb,x,y,cv=5,scoring='accuracy').mean()\n",
    "print(\"The cross val score is\", cs)"
   ]
  },
  {
   "cell_type": "code",
   "execution_count": 272,
   "metadata": {},
   "outputs": [
    {
     "data": {
      "text/plain": [
       "['Heart_disease.pkl']"
      ]
     },
     "execution_count": 272,
     "metadata": {},
     "output_type": "execute_result"
    }
   ],
   "source": [
    "#saving the model\n",
    "from sklearn.externals import joblib\n",
    "joblib.dump(mb,\"Heart_disease.pkl\")"
   ]
  },
  {
   "cell_type": "code",
   "execution_count": null,
   "metadata": {},
   "outputs": [],
   "source": []
  }
 ],
 "metadata": {
  "kernelspec": {
   "display_name": "Python 3",
   "language": "python",
   "name": "python3"
  },
  "language_info": {
   "codemirror_mode": {
    "name": "ipython",
    "version": 3
   },
   "file_extension": ".py",
   "mimetype": "text/x-python",
   "name": "python",
   "nbconvert_exporter": "python",
   "pygments_lexer": "ipython3",
   "version": "3.7.4"
  }
 },
 "nbformat": 4,
 "nbformat_minor": 2
}
